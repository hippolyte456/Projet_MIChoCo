{
 "cells": [
  {
   "cell_type": "code",
   "execution_count": 2,
   "metadata": {
    "collapsed": true,
    "pycharm": {
     "name": "#%%\n"
    }
   },
   "outputs": [],
   "source": [
    "import pandas as pd\n",
    "from math import isnan"
   ]
  },
  {
   "cell_type": "code",
   "execution_count": 3,
   "outputs": [
    {
     "name": "stdout",
     "output_type": "stream",
     "text": [
      "    Unnamed: 0                        Plat     Regroupement  \\\n",
      "0      Entrées  Choux blanc à la japonaise         Crudités   \n",
      "1          NaN              salade de chou         Crudités   \n",
      "2          NaN                  Chou blanc         Crudités   \n",
      "3          NaN                        Chou         Crudités   \n",
      "4          NaN            Salade lentilles         Crudités   \n",
      "..         ...                         ...              ...   \n",
      "114        NaN                  Cantal AOP          Fromage   \n",
      "115        NaN                      Mousse    Crème dessert   \n",
      "116        NaN                    Liégeois    Crème dessert   \n",
      "117        NaN           Yaourt nature Bio  Produit laitier   \n",
      "118        NaN               Yaourt nature  Produit laitier   \n",
      "\n",
      "      appellation article  \n",
      "0    raw vegetable salads  \n",
      "1    raw vegetable salads  \n",
      "2    raw vegetable salads  \n",
      "3    raw vegetable salads  \n",
      "4    raw vegetable salads  \n",
      "..                    ...  \n",
      "114                Cheese  \n",
      "115           Dairy cream  \n",
      "116           Dairy cream  \n",
      "117                  Fish  \n",
      "118                  Fish  \n",
      "\n",
      "[119 rows x 4 columns]\n"
     ]
    }
   ],
   "source": [
    "df = pd.read_csv('data_CROUS/data/Regroupements_plats-version-article2022.csv')\n",
    "print(df)"
   ],
   "metadata": {
    "collapsed": false,
    "pycharm": {
     "name": "#%%\n"
    }
   }
  },
  {
   "cell_type": "code",
   "execution_count": 4,
   "outputs": [
    {
     "name": "stdout",
     "output_type": "stream",
     "text": [
      "    Catégorie                        Plat     Regroupement  \\\n",
      "0     Entrées  Choux blanc à la japonaise         Crudités   \n",
      "1         NaN              salade de chou         Crudités   \n",
      "2         NaN                  Chou blanc         Crudités   \n",
      "3         NaN                        Chou         Crudités   \n",
      "4         NaN            Salade lentilles         Crudités   \n",
      "..        ...                         ...              ...   \n",
      "114       NaN                  Cantal AOP          Fromage   \n",
      "115       NaN                      Mousse    Crème dessert   \n",
      "116       NaN                    Liégeois    Crème dessert   \n",
      "117       NaN           Yaourt nature Bio  Produit laitier   \n",
      "118       NaN               Yaourt nature  Produit laitier   \n",
      "\n",
      "      appellation article  \n",
      "0    raw vegetable salads  \n",
      "1    raw vegetable salads  \n",
      "2    raw vegetable salads  \n",
      "3    raw vegetable salads  \n",
      "4    raw vegetable salads  \n",
      "..                    ...  \n",
      "114                Cheese  \n",
      "115           Dairy cream  \n",
      "116           Dairy cream  \n",
      "117                  Fish  \n",
      "118                  Fish  \n",
      "\n",
      "[119 rows x 4 columns]\n"
     ]
    }
   ],
   "source": [
    "df.rename(columns={'Unnamed: 0':'Catégorie'}, inplace=True)\n",
    "print(df)"
   ],
   "metadata": {
    "collapsed": false,
    "pycharm": {
     "name": "#%%\n"
    }
   }
  },
  {
   "cell_type": "code",
   "execution_count": 5,
   "outputs": [
    {
     "name": "stdout",
     "output_type": "stream",
     "text": [
      "Int64Index([0, 33, 74], dtype='int64')\n"
     ]
    }
   ],
   "source": [
    "not_nan_cat = df[df['Catégorie'].notnull()]\n",
    "id_cat = not_nan_cat.index\n",
    "print(id_cat)\n",
    "#Int64Index([0, 33, 74], dtype='int64')"
   ],
   "metadata": {
    "collapsed": false,
    "pycharm": {
     "name": "#%%\n"
    }
   }
  },
  {
   "cell_type": "code",
   "execution_count": 6,
   "outputs": [
    {
     "name": "stdout",
     "output_type": "stream",
     "text": [
      "Plats principaux\n",
      "nan\n"
     ]
    }
   ],
   "source": [
    "print(df['Catégorie'].iloc[33])\n",
    "print(df['Catégorie'].iloc[34])"
   ],
   "metadata": {
    "collapsed": false,
    "pycharm": {
     "name": "#%%\n"
    }
   }
  },
  {
   "cell_type": "code",
   "execution_count": 7,
   "outputs": [
    {
     "name": "stdout",
     "output_type": "stream",
     "text": [
      "0       Entrées\n",
      "1       Entrées\n",
      "2       Entrées\n",
      "3       Entrées\n",
      "4       Entrées\n",
      "         ...   \n",
      "114    Desserts\n",
      "115    Desserts\n",
      "116    Desserts\n",
      "117    Desserts\n",
      "118    Desserts\n",
      "Name: Catégorie, Length: 119, dtype: object\n"
     ]
    }
   ],
   "source": [
    "for k in range(33):\n",
    "    df['Catégorie'].iloc[k] = df['Catégorie'].iloc[0]\n",
    "for k in range(34, 74):\n",
    "    df['Catégorie'].iloc[k] = df['Catégorie'].iloc[33]\n",
    "for k in range(75, 119):\n",
    "    df['Catégorie'].iloc[k] = df['Catégorie'].iloc[74]\n",
    "\n",
    "print(df['Catégorie'])"
   ],
   "metadata": {
    "collapsed": false,
    "pycharm": {
     "name": "#%%\n"
    }
   }
  },
  {
   "cell_type": "code",
   "execution_count": 8,
   "outputs": [
    {
     "name": "stdout",
     "output_type": "stream",
     "text": [
      "    Catégorie                        Plat     Regroupement  \\\n",
      "0     Entrées  Choux blanc à la japonaise         Crudités   \n",
      "1     Entrées              salade de chou         Crudités   \n",
      "2     Entrées                  Chou blanc         Crudités   \n",
      "3     Entrées                        Chou         Crudités   \n",
      "4     Entrées            Salade lentilles         Crudités   \n",
      "..        ...                         ...              ...   \n",
      "114  Desserts                  Cantal AOP          Fromage   \n",
      "115  Desserts                      Mousse    Crème dessert   \n",
      "116  Desserts                    Liégeois    Crème dessert   \n",
      "117  Desserts           Yaourt nature Bio  Produit laitier   \n",
      "118  Desserts               Yaourt nature  Produit laitier   \n",
      "\n",
      "      appellation article  \n",
      "0    raw vegetable salads  \n",
      "1    raw vegetable salads  \n",
      "2    raw vegetable salads  \n",
      "3    raw vegetable salads  \n",
      "4    raw vegetable salads  \n",
      "..                    ...  \n",
      "114                Cheese  \n",
      "115           Dairy cream  \n",
      "116           Dairy cream  \n",
      "117                  Fish  \n",
      "118                  Fish  \n",
      "\n",
      "[119 rows x 4 columns]\n"
     ]
    }
   ],
   "source": [
    "print(df)"
   ],
   "metadata": {
    "collapsed": false,
    "pycharm": {
     "name": "#%%\n"
    }
   }
  },
  {
   "cell_type": "code",
   "execution_count": 9,
   "outputs": [],
   "source": [
    "import os\n",
    "filepath = 'data_CROUS/data/Regroupements_plats-version-article2022_clean.csv'\n",
    "df.to_csv(filepath, index=False)"
   ],
   "metadata": {
    "collapsed": false,
    "pycharm": {
     "name": "#%%\n"
    }
   }
  }
 ],
 "metadata": {
  "kernelspec": {
   "display_name": "Python 3",
   "language": "python",
   "name": "python3"
  },
  "language_info": {
   "codemirror_mode": {
    "name": "ipython",
    "version": 2
   },
   "file_extension": ".py",
   "mimetype": "text/x-python",
   "name": "python",
   "nbconvert_exporter": "python",
   "pygments_lexer": "ipython2",
   "version": "2.7.6"
  }
 },
 "nbformat": 4,
 "nbformat_minor": 0
}