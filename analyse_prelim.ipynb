{
 "cells": [
  {
   "cell_type": "code",
   "execution_count": 60,
   "metadata": {
    "collapsed": true,
    "pycharm": {
     "name": "#%%\n"
    }
   },
   "outputs": [],
   "source": [
    "import pandas as pd"
   ]
  },
  {
   "cell_type": "code",
   "execution_count": 61,
   "outputs": [
    {
     "name": "stdout",
     "output_type": "stream",
     "text": [
      "      Horodateur Numéro de formulaire                           ENTREE  \\\n",
      "0     12:30:48                    6P4Y                    Pas d'entrée   \n",
      "1     12:32:01                    2H8Z     Choux blanc à la japonaise    \n",
      "2     12:32:45                    8M4T  Salade lentilles + Champignons   \n",
      "3     12:32:51                    3G0E                Salade lentilles   \n",
      "4     12:33:28                   8K6E                     Pas d'entrée   \n",
      "..           ...                   ...                             ...   \n",
      "126   13:17:12                    1T9W                    Pas d'entrée   \n",
      "127   13:17:30                    1W6X                    Pas d'entrée   \n",
      "128   13:17:39                    5O0Y     Choux blanc à la japonaise    \n",
      "129   13:18:29                    3R5P                         Tomates   \n",
      "130   13:18:57                    8K4B                    Pas d'entrée   \n",
      "\n",
      "    Prise en double de l'entrée   \\\n",
      "0                            Non   \n",
      "1                            Non   \n",
      "2                            Non   \n",
      "3                            Non   \n",
      "4                            Non   \n",
      "..                           ...   \n",
      "126                          Non   \n",
      "127                          Non   \n",
      "128                          Non   \n",
      "129                          Non   \n",
      "130                          Non   \n",
      "\n",
      "                                                 PLAT   \\\n",
      "0                        Torsades + Escalope viennoise   \n",
      "1    Feuilleté Saumon oseille + Torsades + Poelée B...   \n",
      "2      Boeuf bourguignon + Torsades + Poelée brocolis    \n",
      "3    Feuilleté Saumon oseille + Torsades + Poelée B...   \n",
      "4      Torsades + Poelée brocolis + Escalope viennoise   \n",
      "..                                                 ...   \n",
      "126  Feuilleté Saumon oseille + Torsades + Poelée b...   \n",
      "127  Feuilleté Saumon oseille + Torsades + Poelée b...   \n",
      "128                       Boeuf bourguignon + Torsades   \n",
      "129     Boeuf bourguignon + Torsades + Poelée brocolis   \n",
      "130  Feuilleté Saumon oseille + Torsades + Poelée b...   \n",
      "\n",
      "                                        DESSERT Prise en double du dessert  \n",
      "0                    Yaourt aux fruits + Banane                        Non  \n",
      "1                               Œuf à la neige                         Non  \n",
      "2                              Faisselle nature                        Non  \n",
      "3                                Œuf à la neige                        Non  \n",
      "4                    Yaourt aux fruits + Banane                        Non  \n",
      "..                                          ...                        ...  \n",
      "126  Fromage blanc fruits rouges + Pomme golden                        Non  \n",
      "127                 Fromage blanc fruits rouges                        Non  \n",
      "128                 Fromage blanc fruits rouges                        Non  \n",
      "129                 Fromage blanc fruits rouges                        Non  \n",
      "130  Fromage blanc fruits rouges + Pomme golden                        Non  \n",
      "\n",
      "[131 rows x 7 columns]\n"
     ]
    }
   ],
   "source": [
    "df = pd.read_csv('data_CROUS/data_processed/Resultats_choix_21_octobre.csv', sep=';')\n",
    "print(df)"
   ],
   "metadata": {
    "collapsed": false,
    "pycharm": {
     "name": "#%%\n"
    }
   }
  },
  {
   "cell_type": "code",
   "execution_count": 62,
   "outputs": [
    {
     "name": "stdout",
     "output_type": "stream",
     "text": [
      "      Horodateur Numéro de formulaire                           ENTREE  \\\n",
      "0     12:30:48                    6P4Y                    Pas d'entrée   \n",
      "1     12:32:01                    2H8Z     Choux blanc à la japonaise    \n",
      "2     12:32:45                    8M4T  Salade lentilles + Champignons   \n",
      "3     12:32:51                    3G0E                Salade lentilles   \n",
      "4     12:33:28                   8K6E                     Pas d'entrée   \n",
      "..           ...                   ...                             ...   \n",
      "126   13:17:12                    1T9W                    Pas d'entrée   \n",
      "127   13:17:30                    1W6X                    Pas d'entrée   \n",
      "128   13:17:39                    5O0Y     Choux blanc à la japonaise    \n",
      "129   13:18:29                    3R5P                         Tomates   \n",
      "130   13:18:57                    8K4B                    Pas d'entrée   \n",
      "\n",
      "    Prise en double de l'entrée   \\\n",
      "0                            Non   \n",
      "1                            Non   \n",
      "2                            Non   \n",
      "3                            Non   \n",
      "4                            Non   \n",
      "..                           ...   \n",
      "126                          Non   \n",
      "127                          Non   \n",
      "128                          Non   \n",
      "129                          Non   \n",
      "130                          Non   \n",
      "\n",
      "                                                 PLAT   \\\n",
      "0                        Torsades + Escalope viennoise   \n",
      "1    Feuilleté Saumon oseille + Torsades + Poelée B...   \n",
      "2      Boeuf bourguignon + Torsades + Poelée brocolis    \n",
      "3    Feuilleté Saumon oseille + Torsades + Poelée B...   \n",
      "4      Torsades + Poelée brocolis + Escalope viennoise   \n",
      "..                                                 ...   \n",
      "126  Feuilleté Saumon oseille + Torsades + Poelée b...   \n",
      "127  Feuilleté Saumon oseille + Torsades + Poelée b...   \n",
      "128                       Boeuf bourguignon + Torsades   \n",
      "129     Boeuf bourguignon + Torsades + Poelée brocolis   \n",
      "130  Feuilleté Saumon oseille + Torsades + Poelée b...   \n",
      "\n",
      "                                        DESSERT Prise en double du dessert  \\\n",
      "0                    Yaourt aux fruits + Banane                        Non   \n",
      "1                               Œuf à la neige                         Non   \n",
      "2                              Faisselle nature                        Non   \n",
      "3                                Œuf à la neige                        Non   \n",
      "4                    Yaourt aux fruits + Banane                        Non   \n",
      "..                                          ...                        ...   \n",
      "126  Fromage blanc fruits rouges + Pomme golden                        Non   \n",
      "127                 Fromage blanc fruits rouges                        Non   \n",
      "128                 Fromage blanc fruits rouges                        Non   \n",
      "129                 Fromage blanc fruits rouges                        Non   \n",
      "130  Fromage blanc fruits rouges + Pomme golden                        Non   \n",
      "\n",
      "                        ENTREE_1      ENTREE_2  \n",
      "0                   Pas d'entrée          None  \n",
      "1    Choux blanc à la japonaise           None  \n",
      "2              Salade lentilles    Champignons  \n",
      "3               Salade lentilles          None  \n",
      "4                   Pas d'entrée          None  \n",
      "..                           ...           ...  \n",
      "126                 Pas d'entrée          None  \n",
      "127                 Pas d'entrée          None  \n",
      "128  Choux blanc à la japonaise           None  \n",
      "129                      Tomates          None  \n",
      "130                 Pas d'entrée          None  \n",
      "\n",
      "[131 rows x 9 columns]\n"
     ]
    },
    {
     "name": "stderr",
     "output_type": "stream",
     "text": [
      "C:\\Users\\Jules\\AppData\\Local\\Temp\\ipykernel_1036\\3279887426.py:1: FutureWarning: In a future version of pandas all arguments of StringMethods.split except for the argument 'pat' will be keyword-only.\n",
      "  df[['ENTREE_1', 'ENTREE_2']] = df['ENTREE'].str.split('+', 1, expand=True)\n"
     ]
    }
   ],
   "source": [
    "df[['ENTREE_1', 'ENTREE_2']] = df['ENTREE'].str.split('+', 1, expand=True)\n",
    "print(df)"
   ],
   "metadata": {
    "collapsed": false,
    "pycharm": {
     "name": "#%%\n"
    }
   }
  },
  {
   "cell_type": "code",
   "execution_count": 65,
   "outputs": [
    {
     "data": {
      "text/plain": "0      Non\n1      Non\n2      Non\n3      Non\n4      Non\n      ... \n126    Non\n127    Non\n128    Non\n129    Non\n130    Non\nName: Prise en double de l'entrée , Length: 131, dtype: object"
     },
     "execution_count": 65,
     "metadata": {},
     "output_type": "execute_result"
    }
   ],
   "source": [
    "df.insert(2, 'ENTREE_1', df.pop('ENTREE_1'))\n",
    "df.insert(3, 'ENTREE_2', df.pop('ENTREE_2'))\n",
    "# df.pop('ENTREE')\n",
    "# df.pop(\"Prise en double de l'entrée \")"
   ],
   "metadata": {
    "collapsed": false,
    "pycharm": {
     "name": "#%%\n"
    }
   }
  },
  {
   "cell_type": "code",
   "execution_count": 66,
   "outputs": [
    {
     "name": "stdout",
     "output_type": "stream",
     "text": [
      "      Horodateur Numéro de formulaire                      ENTREE_1  \\\n",
      "0     12:30:48                    6P4Y                 Pas d'entrée   \n",
      "1     12:32:01                    2H8Z  Choux blanc à la japonaise    \n",
      "2     12:32:45                    8M4T            Salade lentilles    \n",
      "3     12:32:51                    3G0E             Salade lentilles   \n",
      "4     12:33:28                   8K6E                  Pas d'entrée   \n",
      "..           ...                   ...                          ...   \n",
      "126   13:17:12                    1T9W                 Pas d'entrée   \n",
      "127   13:17:30                    1W6X                 Pas d'entrée   \n",
      "128   13:17:39                    5O0Y  Choux blanc à la japonaise    \n",
      "129   13:18:29                    3R5P                      Tomates   \n",
      "130   13:18:57                    8K4B                 Pas d'entrée   \n",
      "\n",
      "         ENTREE_2                                              PLAT   \\\n",
      "0            None                      Torsades + Escalope viennoise   \n",
      "1            None  Feuilleté Saumon oseille + Torsades + Poelée B...   \n",
      "2     Champignons    Boeuf bourguignon + Torsades + Poelée brocolis    \n",
      "3            None  Feuilleté Saumon oseille + Torsades + Poelée B...   \n",
      "4            None    Torsades + Poelée brocolis + Escalope viennoise   \n",
      "..            ...                                                ...   \n",
      "126          None  Feuilleté Saumon oseille + Torsades + Poelée b...   \n",
      "127          None  Feuilleté Saumon oseille + Torsades + Poelée b...   \n",
      "128          None                       Boeuf bourguignon + Torsades   \n",
      "129          None     Boeuf bourguignon + Torsades + Poelée brocolis   \n",
      "130          None  Feuilleté Saumon oseille + Torsades + Poelée b...   \n",
      "\n",
      "                                        DESSERT Prise en double du dessert  \\\n",
      "0                    Yaourt aux fruits + Banane                        Non   \n",
      "1                               Œuf à la neige                         Non   \n",
      "2                              Faisselle nature                        Non   \n",
      "3                                Œuf à la neige                        Non   \n",
      "4                    Yaourt aux fruits + Banane                        Non   \n",
      "..                                          ...                        ...   \n",
      "126  Fromage blanc fruits rouges + Pomme golden                        Non   \n",
      "127                 Fromage blanc fruits rouges                        Non   \n",
      "128                 Fromage blanc fruits rouges                        Non   \n",
      "129                 Fromage blanc fruits rouges                        Non   \n",
      "130  Fromage blanc fruits rouges + Pomme golden                        Non   \n",
      "\n",
      "                        PLAT_1               PLAT_2               PLAT_3  \n",
      "0                    Torsades    Escalope viennoise                 None  \n",
      "1    Feuilleté Saumon oseille             Torsades      Poelée Brocolis   \n",
      "2           Boeuf bourguignon             Torsades      Poelée brocolis   \n",
      "3    Feuilleté Saumon oseille             Torsades      Poelée Brocolis   \n",
      "4                    Torsades      Poelée brocolis    Escalope viennoise  \n",
      "..                         ...                  ...                  ...  \n",
      "126  Feuilleté Saumon oseille             Torsades       Poelée brocolis  \n",
      "127  Feuilleté Saumon oseille             Torsades      Poelée brocolis   \n",
      "128         Boeuf bourguignon              Torsades                 None  \n",
      "129         Boeuf bourguignon             Torsades       Poelée brocolis  \n",
      "130  Feuilleté Saumon oseille             Torsades       Poelée brocolis  \n",
      "\n",
      "[131 rows x 10 columns]\n"
     ]
    },
    {
     "name": "stderr",
     "output_type": "stream",
     "text": [
      "C:\\Users\\Jules\\AppData\\Local\\Temp\\ipykernel_1036\\1960039758.py:1: FutureWarning: In a future version of pandas all arguments of StringMethods.split except for the argument 'pat' will be keyword-only.\n",
      "  df[['PLAT_1', 'PLAT_2', 'PLAT_3']] = df['PLAT '].str.split('+', 2, expand=True)\n"
     ]
    }
   ],
   "source": [
    "df[['PLAT_1', 'PLAT_2', 'PLAT_3']] = df['PLAT '].str.split('+', 2, expand=True)\n",
    "print(df)"
   ],
   "metadata": {
    "collapsed": false,
    "pycharm": {
     "name": "#%%\n"
    }
   }
  },
  {
   "cell_type": "code",
   "execution_count": 67,
   "outputs": [],
   "source": [
    "df.insert(4, 'PLAT_1', df.pop('PLAT_1'))\n",
    "df.insert(5, 'PLAT_2', df.pop('PLAT_2'))\n",
    "df.insert(6, 'PLAT_3', df.pop('PLAT_3'))\n"
   ],
   "metadata": {
    "collapsed": false,
    "pycharm": {
     "name": "#%%\n"
    }
   }
  },
  {
   "cell_type": "code",
   "execution_count": 68,
   "outputs": [
    {
     "name": "stdout",
     "output_type": "stream",
     "text": [
      "      Horodateur Numéro de formulaire                      ENTREE_1  \\\n",
      "0     12:30:48                    6P4Y                 Pas d'entrée   \n",
      "1     12:32:01                    2H8Z  Choux blanc à la japonaise    \n",
      "2     12:32:45                    8M4T            Salade lentilles    \n",
      "3     12:32:51                    3G0E             Salade lentilles   \n",
      "4     12:33:28                   8K6E                  Pas d'entrée   \n",
      "..           ...                   ...                          ...   \n",
      "126   13:17:12                    1T9W                 Pas d'entrée   \n",
      "127   13:17:30                    1W6X                 Pas d'entrée   \n",
      "128   13:17:39                    5O0Y  Choux blanc à la japonaise    \n",
      "129   13:18:29                    3R5P                      Tomates   \n",
      "130   13:18:57                    8K4B                 Pas d'entrée   \n",
      "\n",
      "         ENTREE_2                     PLAT_1               PLAT_2  \\\n",
      "0            None                  Torsades    Escalope viennoise   \n",
      "1            None  Feuilleté Saumon oseille             Torsades    \n",
      "2     Champignons         Boeuf bourguignon             Torsades    \n",
      "3            None  Feuilleté Saumon oseille             Torsades    \n",
      "4            None                  Torsades      Poelée brocolis    \n",
      "..            ...                        ...                  ...   \n",
      "126          None  Feuilleté Saumon oseille             Torsades    \n",
      "127          None  Feuilleté Saumon oseille             Torsades    \n",
      "128          None         Boeuf bourguignon              Torsades   \n",
      "129          None         Boeuf bourguignon             Torsades    \n",
      "130          None  Feuilleté Saumon oseille             Torsades    \n",
      "\n",
      "                  PLAT_3                                     DESSERT  \\\n",
      "0                   None                  Yaourt aux fruits + Banane   \n",
      "1       Poelée Brocolis                              Œuf à la neige    \n",
      "2       Poelée brocolis                             Faisselle nature   \n",
      "3       Poelée Brocolis                               Œuf à la neige   \n",
      "4     Escalope viennoise                  Yaourt aux fruits + Banane   \n",
      "..                   ...                                         ...   \n",
      "126      Poelée brocolis  Fromage blanc fruits rouges + Pomme golden   \n",
      "127     Poelée brocolis                  Fromage blanc fruits rouges   \n",
      "128                 None                 Fromage blanc fruits rouges   \n",
      "129      Poelée brocolis                 Fromage blanc fruits rouges   \n",
      "130      Poelée brocolis  Fromage blanc fruits rouges + Pomme golden   \n",
      "\n",
      "    Prise en double du dessert  \n",
      "0                          Non  \n",
      "1                          Non  \n",
      "2                          Non  \n",
      "3                          Non  \n",
      "4                          Non  \n",
      "..                         ...  \n",
      "126                        Non  \n",
      "127                        Non  \n",
      "128                        Non  \n",
      "129                        Non  \n",
      "130                        Non  \n",
      "\n",
      "[131 rows x 9 columns]\n"
     ]
    }
   ],
   "source": [
    "df.pop('PLAT ')\n",
    "print(df)"
   ],
   "metadata": {
    "collapsed": false,
    "pycharm": {
     "name": "#%%\n"
    }
   }
  },
  {
   "cell_type": "code",
   "execution_count": 69,
   "outputs": [
    {
     "name": "stdout",
     "output_type": "stream",
     "text": [
      "      Horodateur Numéro de formulaire                      ENTREE_1  \\\n",
      "0     12:30:48                    6P4Y                 Pas d'entrée   \n",
      "1     12:32:01                    2H8Z  Choux blanc à la japonaise    \n",
      "2     12:32:45                    8M4T            Salade lentilles    \n",
      "3     12:32:51                    3G0E             Salade lentilles   \n",
      "4     12:33:28                   8K6E                  Pas d'entrée   \n",
      "..           ...                   ...                          ...   \n",
      "126   13:17:12                    1T9W                 Pas d'entrée   \n",
      "127   13:17:30                    1W6X                 Pas d'entrée   \n",
      "128   13:17:39                    5O0Y  Choux blanc à la japonaise    \n",
      "129   13:18:29                    3R5P                      Tomates   \n",
      "130   13:18:57                    8K4B                 Pas d'entrée   \n",
      "\n",
      "         ENTREE_2                     PLAT_1               PLAT_2  \\\n",
      "0            None                  Torsades    Escalope viennoise   \n",
      "1            None  Feuilleté Saumon oseille             Torsades    \n",
      "2     Champignons         Boeuf bourguignon             Torsades    \n",
      "3            None  Feuilleté Saumon oseille             Torsades    \n",
      "4            None                  Torsades      Poelée brocolis    \n",
      "..            ...                        ...                  ...   \n",
      "126          None  Feuilleté Saumon oseille             Torsades    \n",
      "127          None  Feuilleté Saumon oseille             Torsades    \n",
      "128          None         Boeuf bourguignon              Torsades   \n",
      "129          None         Boeuf bourguignon             Torsades    \n",
      "130          None  Feuilleté Saumon oseille             Torsades    \n",
      "\n",
      "                  PLAT_3                                     DESSERT  \\\n",
      "0                   None                  Yaourt aux fruits + Banane   \n",
      "1       Poelée Brocolis                              Œuf à la neige    \n",
      "2       Poelée brocolis                             Faisselle nature   \n",
      "3       Poelée Brocolis                               Œuf à la neige   \n",
      "4     Escalope viennoise                  Yaourt aux fruits + Banane   \n",
      "..                   ...                                         ...   \n",
      "126      Poelée brocolis  Fromage blanc fruits rouges + Pomme golden   \n",
      "127     Poelée brocolis                  Fromage blanc fruits rouges   \n",
      "128                 None                 Fromage blanc fruits rouges   \n",
      "129      Poelée brocolis                 Fromage blanc fruits rouges   \n",
      "130      Poelée brocolis  Fromage blanc fruits rouges + Pomme golden   \n",
      "\n",
      "    Prise en double du dessert                     DESSERT_1      DESSERT_2  \n",
      "0                          Non            Yaourt aux fruits          Banane  \n",
      "1                          Non               Œuf à la neige            None  \n",
      "2                          Non              Faisselle nature           None  \n",
      "3                          Non                Œuf à la neige           None  \n",
      "4                          Non            Yaourt aux fruits          Banane  \n",
      "..                         ...                           ...            ...  \n",
      "126                        Non  Fromage blanc fruits rouges    Pomme golden  \n",
      "127                        Non   Fromage blanc fruits rouges           None  \n",
      "128                        Non   Fromage blanc fruits rouges           None  \n",
      "129                        Non   Fromage blanc fruits rouges           None  \n",
      "130                        Non  Fromage blanc fruits rouges    Pomme golden  \n",
      "\n",
      "[131 rows x 11 columns]\n"
     ]
    },
    {
     "name": "stderr",
     "output_type": "stream",
     "text": [
      "C:\\Users\\Jules\\AppData\\Local\\Temp\\ipykernel_1036\\1262457157.py:1: FutureWarning: In a future version of pandas all arguments of StringMethods.split except for the argument 'pat' will be keyword-only.\n",
      "  df[['DESSERT_1', 'DESSERT_2']] = df['DESSERT'].str.split('+', 1, expand=True)\n"
     ]
    }
   ],
   "source": [
    "df[['DESSERT_1', 'DESSERT_2']] = df['DESSERT'].str.split('+', 1, expand=True)\n",
    "print(df)"
   ],
   "metadata": {
    "collapsed": false,
    "pycharm": {
     "name": "#%%\n"
    }
   }
  },
  {
   "cell_type": "code",
   "execution_count": 72,
   "outputs": [],
   "source": [
    "# df.pop('DESSERT')\n",
    "# df.pop('Prise en double du dessert')"
   ],
   "metadata": {
    "collapsed": false,
    "pycharm": {
     "name": "#%%\n"
    }
   }
  },
  {
   "cell_type": "code",
   "execution_count": 73,
   "outputs": [
    {
     "name": "stdout",
     "output_type": "stream",
     "text": [
      "      Horodateur Numéro de formulaire                      ENTREE_1  \\\n",
      "0     12:30:48                    6P4Y                 Pas d'entrée   \n",
      "1     12:32:01                    2H8Z  Choux blanc à la japonaise    \n",
      "2     12:32:45                    8M4T            Salade lentilles    \n",
      "3     12:32:51                    3G0E             Salade lentilles   \n",
      "4     12:33:28                   8K6E                  Pas d'entrée   \n",
      "..           ...                   ...                          ...   \n",
      "126   13:17:12                    1T9W                 Pas d'entrée   \n",
      "127   13:17:30                    1W6X                 Pas d'entrée   \n",
      "128   13:17:39                    5O0Y  Choux blanc à la japonaise    \n",
      "129   13:18:29                    3R5P                      Tomates   \n",
      "130   13:18:57                    8K4B                 Pas d'entrée   \n",
      "\n",
      "         ENTREE_2                     PLAT_1               PLAT_2  \\\n",
      "0            None                  Torsades    Escalope viennoise   \n",
      "1            None  Feuilleté Saumon oseille             Torsades    \n",
      "2     Champignons         Boeuf bourguignon             Torsades    \n",
      "3            None  Feuilleté Saumon oseille             Torsades    \n",
      "4            None                  Torsades      Poelée brocolis    \n",
      "..            ...                        ...                  ...   \n",
      "126          None  Feuilleté Saumon oseille             Torsades    \n",
      "127          None  Feuilleté Saumon oseille             Torsades    \n",
      "128          None         Boeuf bourguignon              Torsades   \n",
      "129          None         Boeuf bourguignon             Torsades    \n",
      "130          None  Feuilleté Saumon oseille             Torsades    \n",
      "\n",
      "                  PLAT_3                     DESSERT_1      DESSERT_2  \n",
      "0                   None            Yaourt aux fruits          Banane  \n",
      "1       Poelée Brocolis                Œuf à la neige            None  \n",
      "2       Poelée brocolis               Faisselle nature           None  \n",
      "3       Poelée Brocolis                 Œuf à la neige           None  \n",
      "4     Escalope viennoise            Yaourt aux fruits          Banane  \n",
      "..                   ...                           ...            ...  \n",
      "126      Poelée brocolis  Fromage blanc fruits rouges    Pomme golden  \n",
      "127     Poelée brocolis    Fromage blanc fruits rouges           None  \n",
      "128                 None   Fromage blanc fruits rouges           None  \n",
      "129      Poelée brocolis   Fromage blanc fruits rouges           None  \n",
      "130      Poelée brocolis  Fromage blanc fruits rouges    Pomme golden  \n",
      "\n",
      "[131 rows x 9 columns]\n"
     ]
    }
   ],
   "source": [
    "print(df)"
   ],
   "metadata": {
    "collapsed": false,
    "pycharm": {
     "name": "#%%\n"
    }
   }
  },
  {
   "cell_type": "code",
   "execution_count": 74,
   "outputs": [],
   "source": [
    "filepath = 'data_CROUS/data_processed/Resultats_choix_21_octobre_processed.csv'\n",
    "df.to_csv(filepath, index=False)"
   ],
   "metadata": {
    "collapsed": false,
    "pycharm": {
     "name": "#%%\n"
    }
   }
  }
 ],
 "metadata": {
  "kernelspec": {
   "display_name": "Python 3",
   "language": "python",
   "name": "python3"
  },
  "language_info": {
   "codemirror_mode": {
    "name": "ipython",
    "version": 2
   },
   "file_extension": ".py",
   "mimetype": "text/x-python",
   "name": "python",
   "nbconvert_exporter": "python",
   "pygments_lexer": "ipython2",
   "version": "2.7.6"
  }
 },
 "nbformat": 4,
 "nbformat_minor": 0
}