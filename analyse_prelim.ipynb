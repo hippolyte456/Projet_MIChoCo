{
 "cells": [
  {
   "cell_type": "code",
   "execution_count": 87,
   "metadata": {
    "collapsed": true,
    "pycharm": {
     "name": "#%%\n"
    }
   },
   "outputs": [],
   "source": [
    "import pandas as pd"
   ]
  },
  {
   "cell_type": "code",
   "execution_count": 88,
   "outputs": [
    {
     "name": "stdout",
     "output_type": "stream",
     "text": [
      "    Horodateur Numéro de formulaire            ENTREE  \\\n",
      "0     12:30:58                 9V8W        Chou blanc   \n",
      "1     12:33:56                 8B5X      Pas d'entrée   \n",
      "2     12:34:46                 6X9F  Rillette poisson   \n",
      "3     12:35:27                 7B7K     Mini sandwich   \n",
      "4     12:35:56                 3Q7Q     Mini sandwich   \n",
      "..         ...                  ...               ...   \n",
      "62    13:05:03                 2D7O  Rillette poisson   \n",
      "63    13:05:14                 8J2L       Champignons   \n",
      "64    13:05:35                 1L4G      Pas d'entrée   \n",
      "65    13:05:41                 1M2Q      Pas d'entrée   \n",
      "66    13:05:42                 254Q      Pas d'entrée   \n",
      "\n",
      "   Prise en double de l'entrée   \\\n",
      "0                           Non   \n",
      "1                           Non   \n",
      "2                           Non   \n",
      "3                           Non   \n",
      "4                           Non   \n",
      "..                          ...   \n",
      "62                          Non   \n",
      "63                          Non   \n",
      "64                          Non   \n",
      "65                          Non   \n",
      "66                          Non   \n",
      "\n",
      "                                                PLAT   \\\n",
      "0                Roti de légumes au tofu + Spaghettis   \n",
      "1                Roti de légumes au tofu + Spaghettis   \n",
      "2   Poisson pané + Spaghettis + Mousseline de potiron   \n",
      "3   Filet de poulet + Spaghettis + Mousseline de p...   \n",
      "4   Poisson pané + Spaghettis + Mousseline de potiron   \n",
      "..                                                ...   \n",
      "62  Poisson pané + Spaghettis + Mousseline de potiron   \n",
      "63  Filet de poulet + Spaghettis + Mousseline de p...   \n",
      "64                          Poisson pané + Spaghettis   \n",
      "65                                     Kebab + Frites   \n",
      "66                                     Kebab + Salade   \n",
      "\n",
      "                              DESSERT Prise en double du dessert  \n",
      "0                      Pas de dessert                        Non  \n",
      "1      Roquefort + Pruneaux en sirop                         Non  \n",
      "2              Crème praliné + Orange                        Oui  \n",
      "3   Yaourt nature Bio + Crème praliné                        Non  \n",
      "4                              Banane                        Non  \n",
      "..                                ...                        ...  \n",
      "62        Yaourt nature Bio + Compote                        Non  \n",
      "63                          Roquefort                        Non  \n",
      "64                             Pomme                         Oui  \n",
      "65                  Yaourt nature Bio                        Non  \n",
      "66                  Yaourt nature Bio                        Non  \n",
      "\n",
      "[67 rows x 7 columns]\n"
     ]
    }
   ],
   "source": [
    "df = pd.read_csv('data_CROUS/data_processed/Resultats_choix_29_octobre.csv', sep=';')\n",
    "print(df)"
   ],
   "metadata": {
    "collapsed": false,
    "pycharm": {
     "name": "#%%\n"
    }
   }
  },
  {
   "cell_type": "code",
   "execution_count": 89,
   "outputs": [],
   "source": [
    "# à commenter pour choix 29 janvier\n",
    "df[['ENTREE_1', 'ENTREE_2']] = df['ENTREE'].str.split('+', 1, expand=True)\n",
    "print(df)"
   ],
   "metadata": {
    "collapsed": false,
    "pycharm": {
     "name": "#%%\n"
    }
   }
  },
  {
   "cell_type": "code",
   "execution_count": 90,
   "outputs": [],
   "source": [
    "# à commenter pour choix 29 janvier\n",
    "df.insert(2, 'ENTREE_1', df.pop('ENTREE_1'))\n",
    "df.insert(3, 'ENTREE_2', df.pop('ENTREE_2'))\n"
   ],
   "metadata": {
    "collapsed": false,
    "pycharm": {
     "name": "#%%\n"
    }
   }
  },
  {
   "cell_type": "code",
   "execution_count": 91,
   "outputs": [
    {
     "data": {
      "text/plain": "0     Non\n1     Non\n2     Non\n3     Non\n4     Non\n     ... \n62    Non\n63    Non\n64    Non\n65    Non\n66    Non\nName: Prise en double de l'entrée , Length: 67, dtype: object"
     },
     "execution_count": 91,
     "metadata": {},
     "output_type": "execute_result"
    }
   ],
   "source": [
    "df.pop('ENTREE')  # à commenter pour choix 29 janvier\n",
    "df.pop(\"Prise en double de l'entrée \")"
   ],
   "metadata": {
    "collapsed": false,
    "pycharm": {
     "name": "#%%\n"
    }
   }
  },
  {
   "cell_type": "code",
   "execution_count": 92,
   "outputs": [
    {
     "name": "stdout",
     "output_type": "stream",
     "text": [
      "    Horodateur Numéro de formulaire            ENTREE  \\\n",
      "0     12:30:58                 9V8W        Chou blanc   \n",
      "1     12:33:56                 8B5X      Pas d'entrée   \n",
      "2     12:34:46                 6X9F  Rillette poisson   \n",
      "3     12:35:27                 7B7K     Mini sandwich   \n",
      "4     12:35:56                 3Q7Q     Mini sandwich   \n",
      "..         ...                  ...               ...   \n",
      "62    13:05:03                 2D7O  Rillette poisson   \n",
      "63    13:05:14                 8J2L       Champignons   \n",
      "64    13:05:35                 1L4G      Pas d'entrée   \n",
      "65    13:05:41                 1M2Q      Pas d'entrée   \n",
      "66    13:05:42                 254Q      Pas d'entrée   \n",
      "\n",
      "                                                PLAT   \\\n",
      "0                Roti de légumes au tofu + Spaghettis   \n",
      "1                Roti de légumes au tofu + Spaghettis   \n",
      "2   Poisson pané + Spaghettis + Mousseline de potiron   \n",
      "3   Filet de poulet + Spaghettis + Mousseline de p...   \n",
      "4   Poisson pané + Spaghettis + Mousseline de potiron   \n",
      "..                                                ...   \n",
      "62  Poisson pané + Spaghettis + Mousseline de potiron   \n",
      "63  Filet de poulet + Spaghettis + Mousseline de p...   \n",
      "64                          Poisson pané + Spaghettis   \n",
      "65                                     Kebab + Frites   \n",
      "66                                     Kebab + Salade   \n",
      "\n",
      "                              DESSERT Prise en double du dessert  \\\n",
      "0                      Pas de dessert                        Non   \n",
      "1      Roquefort + Pruneaux en sirop                         Non   \n",
      "2              Crème praliné + Orange                        Oui   \n",
      "3   Yaourt nature Bio + Crème praliné                        Non   \n",
      "4                              Banane                        Non   \n",
      "..                                ...                        ...   \n",
      "62        Yaourt nature Bio + Compote                        Non   \n",
      "63                          Roquefort                        Non   \n",
      "64                             Pomme                         Oui   \n",
      "65                  Yaourt nature Bio                        Non   \n",
      "66                  Yaourt nature Bio                        Non   \n",
      "\n",
      "                      PLAT_1        PLAT_2                  PLAT_3  \n",
      "0   Roti de légumes au tofu     Spaghettis                    None  \n",
      "1   Roti de légumes au tofu     Spaghettis                    None  \n",
      "2              Poisson pané    Spaghettis    Mousseline de potiron  \n",
      "3           Filet de poulet    Spaghettis    Mousseline de potiron  \n",
      "4              Poisson pané    Spaghettis    Mousseline de potiron  \n",
      "..                       ...           ...                     ...  \n",
      "62             Poisson pané    Spaghettis    Mousseline de potiron  \n",
      "63          Filet de poulet    Spaghettis    Mousseline de potiron  \n",
      "64             Poisson pané     Spaghettis                    None  \n",
      "65                    Kebab         Frites                    None  \n",
      "66                    Kebab         Salade                    None  \n",
      "\n",
      "[67 rows x 9 columns]\n"
     ]
    },
    {
     "name": "stderr",
     "output_type": "stream",
     "text": [
      "C:\\Users\\Asus\\AppData\\Local\\Temp\\ipykernel_12460\\1960039758.py:1: FutureWarning: In a future version of pandas all arguments of StringMethods.split except for the argument 'pat' will be keyword-only.\n",
      "  df[['PLAT_1', 'PLAT_2', 'PLAT_3']] = df['PLAT '].str.split('+', 2, expand=True)\n"
     ]
    }
   ],
   "source": [
    "df[['PLAT_1', 'PLAT_2', 'PLAT_3']] = df['PLAT '].str.split('+', 2, expand=True)\n",
    "print(df)"
   ],
   "metadata": {
    "collapsed": false,
    "pycharm": {
     "name": "#%%\n"
    }
   }
  },
  {
   "cell_type": "code",
   "execution_count": 93,
   "outputs": [],
   "source": [
    "df.insert(4, 'PLAT_1', df.pop('PLAT_1'))\n",
    "df.insert(5, 'PLAT_2', df.pop('PLAT_2'))\n",
    "df.insert(6, 'PLAT_3', df.pop('PLAT_3'))\n"
   ],
   "metadata": {
    "collapsed": false,
    "pycharm": {
     "name": "#%%\n"
    }
   }
  },
  {
   "cell_type": "code",
   "execution_count": 94,
   "outputs": [
    {
     "name": "stdout",
     "output_type": "stream",
     "text": [
      "    Horodateur Numéro de formulaire            ENTREE  \\\n",
      "0     12:30:58                 9V8W        Chou blanc   \n",
      "1     12:33:56                 8B5X      Pas d'entrée   \n",
      "2     12:34:46                 6X9F  Rillette poisson   \n",
      "3     12:35:27                 7B7K     Mini sandwich   \n",
      "4     12:35:56                 3Q7Q     Mini sandwich   \n",
      "..         ...                  ...               ...   \n",
      "62    13:05:03                 2D7O  Rillette poisson   \n",
      "63    13:05:14                 8J2L       Champignons   \n",
      "64    13:05:35                 1L4G      Pas d'entrée   \n",
      "65    13:05:41                 1M2Q      Pas d'entrée   \n",
      "66    13:05:42                 254Q      Pas d'entrée   \n",
      "\n",
      "                      PLAT_1        PLAT_2                  PLAT_3  \\\n",
      "0   Roti de légumes au tofu     Spaghettis                    None   \n",
      "1   Roti de légumes au tofu     Spaghettis                    None   \n",
      "2              Poisson pané    Spaghettis    Mousseline de potiron   \n",
      "3           Filet de poulet    Spaghettis    Mousseline de potiron   \n",
      "4              Poisson pané    Spaghettis    Mousseline de potiron   \n",
      "..                       ...           ...                     ...   \n",
      "62             Poisson pané    Spaghettis    Mousseline de potiron   \n",
      "63          Filet de poulet    Spaghettis    Mousseline de potiron   \n",
      "64             Poisson pané     Spaghettis                    None   \n",
      "65                    Kebab         Frites                    None   \n",
      "66                    Kebab         Salade                    None   \n",
      "\n",
      "                              DESSERT Prise en double du dessert  \n",
      "0                      Pas de dessert                        Non  \n",
      "1      Roquefort + Pruneaux en sirop                         Non  \n",
      "2              Crème praliné + Orange                        Oui  \n",
      "3   Yaourt nature Bio + Crème praliné                        Non  \n",
      "4                              Banane                        Non  \n",
      "..                                ...                        ...  \n",
      "62        Yaourt nature Bio + Compote                        Non  \n",
      "63                          Roquefort                        Non  \n",
      "64                             Pomme                         Oui  \n",
      "65                  Yaourt nature Bio                        Non  \n",
      "66                  Yaourt nature Bio                        Non  \n",
      "\n",
      "[67 rows x 8 columns]\n"
     ]
    }
   ],
   "source": [
    "df.pop('PLAT ')\n",
    "print(df)"
   ],
   "metadata": {
    "collapsed": false,
    "pycharm": {
     "name": "#%%\n"
    }
   }
  },
  {
   "cell_type": "code",
   "execution_count": 95,
   "outputs": [
    {
     "name": "stdout",
     "output_type": "stream",
     "text": [
      "    Horodateur Numéro de formulaire            ENTREE  \\\n",
      "0     12:30:58                 9V8W        Chou blanc   \n",
      "1     12:33:56                 8B5X      Pas d'entrée   \n",
      "2     12:34:46                 6X9F  Rillette poisson   \n",
      "3     12:35:27                 7B7K     Mini sandwich   \n",
      "4     12:35:56                 3Q7Q     Mini sandwich   \n",
      "..         ...                  ...               ...   \n",
      "62    13:05:03                 2D7O  Rillette poisson   \n",
      "63    13:05:14                 8J2L       Champignons   \n",
      "64    13:05:35                 1L4G      Pas d'entrée   \n",
      "65    13:05:41                 1M2Q      Pas d'entrée   \n",
      "66    13:05:42                 254Q      Pas d'entrée   \n",
      "\n",
      "                      PLAT_1        PLAT_2                  PLAT_3  \\\n",
      "0   Roti de légumes au tofu     Spaghettis                    None   \n",
      "1   Roti de légumes au tofu     Spaghettis                    None   \n",
      "2              Poisson pané    Spaghettis    Mousseline de potiron   \n",
      "3           Filet de poulet    Spaghettis    Mousseline de potiron   \n",
      "4              Poisson pané    Spaghettis    Mousseline de potiron   \n",
      "..                       ...           ...                     ...   \n",
      "62             Poisson pané    Spaghettis    Mousseline de potiron   \n",
      "63          Filet de poulet    Spaghettis    Mousseline de potiron   \n",
      "64             Poisson pané     Spaghettis                    None   \n",
      "65                    Kebab         Frites                    None   \n",
      "66                    Kebab         Salade                    None   \n",
      "\n",
      "                              DESSERT Prise en double du dessert  \\\n",
      "0                      Pas de dessert                        Non   \n",
      "1      Roquefort + Pruneaux en sirop                         Non   \n",
      "2              Crème praliné + Orange                        Oui   \n",
      "3   Yaourt nature Bio + Crème praliné                        Non   \n",
      "4                              Banane                        Non   \n",
      "..                                ...                        ...   \n",
      "62        Yaourt nature Bio + Compote                        Non   \n",
      "63                          Roquefort                        Non   \n",
      "64                             Pomme                         Oui   \n",
      "65                  Yaourt nature Bio                        Non   \n",
      "66                  Yaourt nature Bio                        Non   \n",
      "\n",
      "             DESSERT_1            DESSERT_2  \n",
      "0       Pas de dessert                 None  \n",
      "1           Roquefort    Pruneaux en sirop   \n",
      "2       Crème praliné                Orange  \n",
      "3   Yaourt nature Bio         Crème praliné  \n",
      "4               Banane                 None  \n",
      "..                 ...                  ...  \n",
      "62  Yaourt nature Bio               Compote  \n",
      "63           Roquefort                 None  \n",
      "64              Pomme                  None  \n",
      "65   Yaourt nature Bio                 None  \n",
      "66   Yaourt nature Bio                 None  \n",
      "\n",
      "[67 rows x 10 columns]\n"
     ]
    },
    {
     "name": "stderr",
     "output_type": "stream",
     "text": [
      "C:\\Users\\Asus\\AppData\\Local\\Temp\\ipykernel_12460\\1262457157.py:1: FutureWarning: In a future version of pandas all arguments of StringMethods.split except for the argument 'pat' will be keyword-only.\n",
      "  df[['DESSERT_1', 'DESSERT_2']] = df['DESSERT'].str.split('+', 1, expand=True)\n"
     ]
    }
   ],
   "source": [
    "df[['DESSERT_1', 'DESSERT_2']] = df['DESSERT'].str.split('+', 1, expand=True)\n",
    "print(df)"
   ],
   "metadata": {
    "collapsed": false,
    "pycharm": {
     "name": "#%%\n"
    }
   }
  },
  {
   "cell_type": "code",
   "execution_count": 96,
   "outputs": [
    {
     "data": {
      "text/plain": "0     Non\n1     Non\n2     Oui\n3     Non\n4     Non\n     ... \n62    Non\n63    Non\n64    Oui\n65    Non\n66    Non\nName: Prise en double du dessert, Length: 67, dtype: object"
     },
     "execution_count": 96,
     "metadata": {},
     "output_type": "execute_result"
    }
   ],
   "source": [
    "df.pop('DESSERT')\n",
    "df.pop('Prise en double du dessert')"
   ],
   "metadata": {
    "collapsed": false,
    "pycharm": {
     "name": "#%%\n"
    }
   }
  },
  {
   "cell_type": "code",
   "execution_count": 97,
   "outputs": [
    {
     "name": "stdout",
     "output_type": "stream",
     "text": [
      "    Horodateur Numéro de formulaire            ENTREE  \\\n",
      "0     12:30:58                 9V8W        Chou blanc   \n",
      "1     12:33:56                 8B5X      Pas d'entrée   \n",
      "2     12:34:46                 6X9F  Rillette poisson   \n",
      "3     12:35:27                 7B7K     Mini sandwich   \n",
      "4     12:35:56                 3Q7Q     Mini sandwich   \n",
      "..         ...                  ...               ...   \n",
      "62    13:05:03                 2D7O  Rillette poisson   \n",
      "63    13:05:14                 8J2L       Champignons   \n",
      "64    13:05:35                 1L4G      Pas d'entrée   \n",
      "65    13:05:41                 1M2Q      Pas d'entrée   \n",
      "66    13:05:42                 254Q      Pas d'entrée   \n",
      "\n",
      "                      PLAT_1        PLAT_2                  PLAT_3  \\\n",
      "0   Roti de légumes au tofu     Spaghettis                    None   \n",
      "1   Roti de légumes au tofu     Spaghettis                    None   \n",
      "2              Poisson pané    Spaghettis    Mousseline de potiron   \n",
      "3           Filet de poulet    Spaghettis    Mousseline de potiron   \n",
      "4              Poisson pané    Spaghettis    Mousseline de potiron   \n",
      "..                       ...           ...                     ...   \n",
      "62             Poisson pané    Spaghettis    Mousseline de potiron   \n",
      "63          Filet de poulet    Spaghettis    Mousseline de potiron   \n",
      "64             Poisson pané     Spaghettis                    None   \n",
      "65                    Kebab         Frites                    None   \n",
      "66                    Kebab         Salade                    None   \n",
      "\n",
      "             DESSERT_1            DESSERT_2  \n",
      "0       Pas de dessert                 None  \n",
      "1           Roquefort    Pruneaux en sirop   \n",
      "2       Crème praliné                Orange  \n",
      "3   Yaourt nature Bio         Crème praliné  \n",
      "4               Banane                 None  \n",
      "..                 ...                  ...  \n",
      "62  Yaourt nature Bio               Compote  \n",
      "63           Roquefort                 None  \n",
      "64              Pomme                  None  \n",
      "65   Yaourt nature Bio                 None  \n",
      "66   Yaourt nature Bio                 None  \n",
      "\n",
      "[67 rows x 8 columns]\n"
     ]
    }
   ],
   "source": [
    "print(df)"
   ],
   "metadata": {
    "collapsed": false,
    "pycharm": {
     "name": "#%%\n"
    }
   }
  },
  {
   "cell_type": "code",
   "execution_count": 98,
   "outputs": [],
   "source": [
    "filepath = 'data_CROUS/data_processed/Resultats_choix_29_octobre_processed.csv'\n",
    "df.to_csv(filepath, index=False, encoding=\"cp1252\")\n",
    "# encoding pour le OE majuscule"
   ],
   "metadata": {
    "collapsed": false,
    "pycharm": {
     "name": "#%%\n"
    }
   }
  }
 ],
 "metadata": {
  "kernelspec": {
   "display_name": "Python 3",
   "language": "python",
   "name": "python3"
  },
  "language_info": {
   "codemirror_mode": {
    "name": "ipython",
    "version": 2
   },
   "file_extension": ".py",
   "mimetype": "text/x-python",
   "name": "python",
   "nbconvert_exporter": "python",
   "pygments_lexer": "ipython2",
   "version": "2.7.6"
  }
 },
 "nbformat": 4,
 "nbformat_minor": 0
}