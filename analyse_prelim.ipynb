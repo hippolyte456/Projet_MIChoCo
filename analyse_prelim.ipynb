{
 "cells": [
  {
   "cell_type": "code",
   "execution_count": 28,
   "metadata": {
    "collapsed": true,
    "pycharm": {
     "name": "#%%\n"
    }
   },
   "outputs": [],
   "source": [
    "import pandas as pd"
   ]
  },
  {
   "cell_type": "code",
   "execution_count": 29,
   "outputs": [
    {
     "name": "stdout",
     "output_type": "stream",
     "text": [
      "    Horodateur Numéro de formulaire            ENTREE  \\\n",
      "0     12:30:58                 9V8W        Chou blanc   \n",
      "1     12:33:56                 8B5X      Pas d'entrée   \n",
      "2     12:34:46                 6X9F  Rillette poisson   \n",
      "3     12:35:27                 7B7K     Mini sandwich   \n",
      "4     12:35:56                 3Q7Q     Mini sandwich   \n",
      "..         ...                  ...               ...   \n",
      "62    13:05:03                 2D7O  Rillette poisson   \n",
      "63    13:05:14                 8J2L       Champignons   \n",
      "64    13:05:35                 1L4G      Pas d'entrée   \n",
      "65    13:05:41                 1M2Q      Pas d'entrée   \n",
      "66    13:05:42                 254Q      Pas d'entrée   \n",
      "\n",
      "   Prise en double de l'entrée   \\\n",
      "0                           Non   \n",
      "1                           Non   \n",
      "2                           Non   \n",
      "3                           Non   \n",
      "4                           Non   \n",
      "..                          ...   \n",
      "62                          Non   \n",
      "63                          Non   \n",
      "64                          Non   \n",
      "65                          Non   \n",
      "66                          Non   \n",
      "\n",
      "                                                PLAT   \\\n",
      "0                Roti de légumes au tofu + Spaghettis   \n",
      "1                Roti de légumes au tofu + Spaghettis   \n",
      "2   Poisson pané + Spaghettis + Mousseline de potiron   \n",
      "3   Filet de poulet + Spaghettis + Mousseline de p...   \n",
      "4   Poisson pané + Spaghettis + Mousseline de potiron   \n",
      "..                                                ...   \n",
      "62  Poisson pané + Spaghettis + Mousseline de potiron   \n",
      "63  Filet de poulet + Spaghettis + Mousseline de p...   \n",
      "64                          Poisson pané + Spaghettis   \n",
      "65                                     Kebab + Frites   \n",
      "66                                     Kebab + Salade   \n",
      "\n",
      "                              DESSERT Prise en double du dessert  \n",
      "0                      Pas de dessert                        Non  \n",
      "1      Roquefort + Pruneaux en sirop                         Non  \n",
      "2              Crème praliné + Orange                        Oui  \n",
      "3   Yaourt nature Bio + Crème praliné                        Non  \n",
      "4                              Banane                        Non  \n",
      "..                                ...                        ...  \n",
      "62        Yaourt nature Bio + Compote                        Non  \n",
      "63                          Roquefort                        Non  \n",
      "64                             Pomme                         Oui  \n",
      "65                  Yaourt nature Bio                        Non  \n",
      "66                  Yaourt nature Bio                        Non  \n",
      "\n",
      "[67 rows x 7 columns]\n"
     ]
    }
   ],
   "source": [
    "df = pd.read_csv('data_CROUS/data_processed/Resultats_choix_29_octobre.csv', sep=';')\n",
    "print(df)"
   ],
   "metadata": {
    "collapsed": false,
    "pycharm": {
     "name": "#%%\n"
    }
   }
  },
  {
   "cell_type": "code",
   "execution_count": 30,
   "outputs": [
    {
     "name": "stderr",
     "output_type": "stream",
     "text": [
      "C:\\Users\\Asus\\AppData\\Local\\Temp\\ipykernel_12460\\3279887426.py:1: FutureWarning: In a future version of pandas all arguments of StringMethods.split except for the argument 'pat' will be keyword-only.\n",
      "  df[['ENTREE_1', 'ENTREE_2']] = df['ENTREE'].str.split('+', 1, expand=True)\n"
     ]
    },
    {
     "ename": "ValueError",
     "evalue": "Columns must be same length as key",
     "output_type": "error",
     "traceback": [
      "\u001B[1;31m---------------------------------------------------------------------------\u001B[0m",
      "\u001B[1;31mValueError\u001B[0m                                Traceback (most recent call last)",
      "Input \u001B[1;32mIn [30]\u001B[0m, in \u001B[0;36m<cell line: 1>\u001B[1;34m()\u001B[0m\n\u001B[1;32m----> 1\u001B[0m df[[\u001B[38;5;124m'\u001B[39m\u001B[38;5;124mENTREE_1\u001B[39m\u001B[38;5;124m'\u001B[39m, \u001B[38;5;124m'\u001B[39m\u001B[38;5;124mENTREE_2\u001B[39m\u001B[38;5;124m'\u001B[39m]] \u001B[38;5;241m=\u001B[39m df[\u001B[38;5;124m'\u001B[39m\u001B[38;5;124mENTREE\u001B[39m\u001B[38;5;124m'\u001B[39m]\u001B[38;5;241m.\u001B[39mstr\u001B[38;5;241m.\u001B[39msplit(\u001B[38;5;124m'\u001B[39m\u001B[38;5;124m+\u001B[39m\u001B[38;5;124m'\u001B[39m, \u001B[38;5;241m1\u001B[39m, expand\u001B[38;5;241m=\u001B[39m\u001B[38;5;28;01mTrue\u001B[39;00m)\n\u001B[0;32m      2\u001B[0m \u001B[38;5;28mprint\u001B[39m(df)\n",
      "File \u001B[1;32m~\\anaconda3\\envs\\IODAA\\lib\\site-packages\\pandas\\core\\frame.py:3966\u001B[0m, in \u001B[0;36mDataFrame.__setitem__\u001B[1;34m(self, key, value)\u001B[0m\n\u001B[0;32m   3964\u001B[0m     \u001B[38;5;28mself\u001B[39m\u001B[38;5;241m.\u001B[39m_setitem_frame(key, value)\n\u001B[0;32m   3965\u001B[0m \u001B[38;5;28;01melif\u001B[39;00m \u001B[38;5;28misinstance\u001B[39m(key, (Series, np\u001B[38;5;241m.\u001B[39mndarray, \u001B[38;5;28mlist\u001B[39m, Index)):\n\u001B[1;32m-> 3966\u001B[0m     \u001B[38;5;28;43mself\u001B[39;49m\u001B[38;5;241;43m.\u001B[39;49m\u001B[43m_setitem_array\u001B[49m\u001B[43m(\u001B[49m\u001B[43mkey\u001B[49m\u001B[43m,\u001B[49m\u001B[43m \u001B[49m\u001B[43mvalue\u001B[49m\u001B[43m)\u001B[49m\n\u001B[0;32m   3967\u001B[0m \u001B[38;5;28;01melif\u001B[39;00m \u001B[38;5;28misinstance\u001B[39m(value, DataFrame):\n\u001B[0;32m   3968\u001B[0m     \u001B[38;5;28mself\u001B[39m\u001B[38;5;241m.\u001B[39m_set_item_frame_value(key, value)\n",
      "File \u001B[1;32m~\\anaconda3\\envs\\IODAA\\lib\\site-packages\\pandas\\core\\frame.py:4008\u001B[0m, in \u001B[0;36mDataFrame._setitem_array\u001B[1;34m(self, key, value)\u001B[0m\n\u001B[0;32m   4003\u001B[0m \u001B[38;5;28;01melse\u001B[39;00m:\n\u001B[0;32m   4004\u001B[0m     \u001B[38;5;66;03m# Note: unlike self.iloc[:, indexer] = value, this will\u001B[39;00m\n\u001B[0;32m   4005\u001B[0m     \u001B[38;5;66;03m#  never try to overwrite values inplace\u001B[39;00m\n\u001B[0;32m   4007\u001B[0m     \u001B[38;5;28;01mif\u001B[39;00m \u001B[38;5;28misinstance\u001B[39m(value, DataFrame):\n\u001B[1;32m-> 4008\u001B[0m         \u001B[43mcheck_key_length\u001B[49m\u001B[43m(\u001B[49m\u001B[38;5;28;43mself\u001B[39;49m\u001B[38;5;241;43m.\u001B[39;49m\u001B[43mcolumns\u001B[49m\u001B[43m,\u001B[49m\u001B[43m \u001B[49m\u001B[43mkey\u001B[49m\u001B[43m,\u001B[49m\u001B[43m \u001B[49m\u001B[43mvalue\u001B[49m\u001B[43m)\u001B[49m\n\u001B[0;32m   4009\u001B[0m         \u001B[38;5;28;01mfor\u001B[39;00m k1, k2 \u001B[38;5;129;01min\u001B[39;00m \u001B[38;5;28mzip\u001B[39m(key, value\u001B[38;5;241m.\u001B[39mcolumns):\n\u001B[0;32m   4010\u001B[0m             \u001B[38;5;28mself\u001B[39m[k1] \u001B[38;5;241m=\u001B[39m value[k2]\n",
      "File \u001B[1;32m~\\anaconda3\\envs\\IODAA\\lib\\site-packages\\pandas\\core\\indexers\\utils.py:402\u001B[0m, in \u001B[0;36mcheck_key_length\u001B[1;34m(columns, key, value)\u001B[0m\n\u001B[0;32m    400\u001B[0m \u001B[38;5;28;01mif\u001B[39;00m columns\u001B[38;5;241m.\u001B[39mis_unique:\n\u001B[0;32m    401\u001B[0m     \u001B[38;5;28;01mif\u001B[39;00m \u001B[38;5;28mlen\u001B[39m(value\u001B[38;5;241m.\u001B[39mcolumns) \u001B[38;5;241m!=\u001B[39m \u001B[38;5;28mlen\u001B[39m(key):\n\u001B[1;32m--> 402\u001B[0m         \u001B[38;5;28;01mraise\u001B[39;00m \u001B[38;5;167;01mValueError\u001B[39;00m(\u001B[38;5;124m\"\u001B[39m\u001B[38;5;124mColumns must be same length as key\u001B[39m\u001B[38;5;124m\"\u001B[39m)\n\u001B[0;32m    403\u001B[0m \u001B[38;5;28;01melse\u001B[39;00m:\n\u001B[0;32m    404\u001B[0m     \u001B[38;5;66;03m# Missing keys in columns are represented as -1\u001B[39;00m\n\u001B[0;32m    405\u001B[0m     \u001B[38;5;28;01mif\u001B[39;00m \u001B[38;5;28mlen\u001B[39m(columns\u001B[38;5;241m.\u001B[39mget_indexer_non_unique(key)[\u001B[38;5;241m0\u001B[39m]) \u001B[38;5;241m!=\u001B[39m \u001B[38;5;28mlen\u001B[39m(value\u001B[38;5;241m.\u001B[39mcolumns):\n",
      "\u001B[1;31mValueError\u001B[0m: Columns must be same length as key"
     ]
    }
   ],
   "source": [
    "df[['ENTREE_1', 'ENTREE_2']] = df['ENTREE'].str.split('+', 1, expand=True)\n",
    "print(df)"
   ],
   "metadata": {
    "collapsed": false,
    "pycharm": {
     "name": "#%%\n"
    }
   }
  },
  {
   "cell_type": "code",
   "execution_count": null,
   "outputs": [],
   "source": [
    "df.insert(2, 'ENTREE_1', df.pop('ENTREE_1'))\n",
    "df.insert(3, 'ENTREE_2', df.pop('ENTREE_2'))\n"
   ],
   "metadata": {
    "collapsed": false,
    "pycharm": {
     "name": "#%%\n"
    }
   }
  },
  {
   "cell_type": "code",
   "execution_count": 31,
   "outputs": [
    {
     "data": {
      "text/plain": "0     Non\n1     Non\n2     Non\n3     Non\n4     Non\n     ... \n62    Non\n63    Non\n64    Non\n65    Non\n66    Non\nName: Prise en double de l'entrée , Length: 67, dtype: object"
     },
     "execution_count": 31,
     "metadata": {},
     "output_type": "execute_result"
    }
   ],
   "source": [
    "df.pop('ENTREE')\n",
    "df.pop(\"Prise en double de l'entrée \")"
   ],
   "metadata": {
    "collapsed": false,
    "pycharm": {
     "name": "#%%\n"
    }
   }
  },
  {
   "cell_type": "code",
   "execution_count": 32,
   "outputs": [
    {
     "name": "stdout",
     "output_type": "stream",
     "text": [
      "    Horodateur Numéro de formulaire            ENTREE  \\\n",
      "0     12:30:58                 9V8W        Chou blanc   \n",
      "1     12:33:56                 8B5X      Pas d'entrée   \n",
      "2     12:34:46                 6X9F  Rillette poisson   \n",
      "3     12:35:27                 7B7K     Mini sandwich   \n",
      "4     12:35:56                 3Q7Q     Mini sandwich   \n",
      "..         ...                  ...               ...   \n",
      "62    13:05:03                 2D7O  Rillette poisson   \n",
      "63    13:05:14                 8J2L       Champignons   \n",
      "64    13:05:35                 1L4G      Pas d'entrée   \n",
      "65    13:05:41                 1M2Q      Pas d'entrée   \n",
      "66    13:05:42                 254Q      Pas d'entrée   \n",
      "\n",
      "                                                PLAT   \\\n",
      "0                Roti de légumes au tofu + Spaghettis   \n",
      "1                Roti de légumes au tofu + Spaghettis   \n",
      "2   Poisson pané + Spaghettis + Mousseline de potiron   \n",
      "3   Filet de poulet + Spaghettis + Mousseline de p...   \n",
      "4   Poisson pané + Spaghettis + Mousseline de potiron   \n",
      "..                                                ...   \n",
      "62  Poisson pané + Spaghettis + Mousseline de potiron   \n",
      "63  Filet de poulet + Spaghettis + Mousseline de p...   \n",
      "64                          Poisson pané + Spaghettis   \n",
      "65                                     Kebab + Frites   \n",
      "66                                     Kebab + Salade   \n",
      "\n",
      "                              DESSERT Prise en double du dessert  \\\n",
      "0                      Pas de dessert                        Non   \n",
      "1      Roquefort + Pruneaux en sirop                         Non   \n",
      "2              Crème praliné + Orange                        Oui   \n",
      "3   Yaourt nature Bio + Crème praliné                        Non   \n",
      "4                              Banane                        Non   \n",
      "..                                ...                        ...   \n",
      "62        Yaourt nature Bio + Compote                        Non   \n",
      "63                          Roquefort                        Non   \n",
      "64                             Pomme                         Oui   \n",
      "65                  Yaourt nature Bio                        Non   \n",
      "66                  Yaourt nature Bio                        Non   \n",
      "\n",
      "                      PLAT_1        PLAT_2                  PLAT_3  \n",
      "0   Roti de légumes au tofu     Spaghettis                    None  \n",
      "1   Roti de légumes au tofu     Spaghettis                    None  \n",
      "2              Poisson pané    Spaghettis    Mousseline de potiron  \n",
      "3           Filet de poulet    Spaghettis    Mousseline de potiron  \n",
      "4              Poisson pané    Spaghettis    Mousseline de potiron  \n",
      "..                       ...           ...                     ...  \n",
      "62             Poisson pané    Spaghettis    Mousseline de potiron  \n",
      "63          Filet de poulet    Spaghettis    Mousseline de potiron  \n",
      "64             Poisson pané     Spaghettis                    None  \n",
      "65                    Kebab         Frites                    None  \n",
      "66                    Kebab         Salade                    None  \n",
      "\n",
      "[67 rows x 9 columns]\n"
     ]
    },
    {
     "name": "stderr",
     "output_type": "stream",
     "text": [
      "C:\\Users\\Asus\\AppData\\Local\\Temp\\ipykernel_12460\\1960039758.py:1: FutureWarning: In a future version of pandas all arguments of StringMethods.split except for the argument 'pat' will be keyword-only.\n",
      "  df[['PLAT_1', 'PLAT_2', 'PLAT_3']] = df['PLAT '].str.split('+', 2, expand=True)\n"
     ]
    }
   ],
   "source": [
    "df[['PLAT_1', 'PLAT_2', 'PLAT_3']] = df['PLAT '].str.split('+', 2, expand=True)\n",
    "print(df)"
   ],
   "metadata": {
    "collapsed": false,
    "pycharm": {
     "name": "#%%\n"
    }
   }
  },
  {
   "cell_type": "code",
   "execution_count": 33,
   "outputs": [],
   "source": [
    "df.insert(4, 'PLAT_1', df.pop('PLAT_1'))\n",
    "df.insert(5, 'PLAT_2', df.pop('PLAT_2'))\n",
    "df.insert(6, 'PLAT_3', df.pop('PLAT_3'))\n"
   ],
   "metadata": {
    "collapsed": false,
    "pycharm": {
     "name": "#%%\n"
    }
   }
  },
  {
   "cell_type": "code",
   "execution_count": 34,
   "outputs": [
    {
     "name": "stdout",
     "output_type": "stream",
     "text": [
      "    Horodateur Numéro de formulaire            ENTREE  \\\n",
      "0     12:30:58                 9V8W        Chou blanc   \n",
      "1     12:33:56                 8B5X      Pas d'entrée   \n",
      "2     12:34:46                 6X9F  Rillette poisson   \n",
      "3     12:35:27                 7B7K     Mini sandwich   \n",
      "4     12:35:56                 3Q7Q     Mini sandwich   \n",
      "..         ...                  ...               ...   \n",
      "62    13:05:03                 2D7O  Rillette poisson   \n",
      "63    13:05:14                 8J2L       Champignons   \n",
      "64    13:05:35                 1L4G      Pas d'entrée   \n",
      "65    13:05:41                 1M2Q      Pas d'entrée   \n",
      "66    13:05:42                 254Q      Pas d'entrée   \n",
      "\n",
      "                      PLAT_1        PLAT_2                  PLAT_3  \\\n",
      "0   Roti de légumes au tofu     Spaghettis                    None   \n",
      "1   Roti de légumes au tofu     Spaghettis                    None   \n",
      "2              Poisson pané    Spaghettis    Mousseline de potiron   \n",
      "3           Filet de poulet    Spaghettis    Mousseline de potiron   \n",
      "4              Poisson pané    Spaghettis    Mousseline de potiron   \n",
      "..                       ...           ...                     ...   \n",
      "62             Poisson pané    Spaghettis    Mousseline de potiron   \n",
      "63          Filet de poulet    Spaghettis    Mousseline de potiron   \n",
      "64             Poisson pané     Spaghettis                    None   \n",
      "65                    Kebab         Frites                    None   \n",
      "66                    Kebab         Salade                    None   \n",
      "\n",
      "                              DESSERT Prise en double du dessert  \n",
      "0                      Pas de dessert                        Non  \n",
      "1      Roquefort + Pruneaux en sirop                         Non  \n",
      "2              Crème praliné + Orange                        Oui  \n",
      "3   Yaourt nature Bio + Crème praliné                        Non  \n",
      "4                              Banane                        Non  \n",
      "..                                ...                        ...  \n",
      "62        Yaourt nature Bio + Compote                        Non  \n",
      "63                          Roquefort                        Non  \n",
      "64                             Pomme                         Oui  \n",
      "65                  Yaourt nature Bio                        Non  \n",
      "66                  Yaourt nature Bio                        Non  \n",
      "\n",
      "[67 rows x 8 columns]\n"
     ]
    }
   ],
   "source": [
    "df.pop('PLAT ')\n",
    "print(df)"
   ],
   "metadata": {
    "collapsed": false,
    "pycharm": {
     "name": "#%%\n"
    }
   }
  },
  {
   "cell_type": "code",
   "execution_count": 35,
   "outputs": [
    {
     "name": "stdout",
     "output_type": "stream",
     "text": [
      "    Horodateur Numéro de formulaire            ENTREE  \\\n",
      "0     12:30:58                 9V8W        Chou blanc   \n",
      "1     12:33:56                 8B5X      Pas d'entrée   \n",
      "2     12:34:46                 6X9F  Rillette poisson   \n",
      "3     12:35:27                 7B7K     Mini sandwich   \n",
      "4     12:35:56                 3Q7Q     Mini sandwich   \n",
      "..         ...                  ...               ...   \n",
      "62    13:05:03                 2D7O  Rillette poisson   \n",
      "63    13:05:14                 8J2L       Champignons   \n",
      "64    13:05:35                 1L4G      Pas d'entrée   \n",
      "65    13:05:41                 1M2Q      Pas d'entrée   \n",
      "66    13:05:42                 254Q      Pas d'entrée   \n",
      "\n",
      "                      PLAT_1        PLAT_2                  PLAT_3  \\\n",
      "0   Roti de légumes au tofu     Spaghettis                    None   \n",
      "1   Roti de légumes au tofu     Spaghettis                    None   \n",
      "2              Poisson pané    Spaghettis    Mousseline de potiron   \n",
      "3           Filet de poulet    Spaghettis    Mousseline de potiron   \n",
      "4              Poisson pané    Spaghettis    Mousseline de potiron   \n",
      "..                       ...           ...                     ...   \n",
      "62             Poisson pané    Spaghettis    Mousseline de potiron   \n",
      "63          Filet de poulet    Spaghettis    Mousseline de potiron   \n",
      "64             Poisson pané     Spaghettis                    None   \n",
      "65                    Kebab         Frites                    None   \n",
      "66                    Kebab         Salade                    None   \n",
      "\n",
      "                              DESSERT Prise en double du dessert  \\\n",
      "0                      Pas de dessert                        Non   \n",
      "1      Roquefort + Pruneaux en sirop                         Non   \n",
      "2              Crème praliné + Orange                        Oui   \n",
      "3   Yaourt nature Bio + Crème praliné                        Non   \n",
      "4                              Banane                        Non   \n",
      "..                                ...                        ...   \n",
      "62        Yaourt nature Bio + Compote                        Non   \n",
      "63                          Roquefort                        Non   \n",
      "64                             Pomme                         Oui   \n",
      "65                  Yaourt nature Bio                        Non   \n",
      "66                  Yaourt nature Bio                        Non   \n",
      "\n",
      "             DESSERT_1            DESSERT_2  \n",
      "0       Pas de dessert                 None  \n",
      "1           Roquefort    Pruneaux en sirop   \n",
      "2       Crème praliné                Orange  \n",
      "3   Yaourt nature Bio         Crème praliné  \n",
      "4               Banane                 None  \n",
      "..                 ...                  ...  \n",
      "62  Yaourt nature Bio               Compote  \n",
      "63           Roquefort                 None  \n",
      "64              Pomme                  None  \n",
      "65   Yaourt nature Bio                 None  \n",
      "66   Yaourt nature Bio                 None  \n",
      "\n",
      "[67 rows x 10 columns]\n"
     ]
    },
    {
     "name": "stderr",
     "output_type": "stream",
     "text": [
      "C:\\Users\\Asus\\AppData\\Local\\Temp\\ipykernel_12460\\1262457157.py:1: FutureWarning: In a future version of pandas all arguments of StringMethods.split except for the argument 'pat' will be keyword-only.\n",
      "  df[['DESSERT_1', 'DESSERT_2']] = df['DESSERT'].str.split('+', 1, expand=True)\n"
     ]
    }
   ],
   "source": [
    "df[['DESSERT_1', 'DESSERT_2']] = df['DESSERT'].str.split('+', 1, expand=True)\n",
    "print(df)"
   ],
   "metadata": {
    "collapsed": false,
    "pycharm": {
     "name": "#%%\n"
    }
   }
  },
  {
   "cell_type": "code",
   "execution_count": 36,
   "outputs": [
    {
     "data": {
      "text/plain": "0     Non\n1     Non\n2     Oui\n3     Non\n4     Non\n     ... \n62    Non\n63    Non\n64    Oui\n65    Non\n66    Non\nName: Prise en double du dessert, Length: 67, dtype: object"
     },
     "execution_count": 36,
     "metadata": {},
     "output_type": "execute_result"
    }
   ],
   "source": [
    "df.pop('DESSERT')\n",
    "df.pop('Prise en double du dessert')"
   ],
   "metadata": {
    "collapsed": false,
    "pycharm": {
     "name": "#%%\n"
    }
   }
  },
  {
   "cell_type": "code",
   "execution_count": 37,
   "outputs": [
    {
     "name": "stdout",
     "output_type": "stream",
     "text": [
      "    Horodateur Numéro de formulaire            ENTREE  \\\n",
      "0     12:30:58                 9V8W        Chou blanc   \n",
      "1     12:33:56                 8B5X      Pas d'entrée   \n",
      "2     12:34:46                 6X9F  Rillette poisson   \n",
      "3     12:35:27                 7B7K     Mini sandwich   \n",
      "4     12:35:56                 3Q7Q     Mini sandwich   \n",
      "..         ...                  ...               ...   \n",
      "62    13:05:03                 2D7O  Rillette poisson   \n",
      "63    13:05:14                 8J2L       Champignons   \n",
      "64    13:05:35                 1L4G      Pas d'entrée   \n",
      "65    13:05:41                 1M2Q      Pas d'entrée   \n",
      "66    13:05:42                 254Q      Pas d'entrée   \n",
      "\n",
      "                      PLAT_1        PLAT_2                  PLAT_3  \\\n",
      "0   Roti de légumes au tofu     Spaghettis                    None   \n",
      "1   Roti de légumes au tofu     Spaghettis                    None   \n",
      "2              Poisson pané    Spaghettis    Mousseline de potiron   \n",
      "3           Filet de poulet    Spaghettis    Mousseline de potiron   \n",
      "4              Poisson pané    Spaghettis    Mousseline de potiron   \n",
      "..                       ...           ...                     ...   \n",
      "62             Poisson pané    Spaghettis    Mousseline de potiron   \n",
      "63          Filet de poulet    Spaghettis    Mousseline de potiron   \n",
      "64             Poisson pané     Spaghettis                    None   \n",
      "65                    Kebab         Frites                    None   \n",
      "66                    Kebab         Salade                    None   \n",
      "\n",
      "             DESSERT_1            DESSERT_2  \n",
      "0       Pas de dessert                 None  \n",
      "1           Roquefort    Pruneaux en sirop   \n",
      "2       Crème praliné                Orange  \n",
      "3   Yaourt nature Bio         Crème praliné  \n",
      "4               Banane                 None  \n",
      "..                 ...                  ...  \n",
      "62  Yaourt nature Bio               Compote  \n",
      "63           Roquefort                 None  \n",
      "64              Pomme                  None  \n",
      "65   Yaourt nature Bio                 None  \n",
      "66   Yaourt nature Bio                 None  \n",
      "\n",
      "[67 rows x 8 columns]\n"
     ]
    }
   ],
   "source": [
    "print(df)"
   ],
   "metadata": {
    "collapsed": false,
    "pycharm": {
     "name": "#%%\n"
    }
   }
  },
  {
   "cell_type": "code",
   "execution_count": 38,
   "outputs": [],
   "source": [
    "filepath = 'data_CROUS/data_processed/Resultats_choix_29_octobre_processed.csv'\n",
    "df.to_csv(filepath, index=False)"
   ],
   "metadata": {
    "collapsed": false,
    "pycharm": {
     "name": "#%%\n"
    }
   }
  },
  {
   "cell_type": "code",
   "execution_count": null,
   "outputs": [],
   "source": [],
   "metadata": {
    "collapsed": false,
    "pycharm": {
     "name": "#%%\n"
    }
   }
  }
 ],
 "metadata": {
  "kernelspec": {
   "display_name": "Python 3",
   "language": "python",
   "name": "python3"
  },
  "language_info": {
   "codemirror_mode": {
    "name": "ipython",
    "version": 2
   },
   "file_extension": ".py",
   "mimetype": "text/x-python",
   "name": "python",
   "nbconvert_exporter": "python",
   "pygments_lexer": "ipython2",
   "version": "2.7.6"
  }
 },
 "nbformat": 4,
 "nbformat_minor": 0
}