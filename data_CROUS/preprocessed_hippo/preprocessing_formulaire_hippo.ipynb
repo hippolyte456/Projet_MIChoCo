{
 "cells": [
  {
   "attachments": {},
   "cell_type": "markdown",
   "metadata": {},
   "source": [
    "## Chargement package et données "
   ]
  },
  {
   "cell_type": "code",
   "execution_count": 168,
   "metadata": {},
   "outputs": [],
   "source": [
    "import numpy as np\n",
    "import pandas as pd\n",
    "import os\n",
    "import math\n",
    "os.getcwd()\n",
    "\n",
    "file_in = '../data/Resultats_formulaires_21_octobre.csv'\n",
    "file_out = 'data_CROUS/preprocessed_hippo/formulaire_hippo_preprocessed.csv'"
   ]
  },
  {
   "cell_type": "code",
   "execution_count": 169,
   "metadata": {},
   "outputs": [],
   "source": [
    "df1 = pd.read_csv(file_in, sep=\";\")\n",
    "# csv_2 = pd.read_csv(\"Resultats_formulaires_22_octobre.csv\", sep=\";\")\n",
    "# csv_3 = pd.read_csv(\"Resultats_formulaires_28_octobre.csv\", sep=\";\")\n",
    "# csv_4 = pd.read_csv(\"Resultats_formulaires_29_octobre.csv\", sep=\";\")\n",
    "# csv_tot = pd.concat([csv_1, csv_2,csv_3, csv_4])\n",
    "# csv_tot = csv_tot.set_index(\"N° Formulaire\")"
   ]
  },
  {
   "attachments": {},
   "cell_type": "markdown",
   "metadata": {},
   "source": [
    "## Reduction du CSV aux données seules (sans les annotations en bas)"
   ]
  },
  {
   "cell_type": "code",
   "execution_count": 170,
   "metadata": {},
   "outputs": [],
   "source": [
    "#on garde les lignes remplies des tableurs\n",
    "df1 = df1.iloc[:135, :]\n"
   ]
  },
  {
   "attachments": {},
   "cell_type": "markdown",
   "metadata": {},
   "source": [
    "## Nettoyage des colonnes Amis "
   ]
  },
  {
   "cell_type": "code",
   "execution_count": 171,
   "metadata": {},
   "outputs": [],
   "source": [
    "#on créé une regex qui va nous permettre de récupérer les codes des formations\n",
    "import re \n",
    "#on peut aussi le faire avec cdette syntaxte :\n",
    "# bool(re.match(regex, 'hello1'))\n",
    "\n",
    "def KeepOnlyForm(x):\n",
    "    regex = r\"[0-9][A-Z][0-9][A-Z]\"\n",
    "    if type(x)== str:\n",
    "        match = re.search(regex,x)\n",
    "        if match != None:\n",
    "            return match.string\n",
    "        else:\n",
    "            return pd.NA\n",
    "    else:\n",
    "        return pd.NA"
   ]
  },
  {
   "cell_type": "code",
   "execution_count": 172,
   "metadata": {},
   "outputs": [],
   "source": [
    "# on selectionne les colonnes qui commencent par \"Ami\" (on garde maximum 5 amis)\n",
    "col_amis = df1.columns.str.startswith(\"Ami\")\n",
    "dfamis = df1.loc[:,col_amis]\n",
    "\n",
    "#toutes les valeurs qui ne sont pas des chaines de caractères sont remplacées par des Sandofour\n",
    "dfamis = dfamis.applymap(KeepOnlyForm)\n",
    "\n"
   ]
  },
  {
   "cell_type": "code",
   "execution_count": 173,
   "metadata": {},
   "outputs": [],
   "source": [
    "\n",
    "#onremplace les colonnes par les colonnes nettoyées\n",
    "df1.loc[:,col_amis] = dfamis\n",
    "#on enleve les colonnes après la colonne \"Ami 5\"\n",
    "df1 = df1.iloc[:,:df1.columns.get_loc(\"Ami 5\")+1]\n"
   ]
  },
  {
   "cell_type": "code",
   "execution_count": 174,
   "metadata": {},
   "outputs": [],
   "source": [
    "#ce genre d'espace qui traine après ami 3...\n",
    "#df1 = df1.drop(columns=[\"Ami 1\", \"Ami 2\",\"Ami 3 \",\"Ami 4\",\"Ami 5\",'Unnamed: 28','Unnamed: 27','Unnamed: 29'])"
   ]
  },
  {
   "attachments": {},
   "cell_type": "markdown",
   "metadata": {},
   "source": [
    "## Variables catégorielles binaires sont codées en 0 et 1"
   ]
  },
  {
   "cell_type": "code",
   "execution_count": null,
   "metadata": {},
   "outputs": [],
   "source": [
    "'''\n",
    "one hot sur une variable à deux états ça sert à rien si ? \n",
    "'''\n",
    "# temp = pd.get_dummies(df1[\"Genre\"])\n",
    "# df1.drop(columns=[\"Genre\"], inplace=True)\n",
    "# df1 = pd.concat([df1, temp], axis=1)\n",
    "\n",
    "# temp = pd.get_dummies(df1[\"Végé\"])\n",
    "# df1.drop(columns=[\"Végé\"], inplace=True)\n",
    "# df1 = pd.concat([df1, temp], axis=1)\n",
    "\n",
    "# temp = pd.get_dummies(df1[\"Régime particulier\"])\n",
    "# df1.drop(columns=[\"Régime particulier\"], inplace=True)\n",
    "# df1 = pd.concat([df1, temp], axis=1)\n"
   ]
  },
  {
   "cell_type": "code",
   "execution_count": 176,
   "metadata": {},
   "outputs": [],
   "source": [
    "#on remplace les valeurs de genre par des 0 et des 1\n",
    "df1[\"Genre\"] = df1[\"Genre\"].replace({\"Femme\":0, \"Homme\":1})\n",
    "#on remplace les valeurs de végétarien par des 0 et des 1\n",
    "df1[\"Végé\"] = df1[\"Végé\"].replace({\"Oui\":1, \"Non\":0})\n",
    "#on remplace les valeurs de régime particulier par des 0 et des 1\n",
    "df1[\"Régime particulier\"] = df1[\"Régime particulier\"].replace({\"Oui\":1, \"Non\":0})\n",
    "#on remplace les valeurs de proximité par des 0 et des 1\n",
    "df1[\"Proximité\"] = df1[\"Proximité\"].replace({\"Oui\":1, \"Non\":0})\n"
   ]
  },
  {
   "attachments": {},
   "cell_type": "markdown",
   "metadata": {},
   "source": [
    "## Suppression des colonnes inutiles "
   ]
  },
  {
   "cell_type": "code",
   "execution_count": 177,
   "metadata": {},
   "outputs": [],
   "source": [
    "#on supprime la colonne fréquence Crous\n",
    "df1.drop(columns=[\"Fréquence CROUS\"], inplace=True)"
   ]
  },
  {
   "cell_type": "code",
   "execution_count": 178,
   "metadata": {},
   "outputs": [],
   "source": [
    "df1.drop(columns=[\"Seule ou en groupe\"], inplace=True)"
   ]
  },
  {
   "cell_type": "code",
   "execution_count": 179,
   "metadata": {},
   "outputs": [],
   "source": [
    "df1.drop(columns=[\"Connaissance\"], inplace=True)"
   ]
  },
  {
   "cell_type": "code",
   "execution_count": 180,
   "metadata": {},
   "outputs": [],
   "source": [
    "df1.drop(columns=[\"Nb file\"], inplace=True)"
   ]
  },
  {
   "cell_type": "code",
   "execution_count": 181,
   "metadata": {},
   "outputs": [],
   "source": [
    "df1.drop(columns=[\"Parti groupe\"], inplace=True)"
   ]
  },
  {
   "attachments": {},
   "cell_type": "markdown",
   "metadata": {},
   "source": [
    "## Les variables catégorielles qui présente une relation d'odre sont traitées comme  des variables numériques"
   ]
  },
  {
   "cell_type": "code",
   "execution_count": null,
   "metadata": {},
   "outputs": [],
   "source": [
    "#on recupere les valeurs possibles de la colonne stress\n",
    "stress = df1[\"Stress\"].unique()\n",
    "print(stress)"
   ]
  },
  {
   "cell_type": "code",
   "execution_count": 183,
   "metadata": {},
   "outputs": [],
   "source": [
    "#on remplace les valeurs de la colonne Stress par des valeurs numériques\n",
    "df1[\"Stress\"] = df1[\"Stress\"].replace(\"Non\", 0)\n",
    "df1[\"Stress\"] = df1[\"Stress\"].replace(\"Plutôt non\", 1)\n",
    "df1[\"Stress\"] = df1[\"Stress\"].replace(\"Plutôt oui\", 2)\n",
    "df1[\"Stress\"] = df1[\"Stress\"].replace(\"Oui, très\", 3)\n",
    "df1[\"Stress\"] = df1[\"Stress\"].replace(\"N.A\", 1.5) #on remplace les valeurs manquantes par la moyenne ??\n",
    "#on normalise par moyenne et variance la colonne stress\n",
    "df1[\"Stress\"] = (df1[\"Stress\"] - df1[\"Stress\"].mean())/df1[\"Stress\"].std()"
   ]
  },
  {
   "cell_type": "code",
   "execution_count": 184,
   "metadata": {},
   "outputs": [
    {
     "name": "stdout",
     "output_type": "stream",
     "text": [
      "['Oui,assez faim' 'Oui, très faim' 'Oui, assez faim faim'\n",
      " 'Oui, mais très peu' 'Oui,très faim' 'Non' 'Oui, assez faim'\n",
      " 'Oui, assez faim ' 'N.A']\n"
     ]
    }
   ],
   "source": [
    "#on recupere les valeurs possibles de la colonne stress\n",
    "faim = df1[\"Faim\"].unique()\n",
    "print(faim)"
   ]
  },
  {
   "cell_type": "code",
   "execution_count": 185,
   "metadata": {},
   "outputs": [],
   "source": [
    "#on remplace les valeurs de la colonne Faim par des valeurs numériques\n",
    "df1[\"Faim\"] = df1[\"Faim\"].replace('Non', 0)\n",
    "df1[\"Faim\"] = df1[\"Faim\"].replace('Oui, mais très peu', 1)\n",
    "df1[\"Faim\"] = df1[\"Faim\"].replace(\"Oui,assez faim\", 2)\n",
    "df1[\"Faim\"] = df1[\"Faim\"].replace('Oui, assez faim faim', 2)\n",
    "df1[\"Faim\"] = df1[\"Faim\"].replace('Oui, assez faim', 2)\n",
    "df1[\"Faim\"] = df1[\"Faim\"].replace('Oui, assez faim ', 2)\n",
    "df1[\"Faim\"] = df1[\"Faim\"].replace('Oui,très faim', 3)\n",
    "df1[\"Faim\"] = df1[\"Faim\"].replace('Oui, très faim', 3)\n",
    "df1[\"Faim\"] = df1[\"Faim\"].replace('N.A', 1.5) #on remplace les valeurs manquantes par la moyenne ??\n",
    "#on normalise par moyenne et variance la colonne faim \n",
    "df1[\"Faim\"] = (df1[\"Faim\"] - df1[\"Faim\"].mean())/df1[\"Faim\"].std()"
   ]
  },
  {
   "cell_type": "code",
   "execution_count": 186,
   "metadata": {},
   "outputs": [
    {
     "name": "stdout",
     "output_type": "stream",
     "text": [
      "['Importante' 'Faible' 'Modérée' 'N.A' 'Aucune' 'Aucune ']\n"
     ]
    }
   ],
   "source": [
    "#on recupere les valeurs possibles de la colonne Activité physique\n",
    "activite = df1[\"Activité physique\"].unique()\n",
    "print(activite)"
   ]
  },
  {
   "cell_type": "code",
   "execution_count": 187,
   "metadata": {},
   "outputs": [],
   "source": [
    "#on remplace les valeurs de la colonne Activité physique par des valeurs numériques\n",
    "df1[\"Activité physique\"] = df1[\"Activité physique\"].replace('Aucune', 0)\n",
    "df1[\"Activité physique\"] = df1[\"Activité physique\"].replace('Aucune ', 0)\n",
    "df1[\"Activité physique\"] = df1[\"Activité physique\"].replace(\"Faible\", 1)\n",
    "df1[\"Activité physique\"] = df1[\"Activité physique\"].replace('Modérée', 2)\n",
    "df1[\"Activité physique\"] = df1[\"Activité physique\"].replace('Importante', 3)\n",
    "df1[\"Activité physique\"] = df1[\"Activité physique\"].replace(\"N.A\", 1.5) #on remplace les valeurs manquantes par la moyenne ??\n",
    "#on normalise par moyenne et variance la colonne Activité physique \n",
    "df1[\"Activité physique\"] = (df1[\"Activité physique\"] - df1[\"Activité physique\"].mean())/df1[\"Activité physique\"].std()"
   ]
  },
  {
   "cell_type": "code",
   "execution_count": null,
   "metadata": {},
   "outputs": [],
   "source": [
    "#on recupere les valeurs possibles de la colonne Activité physique\n",
    "activite = df1[\"Percept senso\"].unique()\n",
    "print(activite)"
   ]
  },
  {
   "cell_type": "code",
   "execution_count": null,
   "metadata": {},
   "outputs": [],
   "source": [
    "#on remplace les valeurs de la colonne Activité physique par des valeurs numériques\n",
    "df1[\"Activité physique\"] = df1[\"Activité physique\"].replace('Aucune', 0)\n",
    "df1[\"Activité physique\"] = df1[\"Activité physique\"].replace('Aucune ', 0)\n",
    "df1[\"Activité physique\"] = df1[\"Activité physique\"].replace(\"Faible\", 1)\n",
    "df1[\"Activité physique\"] = df1[\"Activité physique\"].replace('Modérée', 2)\n",
    "df1[\"Activité physique\"] = df1[\"Activité physique\"].replace('Importante', 3)\n",
    "df1[\"Activité physique\"] = df1[\"Activité physique\"].replace(\"N.A\", 1.5) #on remplace les valeurs manquantes par la moyenne ??\n",
    "#on normalise par moyenne et variance la colonne Activité physique \n",
    "df1[\"Activité physique\"] = (df1[\"Activité physique\"] - df1[\"Activité physique\"].mean())/df1[\"Activité physique\"].std()"
   ]
  },
  {
   "cell_type": "code",
   "execution_count": null,
   "metadata": {},
   "outputs": [],
   "source": [
    "#on recupere les valeurs possibles de la colonne Activité physique\n",
    "activite = df1[\"Influ sociale\"].unique()\n",
    "print(activite)"
   ]
  },
  {
   "cell_type": "code",
   "execution_count": null,
   "metadata": {},
   "outputs": [],
   "source": [
    "#on remplace les valeurs de la colonne Activité physique par des valeurs numériques\n",
    "df1[\"Activité physique\"] = df1[\"Activité physique\"].replace('Aucune', 0)\n",
    "df1[\"Activité physique\"] = df1[\"Activité physique\"].replace('Aucune ', 0)\n",
    "df1[\"Activité physique\"] = df1[\"Activité physique\"].replace(\"Faible\", 1)\n",
    "df1[\"Activité physique\"] = df1[\"Activité physique\"].replace('Modérée', 2)\n",
    "df1[\"Activité physique\"] = df1[\"Activité physique\"].replace('Importante', 3)\n",
    "df1[\"Activité physique\"] = df1[\"Activité physique\"].replace(\"N.A\", 1.5) #on remplace les valeurs manquantes par la moyenne ??\n",
    "#on normalise par moyenne et variance la colonne Activité physique \n",
    "df1[\"Activité physique\"] = (df1[\"Activité physique\"] - df1[\"Activité physique\"].mean())/df1[\"Activité physique\"].std()"
   ]
  },
  {
   "cell_type": "code",
   "execution_count": null,
   "metadata": {},
   "outputs": [],
   "source": [
    "#on recupere les valeurs possibles de la colonne Activité physique\n",
    "activite = df1[\"Equilibre alim\"].unique()\n",
    "print(activite)"
   ]
  },
  {
   "cell_type": "code",
   "execution_count": null,
   "metadata": {},
   "outputs": [],
   "source": [
    "#on remplace les valeurs de la colonne Activité physique par des valeurs numériques\n",
    "df1[\"Activité physique\"] = df1[\"Activité physique\"].replace('Aucune', 0)\n",
    "df1[\"Activité physique\"] = df1[\"Activité physique\"].replace('Aucune ', 0)\n",
    "df1[\"Activité physique\"] = df1[\"Activité physique\"].replace(\"Faible\", 1)\n",
    "df1[\"Activité physique\"] = df1[\"Activité physique\"].replace('Modérée', 2)\n",
    "df1[\"Activité physique\"] = df1[\"Activité physique\"].replace('Importante', 3)\n",
    "df1[\"Activité physique\"] = df1[\"Activité physique\"].replace(\"N.A\", 1.5) #on remplace les valeurs manquantes par la moyenne ??\n",
    "#on normalise par moyenne et variance la colonne Activité physique \n",
    "df1[\"Activité physique\"] = (df1[\"Activité physique\"] - df1[\"Activité physique\"].mean())/df1[\"Activité physique\"].std()"
   ]
  },
  {
   "attachments": {},
   "cell_type": "markdown",
   "metadata": {},
   "source": [
    "## Sauvegarde du formulaire "
   ]
  },
  {
   "cell_type": "code",
   "execution_count": 188,
   "metadata": {},
   "outputs": [],
   "source": [
    "df1.to_csv(\"formulaire_21_octobre_clean.csv\", encoding='latin1')"
   ]
  },
  {
   "attachments": {},
   "cell_type": "markdown",
   "metadata": {},
   "source": [
    "## Sauvegarde d'un fichier concatenant formulaire et choxi pour chaque sujet"
   ]
  },
  {
   "cell_type": "code",
   "execution_count": 100,
   "metadata": {},
   "outputs": [],
   "source": [
    "#concatenation du formulaire avec les choix \n",
    "choix1 = pd.read_csv(\"choix_21_octobre_clean.csv\", encoding='latin1', sep=\";\") \n",
    "formulaire1 = pd.read_csv(\"formulaire_21_octobre_clean.csv\", encoding='latin1')\n"
   ]
  },
  {
   "cell_type": "code",
   "execution_count": 102,
   "metadata": {},
   "outputs": [],
   "source": [
    "#on associe choix et formulaire par le numero de formulaire\n",
    "choix1 = choix1.set_index(\"num_form\")\n",
    "formulaire1 = formulaire1.set_index(\"N° Formulaire\")\n",
    "#on merge les deux dataframes\n",
    "final1 = pd.merge(formulaire1, choix1, left_index=True, right_index=True)\n"
   ]
  },
  {
   "cell_type": "code",
   "execution_count": null,
   "metadata": {},
   "outputs": [],
   "source": [
    "final1.to_csv(\"final_21_octobre_clean.csv\", encoding='latin1')"
   ]
  }
 ],
 "metadata": {
  "kernelspec": {
   "display_name": "base",
   "language": "python",
   "name": "python3"
  },
  "language_info": {
   "codemirror_mode": {
    "name": "ipython",
    "version": 3
   },
   "file_extension": ".py",
   "mimetype": "text/x-python",
   "name": "python",
   "nbconvert_exporter": "python",
   "pygments_lexer": "ipython3",
   "version": "3.9.12"
  },
  "orig_nbformat": 4,
  "vscode": {
   "interpreter": {
    "hash": "baacd7ded0742aa8408bda3ed6ced71320ba4869ece4e05e453d0cf31ed1376f"
   }
  }
 },
 "nbformat": 4,
 "nbformat_minor": 2
}
