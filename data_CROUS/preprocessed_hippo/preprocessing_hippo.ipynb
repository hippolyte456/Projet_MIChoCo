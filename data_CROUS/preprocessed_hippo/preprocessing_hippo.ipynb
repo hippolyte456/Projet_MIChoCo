{
 "cells": [
  {
   "cell_type": "code",
   "execution_count": 51,
   "metadata": {},
   "outputs": [],
   "source": [
    "import pandas as pd \n",
    "import numpy as np\n",
    "import os \n",
    "\n",
    "os.getcwd()\n",
    "file_out = 'choix_21_octobre_clean.csv'\n",
    "file_in = '../data/Resultats_choix_21_octobre.csv'"
   ]
  },
  {
   "cell_type": "code",
   "execution_count": 52,
   "metadata": {},
   "outputs": [],
   "source": [
    "df = pd.read_csv(file_in, sep = ';', index_col=False)\n",
    "\n",
    "df['PLAT '] = df['PLAT '].replace(' ', '', regex = True)\n",
    "df['PLAT '] = df['PLAT '].str.lower()\n",
    "df[['PLAT_1','PLAT_2', 'PLAT_3']] = df['PLAT '].str.split('+', expand=True)\n",
    "df = df.drop('PLAT ', axis = 1)\n",
    "\n",
    "df['ENTREE'] = df['ENTREE'].replace(' ', '', regex = True)\n",
    "df['ENTREE'] = df['ENTREE'].replace(\"'\", '', regex = True)\n",
    "# --> on enlève la casse \n",
    "df['ENTREE'] = df['ENTREE'].str.lower()\n",
    "# Séparons maintenant en plusieurs colonnes la colonne 'ENTREE en utilisant le '+' qui sépare 2 items \n",
    "# L'item i se retrouve dans la colonne 'ENTREE_i'\n",
    "df[['ENTREE_1','ENTREE_2']] = df['ENTREE'].str.split('+', expand=True)\n",
    "df = df.drop('ENTREE', axis=1)\n",
    "\n",
    "\n",
    "# Enlevons tous les espaces et les apostrophes \n",
    "df['DESSERT'] = df['DESSERT'].replace(' ', '', regex = True)\n",
    "df['DESSERT'] = df['DESSERT'].replace(\"'\", '', regex = True)\n",
    "# --> on enlève la casse \n",
    "df['DESSERT'] = df['DESSERT'].str.lower()\n",
    "# Séparons maintenant en plusieurs colonnes la colonne 'DESSERT en utilisant le '+' qui sépare 2 items \n",
    "# L'item i se retrouve dans la colonne 'DESSERT_i'\n",
    "df[['DESSERT_1','DESSERT_2', 'DESSERT_3']] = df['DESSERT'].str.split('+', expand=True)\n",
    "#On peut maintenant supprimer la colonne DESSERT\n",
    "df = df.drop('DESSERT', axis=1)\n",
    "\n",
    "\n",
    "df = df.drop(\"Prise en double de l'entrée \", axis=1)\n",
    "df = df.drop('Prise en double du dessert', axis=1)\n",
    "\n"
   ]
  },
  {
   "cell_type": "code",
   "execution_count": 55,
   "metadata": {},
   "outputs": [
    {
     "name": "stdout",
     "output_type": "stream",
     "text": [
      "['torsades', 'feuilletésaumonoseille', 'boeufbourguignon', 'kebab', 'risottocourgettes', 'pizzaraclette', 'faux-filet', 'pizzamerguezpoivrons', 'hamburger', 'escalopeviennoise', 'poeléebrocolis', 'frites', 'torsadespoeléebrocolis', 'ratatouille', 'chouxblancàlajaponaise', 'saladelentilles', 'champignons', 'carottesrâpées', 'oeufmimosa', 'saladepates', 'artichauts', 'salami', 'coeursdepalmiers', 'tomates', 'yaourtauxfruits', 'œufàlaneige', 'faissellenature', 'yaourtnaturesucré', 'fromageblancfruitsrouges', 'banane', 'mimolette', 'flancchocolat', 'faissellenatureflancchocolat', 'orange', 'yaourtnaturesucréyaourtauxfruits', 'pommegolden', 'kiwi']\n",
      "37\n"
     ]
    }
   ],
   "source": [
    "#### on créé un vecteur qui prend toutes les valeurs différentes du tableau ####\n",
    "\n",
    "\n",
    "df= df.rename(columns={'Numéro de formulaire ': 'num_form'})\n",
    "dfmeal= df.drop('Horodateur',axis=1)\n",
    "dfmeal = dfmeal.drop('num_form',axis=1)\n",
    "\n",
    "all_items = []\n",
    "for colonne in dfmeal.columns:\n",
    "    col_items = df[colonne].unique()\n",
    "    for item in col_items:\n",
    "        if item not in all_items:\n",
    "            all_items.append(item)\n",
    "\n",
    "#on retire les items None, pasdentrée, pasdedessert, pasdeplat\n",
    "all_items.remove(None)\n",
    "all_items.remove('pasdentrée')\n",
    "all_items.remove('pasdedessert')\n",
    "print(all_items)\n",
    "print(len(all_items))\n"
   ]
  },
  {
   "cell_type": "code",
   "execution_count": 56,
   "metadata": {},
   "outputs": [],
   "source": [
    "#on crée une matrice à partir du df, chaque ligne doit prendre la valeur 1 si l'item est présent dans le repas, 0 sinon \n",
    "#ATTENTION AU CAS OU UNE PERSONNE A PRIS PLUSIEURS FOIS LA MEME CHOSE... SOIT ON FAIT QQ CHOSE DE PARTICULIER, SOIT ON L'ENLEVE)\n",
    "\n",
    "#on crée une matrice de la taille (nombre d'enregistrement dans le df, nombre d'items differents)\n",
    "X = np.zeros((len(df), len(all_items)))\n",
    "\n",
    "#on parcourt lers lignes du dataframe\n",
    "for i in range(len(df)):\n",
    "    #on recupere la ligne i\n",
    "    items = df.iloc[i]\n",
    "    #on enleve les None\n",
    "    items = items.dropna()\n",
    "    for item in items:\n",
    "        if item in all_items:\n",
    "            \n",
    "            #print(item)\n",
    "            #on recupere l'indice de l'item dans all_items\n",
    "            index = all_items.index(item)\n",
    "            #on 1 dans la matrice à la ligne i et à la colonne index [OU ON INCREMENTE DE 1 SI ON VEUT AUTORISER UN ITEM À ETRE PRIS PLUSIEURS FOIS]\n",
    "            X[i,index] = 1\n",
    "\n"
   ]
  },
  {
   "cell_type": "code",
   "execution_count": 57,
   "metadata": {},
   "outputs": [],
   "source": [
    "# save the matrix in a csv file\n",
    "X = pd.DataFrame(X, columns = all_items)\n",
    "X.to_csv(file_out , sep = ';')\n",
    "\n"
   ]
  },
  {
   "cell_type": "code",
   "execution_count": null,
   "metadata": {},
   "outputs": [],
   "source": [
    "#on sommes les valeurs de X par ligne --> c'est le nombre de plat qu'à pris une personne \n",
    "X_sum = np.sum(X, axis=1)\n",
    "print(X_sum)"
   ]
  },
  {
   "cell_type": "code",
   "execution_count": null,
   "metadata": {},
   "outputs": [],
   "source": [
    "\n",
    "df.to_csv(file_out , sep = ';')\n"
   ]
  }
 ],
 "metadata": {
  "kernelspec": {
   "display_name": "base",
   "language": "python",
   "name": "python3"
  },
  "language_info": {
   "codemirror_mode": {
    "name": "ipython",
    "version": 3
   },
   "file_extension": ".py",
   "mimetype": "text/x-python",
   "name": "python",
   "nbconvert_exporter": "python",
   "pygments_lexer": "ipython3",
   "version": "3.9.12"
  },
  "orig_nbformat": 4,
  "vscode": {
   "interpreter": {
    "hash": "baacd7ded0742aa8408bda3ed6ced71320ba4869ece4e05e453d0cf31ed1376f"
   }
  }
 },
 "nbformat": 4,
 "nbformat_minor": 2
}
