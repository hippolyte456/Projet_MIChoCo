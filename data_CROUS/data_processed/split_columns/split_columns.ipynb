{
 "cells": [
  {
   "cell_type": "code",
   "execution_count": 12,
   "metadata": {
    "collapsed": true,
    "pycharm": {
     "name": "#%%\n"
    }
   },
   "outputs": [],
   "source": [
    "import numpy as np\n",
    "import pandas as pd"
   ]
  },
  {
   "cell_type": "code",
   "execution_count": 15,
   "outputs": [
    {
     "name": "stdout",
     "output_type": "stream",
     "text": [
      "    Unnamed: 0  Horodateur Numéro de formulaire           ENTREE  \\\n",
      "0            0    12:30:58                 9V8W        choublanc   \n",
      "1            1    12:33:56                 8B5X       pasdentrée   \n",
      "2            2    12:34:46                 6X9F  rillettepoisson   \n",
      "3            3    12:35:27                 7B7K     minisandwich   \n",
      "4            4    12:35:56                 3Q7Q     minisandwich   \n",
      "..         ...         ...                  ...              ...   \n",
      "62          62    13:05:03                 2D7O  rillettepoisson   \n",
      "63          63    13:05:14                 8J2L      champignons   \n",
      "64          64    13:05:35                 1L4G       pasdentrée   \n",
      "65          65    13:05:41                 1M2Q       pasdentrée   \n",
      "66          66    13:05:42                 254Q       pasdentrée   \n",
      "\n",
      "                                           PLAT                        DESSERT  \n",
      "0                 rotidelégumesautofu+spaghettis                  pasdedessert  \n",
      "1                 rotidelégumesautofu+spaghettis     roquefort+pruneauxensirop  \n",
      "2     poissonpané+spaghettis+mousselinedepotiron           crèmepraliné+orange  \n",
      "3   filetdepoulet+spaghettis+mousselinedepotiron  yaourtnaturebio+crèmepraliné  \n",
      "4     poissonpané+spaghettis+mousselinedepotiron                        banane  \n",
      "..                                           ...                           ...  \n",
      "62    poissonpané+spaghettis+mousselinedepotiron       yaourtnaturebio+compote  \n",
      "63  filetdepoulet+spaghettis+mousselinedepotiron                     roquefort  \n",
      "64                        poissonpané+spaghettis                         pomme  \n",
      "65                                  kebab+frites               yaourtnaturebio  \n",
      "66                                  kebab+salade               yaourtnaturebio  \n",
      "\n",
      "[67 rows x 6 columns]\n"
     ]
    }
   ],
   "source": [
    "df = pd.read_csv('../../data_clean/Resultats_choix_29_octobre_cleaned.csv', sep=';')\n",
    "print(df)"
   ],
   "metadata": {
    "collapsed": false,
    "pycharm": {
     "name": "#%%\n"
    }
   }
  },
  {
   "cell_type": "code",
   "execution_count": 54,
   "outputs": [],
   "source": [
    "# # à commenter pour choix 29 janvier\n",
    "# df[['ENTREE_1', 'ENTREE_2']] = df['ENTREE'].str.split('+', 1, expand=True)\n",
    "# print(df)"
   ],
   "metadata": {
    "collapsed": false,
    "pycharm": {
     "name": "#%%\n"
    }
   }
  },
  {
   "cell_type": "code",
   "execution_count": 55,
   "outputs": [],
   "source": [
    "# à commenter pour choix 29 janvier\n",
    "# df.insert(3, 'ENTREE_1', df.pop('ENTREE_1'))\n",
    "# df.insert(4, 'ENTREE_2', df.pop('ENTREE_2'))\n"
   ],
   "metadata": {
    "collapsed": false,
    "pycharm": {
     "name": "#%%\n"
    }
   }
  },
  {
   "cell_type": "code",
   "execution_count": 56,
   "outputs": [
    {
     "data": {
      "text/plain": "0           choublanc\n1          pasdentrée\n2     rillettepoisson\n3        minisandwich\n4        minisandwich\n           ...       \n62    rillettepoisson\n63        champignons\n64         pasdentrée\n65         pasdentrée\n66         pasdentrée\nName: ENTREE, Length: 67, dtype: object"
     },
     "execution_count": 56,
     "metadata": {},
     "output_type": "execute_result"
    }
   ],
   "source": [
    "# df.pop('ENTREE')  # à commenter pour choix 29 janvier"
   ],
   "metadata": {
    "collapsed": false,
    "pycharm": {
     "name": "#%%\n"
    }
   }
  },
  {
   "cell_type": "code",
   "execution_count": 16,
   "outputs": [
    {
     "name": "stdout",
     "output_type": "stream",
     "text": [
      "    Unnamed: 0  Horodateur Numéro de formulaire         ENTREE_1  ENTREE_2  \\\n",
      "0            0    12:30:58                 9V8W        choublanc       NaN   \n",
      "1            1    12:33:56                 8B5X       pasdentrée       NaN   \n",
      "2            2    12:34:46                 6X9F  rillettepoisson       NaN   \n",
      "3            3    12:35:27                 7B7K     minisandwich       NaN   \n",
      "4            4    12:35:56                 3Q7Q     minisandwich       NaN   \n",
      "..         ...         ...                  ...              ...       ...   \n",
      "62          62    13:05:03                 2D7O  rillettepoisson       NaN   \n",
      "63          63    13:05:14                 8J2L      champignons       NaN   \n",
      "64          64    13:05:35                 1L4G       pasdentrée       NaN   \n",
      "65          65    13:05:41                 1M2Q       pasdentrée       NaN   \n",
      "66          66    13:05:42                 254Q       pasdentrée       NaN   \n",
      "\n",
      "                                           PLAT                        DESSERT  \n",
      "0                 rotidelégumesautofu+spaghettis                  pasdedessert  \n",
      "1                 rotidelégumesautofu+spaghettis     roquefort+pruneauxensirop  \n",
      "2     poissonpané+spaghettis+mousselinedepotiron           crèmepraliné+orange  \n",
      "3   filetdepoulet+spaghettis+mousselinedepotiron  yaourtnaturebio+crèmepraliné  \n",
      "4     poissonpané+spaghettis+mousselinedepotiron                        banane  \n",
      "..                                           ...                           ...  \n",
      "62    poissonpané+spaghettis+mousselinedepotiron       yaourtnaturebio+compote  \n",
      "63  filetdepoulet+spaghettis+mousselinedepotiron                     roquefort  \n",
      "64                        poissonpané+spaghettis                         pomme  \n",
      "65                                  kebab+frites               yaourtnaturebio  \n",
      "66                                  kebab+salade               yaourtnaturebio  \n",
      "\n",
      "[67 rows x 7 columns]\n"
     ]
    }
   ],
   "source": [
    "## A n'éxécuter que pour choix_29_octobre !\n",
    "df['ENTREE_2'] = np.nan\n",
    "df.insert(3, 'ENTREE_1', df.pop('ENTREE'))\n",
    "df.insert(4, 'ENTREE_2', df.pop('ENTREE_2'))\n",
    "print(df)"
   ],
   "metadata": {
    "collapsed": false,
    "pycharm": {
     "name": "#%%\n"
    }
   }
  },
  {
   "cell_type": "code",
   "execution_count": 17,
   "outputs": [
    {
     "name": "stdout",
     "output_type": "stream",
     "text": [
      "    Unnamed: 0  Horodateur Numéro de formulaire         ENTREE_1  ENTREE_2  \\\n",
      "0            0    12:30:58                 9V8W        choublanc       NaN   \n",
      "1            1    12:33:56                 8B5X       pasdentrée       NaN   \n",
      "2            2    12:34:46                 6X9F  rillettepoisson       NaN   \n",
      "3            3    12:35:27                 7B7K     minisandwich       NaN   \n",
      "4            4    12:35:56                 3Q7Q     minisandwich       NaN   \n",
      "..         ...         ...                  ...              ...       ...   \n",
      "62          62    13:05:03                 2D7O  rillettepoisson       NaN   \n",
      "63          63    13:05:14                 8J2L      champignons       NaN   \n",
      "64          64    13:05:35                 1L4G       pasdentrée       NaN   \n",
      "65          65    13:05:41                 1M2Q       pasdentrée       NaN   \n",
      "66          66    13:05:42                 254Q       pasdentrée       NaN   \n",
      "\n",
      "                                           PLAT   \\\n",
      "0                 rotidelégumesautofu+spaghettis   \n",
      "1                 rotidelégumesautofu+spaghettis   \n",
      "2     poissonpané+spaghettis+mousselinedepotiron   \n",
      "3   filetdepoulet+spaghettis+mousselinedepotiron   \n",
      "4     poissonpané+spaghettis+mousselinedepotiron   \n",
      "..                                           ...   \n",
      "62    poissonpané+spaghettis+mousselinedepotiron   \n",
      "63  filetdepoulet+spaghettis+mousselinedepotiron   \n",
      "64                        poissonpané+spaghettis   \n",
      "65                                  kebab+frites   \n",
      "66                                  kebab+salade   \n",
      "\n",
      "                         DESSERT               PLAT_1      PLAT_2  \\\n",
      "0                   pasdedessert  rotidelégumesautofu  spaghettis   \n",
      "1      roquefort+pruneauxensirop  rotidelégumesautofu  spaghettis   \n",
      "2            crèmepraliné+orange          poissonpané  spaghettis   \n",
      "3   yaourtnaturebio+crèmepraliné        filetdepoulet  spaghettis   \n",
      "4                         banane          poissonpané  spaghettis   \n",
      "..                           ...                  ...         ...   \n",
      "62       yaourtnaturebio+compote          poissonpané  spaghettis   \n",
      "63                     roquefort        filetdepoulet  spaghettis   \n",
      "64                         pomme          poissonpané  spaghettis   \n",
      "65               yaourtnaturebio                kebab      frites   \n",
      "66               yaourtnaturebio                kebab      salade   \n",
      "\n",
      "                 PLAT_3  \n",
      "0                  None  \n",
      "1                  None  \n",
      "2   mousselinedepotiron  \n",
      "3   mousselinedepotiron  \n",
      "4   mousselinedepotiron  \n",
      "..                  ...  \n",
      "62  mousselinedepotiron  \n",
      "63  mousselinedepotiron  \n",
      "64                 None  \n",
      "65                 None  \n",
      "66                 None  \n",
      "\n",
      "[67 rows x 10 columns]\n"
     ]
    },
    {
     "name": "stderr",
     "output_type": "stream",
     "text": [
      "C:\\Users\\Asus\\AppData\\Local\\Temp\\ipykernel_11028\\1960039758.py:1: FutureWarning: In a future version of pandas all arguments of StringMethods.split except for the argument 'pat' will be keyword-only.\n",
      "  df[['PLAT_1', 'PLAT_2', 'PLAT_3']] = df['PLAT '].str.split('+', 2, expand=True)\n"
     ]
    }
   ],
   "source": [
    "df[['PLAT_1', 'PLAT_2', 'PLAT_3']] = df['PLAT '].str.split('+', 2, expand=True)\n",
    "print(df)"
   ],
   "metadata": {
    "collapsed": false,
    "pycharm": {
     "name": "#%%\n"
    }
   }
  },
  {
   "cell_type": "code",
   "execution_count": 18,
   "outputs": [],
   "source": [
    "df.insert(5, 'PLAT_1', df.pop('PLAT_1'))\n",
    "df.insert(6, 'PLAT_2', df.pop('PLAT_2'))\n",
    "df.insert(7, 'PLAT_3', df.pop('PLAT_3'))\n"
   ],
   "metadata": {
    "collapsed": false,
    "pycharm": {
     "name": "#%%\n"
    }
   }
  },
  {
   "cell_type": "code",
   "execution_count": 19,
   "outputs": [
    {
     "name": "stdout",
     "output_type": "stream",
     "text": [
      "    Unnamed: 0  Horodateur Numéro de formulaire         ENTREE_1  ENTREE_2  \\\n",
      "0            0    12:30:58                 9V8W        choublanc       NaN   \n",
      "1            1    12:33:56                 8B5X       pasdentrée       NaN   \n",
      "2            2    12:34:46                 6X9F  rillettepoisson       NaN   \n",
      "3            3    12:35:27                 7B7K     minisandwich       NaN   \n",
      "4            4    12:35:56                 3Q7Q     minisandwich       NaN   \n",
      "..         ...         ...                  ...              ...       ...   \n",
      "62          62    13:05:03                 2D7O  rillettepoisson       NaN   \n",
      "63          63    13:05:14                 8J2L      champignons       NaN   \n",
      "64          64    13:05:35                 1L4G       pasdentrée       NaN   \n",
      "65          65    13:05:41                 1M2Q       pasdentrée       NaN   \n",
      "66          66    13:05:42                 254Q       pasdentrée       NaN   \n",
      "\n",
      "                 PLAT_1      PLAT_2               PLAT_3  \\\n",
      "0   rotidelégumesautofu  spaghettis                 None   \n",
      "1   rotidelégumesautofu  spaghettis                 None   \n",
      "2           poissonpané  spaghettis  mousselinedepotiron   \n",
      "3         filetdepoulet  spaghettis  mousselinedepotiron   \n",
      "4           poissonpané  spaghettis  mousselinedepotiron   \n",
      "..                  ...         ...                  ...   \n",
      "62          poissonpané  spaghettis  mousselinedepotiron   \n",
      "63        filetdepoulet  spaghettis  mousselinedepotiron   \n",
      "64          poissonpané  spaghettis                 None   \n",
      "65                kebab      frites                 None   \n",
      "66                kebab      salade                 None   \n",
      "\n",
      "                         DESSERT  \n",
      "0                   pasdedessert  \n",
      "1      roquefort+pruneauxensirop  \n",
      "2            crèmepraliné+orange  \n",
      "3   yaourtnaturebio+crèmepraliné  \n",
      "4                         banane  \n",
      "..                           ...  \n",
      "62       yaourtnaturebio+compote  \n",
      "63                     roquefort  \n",
      "64                         pomme  \n",
      "65               yaourtnaturebio  \n",
      "66               yaourtnaturebio  \n",
      "\n",
      "[67 rows x 9 columns]\n"
     ]
    }
   ],
   "source": [
    "df.pop('PLAT ')\n",
    "print(df)"
   ],
   "metadata": {
    "collapsed": false,
    "pycharm": {
     "name": "#%%\n"
    }
   }
  },
  {
   "cell_type": "code",
   "execution_count": 20,
   "outputs": [
    {
     "name": "stdout",
     "output_type": "stream",
     "text": [
      "    Unnamed: 0  Horodateur Numéro de formulaire         ENTREE_1  ENTREE_2  \\\n",
      "0            0    12:30:58                 9V8W        choublanc       NaN   \n",
      "1            1    12:33:56                 8B5X       pasdentrée       NaN   \n",
      "2            2    12:34:46                 6X9F  rillettepoisson       NaN   \n",
      "3            3    12:35:27                 7B7K     minisandwich       NaN   \n",
      "4            4    12:35:56                 3Q7Q     minisandwich       NaN   \n",
      "..         ...         ...                  ...              ...       ...   \n",
      "62          62    13:05:03                 2D7O  rillettepoisson       NaN   \n",
      "63          63    13:05:14                 8J2L      champignons       NaN   \n",
      "64          64    13:05:35                 1L4G       pasdentrée       NaN   \n",
      "65          65    13:05:41                 1M2Q       pasdentrée       NaN   \n",
      "66          66    13:05:42                 254Q       pasdentrée       NaN   \n",
      "\n",
      "                 PLAT_1      PLAT_2               PLAT_3  \\\n",
      "0   rotidelégumesautofu  spaghettis                 None   \n",
      "1   rotidelégumesautofu  spaghettis                 None   \n",
      "2           poissonpané  spaghettis  mousselinedepotiron   \n",
      "3         filetdepoulet  spaghettis  mousselinedepotiron   \n",
      "4           poissonpané  spaghettis  mousselinedepotiron   \n",
      "..                  ...         ...                  ...   \n",
      "62          poissonpané  spaghettis  mousselinedepotiron   \n",
      "63        filetdepoulet  spaghettis  mousselinedepotiron   \n",
      "64          poissonpané  spaghettis                 None   \n",
      "65                kebab      frites                 None   \n",
      "66                kebab      salade                 None   \n",
      "\n",
      "                         DESSERT        DESSERT_1        DESSERT_2  \n",
      "0                   pasdedessert     pasdedessert             None  \n",
      "1      roquefort+pruneauxensirop        roquefort  pruneauxensirop  \n",
      "2            crèmepraliné+orange     crèmepraliné           orange  \n",
      "3   yaourtnaturebio+crèmepraliné  yaourtnaturebio     crèmepraliné  \n",
      "4                         banane           banane             None  \n",
      "..                           ...              ...              ...  \n",
      "62       yaourtnaturebio+compote  yaourtnaturebio          compote  \n",
      "63                     roquefort        roquefort             None  \n",
      "64                         pomme            pomme             None  \n",
      "65               yaourtnaturebio  yaourtnaturebio             None  \n",
      "66               yaourtnaturebio  yaourtnaturebio             None  \n",
      "\n",
      "[67 rows x 11 columns]\n"
     ]
    },
    {
     "name": "stderr",
     "output_type": "stream",
     "text": [
      "C:\\Users\\Asus\\AppData\\Local\\Temp\\ipykernel_11028\\1262457157.py:1: FutureWarning: In a future version of pandas all arguments of StringMethods.split except for the argument 'pat' will be keyword-only.\n",
      "  df[['DESSERT_1', 'DESSERT_2']] = df['DESSERT'].str.split('+', 1, expand=True)\n"
     ]
    }
   ],
   "source": [
    "df[['DESSERT_1', 'DESSERT_2']] = df['DESSERT'].str.split('+', 1, expand=True)\n",
    "print(df)"
   ],
   "metadata": {
    "collapsed": false,
    "pycharm": {
     "name": "#%%\n"
    }
   }
  },
  {
   "cell_type": "code",
   "execution_count": 21,
   "outputs": [
    {
     "data": {
      "text/plain": "0                     pasdedessert\n1        roquefort+pruneauxensirop\n2              crèmepraliné+orange\n3     yaourtnaturebio+crèmepraliné\n4                           banane\n                  ...             \n62         yaourtnaturebio+compote\n63                       roquefort\n64                           pomme\n65                 yaourtnaturebio\n66                 yaourtnaturebio\nName: DESSERT, Length: 67, dtype: object"
     },
     "execution_count": 21,
     "metadata": {},
     "output_type": "execute_result"
    }
   ],
   "source": [
    "df.pop('DESSERT')"
   ],
   "metadata": {
    "collapsed": false,
    "pycharm": {
     "name": "#%%\n"
    }
   }
  },
  {
   "cell_type": "code",
   "execution_count": 22,
   "outputs": [
    {
     "name": "stdout",
     "output_type": "stream",
     "text": [
      "    Unnamed: 0  Horodateur Numéro de formulaire         ENTREE_1  ENTREE_2  \\\n",
      "0            0    12:30:58                 9V8W        choublanc       NaN   \n",
      "1            1    12:33:56                 8B5X       pasdentrée       NaN   \n",
      "2            2    12:34:46                 6X9F  rillettepoisson       NaN   \n",
      "3            3    12:35:27                 7B7K     minisandwich       NaN   \n",
      "4            4    12:35:56                 3Q7Q     minisandwich       NaN   \n",
      "..         ...         ...                  ...              ...       ...   \n",
      "62          62    13:05:03                 2D7O  rillettepoisson       NaN   \n",
      "63          63    13:05:14                 8J2L      champignons       NaN   \n",
      "64          64    13:05:35                 1L4G       pasdentrée       NaN   \n",
      "65          65    13:05:41                 1M2Q       pasdentrée       NaN   \n",
      "66          66    13:05:42                 254Q       pasdentrée       NaN   \n",
      "\n",
      "                 PLAT_1      PLAT_2               PLAT_3        DESSERT_1  \\\n",
      "0   rotidelégumesautofu  spaghettis                 None     pasdedessert   \n",
      "1   rotidelégumesautofu  spaghettis                 None        roquefort   \n",
      "2           poissonpané  spaghettis  mousselinedepotiron     crèmepraliné   \n",
      "3         filetdepoulet  spaghettis  mousselinedepotiron  yaourtnaturebio   \n",
      "4           poissonpané  spaghettis  mousselinedepotiron           banane   \n",
      "..                  ...         ...                  ...              ...   \n",
      "62          poissonpané  spaghettis  mousselinedepotiron  yaourtnaturebio   \n",
      "63        filetdepoulet  spaghettis  mousselinedepotiron        roquefort   \n",
      "64          poissonpané  spaghettis                 None            pomme   \n",
      "65                kebab      frites                 None  yaourtnaturebio   \n",
      "66                kebab      salade                 None  yaourtnaturebio   \n",
      "\n",
      "          DESSERT_2  \n",
      "0              None  \n",
      "1   pruneauxensirop  \n",
      "2            orange  \n",
      "3      crèmepraliné  \n",
      "4              None  \n",
      "..              ...  \n",
      "62          compote  \n",
      "63             None  \n",
      "64             None  \n",
      "65             None  \n",
      "66             None  \n",
      "\n",
      "[67 rows x 10 columns]\n"
     ]
    }
   ],
   "source": [
    "print(df)"
   ],
   "metadata": {
    "collapsed": false,
    "pycharm": {
     "name": "#%%\n"
    }
   }
  },
  {
   "cell_type": "code",
   "execution_count": 23,
   "outputs": [],
   "source": [
    "filepath = './Resultats_choix_29_octobre_split.csv'\n",
    "df.to_csv(filepath, index=False, encoding=\"cp1252\")\n",
    "# encoding pour le OE majuscule"
   ],
   "metadata": {
    "collapsed": false,
    "pycharm": {
     "name": "#%%\n"
    }
   }
  },
  {
   "cell_type": "code",
   "execution_count": 63,
   "outputs": [],
   "source": [],
   "metadata": {
    "collapsed": false,
    "pycharm": {
     "name": "#%%\n"
    }
   }
  }
 ],
 "metadata": {
  "kernelspec": {
   "display_name": "Python 3",
   "language": "python",
   "name": "python3"
  },
  "language_info": {
   "codemirror_mode": {
    "name": "ipython",
    "version": 2
   },
   "file_extension": ".py",
   "mimetype": "text/x-python",
   "name": "python",
   "nbconvert_exporter": "python",
   "pygments_lexer": "ipython2",
   "version": "2.7.6"
  }
 },
 "nbformat": 4,
 "nbformat_minor": 0
}