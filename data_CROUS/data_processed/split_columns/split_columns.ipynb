{
 "cells": [
  {
   "cell_type": "code",
   "execution_count": 107,
   "metadata": {
    "collapsed": true,
    "pycharm": {
     "name": "#%%\n"
    }
   },
   "outputs": [],
   "source": [
    "import numpy as np\n",
    "import pandas as pd"
   ]
  },
  {
   "cell_type": "code",
   "execution_count": 108,
   "outputs": [
    {
     "name": "stdout",
     "output_type": "stream",
     "text": [
      "    Unnamed: 0  Horodateur Numéro de formulaire           ENTREE  \\\n",
      "0            0    12:30:58                 9V8W        choublanc   \n",
      "1            1    12:33:56                 8B5X       pasdentrée   \n",
      "2            2    12:34:46                 6X9F  rillettepoisson   \n",
      "3            3    12:35:27                 7B7K     minisandwich   \n",
      "4            4    12:35:56                 3Q7Q     minisandwich   \n",
      "..         ...         ...                  ...              ...   \n",
      "62          62    13:05:03                 2D7O  rillettepoisson   \n",
      "63          63    13:05:14                 8J2L      champignons   \n",
      "64          64    13:05:35                 1L4G       pasdentrée   \n",
      "65          65    13:05:41                 1M2Q       pasdentrée   \n",
      "66          66    13:05:42                 254Q       pasdentrée   \n",
      "\n",
      "                                           PLAT                        DESSERT  \n",
      "0                 rotidelégumesautofu+spaghettis                  pasdedessert  \n",
      "1                 rotidelégumesautofu+spaghettis     roquefort+pruneauxensirop  \n",
      "2     poissonpané+spaghettis+mousselinedepotiron           crèmepraliné+orange  \n",
      "3   filetdepoulet+spaghettis+mousselinedepotiron  yaourtnaturebio+crèmepraliné  \n",
      "4     poissonpané+spaghettis+mousselinedepotiron                        banane  \n",
      "..                                           ...                           ...  \n",
      "62    poissonpané+spaghettis+mousselinedepotiron       yaourtnaturebio+compote  \n",
      "63  filetdepoulet+spaghettis+mousselinedepotiron                     roquefort  \n",
      "64                        poissonpané+spaghettis                         pomme  \n",
      "65                                  kebab+frites               yaourtnaturebio  \n",
      "66                                  kebab+salade               yaourtnaturebio  \n",
      "\n",
      "[67 rows x 6 columns]\n"
     ]
    }
   ],
   "source": [
    "filename = 'Resultats_choix_29_octobre'\n",
    "df = pd.read_csv(f'../../data_clean/{filename}_cleaned.csv', sep=';')\n",
    "print(df)"
   ],
   "metadata": {
    "collapsed": false,
    "pycharm": {
     "name": "#%%\n"
    }
   }
  },
  {
   "cell_type": "code",
   "execution_count": 109,
   "outputs": [
    {
     "name": "stdout",
     "output_type": "stream",
     "text": [
      "    Unnamed: 0  Horodateur Numéro de formulaire         ENTREE_1  ENTREE_2  \\\n",
      "0            0    12:30:58                 9V8W        choublanc       NaN   \n",
      "1            1    12:33:56                 8B5X       pasdentrée       NaN   \n",
      "2            2    12:34:46                 6X9F  rillettepoisson       NaN   \n",
      "3            3    12:35:27                 7B7K     minisandwich       NaN   \n",
      "4            4    12:35:56                 3Q7Q     minisandwich       NaN   \n",
      "..         ...         ...                  ...              ...       ...   \n",
      "62          62    13:05:03                 2D7O  rillettepoisson       NaN   \n",
      "63          63    13:05:14                 8J2L      champignons       NaN   \n",
      "64          64    13:05:35                 1L4G       pasdentrée       NaN   \n",
      "65          65    13:05:41                 1M2Q       pasdentrée       NaN   \n",
      "66          66    13:05:42                 254Q       pasdentrée       NaN   \n",
      "\n",
      "                                           PLAT                        DESSERT  \n",
      "0                 rotidelégumesautofu+spaghettis                  pasdedessert  \n",
      "1                 rotidelégumesautofu+spaghettis     roquefort+pruneauxensirop  \n",
      "2     poissonpané+spaghettis+mousselinedepotiron           crèmepraliné+orange  \n",
      "3   filetdepoulet+spaghettis+mousselinedepotiron  yaourtnaturebio+crèmepraliné  \n",
      "4     poissonpané+spaghettis+mousselinedepotiron                        banane  \n",
      "..                                           ...                           ...  \n",
      "62    poissonpané+spaghettis+mousselinedepotiron       yaourtnaturebio+compote  \n",
      "63  filetdepoulet+spaghettis+mousselinedepotiron                     roquefort  \n",
      "64                        poissonpané+spaghettis                         pomme  \n",
      "65                                  kebab+frites               yaourtnaturebio  \n",
      "66                                  kebab+salade               yaourtnaturebio  \n",
      "\n",
      "[67 rows x 7 columns]\n"
     ]
    },
    {
     "name": "stderr",
     "output_type": "stream",
     "text": [
      "C:\\Users\\Asus\\AppData\\Local\\Temp\\ipykernel_9720\\2589202217.py:2: FutureWarning: In a future version of pandas all arguments of StringMethods.split except for the argument 'pat' will be keyword-only.\n",
      "  df[['ENTREE_1', 'ENTREE_2']] = df['ENTREE'].str.split('+', 1, expand=True)\n"
     ]
    }
   ],
   "source": [
    "try:\n",
    "    df[['ENTREE_1', 'ENTREE_2']] = df['ENTREE'].str.split('+', 1, expand=True)\n",
    "    df.insert(3, 'ENTREE_1', df.pop('ENTREE_1'))\n",
    "    df.insert(4, 'ENTREE_2', df.pop('ENTREE_2'))\n",
    "    df.pop('ENTREE')\n",
    "    split_entree = True\n",
    "except ValueError as e:\n",
    "    df['ENTREE_2'] = np.nan\n",
    "    df.insert(3, 'ENTREE_1', df.pop('ENTREE'))\n",
    "    df.insert(4, 'ENTREE_2', df.pop('ENTREE_2'))\n",
    "    split_entree = False\n",
    "print(df)"
   ],
   "metadata": {
    "collapsed": false,
    "pycharm": {
     "name": "#%%\n"
    }
   }
  },
  {
   "cell_type": "code",
   "execution_count": 110,
   "outputs": [
    {
     "name": "stdout",
     "output_type": "stream",
     "text": [
      "    Unnamed: 0  Horodateur Numéro de formulaire         ENTREE_1  ENTREE_2  \\\n",
      "0            0    12:30:58                 9V8W        choublanc       NaN   \n",
      "1            1    12:33:56                 8B5X       pasdentrée       NaN   \n",
      "2            2    12:34:46                 6X9F  rillettepoisson       NaN   \n",
      "3            3    12:35:27                 7B7K     minisandwich       NaN   \n",
      "4            4    12:35:56                 3Q7Q     minisandwich       NaN   \n",
      "..         ...         ...                  ...              ...       ...   \n",
      "62          62    13:05:03                 2D7O  rillettepoisson       NaN   \n",
      "63          63    13:05:14                 8J2L      champignons       NaN   \n",
      "64          64    13:05:35                 1L4G       pasdentrée       NaN   \n",
      "65          65    13:05:41                 1M2Q       pasdentrée       NaN   \n",
      "66          66    13:05:42                 254Q       pasdentrée       NaN   \n",
      "\n",
      "    ENTREE_3                                         PLAT   \\\n",
      "0        NaN                rotidelégumesautofu+spaghettis   \n",
      "1        NaN                rotidelégumesautofu+spaghettis   \n",
      "2        NaN    poissonpané+spaghettis+mousselinedepotiron   \n",
      "3        NaN  filetdepoulet+spaghettis+mousselinedepotiron   \n",
      "4        NaN    poissonpané+spaghettis+mousselinedepotiron   \n",
      "..       ...                                           ...   \n",
      "62       NaN    poissonpané+spaghettis+mousselinedepotiron   \n",
      "63       NaN  filetdepoulet+spaghettis+mousselinedepotiron   \n",
      "64       NaN                        poissonpané+spaghettis   \n",
      "65       NaN                                  kebab+frites   \n",
      "66       NaN                                  kebab+salade   \n",
      "\n",
      "                         DESSERT  \n",
      "0                   pasdedessert  \n",
      "1      roquefort+pruneauxensirop  \n",
      "2            crèmepraliné+orange  \n",
      "3   yaourtnaturebio+crèmepraliné  \n",
      "4                         banane  \n",
      "..                           ...  \n",
      "62       yaourtnaturebio+compote  \n",
      "63                     roquefort  \n",
      "64                         pomme  \n",
      "65               yaourtnaturebio  \n",
      "66               yaourtnaturebio  \n",
      "\n",
      "[67 rows x 8 columns]\n"
     ]
    }
   ],
   "source": [
    "if split_entree:\n",
    "    try:\n",
    "        df[['ENTREE_2', 'ENTREE_3']] = df['ENTREE_2'].str.split('+', 1, expand=True)\n",
    "        df.insert(4, 'ENTREE_2', df.pop('ENTREE_2'))\n",
    "        df.insert(5, 'ENTREE_3', df.pop('ENTREE_3'))\n",
    "    except ValueError as e:\n",
    "        df['ENTREE_3'] = np.nan\n",
    "        df.insert(5, 'ENTREE_3', df.pop('ENTREE_3'))\n",
    "else:\n",
    "    df['ENTREE_3'] = np.nan\n",
    "    df.insert(5, 'ENTREE_3', df.pop('ENTREE_3'))\n",
    "print(df)"
   ],
   "metadata": {
    "collapsed": false,
    "pycharm": {
     "name": "#%%\n"
    }
   }
  },
  {
   "cell_type": "code",
   "execution_count": 111,
   "outputs": [
    {
     "name": "stdout",
     "output_type": "stream",
     "text": [
      "    Unnamed: 0  Horodateur Numéro de formulaire         ENTREE_1  ENTREE_2  \\\n",
      "0            0    12:30:58                 9V8W        choublanc       NaN   \n",
      "1            1    12:33:56                 8B5X       pasdentrée       NaN   \n",
      "2            2    12:34:46                 6X9F  rillettepoisson       NaN   \n",
      "3            3    12:35:27                 7B7K     minisandwich       NaN   \n",
      "4            4    12:35:56                 3Q7Q     minisandwich       NaN   \n",
      "..         ...         ...                  ...              ...       ...   \n",
      "62          62    13:05:03                 2D7O  rillettepoisson       NaN   \n",
      "63          63    13:05:14                 8J2L      champignons       NaN   \n",
      "64          64    13:05:35                 1L4G       pasdentrée       NaN   \n",
      "65          65    13:05:41                 1M2Q       pasdentrée       NaN   \n",
      "66          66    13:05:42                 254Q       pasdentrée       NaN   \n",
      "\n",
      "    ENTREE_3                                         PLAT   \\\n",
      "0        NaN                rotidelégumesautofu+spaghettis   \n",
      "1        NaN                rotidelégumesautofu+spaghettis   \n",
      "2        NaN    poissonpané+spaghettis+mousselinedepotiron   \n",
      "3        NaN  filetdepoulet+spaghettis+mousselinedepotiron   \n",
      "4        NaN    poissonpané+spaghettis+mousselinedepotiron   \n",
      "..       ...                                           ...   \n",
      "62       NaN    poissonpané+spaghettis+mousselinedepotiron   \n",
      "63       NaN  filetdepoulet+spaghettis+mousselinedepotiron   \n",
      "64       NaN                        poissonpané+spaghettis   \n",
      "65       NaN                                  kebab+frites   \n",
      "66       NaN                                  kebab+salade   \n",
      "\n",
      "                         DESSERT               PLAT_1      PLAT_2  \\\n",
      "0                   pasdedessert  rotidelégumesautofu  spaghettis   \n",
      "1      roquefort+pruneauxensirop  rotidelégumesautofu  spaghettis   \n",
      "2            crèmepraliné+orange          poissonpané  spaghettis   \n",
      "3   yaourtnaturebio+crèmepraliné        filetdepoulet  spaghettis   \n",
      "4                         banane          poissonpané  spaghettis   \n",
      "..                           ...                  ...         ...   \n",
      "62       yaourtnaturebio+compote          poissonpané  spaghettis   \n",
      "63                     roquefort        filetdepoulet  spaghettis   \n",
      "64                         pomme          poissonpané  spaghettis   \n",
      "65               yaourtnaturebio                kebab      frites   \n",
      "66               yaourtnaturebio                kebab      salade   \n",
      "\n",
      "                 PLAT_3  \n",
      "0                  None  \n",
      "1                  None  \n",
      "2   mousselinedepotiron  \n",
      "3   mousselinedepotiron  \n",
      "4   mousselinedepotiron  \n",
      "..                  ...  \n",
      "62  mousselinedepotiron  \n",
      "63  mousselinedepotiron  \n",
      "64                 None  \n",
      "65                 None  \n",
      "66                 None  \n",
      "\n",
      "[67 rows x 11 columns]\n"
     ]
    },
    {
     "name": "stderr",
     "output_type": "stream",
     "text": [
      "C:\\Users\\Asus\\AppData\\Local\\Temp\\ipykernel_9720\\1960039758.py:1: FutureWarning: In a future version of pandas all arguments of StringMethods.split except for the argument 'pat' will be keyword-only.\n",
      "  df[['PLAT_1', 'PLAT_2', 'PLAT_3']] = df['PLAT '].str.split('+', 2, expand=True)\n"
     ]
    }
   ],
   "source": [
    "df[['PLAT_1', 'PLAT_2', 'PLAT_3']] = df['PLAT '].str.split('+', 2, expand=True)\n",
    "print(df)"
   ],
   "metadata": {
    "collapsed": false,
    "pycharm": {
     "name": "#%%\n"
    }
   }
  },
  {
   "cell_type": "code",
   "execution_count": 112,
   "outputs": [],
   "source": [
    "df.insert(6, 'PLAT_1', df.pop('PLAT_1'))\n",
    "df.insert(7, 'PLAT_2', df.pop('PLAT_2'))\n",
    "df.insert(8, 'PLAT_3', df.pop('PLAT_3'))\n"
   ],
   "metadata": {
    "collapsed": false,
    "pycharm": {
     "name": "#%%\n"
    }
   }
  },
  {
   "cell_type": "code",
   "execution_count": 113,
   "outputs": [
    {
     "name": "stdout",
     "output_type": "stream",
     "text": [
      "    Unnamed: 0  Horodateur Numéro de formulaire         ENTREE_1  ENTREE_2  \\\n",
      "0            0    12:30:58                 9V8W        choublanc       NaN   \n",
      "1            1    12:33:56                 8B5X       pasdentrée       NaN   \n",
      "2            2    12:34:46                 6X9F  rillettepoisson       NaN   \n",
      "3            3    12:35:27                 7B7K     minisandwich       NaN   \n",
      "4            4    12:35:56                 3Q7Q     minisandwich       NaN   \n",
      "..         ...         ...                  ...              ...       ...   \n",
      "62          62    13:05:03                 2D7O  rillettepoisson       NaN   \n",
      "63          63    13:05:14                 8J2L      champignons       NaN   \n",
      "64          64    13:05:35                 1L4G       pasdentrée       NaN   \n",
      "65          65    13:05:41                 1M2Q       pasdentrée       NaN   \n",
      "66          66    13:05:42                 254Q       pasdentrée       NaN   \n",
      "\n",
      "    ENTREE_3               PLAT_1      PLAT_2               PLAT_3  \\\n",
      "0        NaN  rotidelégumesautofu  spaghettis                 None   \n",
      "1        NaN  rotidelégumesautofu  spaghettis                 None   \n",
      "2        NaN          poissonpané  spaghettis  mousselinedepotiron   \n",
      "3        NaN        filetdepoulet  spaghettis  mousselinedepotiron   \n",
      "4        NaN          poissonpané  spaghettis  mousselinedepotiron   \n",
      "..       ...                  ...         ...                  ...   \n",
      "62       NaN          poissonpané  spaghettis  mousselinedepotiron   \n",
      "63       NaN        filetdepoulet  spaghettis  mousselinedepotiron   \n",
      "64       NaN          poissonpané  spaghettis                 None   \n",
      "65       NaN                kebab      frites                 None   \n",
      "66       NaN                kebab      salade                 None   \n",
      "\n",
      "                         DESSERT  \n",
      "0                   pasdedessert  \n",
      "1      roquefort+pruneauxensirop  \n",
      "2            crèmepraliné+orange  \n",
      "3   yaourtnaturebio+crèmepraliné  \n",
      "4                         banane  \n",
      "..                           ...  \n",
      "62       yaourtnaturebio+compote  \n",
      "63                     roquefort  \n",
      "64                         pomme  \n",
      "65               yaourtnaturebio  \n",
      "66               yaourtnaturebio  \n",
      "\n",
      "[67 rows x 10 columns]\n"
     ]
    }
   ],
   "source": [
    "df.pop('PLAT ')\n",
    "print(df)"
   ],
   "metadata": {
    "collapsed": false,
    "pycharm": {
     "name": "#%%\n"
    }
   }
  },
  {
   "cell_type": "code",
   "execution_count": 114,
   "outputs": [
    {
     "name": "stdout",
     "output_type": "stream",
     "text": [
      "    Unnamed: 0  Horodateur Numéro de formulaire         ENTREE_1  ENTREE_2  \\\n",
      "0            0    12:30:58                 9V8W        choublanc       NaN   \n",
      "1            1    12:33:56                 8B5X       pasdentrée       NaN   \n",
      "2            2    12:34:46                 6X9F  rillettepoisson       NaN   \n",
      "3            3    12:35:27                 7B7K     minisandwich       NaN   \n",
      "4            4    12:35:56                 3Q7Q     minisandwich       NaN   \n",
      "..         ...         ...                  ...              ...       ...   \n",
      "62          62    13:05:03                 2D7O  rillettepoisson       NaN   \n",
      "63          63    13:05:14                 8J2L      champignons       NaN   \n",
      "64          64    13:05:35                 1L4G       pasdentrée       NaN   \n",
      "65          65    13:05:41                 1M2Q       pasdentrée       NaN   \n",
      "66          66    13:05:42                 254Q       pasdentrée       NaN   \n",
      "\n",
      "    ENTREE_3               PLAT_1      PLAT_2               PLAT_3  \\\n",
      "0        NaN  rotidelégumesautofu  spaghettis                 None   \n",
      "1        NaN  rotidelégumesautofu  spaghettis                 None   \n",
      "2        NaN          poissonpané  spaghettis  mousselinedepotiron   \n",
      "3        NaN        filetdepoulet  spaghettis  mousselinedepotiron   \n",
      "4        NaN          poissonpané  spaghettis  mousselinedepotiron   \n",
      "..       ...                  ...         ...                  ...   \n",
      "62       NaN          poissonpané  spaghettis  mousselinedepotiron   \n",
      "63       NaN        filetdepoulet  spaghettis  mousselinedepotiron   \n",
      "64       NaN          poissonpané  spaghettis                 None   \n",
      "65       NaN                kebab      frites                 None   \n",
      "66       NaN                kebab      salade                 None   \n",
      "\n",
      "          DESSERT_1        DESSERT_2  \n",
      "0      pasdedessert             None  \n",
      "1         roquefort  pruneauxensirop  \n",
      "2      crèmepraliné           orange  \n",
      "3   yaourtnaturebio     crèmepraliné  \n",
      "4            banane             None  \n",
      "..              ...              ...  \n",
      "62  yaourtnaturebio          compote  \n",
      "63        roquefort             None  \n",
      "64            pomme             None  \n",
      "65  yaourtnaturebio             None  \n",
      "66  yaourtnaturebio             None  \n",
      "\n",
      "[67 rows x 11 columns]\n"
     ]
    },
    {
     "name": "stderr",
     "output_type": "stream",
     "text": [
      "C:\\Users\\Asus\\AppData\\Local\\Temp\\ipykernel_9720\\1123711694.py:2: FutureWarning: In a future version of pandas all arguments of StringMethods.split except for the argument 'pat' will be keyword-only.\n",
      "  df[['DESSERT_1', 'DESSERT_2',]] = df['DESSERT'].str.split('+', 1, expand=True)\n"
     ]
    }
   ],
   "source": [
    "try:\n",
    "    df[['DESSERT_1', 'DESSERT_2',]] = df['DESSERT'].str.split('+', 1, expand=True)\n",
    "    df.insert(9, 'DESSERT_1', df.pop('DESSERT_1'))\n",
    "    df.insert(10, 'DESSERT_2', df.pop('DESSERT_2'))\n",
    "    df.pop('DESSERT')\n",
    "    split_dessert = True\n",
    "except ValueError as e:\n",
    "    df['DESSERT_2'] = np.nan\n",
    "    df.insert(9, 'DESSERT_1', df.pop('DESSERT'))\n",
    "    df.insert(10, 'DESSERT_2', df.pop('DESSERT_2'))\n",
    "    split_dessert = False\n",
    "print(df)"
   ],
   "metadata": {
    "collapsed": false,
    "pycharm": {
     "name": "#%%\n"
    }
   }
  },
  {
   "cell_type": "code",
   "execution_count": 115,
   "outputs": [
    {
     "name": "stdout",
     "output_type": "stream",
     "text": [
      "    Unnamed: 0  Horodateur Numéro de formulaire         ENTREE_1  ENTREE_2  \\\n",
      "0            0    12:30:58                 9V8W        choublanc       NaN   \n",
      "1            1    12:33:56                 8B5X       pasdentrée       NaN   \n",
      "2            2    12:34:46                 6X9F  rillettepoisson       NaN   \n",
      "3            3    12:35:27                 7B7K     minisandwich       NaN   \n",
      "4            4    12:35:56                 3Q7Q     minisandwich       NaN   \n",
      "..         ...         ...                  ...              ...       ...   \n",
      "62          62    13:05:03                 2D7O  rillettepoisson       NaN   \n",
      "63          63    13:05:14                 8J2L      champignons       NaN   \n",
      "64          64    13:05:35                 1L4G       pasdentrée       NaN   \n",
      "65          65    13:05:41                 1M2Q       pasdentrée       NaN   \n",
      "66          66    13:05:42                 254Q       pasdentrée       NaN   \n",
      "\n",
      "    ENTREE_3               PLAT_1      PLAT_2               PLAT_3  \\\n",
      "0        NaN  rotidelégumesautofu  spaghettis                 None   \n",
      "1        NaN  rotidelégumesautofu  spaghettis                 None   \n",
      "2        NaN          poissonpané  spaghettis  mousselinedepotiron   \n",
      "3        NaN        filetdepoulet  spaghettis  mousselinedepotiron   \n",
      "4        NaN          poissonpané  spaghettis  mousselinedepotiron   \n",
      "..       ...                  ...         ...                  ...   \n",
      "62       NaN          poissonpané  spaghettis  mousselinedepotiron   \n",
      "63       NaN        filetdepoulet  spaghettis  mousselinedepotiron   \n",
      "64       NaN          poissonpané  spaghettis                 None   \n",
      "65       NaN                kebab      frites                 None   \n",
      "66       NaN                kebab      salade                 None   \n",
      "\n",
      "          DESSERT_1        DESSERT_2 DESSERT_3  \n",
      "0      pasdedessert             None      None  \n",
      "1         roquefort  pruneauxensirop      None  \n",
      "2      crèmepraliné           orange      None  \n",
      "3   yaourtnaturebio     crèmepraliné      None  \n",
      "4            banane             None      None  \n",
      "..              ...              ...       ...  \n",
      "62  yaourtnaturebio          compote      None  \n",
      "63        roquefort             None      None  \n",
      "64            pomme             None      None  \n",
      "65  yaourtnaturebio             None      None  \n",
      "66  yaourtnaturebio             None      None  \n",
      "\n",
      "[67 rows x 12 columns]\n"
     ]
    },
    {
     "name": "stderr",
     "output_type": "stream",
     "text": [
      "C:\\Users\\Asus\\AppData\\Local\\Temp\\ipykernel_9720\\3596904031.py:3: FutureWarning: In a future version of pandas all arguments of StringMethods.split except for the argument 'pat' will be keyword-only.\n",
      "  df[['DESSERT_2', 'DESSERT_3']] = df['DESSERT_2'].str.split('+', 1, expand=True)\n"
     ]
    }
   ],
   "source": [
    "if split_dessert:\n",
    "    try:\n",
    "        df[['DESSERT_2', 'DESSERT_3']] = df['DESSERT_2'].str.split('+', 1, expand=True)\n",
    "        df.insert(10, 'DESSERT_2', df.pop('DESSERT_2'))\n",
    "        df.insert(11, 'DESSERT_3', df.pop('DESSERT_3'))\n",
    "    except ValueError as e:\n",
    "        df['DESSERT_3'] = np.nan\n",
    "        df.insert(11, 'DESSERT_3', df.pop('DESSERT_3'))\n",
    "else:\n",
    "        df['DESSERT_3'] = np.nan\n",
    "        df.insert(11, 'DESSERT_3', df.pop('DESSERT_3'))\n",
    "print(df)"
   ],
   "metadata": {
    "collapsed": false,
    "pycharm": {
     "name": "#%%\n"
    }
   }
  },
  {
   "cell_type": "code",
   "execution_count": 116,
   "outputs": [],
   "source": [
    "filepath = f'./{filename}_split.csv'\n",
    "df.to_csv(filepath, index=False, encoding=\"cp1252\")\n",
    "# encoding pour le OE majuscule"
   ],
   "metadata": {
    "collapsed": false,
    "pycharm": {
     "name": "#%%\n"
    }
   }
  },
  {
   "cell_type": "code",
   "execution_count": 116,
   "outputs": [],
   "source": [],
   "metadata": {
    "collapsed": false,
    "pycharm": {
     "name": "#%%\n"
    }
   }
  }
 ],
 "metadata": {
  "kernelspec": {
   "display_name": "Python 3",
   "language": "python",
   "name": "python3"
  },
  "language_info": {
   "codemirror_mode": {
    "name": "ipython",
    "version": 2
   },
   "file_extension": ".py",
   "mimetype": "text/x-python",
   "name": "python",
   "nbconvert_exporter": "python",
   "pygments_lexer": "ipython2",
   "version": "2.7.6"
  }
 },
 "nbformat": 4,
 "nbformat_minor": 0
}