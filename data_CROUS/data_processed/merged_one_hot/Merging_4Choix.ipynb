{
 "cells": [
  {
   "cell_type": "code",
   "execution_count": 25,
   "id": "80e25489",
   "metadata": {
    "pycharm": {
     "name": "#%%\n"
    }
   },
   "outputs": [
    {
     "data": {
      "text/plain": "'D:\\\\3A_APT\\\\IODAA\\\\Projet_MIChoCo\\\\data_CROUS\\\\data_processed\\\\merged_one_hot'"
     },
     "execution_count": 25,
     "metadata": {},
     "output_type": "execute_result"
    }
   ],
   "source": [
    "import numpy as np\n",
    "import pandas as pd\n",
    "import os\n",
    "import math\n",
    "os.getcwd()"
   ]
  },
  {
   "cell_type": "code",
   "execution_count": 26,
   "id": "6325c1e0",
   "metadata": {
    "pycharm": {
     "name": "#%%\n"
    }
   },
   "outputs": [],
   "source": [
    "#Preprocess manuel des fichiers avant import : \n",
    "#- Uniformasation des noms de colonnes (Retrait des espaces en trop dans certains noms + majuscule en trop dans \"Seule ou en groupe\" dans un des csv)\n",
    "#- Remplacement des valeur noté manuellement N.A par des espaces --> Permet à pd.dropna de bien fonctionner\n",
    "#- Retrait de valeur avec \"?\" dans \"Nb convives\" --> Remplacement par la valeur supposée\n",
    "#- Retrait de valeur sous les tableaux (calcul et N° de formulaire sans valeurs dans leurs lignes) / A côté quand le nombre d'amis dépasse les colonnes \n",
    "#- Coquille dans formulaire 28-oct ligne 53 colonne taille 157 --> 1,57\n",
    "csv_1 = pd.read_csv(\"../one_hot/Resultats_choix_21_octobre_onehot.csv\", sep=\";\")\n",
    "csv_2 = pd.read_csv(\"../one_hot/Resultats_choix_22_octobre_onehot.csv\", sep=\";\")\n",
    "csv_3 = pd.read_csv(\"../one_hot/Resultats_choix_28_octobre_onehot.csv\", sep=\";\")\n",
    "csv_4 = pd.read_csv(\"../one_hot/Resultats_choix_29_octobre_onehot.csv\", sep=\";\")"
   ]
  },
  {
   "cell_type": "code",
   "execution_count": 27,
   "id": "0487967c",
   "metadata": {
    "pycharm": {
     "name": "#%%\n"
    }
   },
   "outputs": [
    {
     "name": "stdout",
     "output_type": "stream",
     "text": [
      "Index(['Unnamed: 0', 'Horodateur', 'Numéro de formulaire ',\n",
      "       'chouxblancàlajaponaise', 'saladelentilles', 'champignons',\n",
      "       'carottesrâpées', 'oeufmimosa', 'saladepates', 'artichauts', 'salami',\n",
      "       'coeursdepalmiers', 'tomates', 'torsades', 'feuilletésaumonoseille',\n",
      "       'boeufbourguignon', 'kebab', 'risottocourgettes', 'pizzaraclette',\n",
      "       'faux-filet', 'pizzamerguezpoivrons', 'hamburger', 'escalopeviennoise',\n",
      "       'poeléebrocolis', 'frites', 'ratatouille', 'yaourtauxfruits',\n",
      "       'ufàlaneige', 'faissellenature', 'yaourtnaturesucré',\n",
      "       'fromageblancfruitsrouges', 'banane', 'mimolette', 'flancchocolat',\n",
      "       'orange', 'pommegolden', 'kiwi'],\n",
      "      dtype='object')\n",
      "Index(['Unnamed: 0', 'Horodateur', 'Numéro de formulaire ', 'surimi', 'chou',\n",
      "       'saladelentilles', 'carottesrâpées', 'saladedetomates',\n",
      "       'boeufbourguignon', 'filetdepoulet', 'tajinevégé', 'pavédecabillaud',\n",
      "       'torsades', 'faux-filet', 'burgervégé', 'pizza', 'pommesdeterrevapeur',\n",
      "       'frites', 'juliennedelégumes', 'saladeverte', 'orange',\n",
      "       'moussenoixdecoco', 'liégeoiscafé', 'pommegranny', 'compote',\n",
      "       'petitsuissenature', 'fromageblanc', 'madeleine'],\n",
      "      dtype='object')\n",
      "Index(['Unnamed: 0', 'Horodateur', 'Numéro de formulaire ', 'minisandwich',\n",
      "       'saladederiz', 'saladedechou', 'betterave', 'artichauts', 'pâté',\n",
      "       'rillettespoisson', 'carottesrapees', 'saladedepates',\n",
      "       'champignonsalitalienne', 'cordonbleu', 'boulettesviande',\n",
      "       'rotilégumestofu', 'pavédepoissonbordelaise', 'pizzakebab',\n",
      "       'filetdepoulet', 'kebab', 'entrecôte', 'riz', 'frites', 'brocolis',\n",
      "       'salade', 'pommegala', 'tarteauxfruits', 'yaourtauxfruitsenmorceaux',\n",
      "       'parisbrest', 'poire', 'fromageblancnature', 'pruneauxausirop',\n",
      "       'emmental', 'bleudauvergneaop', 'crèmepraliné', 'yaourtnature',\n",
      "       'gâteaudesemoule', 'orange', 'banane', 'liégeois', 'kiwi',\n",
      "       'cocktailfruitsexotiques'],\n",
      "      dtype='object')\n",
      "Index(['Unnamed: 0', 'Horodateur', 'Numéro de formulaire ', 'choublanc',\n",
      "       'rillettepoisson', 'minisandwich', 'betterave', 'saladedepommesdeterre',\n",
      "       'champignons', 'saladederiz', 'pâté', 'rotidelégumesautofu',\n",
      "       'poissonpané', 'filetdepoulet', 'entrecôte', 'kebab', 'spaghettis',\n",
      "       'mousselinedepotiron', 'frites', 'salade', 'légumes', 'roquefort',\n",
      "       'crèmepraliné', 'yaourtnaturebio', 'banane', 'pruneauxensirop',\n",
      "       'compote', 'cantalaop', 'orange', 'kiwi', 'pomme'],\n",
      "      dtype='object')\n"
     ]
    }
   ],
   "source": [
    "print(csv_1.columns)\n",
    "print(csv_2.columns)\n",
    "print(csv_3.columns)\n",
    "print(csv_4.columns)"
   ]
  },
  {
   "cell_type": "markdown",
   "id": "dbdceb7a",
   "metadata": {
    "pycharm": {
     "name": "#%% md\n"
    }
   },
   "source": [
    "Pour éviter de mélanger entrées, plats et desserts, on va concaténer chaque plat des csv par type. Mais d'abord, on remarque qu'il y a des noms qui ne sont pas écrit de la même manière, par exemple 'tomates' (csv1) et 'saladedetomates' (csv2)."
   ]
  },
  {
   "cell_type": "code",
   "execution_count": 28,
   "id": "70572167",
   "metadata": {
    "pycharm": {
     "name": "#%%\n"
    }
   },
   "outputs": [
    {
     "name": "stdout",
     "output_type": "stream",
     "text": [
      "Index(['Unnamed: 0', 'Horodateur', 'Numéro de formulaire ', 'chou',\n",
      "       'saladelentilles', 'champignons', 'carottesrapees', 'oeufmimosa',\n",
      "       'saladepates', 'artichauts', 'salami', 'coeursdepalmiers', 'tomates',\n",
      "       'torsades', 'feuilletesaumonoseille', 'boeufbourguignon', 'kebab',\n",
      "       'risottocourgettes', 'pizzaraclette', 'faux-filet',\n",
      "       'pizzamerguezpoivrons', 'hamburger', 'escalopeviennoise', 'brocolis',\n",
      "       'frites', 'ratatouille', 'yaourtauxfruits', 'oeufalaneige',\n",
      "       'faissellenature', 'yaourtnature', 'fromageblancfruitsrouges', 'banane',\n",
      "       'mimolette', 'flancchocolat', 'orange', 'pomme', 'kiwi'],\n",
      "      dtype='object')\n",
      "Index(['Unnamed: 0', 'Horodateur', 'Numéro de formulaire ', 'surimi', 'chou',\n",
      "       'saladelentilles', 'carottesrapees', 'tomates', 'boeufbourguignon',\n",
      "       'filetdepoulet', 'tajinevege', 'pavedecabillaud', 'torsades',\n",
      "       'faux-filet', 'burgervege', 'pizza', 'pommesdeterrevapeur', 'frites',\n",
      "       'juliennedelegumes', 'saladeverte', 'orange', 'moussenoixdecoco',\n",
      "       'liegeois', 'pomme', 'compote', 'petitsuissenature', 'fromageblanc',\n",
      "       'madeleine'],\n",
      "      dtype='object')\n",
      "Index(['Unnamed: 0', 'Horodateur', 'Numéro de formulaire ', 'minisandwich',\n",
      "       'saladeriz', 'chou', 'betterave', 'artichauts', 'pâté',\n",
      "       'rillettepoisson', 'carottesrapees', 'saladepates', 'champignons',\n",
      "       'cordonbleu', 'boulettesviande', 'rotilegumestofu',\n",
      "       'pavedepoissonbordelaise', 'pizzakebab', 'filetdepoulet', 'kebab',\n",
      "       'entrecote', 'riz', 'frites', 'brocolis', 'saladeverte', 'pomme',\n",
      "       'tarteauxfruits', 'yaourtauxfruitsenmorceaux', 'parisbrest', 'poire',\n",
      "       'fromageblanc', 'pruneauxausirop', 'emmental', 'bleudauvergneaop',\n",
      "       'cremepraline', 'yaourtnature', 'gateaudesemoule', 'orange', 'banane',\n",
      "       'liegeois', 'kiwi', 'cocktailfruitsexotiques'],\n",
      "      dtype='object')\n",
      "Index(['Unnamed: 0', 'Horodateur', 'Numéro de formulaire ', 'chou',\n",
      "       'rillettepoisson', 'minisandwich', 'betterave', 'saladepommesdeterre',\n",
      "       'champignons', 'saladeriz', 'pâté', 'rotidelegumestofu', 'poissonpane',\n",
      "       'filetdepoulet', 'entrecote', 'kebab', 'spaghettis',\n",
      "       'mousselinedepotiron', 'frites', 'legumes', 'saladeverte', 'roquefort',\n",
      "       'cremepraline', 'yaourtnature', 'banane', 'pruneauxausirop', 'compote',\n",
      "       'cantalaop', 'orange', 'kiwi', 'pomme'],\n",
      "      dtype='object')\n"
     ]
    }
   ],
   "source": [
    "csv_1.columns = ['Unnamed: 0', 'Horodateur', 'Numéro de formulaire ', 'chou',\n",
    "       'saladelentilles', 'champignons', 'carottesrapees', 'oeufmimosa',\n",
    "       'saladepates', 'artichauts', 'salami', 'coeursdepalmiers', 'tomates',\n",
    "       'torsades', 'feuilletesaumonoseille', 'boeufbourguignon', 'kebab',\n",
    "       'risottocourgettes', 'pizzaraclette', 'faux-filet',\n",
    "       'pizzamerguezpoivrons', 'hamburger', 'escalopeviennoise',\n",
    "       'brocolis', 'frites', 'ratatouille', 'yaourtauxfruits',\n",
    "       'oeufalaneige', 'faissellenature', 'yaourtnature',\n",
    "       'fromageblancfruitsrouges', 'banane', 'mimolette', 'flancchocolat',\n",
    "       'orange', 'pomme', 'kiwi']\n",
    "\n",
    "csv_2.columns = ['Unnamed: 0','Horodateur', 'Numéro de formulaire ', 'surimi', 'chou',\n",
    "       'saladelentilles', 'carottesrapees', 'tomates',\n",
    "       'boeufbourguignon', 'filetdepoulet', 'tajinevege', 'pavedecabillaud',\n",
    "       'torsades', 'faux-filet', 'burgervege', 'pizza', 'pommesdeterrevapeur',\n",
    "       'frites', 'juliennedelegumes', 'saladeverte', 'orange',\n",
    "       'moussenoixdecoco', 'liegeois', 'pomme', 'compote',\n",
    "       'petitsuissenature', 'fromageblanc', 'madeleine']\n",
    "\n",
    "csv_3.columns = ['Unnamed: 0','Horodateur', 'Numéro de formulaire ', 'minisandwich', 'saladeriz',\n",
    "       'chou', 'betterave', 'artichauts', 'pâté', 'rillettepoisson',\n",
    "       'carottesrapees', 'saladepates', 'champignons',\n",
    "       'cordonbleu', 'boulettesviande', 'rotilegumestofu',\n",
    "       'pavedepoissonbordelaise', 'pizzakebab', 'filetdepoulet', 'kebab',\n",
    "       'entrecote', 'riz', 'frites', 'brocolis', 'saladeverte', 'pomme',\n",
    "       'tarteauxfruits', 'yaourtauxfruitsenmorceaux', 'parisbrest', 'poire',\n",
    "       'fromageblanc', 'pruneauxausirop', 'emmental', 'bleudauvergneaop',\n",
    "       'cremepraline', 'yaourtnature', 'gateaudesemoule', 'orange', 'banane',\n",
    "       'liegeois', 'kiwi', 'cocktailfruitsexotiques']\n",
    "\n",
    "csv_4.columns = ['Unnamed: 0','Horodateur', 'Numéro de formulaire ', 'chou', 'rillettepoisson',\n",
    "       'minisandwich', 'betterave', 'saladepommesdeterre', 'champignons',\n",
    "       'saladeriz', 'pâté', 'rotidelegumestofu', 'poissonpane',\n",
    "       'filetdepoulet', 'entrecote', 'kebab', 'spaghettis',\n",
    "       'mousselinedepotiron', 'frites', 'legumes', 'saladeverte', 'roquefort',\n",
    "       'cremepraline', 'yaourtnature', 'banane', 'pruneauxausirop',\n",
    "       'compote', 'cantalaop', 'orange', 'kiwi', 'pomme']\n",
    "\n",
    "print(csv_1.columns)\n",
    "print(csv_2.columns)\n",
    "print(csv_3.columns)\n",
    "print(csv_4.columns)"
   ]
  },
  {
   "cell_type": "code",
   "execution_count": 29,
   "id": "f0523ff1",
   "metadata": {
    "pycharm": {
     "name": "#%%\n"
    }
   },
   "outputs": [
    {
     "name": "stdout",
     "output_type": "stream",
     "text": [
      "False\n",
      "True\n",
      "False\n"
     ]
    }
   ],
   "source": [
    "entrees = pd.concat([csv_1.loc[:,csv_1.columns[:13]],\n",
    "                     csv_2.loc[:,csv_2.columns[:8]],\n",
    "                     csv_3.loc[:,csv_3.columns[:13]],\n",
    "                     csv_4.loc[:,csv_4.columns[:11]]])\n",
    "\n",
    "plats = pd.concat([csv_1.loc[:,csv_1.columns[13:26]],\n",
    "                     csv_2.loc[:,csv_2.columns[8:20]],\n",
    "                     csv_3.loc[:,csv_3.columns[13:25]],\n",
    "                     csv_4.loc[:,csv_4.columns[11:21]]])\n",
    "\n",
    "desserts = pd.concat([csv_1.loc[:,csv_1.columns[26:]],\n",
    "                     csv_2.loc[:,csv_2.columns[20:]],\n",
    "                     csv_3.loc[:,csv_3.columns[25:]],\n",
    "                     csv_4.loc[:,csv_4.columns[21:]]])\n",
    "\n",
    "print('saladeverte' in entrees.columns)\n",
    "print('saladeverte' in plats.columns)\n",
    "print('saladeverte' in desserts.columns)"
   ]
  },
  {
   "cell_type": "code",
   "execution_count": 30,
   "id": "0f481a43",
   "metadata": {
    "pycharm": {
     "name": "#%%\n"
    }
   },
   "outputs": [
    {
     "data": {
      "text/plain": "                       Unnamed: 0   Horodateur  chou  saladelentilles  \\\nNuméro de formulaire                                                    \n6P4Y                            0   12:30:48       0              0.0   \n2H8Z                            1   12:32:01       1              0.0   \n8M4T                            2   12:32:45       0              1.0   \n3G0E                            3   12:32:51       0              1.0   \n8K6E                            4   12:33:28       0              0.0   \n\n                       champignons  carottesrapees  oeufmimosa  saladepates  \\\nNuméro de formulaire                                                          \n6P4Y                           0.0             0.0         0.0          0.0   \n2H8Z                           0.0             0.0         0.0          0.0   \n8M4T                           1.0             0.0         0.0          0.0   \n3G0E                           0.0             0.0         0.0          0.0   \n8K6E                           0.0             0.0         0.0          0.0   \n\n                       artichauts  salami  ...  parisbrest  poire  \\\nNuméro de formulaire                       ...                      \n6P4Y                          0.0     0.0  ...         NaN    NaN   \n2H8Z                          0.0     0.0  ...         NaN    NaN   \n8M4T                          0.0     0.0  ...         NaN    NaN   \n3G0E                          0.0     0.0  ...         NaN    NaN   \n8K6E                          0.0     0.0  ...         NaN    NaN   \n\n                       pruneauxausirop  emmental  bleudauvergneaop  \\\nNuméro de formulaire                                                 \n6P4Y                               NaN       NaN               NaN   \n2H8Z                               NaN       NaN               NaN   \n8M4T                               NaN       NaN               NaN   \n3G0E                               NaN       NaN               NaN   \n8K6E                               NaN       NaN               NaN   \n\n                       cremepraline  gateaudesemoule  cocktailfruitsexotiques  \\\nNuméro de formulaire                                                            \n6P4Y                            NaN              NaN                      NaN   \n2H8Z                            NaN              NaN                      NaN   \n8M4T                            NaN              NaN                      NaN   \n3G0E                            NaN              NaN                      NaN   \n8K6E                            NaN              NaN                      NaN   \n\n                       roquefort  cantalaop  \nNuméro de formulaire                         \n6P4Y                         NaN        NaN  \n2H8Z                         NaN        NaN  \n8M4T                         NaN        NaN  \n3G0E                         NaN        NaN  \n8K6E                         NaN        NaN  \n\n[5 rows x 81 columns]",
      "text/html": "<div>\n<style scoped>\n    .dataframe tbody tr th:only-of-type {\n        vertical-align: middle;\n    }\n\n    .dataframe tbody tr th {\n        vertical-align: top;\n    }\n\n    .dataframe thead th {\n        text-align: right;\n    }\n</style>\n<table border=\"1\" class=\"dataframe\">\n  <thead>\n    <tr style=\"text-align: right;\">\n      <th></th>\n      <th>Unnamed: 0</th>\n      <th>Horodateur</th>\n      <th>chou</th>\n      <th>saladelentilles</th>\n      <th>champignons</th>\n      <th>carottesrapees</th>\n      <th>oeufmimosa</th>\n      <th>saladepates</th>\n      <th>artichauts</th>\n      <th>salami</th>\n      <th>...</th>\n      <th>parisbrest</th>\n      <th>poire</th>\n      <th>pruneauxausirop</th>\n      <th>emmental</th>\n      <th>bleudauvergneaop</th>\n      <th>cremepraline</th>\n      <th>gateaudesemoule</th>\n      <th>cocktailfruitsexotiques</th>\n      <th>roquefort</th>\n      <th>cantalaop</th>\n    </tr>\n    <tr>\n      <th>Numéro de formulaire</th>\n      <th></th>\n      <th></th>\n      <th></th>\n      <th></th>\n      <th></th>\n      <th></th>\n      <th></th>\n      <th></th>\n      <th></th>\n      <th></th>\n      <th></th>\n      <th></th>\n      <th></th>\n      <th></th>\n      <th></th>\n      <th></th>\n      <th></th>\n      <th></th>\n      <th></th>\n      <th></th>\n      <th></th>\n    </tr>\n  </thead>\n  <tbody>\n    <tr>\n      <th>6P4Y</th>\n      <td>0</td>\n      <td>12:30:48</td>\n      <td>0</td>\n      <td>0.0</td>\n      <td>0.0</td>\n      <td>0.0</td>\n      <td>0.0</td>\n      <td>0.0</td>\n      <td>0.0</td>\n      <td>0.0</td>\n      <td>...</td>\n      <td>NaN</td>\n      <td>NaN</td>\n      <td>NaN</td>\n      <td>NaN</td>\n      <td>NaN</td>\n      <td>NaN</td>\n      <td>NaN</td>\n      <td>NaN</td>\n      <td>NaN</td>\n      <td>NaN</td>\n    </tr>\n    <tr>\n      <th>2H8Z</th>\n      <td>1</td>\n      <td>12:32:01</td>\n      <td>1</td>\n      <td>0.0</td>\n      <td>0.0</td>\n      <td>0.0</td>\n      <td>0.0</td>\n      <td>0.0</td>\n      <td>0.0</td>\n      <td>0.0</td>\n      <td>...</td>\n      <td>NaN</td>\n      <td>NaN</td>\n      <td>NaN</td>\n      <td>NaN</td>\n      <td>NaN</td>\n      <td>NaN</td>\n      <td>NaN</td>\n      <td>NaN</td>\n      <td>NaN</td>\n      <td>NaN</td>\n    </tr>\n    <tr>\n      <th>8M4T</th>\n      <td>2</td>\n      <td>12:32:45</td>\n      <td>0</td>\n      <td>1.0</td>\n      <td>1.0</td>\n      <td>0.0</td>\n      <td>0.0</td>\n      <td>0.0</td>\n      <td>0.0</td>\n      <td>0.0</td>\n      <td>...</td>\n      <td>NaN</td>\n      <td>NaN</td>\n      <td>NaN</td>\n      <td>NaN</td>\n      <td>NaN</td>\n      <td>NaN</td>\n      <td>NaN</td>\n      <td>NaN</td>\n      <td>NaN</td>\n      <td>NaN</td>\n    </tr>\n    <tr>\n      <th>3G0E</th>\n      <td>3</td>\n      <td>12:32:51</td>\n      <td>0</td>\n      <td>1.0</td>\n      <td>0.0</td>\n      <td>0.0</td>\n      <td>0.0</td>\n      <td>0.0</td>\n      <td>0.0</td>\n      <td>0.0</td>\n      <td>...</td>\n      <td>NaN</td>\n      <td>NaN</td>\n      <td>NaN</td>\n      <td>NaN</td>\n      <td>NaN</td>\n      <td>NaN</td>\n      <td>NaN</td>\n      <td>NaN</td>\n      <td>NaN</td>\n      <td>NaN</td>\n    </tr>\n    <tr>\n      <th>8K6E</th>\n      <td>4</td>\n      <td>12:33:28</td>\n      <td>0</td>\n      <td>0.0</td>\n      <td>0.0</td>\n      <td>0.0</td>\n      <td>0.0</td>\n      <td>0.0</td>\n      <td>0.0</td>\n      <td>0.0</td>\n      <td>...</td>\n      <td>NaN</td>\n      <td>NaN</td>\n      <td>NaN</td>\n      <td>NaN</td>\n      <td>NaN</td>\n      <td>NaN</td>\n      <td>NaN</td>\n      <td>NaN</td>\n      <td>NaN</td>\n      <td>NaN</td>\n    </tr>\n  </tbody>\n</table>\n<p>5 rows × 81 columns</p>\n</div>"
     },
     "execution_count": 30,
     "metadata": {},
     "output_type": "execute_result"
    }
   ],
   "source": [
    "csv_tot = pd.concat([entrees, plats, desserts], axis = 1)\n",
    "csv_tot = csv_tot.set_index(\"Numéro de formulaire \")\n",
    "csv_tot.head()"
   ]
  },
  {
   "cell_type": "code",
   "execution_count": 31,
   "id": "75fc3176",
   "metadata": {
    "pycharm": {
     "name": "#%%\n"
    }
   },
   "outputs": [
    {
     "data": {
      "text/plain": "Index(['Horodateur', 'chou', 'saladelentilles', 'champignons',\n       'carottesrapees', 'oeufmimosa', 'saladepates', 'artichauts', 'salami',\n       'coeursdepalmiers', 'tomates', 'surimi', 'minisandwich', 'saladeriz',\n       'betterave', 'pâté', 'rillettepoisson', 'saladepommesdeterre',\n       'torsades', 'feuilletesaumonoseille', 'boeufbourguignon', 'kebab',\n       'risottocourgettes', 'pizzaraclette', 'faux-filet',\n       'pizzamerguezpoivrons', 'hamburger', 'escalopeviennoise', 'brocolis',\n       'frites', 'ratatouille', 'filetdepoulet', 'tajinevege',\n       'pavedecabillaud', 'burgervege', 'pizza', 'pommesdeterrevapeur',\n       'juliennedelegumes', 'saladeverte', 'cordonbleu', 'boulettesviande',\n       'rotilegumestofu', 'pavedepoissonbordelaise', 'pizzakebab', 'entrecote',\n       'riz', 'rotidelegumestofu', 'poissonpane', 'spaghettis',\n       'mousselinedepotiron', 'legumes', 'yaourtauxfruits', 'oeufalaneige',\n       'faissellenature', 'yaourtnature', 'fromageblancfruitsrouges', 'banane',\n       'mimolette', 'flancchocolat', 'orange', 'pomme', 'kiwi',\n       'moussenoixdecoco', 'liegeois', 'compote', 'petitsuissenature',\n       'fromageblanc', 'madeleine', 'tarteauxfruits',\n       'yaourtauxfruitsenmorceaux', 'parisbrest', 'poire', 'pruneauxausirop',\n       'emmental', 'bleudauvergneaop', 'cremepraline', 'gateaudesemoule',\n       'cocktailfruitsexotiques', 'roquefort', 'cantalaop'],\n      dtype='object')"
     },
     "execution_count": 31,
     "metadata": {},
     "output_type": "execute_result"
    }
   ],
   "source": [
    "csv_light = csv_tot.drop(columns='Unnamed: 0')\n",
    "csv_light.columns"
   ]
  },
  {
   "cell_type": "code",
   "execution_count": 32,
   "id": "cd1c611e",
   "metadata": {
    "pycharm": {
     "name": "#%%\n"
    }
   },
   "outputs": [
    {
     "data": {
      "text/plain": "                        Horodateur  chou  saladelentilles  champignons  \\\nNuméro de formulaire                                                     \n6P4Y                    12:30:48       0              0.0          0.0   \n2H8Z                    12:32:01       1              0.0          0.0   \n8M4T                    12:32:45       0              1.0          1.0   \n3G0E                    12:32:51       0              1.0          0.0   \n8K6E                    12:33:28       0              0.0          0.0   \n...                            ...   ...              ...          ...   \n2D7O                      13:05:03     0              0.0          0.0   \n8J2L                      13:05:14     0              0.0          1.0   \n1L4G                      13:05:35     0              0.0          0.0   \n1M2Q                      13:05:41     0              0.0          0.0   \n254Q                      13:05:42     0              0.0          0.0   \n\n                       carottesrapees  oeufmimosa  saladepates  artichauts  \\\nNuméro de formulaire                                                         \n6P4Y                              0.0         0.0          0.0         0.0   \n2H8Z                              0.0         0.0          0.0         0.0   \n8M4T                              0.0         0.0          0.0         0.0   \n3G0E                              0.0         0.0          0.0         0.0   \n8K6E                              0.0         0.0          0.0         0.0   \n...                               ...         ...          ...         ...   \n2D7O                              0.0         0.0          0.0         0.0   \n8J2L                              0.0         0.0          0.0         0.0   \n1L4G                              0.0         0.0          0.0         0.0   \n1M2Q                              0.0         0.0          0.0         0.0   \n254Q                              0.0         0.0          0.0         0.0   \n\n                       salami  coeursdepalmiers  ...  parisbrest  poire  \\\nNuméro de formulaire                             ...                      \n6P4Y                      0.0               0.0  ...         0.0    0.0   \n2H8Z                      0.0               0.0  ...         0.0    0.0   \n8M4T                      0.0               0.0  ...         0.0    0.0   \n3G0E                      0.0               0.0  ...         0.0    0.0   \n8K6E                      0.0               0.0  ...         0.0    0.0   \n...                       ...               ...  ...         ...    ...   \n2D7O                      0.0               0.0  ...         0.0    0.0   \n8J2L                      0.0               0.0  ...         0.0    0.0   \n1L4G                      0.0               0.0  ...         0.0    0.0   \n1M2Q                      0.0               0.0  ...         0.0    0.0   \n254Q                      0.0               0.0  ...         0.0    0.0   \n\n                       pruneauxausirop  emmental  bleudauvergneaop  \\\nNuméro de formulaire                                                 \n6P4Y                               0.0       0.0               0.0   \n2H8Z                               0.0       0.0               0.0   \n8M4T                               0.0       0.0               0.0   \n3G0E                               0.0       0.0               0.0   \n8K6E                               0.0       0.0               0.0   \n...                                ...       ...               ...   \n2D7O                               0.0       0.0               0.0   \n8J2L                               0.0       0.0               0.0   \n1L4G                               0.0       0.0               0.0   \n1M2Q                               0.0       0.0               0.0   \n254Q                               0.0       0.0               0.0   \n\n                       cremepraline  gateaudesemoule  cocktailfruitsexotiques  \\\nNuméro de formulaire                                                            \n6P4Y                            0.0              0.0                      0.0   \n2H8Z                            0.0              0.0                      0.0   \n8M4T                            0.0              0.0                      0.0   \n3G0E                            0.0              0.0                      0.0   \n8K6E                            0.0              0.0                      0.0   \n...                             ...              ...                      ...   \n2D7O                            0.0              0.0                      0.0   \n8J2L                            0.0              0.0                      0.0   \n1L4G                            0.0              0.0                      0.0   \n1M2Q                            0.0              0.0                      0.0   \n254Q                            0.0              0.0                      0.0   \n\n                       roquefort  cantalaop  \nNuméro de formulaire                         \n6P4Y                         0.0        0.0  \n2H8Z                         0.0        0.0  \n8M4T                         0.0        0.0  \n3G0E                         0.0        0.0  \n8K6E                         0.0        0.0  \n...                          ...        ...  \n2D7O                         0.0        0.0  \n8J2L                         1.0        0.0  \n1L4G                         0.0        0.0  \n1M2Q                         0.0        0.0  \n254Q                         0.0        0.0  \n\n[437 rows x 80 columns]",
      "text/html": "<div>\n<style scoped>\n    .dataframe tbody tr th:only-of-type {\n        vertical-align: middle;\n    }\n\n    .dataframe tbody tr th {\n        vertical-align: top;\n    }\n\n    .dataframe thead th {\n        text-align: right;\n    }\n</style>\n<table border=\"1\" class=\"dataframe\">\n  <thead>\n    <tr style=\"text-align: right;\">\n      <th></th>\n      <th>Horodateur</th>\n      <th>chou</th>\n      <th>saladelentilles</th>\n      <th>champignons</th>\n      <th>carottesrapees</th>\n      <th>oeufmimosa</th>\n      <th>saladepates</th>\n      <th>artichauts</th>\n      <th>salami</th>\n      <th>coeursdepalmiers</th>\n      <th>...</th>\n      <th>parisbrest</th>\n      <th>poire</th>\n      <th>pruneauxausirop</th>\n      <th>emmental</th>\n      <th>bleudauvergneaop</th>\n      <th>cremepraline</th>\n      <th>gateaudesemoule</th>\n      <th>cocktailfruitsexotiques</th>\n      <th>roquefort</th>\n      <th>cantalaop</th>\n    </tr>\n    <tr>\n      <th>Numéro de formulaire</th>\n      <th></th>\n      <th></th>\n      <th></th>\n      <th></th>\n      <th></th>\n      <th></th>\n      <th></th>\n      <th></th>\n      <th></th>\n      <th></th>\n      <th></th>\n      <th></th>\n      <th></th>\n      <th></th>\n      <th></th>\n      <th></th>\n      <th></th>\n      <th></th>\n      <th></th>\n      <th></th>\n      <th></th>\n    </tr>\n  </thead>\n  <tbody>\n    <tr>\n      <th>6P4Y</th>\n      <td>12:30:48</td>\n      <td>0</td>\n      <td>0.0</td>\n      <td>0.0</td>\n      <td>0.0</td>\n      <td>0.0</td>\n      <td>0.0</td>\n      <td>0.0</td>\n      <td>0.0</td>\n      <td>0.0</td>\n      <td>...</td>\n      <td>0.0</td>\n      <td>0.0</td>\n      <td>0.0</td>\n      <td>0.0</td>\n      <td>0.0</td>\n      <td>0.0</td>\n      <td>0.0</td>\n      <td>0.0</td>\n      <td>0.0</td>\n      <td>0.0</td>\n    </tr>\n    <tr>\n      <th>2H8Z</th>\n      <td>12:32:01</td>\n      <td>1</td>\n      <td>0.0</td>\n      <td>0.0</td>\n      <td>0.0</td>\n      <td>0.0</td>\n      <td>0.0</td>\n      <td>0.0</td>\n      <td>0.0</td>\n      <td>0.0</td>\n      <td>...</td>\n      <td>0.0</td>\n      <td>0.0</td>\n      <td>0.0</td>\n      <td>0.0</td>\n      <td>0.0</td>\n      <td>0.0</td>\n      <td>0.0</td>\n      <td>0.0</td>\n      <td>0.0</td>\n      <td>0.0</td>\n    </tr>\n    <tr>\n      <th>8M4T</th>\n      <td>12:32:45</td>\n      <td>0</td>\n      <td>1.0</td>\n      <td>1.0</td>\n      <td>0.0</td>\n      <td>0.0</td>\n      <td>0.0</td>\n      <td>0.0</td>\n      <td>0.0</td>\n      <td>0.0</td>\n      <td>...</td>\n      <td>0.0</td>\n      <td>0.0</td>\n      <td>0.0</td>\n      <td>0.0</td>\n      <td>0.0</td>\n      <td>0.0</td>\n      <td>0.0</td>\n      <td>0.0</td>\n      <td>0.0</td>\n      <td>0.0</td>\n    </tr>\n    <tr>\n      <th>3G0E</th>\n      <td>12:32:51</td>\n      <td>0</td>\n      <td>1.0</td>\n      <td>0.0</td>\n      <td>0.0</td>\n      <td>0.0</td>\n      <td>0.0</td>\n      <td>0.0</td>\n      <td>0.0</td>\n      <td>0.0</td>\n      <td>...</td>\n      <td>0.0</td>\n      <td>0.0</td>\n      <td>0.0</td>\n      <td>0.0</td>\n      <td>0.0</td>\n      <td>0.0</td>\n      <td>0.0</td>\n      <td>0.0</td>\n      <td>0.0</td>\n      <td>0.0</td>\n    </tr>\n    <tr>\n      <th>8K6E</th>\n      <td>12:33:28</td>\n      <td>0</td>\n      <td>0.0</td>\n      <td>0.0</td>\n      <td>0.0</td>\n      <td>0.0</td>\n      <td>0.0</td>\n      <td>0.0</td>\n      <td>0.0</td>\n      <td>0.0</td>\n      <td>...</td>\n      <td>0.0</td>\n      <td>0.0</td>\n      <td>0.0</td>\n      <td>0.0</td>\n      <td>0.0</td>\n      <td>0.0</td>\n      <td>0.0</td>\n      <td>0.0</td>\n      <td>0.0</td>\n      <td>0.0</td>\n    </tr>\n    <tr>\n      <th>...</th>\n      <td>...</td>\n      <td>...</td>\n      <td>...</td>\n      <td>...</td>\n      <td>...</td>\n      <td>...</td>\n      <td>...</td>\n      <td>...</td>\n      <td>...</td>\n      <td>...</td>\n      <td>...</td>\n      <td>...</td>\n      <td>...</td>\n      <td>...</td>\n      <td>...</td>\n      <td>...</td>\n      <td>...</td>\n      <td>...</td>\n      <td>...</td>\n      <td>...</td>\n      <td>...</td>\n    </tr>\n    <tr>\n      <th>2D7O</th>\n      <td>13:05:03</td>\n      <td>0</td>\n      <td>0.0</td>\n      <td>0.0</td>\n      <td>0.0</td>\n      <td>0.0</td>\n      <td>0.0</td>\n      <td>0.0</td>\n      <td>0.0</td>\n      <td>0.0</td>\n      <td>...</td>\n      <td>0.0</td>\n      <td>0.0</td>\n      <td>0.0</td>\n      <td>0.0</td>\n      <td>0.0</td>\n      <td>0.0</td>\n      <td>0.0</td>\n      <td>0.0</td>\n      <td>0.0</td>\n      <td>0.0</td>\n    </tr>\n    <tr>\n      <th>8J2L</th>\n      <td>13:05:14</td>\n      <td>0</td>\n      <td>0.0</td>\n      <td>1.0</td>\n      <td>0.0</td>\n      <td>0.0</td>\n      <td>0.0</td>\n      <td>0.0</td>\n      <td>0.0</td>\n      <td>0.0</td>\n      <td>...</td>\n      <td>0.0</td>\n      <td>0.0</td>\n      <td>0.0</td>\n      <td>0.0</td>\n      <td>0.0</td>\n      <td>0.0</td>\n      <td>0.0</td>\n      <td>0.0</td>\n      <td>1.0</td>\n      <td>0.0</td>\n    </tr>\n    <tr>\n      <th>1L4G</th>\n      <td>13:05:35</td>\n      <td>0</td>\n      <td>0.0</td>\n      <td>0.0</td>\n      <td>0.0</td>\n      <td>0.0</td>\n      <td>0.0</td>\n      <td>0.0</td>\n      <td>0.0</td>\n      <td>0.0</td>\n      <td>...</td>\n      <td>0.0</td>\n      <td>0.0</td>\n      <td>0.0</td>\n      <td>0.0</td>\n      <td>0.0</td>\n      <td>0.0</td>\n      <td>0.0</td>\n      <td>0.0</td>\n      <td>0.0</td>\n      <td>0.0</td>\n    </tr>\n    <tr>\n      <th>1M2Q</th>\n      <td>13:05:41</td>\n      <td>0</td>\n      <td>0.0</td>\n      <td>0.0</td>\n      <td>0.0</td>\n      <td>0.0</td>\n      <td>0.0</td>\n      <td>0.0</td>\n      <td>0.0</td>\n      <td>0.0</td>\n      <td>...</td>\n      <td>0.0</td>\n      <td>0.0</td>\n      <td>0.0</td>\n      <td>0.0</td>\n      <td>0.0</td>\n      <td>0.0</td>\n      <td>0.0</td>\n      <td>0.0</td>\n      <td>0.0</td>\n      <td>0.0</td>\n    </tr>\n    <tr>\n      <th>254Q</th>\n      <td>13:05:42</td>\n      <td>0</td>\n      <td>0.0</td>\n      <td>0.0</td>\n      <td>0.0</td>\n      <td>0.0</td>\n      <td>0.0</td>\n      <td>0.0</td>\n      <td>0.0</td>\n      <td>0.0</td>\n      <td>...</td>\n      <td>0.0</td>\n      <td>0.0</td>\n      <td>0.0</td>\n      <td>0.0</td>\n      <td>0.0</td>\n      <td>0.0</td>\n      <td>0.0</td>\n      <td>0.0</td>\n      <td>0.0</td>\n      <td>0.0</td>\n    </tr>\n  </tbody>\n</table>\n<p>437 rows × 80 columns</p>\n</div>"
     },
     "execution_count": 32,
     "metadata": {},
     "output_type": "execute_result"
    }
   ],
   "source": [
    "csv_light_wo_na = csv_light.fillna(0)\n",
    "csv_light_wo_na"
   ]
  },
  {
   "cell_type": "code",
   "execution_count": 33,
   "id": "ba5ab4c5",
   "metadata": {
    "pycharm": {
     "name": "#%%\n"
    }
   },
   "outputs": [],
   "source": [
    "csv_light_wo_na.to_csv(\"Merged_Choix.csv\", encoding='latin1')"
   ]
  },
  {
   "cell_type": "code",
   "execution_count": 33,
   "id": "bc4fc198",
   "metadata": {
    "pycharm": {
     "name": "#%%\n"
    }
   },
   "outputs": [],
   "source": []
  }
 ],
 "metadata": {
  "kernelspec": {
   "display_name": "base",
   "language": "python",
   "name": "python3"
  },
  "language_info": {
   "codemirror_mode": {
    "name": "ipython",
    "version": 3
   },
   "file_extension": ".py",
   "mimetype": "text/x-python",
   "name": "python",
   "nbconvert_exporter": "python",
   "pygments_lexer": "ipython3",
   "version": "3.9.13"
  },
  "vscode": {
   "interpreter": {
    "hash": "5fc140dc3efbcdd724716f65d474894e1947e1edd4b80a080fedd84e10bf2ba4"
   }
  }
 },
 "nbformat": 4,
 "nbformat_minor": 5
}