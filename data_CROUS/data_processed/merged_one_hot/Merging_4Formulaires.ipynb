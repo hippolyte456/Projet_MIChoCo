{
 "cells": [
  {
   "cell_type": "markdown",
   "id": "32544c87",
   "metadata": {},
   "source": [
    "# Mise en forme et merging les 4 fichiers formulaires"
   ]
  },
  {
   "cell_type": "markdown",
   "id": "5cc23689",
   "metadata": {},
   "source": [
    "Code inspiré du fichier `preprocessing_formulaire_hippo.ipynb` (mise en forme des colonnes) et `OneHot Formulaires.ipynb` (concaténation des csv)"
   ]
  },
  {
   "cell_type": "markdown",
   "id": "62df135d",
   "metadata": {},
   "source": [
    "## Chargement packages et données"
   ]
  },
  {
   "cell_type": "code",
   "execution_count": 674,
   "id": "b56c7127",
   "metadata": {},
   "outputs": [
    {
     "data": {
      "text/plain": [
       "\"C:\\\\Users\\\\Ju'\\\\Documents\\\\INGE 3A\\\\IODAA_Fil_Rouge\""
      ]
     },
     "execution_count": 674,
     "metadata": {},
     "output_type": "execute_result"
    }
   ],
   "source": [
    "import numpy as np\n",
    "import pandas as pd\n",
    "import os\n",
    "import math\n",
    "import re \n",
    "os.getcwd()"
   ]
  },
  {
   "cell_type": "code",
   "execution_count": 675,
   "id": "4feb1e96",
   "metadata": {},
   "outputs": [],
   "source": [
    "#df1 = pd.read_csv(file_in, sep=\";\")\n",
    "csv_1 = pd.read_csv(\"data_CROUS/data/Resultats_formulaires_21_octobre.csv\", sep=\";\", decimal =\",\")\n",
    "csv_2 = pd.read_csv(\"data_CROUS/data/Resultats_formulaires_22_octobre.csv\", sep=\";\", decimal =\",\")\n",
    "csv_3 = pd.read_csv(\"data_CROUS/data/Resultats_formulaires_28_octobre.csv\", sep=\";\", decimal =\",\")\n",
    "csv_4 = pd.read_csv(\"data_CROUS/data/Resultats_formulaires_29_octobre.csv\", sep=\";\", decimal =\",\")"
   ]
  },
  {
   "cell_type": "code",
   "execution_count": 676,
   "id": "97e6a5b0",
   "metadata": {},
   "outputs": [
    {
     "data": {
      "text/html": [
       "<div>\n",
       "<style scoped>\n",
       "    .dataframe tbody tr th:only-of-type {\n",
       "        vertical-align: middle;\n",
       "    }\n",
       "\n",
       "    .dataframe tbody tr th {\n",
       "        vertical-align: top;\n",
       "    }\n",
       "\n",
       "    .dataframe thead th {\n",
       "        text-align: right;\n",
       "    }\n",
       "</style>\n",
       "<table border=\"1\" class=\"dataframe\">\n",
       "  <thead>\n",
       "    <tr style=\"text-align: right;\">\n",
       "      <th></th>\n",
       "      <th>N° Formulaire</th>\n",
       "      <th>Genre</th>\n",
       "      <th>Âge</th>\n",
       "      <th>Taille (m)</th>\n",
       "      <th>Poids (kg)</th>\n",
       "      <th>IMC</th>\n",
       "      <th>Activité physique</th>\n",
       "      <th>Régime particulier</th>\n",
       "      <th>Végé</th>\n",
       "      <th>Fréquence CROUS</th>\n",
       "      <th>...</th>\n",
       "      <th>Stress</th>\n",
       "      <th>Nb convives</th>\n",
       "      <th>Ami 1</th>\n",
       "      <th>Ami 2</th>\n",
       "      <th>Ami 3</th>\n",
       "      <th>Ami 4</th>\n",
       "      <th>Ami 5</th>\n",
       "      <th>Unnamed: 27</th>\n",
       "      <th>Unnamed: 28</th>\n",
       "      <th>Unnamed: 29</th>\n",
       "    </tr>\n",
       "  </thead>\n",
       "  <tbody>\n",
       "    <tr>\n",
       "      <th>0</th>\n",
       "      <td>2E8L</td>\n",
       "      <td>M</td>\n",
       "      <td>20.0</td>\n",
       "      <td>1.84</td>\n",
       "      <td>72.0</td>\n",
       "      <td>21,26654064</td>\n",
       "      <td>Importante</td>\n",
       "      <td>Non</td>\n",
       "      <td>Non</td>\n",
       "      <td>Tous les jours ou presque</td>\n",
       "      <td>...</td>\n",
       "      <td>Plutôt non</td>\n",
       "      <td>4</td>\n",
       "      <td>2H8Q</td>\n",
       "      <td>2 Sans formulaire</td>\n",
       "      <td>NaN</td>\n",
       "      <td>NaN</td>\n",
       "      <td>NaN</td>\n",
       "      <td>NaN</td>\n",
       "      <td>NaN</td>\n",
       "      <td>NaN</td>\n",
       "    </tr>\n",
       "    <tr>\n",
       "      <th>1</th>\n",
       "      <td>6Z9V</td>\n",
       "      <td>M</td>\n",
       "      <td>19.0</td>\n",
       "      <td>1.75</td>\n",
       "      <td>79.0</td>\n",
       "      <td>25,79591837</td>\n",
       "      <td>Faible</td>\n",
       "      <td>Oui</td>\n",
       "      <td>Non</td>\n",
       "      <td>Tous les jours ou presque</td>\n",
       "      <td>...</td>\n",
       "      <td>Oui, très</td>\n",
       "      <td>NaN</td>\n",
       "      <td>N.A</td>\n",
       "      <td>Même groupe pour 4 N.A</td>\n",
       "      <td>NaN</td>\n",
       "      <td>NaN</td>\n",
       "      <td>NaN</td>\n",
       "      <td>NaN</td>\n",
       "      <td>NaN</td>\n",
       "      <td>NaN</td>\n",
       "    </tr>\n",
       "    <tr>\n",
       "      <th>2</th>\n",
       "      <td>1P5N</td>\n",
       "      <td>M</td>\n",
       "      <td>19.0</td>\n",
       "      <td>1.74</td>\n",
       "      <td>74.0</td>\n",
       "      <td>24,44180209</td>\n",
       "      <td>Modérée</td>\n",
       "      <td>Oui</td>\n",
       "      <td>Non</td>\n",
       "      <td>Tous les jours ou presque</td>\n",
       "      <td>...</td>\n",
       "      <td>Plutôt oui</td>\n",
       "      <td>NaN</td>\n",
       "      <td>N.A</td>\n",
       "      <td>Même groupe pour 4 N.A</td>\n",
       "      <td>NaN</td>\n",
       "      <td>NaN</td>\n",
       "      <td>NaN</td>\n",
       "      <td>NaN</td>\n",
       "      <td>NaN</td>\n",
       "      <td>NaN</td>\n",
       "    </tr>\n",
       "    <tr>\n",
       "      <th>3</th>\n",
       "      <td>1L0F</td>\n",
       "      <td>M</td>\n",
       "      <td>21.0</td>\n",
       "      <td>1.70</td>\n",
       "      <td>51.0</td>\n",
       "      <td>17,64705882</td>\n",
       "      <td>N.A</td>\n",
       "      <td>Oui</td>\n",
       "      <td>Non</td>\n",
       "      <td>Tous les jours ou presque</td>\n",
       "      <td>...</td>\n",
       "      <td>Plutôt oui</td>\n",
       "      <td>NaN</td>\n",
       "      <td>N.A</td>\n",
       "      <td>Même groupe pour 4 N.A</td>\n",
       "      <td>NaN</td>\n",
       "      <td>NaN</td>\n",
       "      <td>NaN</td>\n",
       "      <td>NaN</td>\n",
       "      <td>NaN</td>\n",
       "      <td>NaN</td>\n",
       "    </tr>\n",
       "    <tr>\n",
       "      <th>4</th>\n",
       "      <td>6U1H</td>\n",
       "      <td>M</td>\n",
       "      <td>18.0</td>\n",
       "      <td>1.78</td>\n",
       "      <td>71.0</td>\n",
       "      <td>22,40878677</td>\n",
       "      <td>Modérée</td>\n",
       "      <td>Non</td>\n",
       "      <td>Non</td>\n",
       "      <td>Tous les jours ou presque</td>\n",
       "      <td>...</td>\n",
       "      <td>Plutôt non</td>\n",
       "      <td>NaN</td>\n",
       "      <td>N.A</td>\n",
       "      <td>Même groupe pour 4 N.A</td>\n",
       "      <td>NaN</td>\n",
       "      <td>NaN</td>\n",
       "      <td>NaN</td>\n",
       "      <td>NaN</td>\n",
       "      <td>NaN</td>\n",
       "      <td>NaN</td>\n",
       "    </tr>\n",
       "  </tbody>\n",
       "</table>\n",
       "<p>5 rows × 30 columns</p>\n",
       "</div>"
      ],
      "text/plain": [
       "  N° Formulaire Genre   Âge  Taille (m)  Poids (kg)         IMC   \\\n",
       "0          2E8L     M  20.0        1.84        72.0  21,26654064   \n",
       "1          6Z9V     M  19.0        1.75        79.0  25,79591837   \n",
       "2          1P5N     M  19.0        1.74        74.0  24,44180209   \n",
       "3          1L0F     M  21.0        1.70        51.0  17,64705882   \n",
       "4          6U1H     M  18.0        1.78        71.0  22,40878677   \n",
       "\n",
       "  Activité physique Régime particulier Végé            Fréquence CROUS  ...  \\\n",
       "0        Importante                Non  Non  Tous les jours ou presque  ...   \n",
       "1            Faible                Oui  Non  Tous les jours ou presque  ...   \n",
       "2           Modérée                Oui  Non  Tous les jours ou presque  ...   \n",
       "3               N.A                Oui  Non  Tous les jours ou presque  ...   \n",
       "4           Modérée                Non  Non  Tous les jours ou presque  ...   \n",
       "\n",
       "       Stress Nb convives   Ami 1                   Ami 2 Ami 3  Ami 4 Ami 5  \\\n",
       "0  Plutôt non            4   2H8Q       2 Sans formulaire    NaN   NaN   NaN   \n",
       "1   Oui, très          NaN    N.A  Même groupe pour 4 N.A    NaN   NaN   NaN   \n",
       "2  Plutôt oui          NaN    N.A  Même groupe pour 4 N.A    NaN   NaN   NaN   \n",
       "3  Plutôt oui          NaN    N.A  Même groupe pour 4 N.A    NaN   NaN   NaN   \n",
       "4  Plutôt non          NaN    N.A  Même groupe pour 4 N.A    NaN   NaN   NaN   \n",
       "\n",
       "  Unnamed: 27 Unnamed: 28 Unnamed: 29  \n",
       "0         NaN         NaN         NaN  \n",
       "1         NaN         NaN         NaN  \n",
       "2         NaN         NaN         NaN  \n",
       "3         NaN         NaN         NaN  \n",
       "4         NaN         NaN         NaN  \n",
       "\n",
       "[5 rows x 30 columns]"
      ]
     },
     "execution_count": 676,
     "metadata": {},
     "output_type": "execute_result"
    }
   ],
   "source": [
    "csv_1.head()"
   ]
  },
  {
   "cell_type": "code",
   "execution_count": 677,
   "id": "c7465242",
   "metadata": {},
   "outputs": [
    {
     "data": {
      "text/html": [
       "<div>\n",
       "<style scoped>\n",
       "    .dataframe tbody tr th:only-of-type {\n",
       "        vertical-align: middle;\n",
       "    }\n",
       "\n",
       "    .dataframe tbody tr th {\n",
       "        vertical-align: top;\n",
       "    }\n",
       "\n",
       "    .dataframe thead th {\n",
       "        text-align: right;\n",
       "    }\n",
       "</style>\n",
       "<table border=\"1\" class=\"dataframe\">\n",
       "  <thead>\n",
       "    <tr style=\"text-align: right;\">\n",
       "      <th></th>\n",
       "      <th>N° Formulaire</th>\n",
       "      <th>Genre</th>\n",
       "      <th>Âge</th>\n",
       "      <th>Taille (m)</th>\n",
       "      <th>Poids (kg)</th>\n",
       "      <th>IMC</th>\n",
       "      <th>Activité physique</th>\n",
       "      <th>Régime particulier</th>\n",
       "      <th>Végé</th>\n",
       "      <th>Fréquence CROUS</th>\n",
       "      <th>...</th>\n",
       "      <th>Stress</th>\n",
       "      <th>Nb convives</th>\n",
       "      <th>Ami 1</th>\n",
       "      <th>Ami 2</th>\n",
       "      <th>Ami 3</th>\n",
       "      <th>Ami 4</th>\n",
       "      <th>Ami 5</th>\n",
       "      <th>Unnamed: 27</th>\n",
       "      <th>Unnamed: 28</th>\n",
       "      <th>Unnamed: 29</th>\n",
       "    </tr>\n",
       "  </thead>\n",
       "  <tbody>\n",
       "    <tr>\n",
       "      <th>266</th>\n",
       "      <td>1T9W</td>\n",
       "      <td>NaN</td>\n",
       "      <td>NaN</td>\n",
       "      <td>NaN</td>\n",
       "      <td>NaN</td>\n",
       "      <td>NaN</td>\n",
       "      <td>NaN</td>\n",
       "      <td>NaN</td>\n",
       "      <td>NaN</td>\n",
       "      <td>NaN</td>\n",
       "      <td>...</td>\n",
       "      <td>NaN</td>\n",
       "      <td>NaN</td>\n",
       "      <td>NaN</td>\n",
       "      <td>NaN</td>\n",
       "      <td>NaN</td>\n",
       "      <td>NaN</td>\n",
       "      <td>NaN</td>\n",
       "      <td>NaN</td>\n",
       "      <td>NaN</td>\n",
       "      <td>NaN</td>\n",
       "    </tr>\n",
       "    <tr>\n",
       "      <th>267</th>\n",
       "      <td>1W6X</td>\n",
       "      <td>NaN</td>\n",
       "      <td>NaN</td>\n",
       "      <td>NaN</td>\n",
       "      <td>NaN</td>\n",
       "      <td>NaN</td>\n",
       "      <td>NaN</td>\n",
       "      <td>NaN</td>\n",
       "      <td>NaN</td>\n",
       "      <td>NaN</td>\n",
       "      <td>...</td>\n",
       "      <td>NaN</td>\n",
       "      <td>NaN</td>\n",
       "      <td>NaN</td>\n",
       "      <td>NaN</td>\n",
       "      <td>NaN</td>\n",
       "      <td>NaN</td>\n",
       "      <td>NaN</td>\n",
       "      <td>NaN</td>\n",
       "      <td>NaN</td>\n",
       "      <td>NaN</td>\n",
       "    </tr>\n",
       "    <tr>\n",
       "      <th>268</th>\n",
       "      <td>5O0Y</td>\n",
       "      <td>NaN</td>\n",
       "      <td>NaN</td>\n",
       "      <td>NaN</td>\n",
       "      <td>NaN</td>\n",
       "      <td>NaN</td>\n",
       "      <td>NaN</td>\n",
       "      <td>NaN</td>\n",
       "      <td>NaN</td>\n",
       "      <td>NaN</td>\n",
       "      <td>...</td>\n",
       "      <td>NaN</td>\n",
       "      <td>NaN</td>\n",
       "      <td>NaN</td>\n",
       "      <td>NaN</td>\n",
       "      <td>NaN</td>\n",
       "      <td>NaN</td>\n",
       "      <td>NaN</td>\n",
       "      <td>NaN</td>\n",
       "      <td>NaN</td>\n",
       "      <td>NaN</td>\n",
       "    </tr>\n",
       "    <tr>\n",
       "      <th>269</th>\n",
       "      <td>3R5P</td>\n",
       "      <td>NaN</td>\n",
       "      <td>NaN</td>\n",
       "      <td>NaN</td>\n",
       "      <td>NaN</td>\n",
       "      <td>NaN</td>\n",
       "      <td>NaN</td>\n",
       "      <td>NaN</td>\n",
       "      <td>NaN</td>\n",
       "      <td>NaN</td>\n",
       "      <td>...</td>\n",
       "      <td>NaN</td>\n",
       "      <td>NaN</td>\n",
       "      <td>NaN</td>\n",
       "      <td>NaN</td>\n",
       "      <td>NaN</td>\n",
       "      <td>NaN</td>\n",
       "      <td>NaN</td>\n",
       "      <td>NaN</td>\n",
       "      <td>NaN</td>\n",
       "      <td>NaN</td>\n",
       "    </tr>\n",
       "    <tr>\n",
       "      <th>270</th>\n",
       "      <td>8K4B</td>\n",
       "      <td>NaN</td>\n",
       "      <td>NaN</td>\n",
       "      <td>NaN</td>\n",
       "      <td>NaN</td>\n",
       "      <td>NaN</td>\n",
       "      <td>NaN</td>\n",
       "      <td>NaN</td>\n",
       "      <td>NaN</td>\n",
       "      <td>NaN</td>\n",
       "      <td>...</td>\n",
       "      <td>NaN</td>\n",
       "      <td>NaN</td>\n",
       "      <td>NaN</td>\n",
       "      <td>NaN</td>\n",
       "      <td>NaN</td>\n",
       "      <td>NaN</td>\n",
       "      <td>NaN</td>\n",
       "      <td>NaN</td>\n",
       "      <td>NaN</td>\n",
       "      <td>NaN</td>\n",
       "    </tr>\n",
       "  </tbody>\n",
       "</table>\n",
       "<p>5 rows × 30 columns</p>\n",
       "</div>"
      ],
      "text/plain": [
       "    N° Formulaire Genre  Âge  Taille (m)  Poids (kg) IMC  Activité physique  \\\n",
       "266          1T9W   NaN  NaN         NaN         NaN  NaN               NaN   \n",
       "267          1W6X   NaN  NaN         NaN         NaN  NaN               NaN   \n",
       "268          5O0Y   NaN  NaN         NaN         NaN  NaN               NaN   \n",
       "269          3R5P   NaN  NaN         NaN         NaN  NaN               NaN   \n",
       "270          8K4B   NaN  NaN         NaN         NaN  NaN               NaN   \n",
       "\n",
       "    Régime particulier Végé Fréquence CROUS  ... Stress Nb convives   Ami 1  \\\n",
       "266                NaN  NaN             NaN  ...    NaN          NaN    NaN   \n",
       "267                NaN  NaN             NaN  ...    NaN          NaN    NaN   \n",
       "268                NaN  NaN             NaN  ...    NaN          NaN    NaN   \n",
       "269                NaN  NaN             NaN  ...    NaN          NaN    NaN   \n",
       "270                NaN  NaN             NaN  ...    NaN          NaN    NaN   \n",
       "\n",
       "    Ami 2 Ami 3  Ami 4 Ami 5 Unnamed: 27 Unnamed: 28 Unnamed: 29  \n",
       "266   NaN    NaN   NaN   NaN         NaN         NaN         NaN  \n",
       "267   NaN    NaN   NaN   NaN         NaN         NaN         NaN  \n",
       "268   NaN    NaN   NaN   NaN         NaN         NaN         NaN  \n",
       "269   NaN    NaN   NaN   NaN         NaN         NaN         NaN  \n",
       "270   NaN    NaN   NaN   NaN         NaN         NaN         NaN  \n",
       "\n",
       "[5 rows x 30 columns]"
      ]
     },
     "execution_count": 677,
     "metadata": {},
     "output_type": "execute_result"
    }
   ],
   "source": [
    "csv_1.tail()"
   ]
  },
  {
   "cell_type": "markdown",
   "id": "3db7ea23",
   "metadata": {},
   "source": [
    "Des lignes à la fin de chaque fichier csv n'ont pas été renseignée ou avec des annontations, il faut les enlever."
   ]
  },
  {
   "cell_type": "markdown",
   "id": "bf80508c",
   "metadata": {},
   "source": [
    "## Reduction du CSV aux données seules"
   ]
  },
  {
   "cell_type": "markdown",
   "id": "1280f874",
   "metadata": {},
   "source": [
    "On enlève les annotations en bas, les lignes non remplies en bas. On enlève de même les colonnes non remplies."
   ]
  },
  {
   "cell_type": "code",
   "execution_count": 678,
   "id": "cabea1a3",
   "metadata": {},
   "outputs": [],
   "source": [
    "#print(csv_4.iloc[84, :])\n",
    "#print(csv_1.iloc[:, :27].columns)"
   ]
  },
  {
   "cell_type": "code",
   "execution_count": 679,
   "id": "5d94318c",
   "metadata": {},
   "outputs": [],
   "source": [
    "#on garde les lignes remplies des tableurs\n",
    "csv_1 = csv_1.iloc[:135, :27]\n",
    "csv_2 = csv_2.iloc[:69, :27]\n",
    "csv_3 = csv_3.iloc[:169, :27]\n",
    "csv_4 = csv_4.iloc[:85, :27]"
   ]
  },
  {
   "cell_type": "markdown",
   "id": "2d356cba",
   "metadata": {},
   "source": [
    "## Concaténation des CSV pour les différents jours"
   ]
  },
  {
   "cell_type": "code",
   "execution_count": 680,
   "id": "0bae3a25",
   "metadata": {},
   "outputs": [],
   "source": [
    "csv_1.columns = [\"N° Formulaire\",'Genre', 'Age', 'Taille', 'Poids', 'IMC', 'Activité physique',\n",
    "       'Régime particulier', 'Végé', 'Fréquence CROUS', 'Equilibre alim',\n",
    "       'Seule ou en groupe', 'Nb groupe entrée', 'Proximité', 'Connaissance',\n",
    "       'Parti groupe', 'Influ sociale', 'Percept senso', 'Nb file', 'Faim',\n",
    "       'Stress', 'Nb convives', 'Ami 1', 'Ami 2', 'Ami 3', 'Ami 4', 'Ami 5']\n",
    "csv_2.columns = csv_1.columns\n",
    "csv_3.columns = csv_1.columns\n",
    "csv_4.columns = csv_1.columns"
   ]
  },
  {
   "cell_type": "code",
   "execution_count": 681,
   "id": "337eb000",
   "metadata": {},
   "outputs": [],
   "source": [
    "csv_tot = pd.concat([csv_1, csv_2,csv_3, csv_4])\n",
    "csv_tot = csv_tot.set_index(\"N° Formulaire\")"
   ]
  },
  {
   "cell_type": "code",
   "execution_count": 682,
   "id": "c145bd98",
   "metadata": {},
   "outputs": [
    {
     "data": {
      "text/plain": [
       "Index(['Genre', 'Age', 'Taille', 'Poids', 'IMC', 'Activité physique',\n",
       "       'Régime particulier', 'Végé', 'Fréquence CROUS', 'Equilibre alim',\n",
       "       'Seule ou en groupe', 'Nb groupe entrée', 'Proximité', 'Connaissance',\n",
       "       'Parti groupe', 'Influ sociale', 'Percept senso', 'Nb file', 'Faim',\n",
       "       'Stress', 'Nb convives', 'Ami 1', 'Ami 2', 'Ami 3', 'Ami 4', 'Ami 5'],\n",
       "      dtype='object')"
      ]
     },
     "execution_count": 682,
     "metadata": {},
     "output_type": "execute_result"
    }
   ],
   "source": [
    "csv_tot.columns"
   ]
  },
  {
   "cell_type": "code",
   "execution_count": 683,
   "id": "2c29698b",
   "metadata": {},
   "outputs": [
    {
     "data": {
      "text/html": [
       "<div>\n",
       "<style scoped>\n",
       "    .dataframe tbody tr th:only-of-type {\n",
       "        vertical-align: middle;\n",
       "    }\n",
       "\n",
       "    .dataframe tbody tr th {\n",
       "        vertical-align: top;\n",
       "    }\n",
       "\n",
       "    .dataframe thead th {\n",
       "        text-align: right;\n",
       "    }\n",
       "</style>\n",
       "<table border=\"1\" class=\"dataframe\">\n",
       "  <thead>\n",
       "    <tr style=\"text-align: right;\">\n",
       "      <th></th>\n",
       "      <th>Genre</th>\n",
       "      <th>Age</th>\n",
       "      <th>Taille</th>\n",
       "      <th>Poids</th>\n",
       "      <th>IMC</th>\n",
       "      <th>Activité physique</th>\n",
       "      <th>Régime particulier</th>\n",
       "      <th>Végé</th>\n",
       "      <th>Fréquence CROUS</th>\n",
       "      <th>Equilibre alim</th>\n",
       "      <th>...</th>\n",
       "      <th>Percept senso</th>\n",
       "      <th>Nb file</th>\n",
       "      <th>Faim</th>\n",
       "      <th>Stress</th>\n",
       "      <th>Nb convives</th>\n",
       "      <th>Ami 1</th>\n",
       "      <th>Ami 2</th>\n",
       "      <th>Ami 3</th>\n",
       "      <th>Ami 4</th>\n",
       "      <th>Ami 5</th>\n",
       "    </tr>\n",
       "    <tr>\n",
       "      <th>N° Formulaire</th>\n",
       "      <th></th>\n",
       "      <th></th>\n",
       "      <th></th>\n",
       "      <th></th>\n",
       "      <th></th>\n",
       "      <th></th>\n",
       "      <th></th>\n",
       "      <th></th>\n",
       "      <th></th>\n",
       "      <th></th>\n",
       "      <th></th>\n",
       "      <th></th>\n",
       "      <th></th>\n",
       "      <th></th>\n",
       "      <th></th>\n",
       "      <th></th>\n",
       "      <th></th>\n",
       "      <th></th>\n",
       "      <th></th>\n",
       "      <th></th>\n",
       "      <th></th>\n",
       "    </tr>\n",
       "  </thead>\n",
       "  <tbody>\n",
       "    <tr>\n",
       "      <th>2E8L</th>\n",
       "      <td>M</td>\n",
       "      <td>20.0</td>\n",
       "      <td>1.84</td>\n",
       "      <td>72.0</td>\n",
       "      <td>21,26654064</td>\n",
       "      <td>Importante</td>\n",
       "      <td>Non</td>\n",
       "      <td>Non</td>\n",
       "      <td>Tous les jours ou presque</td>\n",
       "      <td>Moyennement</td>\n",
       "      <td>...</td>\n",
       "      <td>Moyennement influencé</td>\n",
       "      <td>Non, je ne sais pas</td>\n",
       "      <td>Oui,assez faim</td>\n",
       "      <td>Plutôt non</td>\n",
       "      <td>4</td>\n",
       "      <td>2H8Q</td>\n",
       "      <td>2 Sans formulaire</td>\n",
       "      <td>NaN</td>\n",
       "      <td>NaN</td>\n",
       "      <td>NaN</td>\n",
       "    </tr>\n",
       "    <tr>\n",
       "      <th>6Z9V</th>\n",
       "      <td>M</td>\n",
       "      <td>19.0</td>\n",
       "      <td>1.75</td>\n",
       "      <td>79.0</td>\n",
       "      <td>25,79591837</td>\n",
       "      <td>Faible</td>\n",
       "      <td>Oui</td>\n",
       "      <td>Non</td>\n",
       "      <td>Tous les jours ou presque</td>\n",
       "      <td>Moyennement</td>\n",
       "      <td>...</td>\n",
       "      <td>Moyennement influencé</td>\n",
       "      <td>Non, pas trop</td>\n",
       "      <td>Oui, très faim</td>\n",
       "      <td>Oui, très</td>\n",
       "      <td>NaN</td>\n",
       "      <td>N.A</td>\n",
       "      <td>Même groupe pour 4 N.A</td>\n",
       "      <td>NaN</td>\n",
       "      <td>NaN</td>\n",
       "      <td>NaN</td>\n",
       "    </tr>\n",
       "    <tr>\n",
       "      <th>1P5N</th>\n",
       "      <td>M</td>\n",
       "      <td>19.0</td>\n",
       "      <td>1.74</td>\n",
       "      <td>74.0</td>\n",
       "      <td>24,44180209</td>\n",
       "      <td>Modérée</td>\n",
       "      <td>Oui</td>\n",
       "      <td>Non</td>\n",
       "      <td>Tous les jours ou presque</td>\n",
       "      <td>Moyennement</td>\n",
       "      <td>...</td>\n",
       "      <td>Peu influencé</td>\n",
       "      <td>Non, pas trop</td>\n",
       "      <td>Oui,assez faim</td>\n",
       "      <td>Plutôt oui</td>\n",
       "      <td>NaN</td>\n",
       "      <td>N.A</td>\n",
       "      <td>Même groupe pour 4 N.A</td>\n",
       "      <td>NaN</td>\n",
       "      <td>NaN</td>\n",
       "      <td>NaN</td>\n",
       "    </tr>\n",
       "    <tr>\n",
       "      <th>1L0F</th>\n",
       "      <td>M</td>\n",
       "      <td>21.0</td>\n",
       "      <td>1.70</td>\n",
       "      <td>51.0</td>\n",
       "      <td>17,64705882</td>\n",
       "      <td>N.A</td>\n",
       "      <td>Oui</td>\n",
       "      <td>Non</td>\n",
       "      <td>Tous les jours ou presque</td>\n",
       "      <td>Moyennement</td>\n",
       "      <td>...</td>\n",
       "      <td>Pas influencé</td>\n",
       "      <td>Non, je ne sais pas</td>\n",
       "      <td>Oui, assez faim faim</td>\n",
       "      <td>Plutôt oui</td>\n",
       "      <td>NaN</td>\n",
       "      <td>N.A</td>\n",
       "      <td>Même groupe pour 4 N.A</td>\n",
       "      <td>NaN</td>\n",
       "      <td>NaN</td>\n",
       "      <td>NaN</td>\n",
       "    </tr>\n",
       "    <tr>\n",
       "      <th>6U1H</th>\n",
       "      <td>M</td>\n",
       "      <td>18.0</td>\n",
       "      <td>1.78</td>\n",
       "      <td>71.0</td>\n",
       "      <td>22,40878677</td>\n",
       "      <td>Modérée</td>\n",
       "      <td>Non</td>\n",
       "      <td>Non</td>\n",
       "      <td>Tous les jours ou presque</td>\n",
       "      <td>Moyennement</td>\n",
       "      <td>...</td>\n",
       "      <td>Très influencé</td>\n",
       "      <td>Non, je ne pense pas</td>\n",
       "      <td>Oui, assez faim faim</td>\n",
       "      <td>Plutôt non</td>\n",
       "      <td>NaN</td>\n",
       "      <td>N.A</td>\n",
       "      <td>Même groupe pour 4 N.A</td>\n",
       "      <td>NaN</td>\n",
       "      <td>NaN</td>\n",
       "      <td>NaN</td>\n",
       "    </tr>\n",
       "  </tbody>\n",
       "</table>\n",
       "<p>5 rows × 26 columns</p>\n",
       "</div>"
      ],
      "text/plain": [
       "              Genre   Age  Taille  Poids          IMC Activité physique  \\\n",
       "N° Formulaire                                                             \n",
       "2E8L              M  20.0    1.84   72.0  21,26654064        Importante   \n",
       "6Z9V              M  19.0    1.75   79.0  25,79591837            Faible   \n",
       "1P5N              M  19.0    1.74   74.0  24,44180209           Modérée   \n",
       "1L0F              M  21.0    1.70   51.0  17,64705882               N.A   \n",
       "6U1H              M  18.0    1.78   71.0  22,40878677           Modérée   \n",
       "\n",
       "              Régime particulier Végé            Fréquence CROUS  \\\n",
       "N° Formulaire                                                      \n",
       "2E8L                         Non  Non  Tous les jours ou presque   \n",
       "6Z9V                         Oui  Non  Tous les jours ou presque   \n",
       "1P5N                         Oui  Non  Tous les jours ou presque   \n",
       "1L0F                         Oui  Non  Tous les jours ou presque   \n",
       "6U1H                         Non  Non  Tous les jours ou presque   \n",
       "\n",
       "              Equilibre alim  ...          Percept senso  \\\n",
       "N° Formulaire                 ...                          \n",
       "2E8L             Moyennement  ...  Moyennement influencé   \n",
       "6Z9V             Moyennement  ...  Moyennement influencé   \n",
       "1P5N             Moyennement  ...          Peu influencé   \n",
       "1L0F             Moyennement  ...          Pas influencé   \n",
       "6U1H             Moyennement  ...         Très influencé   \n",
       "\n",
       "                            Nb file                  Faim      Stress  \\\n",
       "N° Formulaire                                                           \n",
       "2E8L            Non, je ne sais pas        Oui,assez faim  Plutôt non   \n",
       "6Z9V                  Non, pas trop        Oui, très faim   Oui, très   \n",
       "1P5N                  Non, pas trop        Oui,assez faim  Plutôt oui   \n",
       "1L0F            Non, je ne sais pas  Oui, assez faim faim  Plutôt oui   \n",
       "6U1H           Non, je ne pense pas  Oui, assez faim faim  Plutôt non   \n",
       "\n",
       "              Nb convives Ami 1                   Ami 2 Ami 3 Ami 4 Ami 5  \n",
       "N° Formulaire                                                              \n",
       "2E8L                    4  2H8Q       2 Sans formulaire   NaN   NaN   NaN  \n",
       "6Z9V                  NaN   N.A  Même groupe pour 4 N.A   NaN   NaN   NaN  \n",
       "1P5N                  NaN   N.A  Même groupe pour 4 N.A   NaN   NaN   NaN  \n",
       "1L0F                  NaN   N.A  Même groupe pour 4 N.A   NaN   NaN   NaN  \n",
       "6U1H                  NaN   N.A  Même groupe pour 4 N.A   NaN   NaN   NaN  \n",
       "\n",
       "[5 rows x 26 columns]"
      ]
     },
     "execution_count": 683,
     "metadata": {},
     "output_type": "execute_result"
    }
   ],
   "source": [
    "csv_tot.head()"
   ]
  },
  {
   "cell_type": "markdown",
   "id": "8bf14fe3",
   "metadata": {},
   "source": [
    "## Nettoyage des colonnes Amis"
   ]
  },
  {
   "cell_type": "markdown",
   "id": "f7bfb612",
   "metadata": {},
   "source": [
    "Laissé tel quel du code source d'Hippo"
   ]
  },
  {
   "cell_type": "code",
   "execution_count": 684,
   "id": "6499becd",
   "metadata": {},
   "outputs": [],
   "source": [
    "#on créé une regex qui va nous permettre de récupérer les codes des formations\n",
    "#on peut aussi le faire avec cdette syntaxte :\n",
    "# bool(re.match(regex, 'hello1'))\n",
    "\n",
    "def KeepOnlyForm(x):\n",
    "    regex = r\"[0-9][A-Z][0-9][A-Z]\"\n",
    "    if type(x)== str:\n",
    "        match = re.search(regex,x)\n",
    "        if match != None:\n",
    "            return match.string\n",
    "        else:\n",
    "            return pd.NA\n",
    "    else:\n",
    "        return pd.NA"
   ]
  },
  {
   "cell_type": "code",
   "execution_count": 685,
   "id": "d5de2ea2",
   "metadata": {},
   "outputs": [],
   "source": [
    "# on selectionne les colonnes qui commencent par \"Ami\" (on garde maximum 5 amis)\n",
    "col_amis = csv_tot.columns.str.startswith(\"Ami\")\n",
    "dfamis = csv_tot.loc[:,col_amis]\n",
    "\n",
    "#toutes les valeurs qui ne sont pas des chaines de caractères sont remplacées par des Sandofour\n",
    "dfamis = dfamis.applymap(KeepOnlyForm)"
   ]
  },
  {
   "cell_type": "code",
   "execution_count": 686,
   "id": "514da4be",
   "metadata": {},
   "outputs": [],
   "source": [
    "#onremplace les colonnes par les colonnes nettoyées\n",
    "csv_tot.loc[:,col_amis] = dfamis\n",
    "#on enleve les colonnes après la colonne \"Ami 5\"\n",
    "csv_tot = csv_tot.iloc[:,:csv_tot.columns.get_loc(\"Ami 5\")+1]"
   ]
  },
  {
   "cell_type": "markdown",
   "id": "d0deef3b",
   "metadata": {},
   "source": [
    "## Variables catégorielles binaires sont codées en 0 et 1"
   ]
  },
  {
   "cell_type": "code",
   "execution_count": 687,
   "id": "4722787c",
   "metadata": {},
   "outputs": [
    {
     "name": "stdout",
     "output_type": "stream",
     "text": [
      "Genre :  ['M' 'F']\n",
      "Végé :  ['Non' 'Oui' 'N.A' 'Non ']\n",
      "Régime particulier :  ['Non' 'Oui' 'N.A']\n",
      "Proximité :  ['Non' 'Oui' 'N.A']\n",
      "Seule ou en groupe :  ['En groupe' 'Seule ' 'Seule' 'Groupe' 'Groupe ']\n",
      "Connaissance :  ['Non' 'N.A' 'Oui' 'Non ']\n",
      "Parti groupe :  ['N.A' 'Non' 'Oui']\n"
     ]
    }
   ],
   "source": [
    "#on regarde quelles sont les variables binaires\n",
    "print(\"Genre : \", csv_tot[\"Genre\"].unique())\n",
    "print(\"Végé : \", csv_tot[\"Végé\"].unique())\n",
    "print(\"Régime particulier : \", csv_tot[\"Régime particulier\"].unique())\n",
    "print(\"Proximité : \", csv_tot[\"Proximité\"].unique())\n",
    "print(\"Seule ou en groupe : \", csv_tot[\"Seule ou en groupe\"].unique())\n",
    "print(\"Connaissance : \", csv_tot[\"Connaissance\"].unique())\n",
    "print(\"Parti groupe : \", csv_tot[\"Parti groupe\"].unique())"
   ]
  },
  {
   "cell_type": "code",
   "execution_count": 688,
   "id": "60d04495",
   "metadata": {},
   "outputs": [],
   "source": [
    "csv_tot[\"Genre\"] = csv_tot[\"Genre\"].replace({\"F\":0, \"M\":1})\n",
    "csv_tot[\"Végé\"] = csv_tot[\"Végé\"].replace({\"Oui\":1, \"Non\":0, \"Non \":0})\n",
    "csv_tot[\"Régime particulier\"] = csv_tot[\"Régime particulier\"].replace({\"Oui\":1, \"Non\":0})\n",
    "csv_tot[\"Proximité\"] = csv_tot[\"Proximité\"].replace({\"Oui\":1, \"Non\":0})\n",
    "csv_tot[\"Seule ou en groupe\"] = csv_tot[\"Seule ou en groupe\"].replace({\"Seule\":0, \"En groupe\":1, 'Seule ':0, 'Groupe':0, 'Groupe ':0})\n",
    "csv_tot[\"Connaissance\"] = csv_tot[\"Connaissance\"].replace({\"Oui\":1, \"Non\":0, \"Non \":0})\n",
    "csv_tot[\"Régime particulier\"] = csv_tot[\"Régime particulier\"].replace({\"Oui\":1, \"Non\":0})\n",
    "csv_tot[\"Parti groupe\"] = csv_tot[\"Parti groupe\"].replace({\"Oui\":1, \"Non\":0})"
   ]
  },
  {
   "cell_type": "markdown",
   "id": "07e0851c",
   "metadata": {},
   "source": [
    "## Variable numérique"
   ]
  },
  {
   "cell_type": "code",
   "execution_count": 743,
   "id": "2840ecf5",
   "metadata": {},
   "outputs": [
    {
     "name": "stdout",
     "output_type": "stream",
     "text": [
      "Nb groupe entrée :  [4.0 5.0 3.0 2.0 1.0 6.0 16.0 11.0 12.0 7.0 17.0 8.0 10.0 18.0 9.0 20.0\n",
      " 13.0 15.0 '2' '1' '5' '6' '3' '10' '4' '7' '8' '12' '15' '27' nan]\n",
      "Nb convives :  [4 nan 2 1 3 5 7 8 9 6 10 14]\n"
     ]
    }
   ],
   "source": [
    "#print(\"Age : \", csv_tot[\"Age\"].unique())\n",
    "#print(\"Taille : \", csv_tot[\"Taille\"].unique())\n",
    "#print(\"Poids : \", csv_tot[\"Poids\"].unique())\n",
    "#print(\"IMC : \", csv_tot[\"IMC\"].unique())\n",
    "print(\"Nb groupe entrée : \", csv_tot[\"Nb groupe entrée\"].unique())\n",
    "print(\"Nb convives : \", csv_tot[\"Nb convives\"].unique())"
   ]
  },
  {
   "cell_type": "code",
   "execution_count": 690,
   "id": "81dcbbb4",
   "metadata": {},
   "outputs": [],
   "source": [
    "csv_tot[\"IMC\"] = csv_tot[\"IMC\"].replace(',', '.', regex = True).astype(float)\n",
    "csv_tot[\"Nb convives\"] = csv_tot[\"Nb convives\"].replace(['\\?', ' '],'', regex=True)   "
   ]
  },
  {
   "cell_type": "code",
   "execution_count": 691,
   "id": "8d924470",
   "metadata": {},
   "outputs": [
    {
     "name": "stdout",
     "output_type": "stream",
     "text": [
      "Nb convives :  ['4' nan '2' '1' '3' '5' '7' '8' '9' 2.0 6.0 3.0 5.0 7.0 'N.A' '6' '10'\n",
      " '14']\n"
     ]
    }
   ],
   "source": [
    "#print(\"IMC : \", csv_tot[\"IMC\"].unique())\n",
    "print(\"Nb convives : \", csv_tot[\"Nb convives\"].unique())"
   ]
  },
  {
   "cell_type": "markdown",
   "id": "ae34aa88",
   "metadata": {},
   "source": [
    "## Suppression des colonnes inutiles"
   ]
  },
  {
   "cell_type": "markdown",
   "id": "7750f4f0",
   "metadata": {},
   "source": [
    "Pour l'instant on garde toutes les colonnes et on verra après si certaines ne sont pas utile."
   ]
  },
  {
   "cell_type": "code",
   "execution_count": 692,
   "id": "6dc437eb",
   "metadata": {},
   "outputs": [],
   "source": [
    "#df1.drop(columns=[\"Fréquence CROUS\"], inplace=True)\n",
    "#df1.drop(columns=[\"Seule ou en groupe\"], inplace=True)\n",
    "#df1.drop(columns=[\"Connaissance\"], inplace=True)\n",
    "#df1.drop(columns=[\"Nb file\"], inplace=True)\n",
    "#df1.drop(columns=[\"Parti groupe\"], inplace=True)"
   ]
  },
  {
   "cell_type": "markdown",
   "id": "f5ce25b2",
   "metadata": {},
   "source": [
    "## Les variables catégorielles qui présente une relation d'odre sont traitées comme des variables numériques"
   ]
  },
  {
   "cell_type": "markdown",
   "id": "6a40f1ee",
   "metadata": {},
   "source": [
    "### Fréquence de venue au CROUS"
   ]
  },
  {
   "cell_type": "code",
   "execution_count": 693,
   "id": "99cb10ad",
   "metadata": {},
   "outputs": [
    {
     "name": "stdout",
     "output_type": "stream",
     "text": [
      "['Tous les jours ou presque' 'Au moins 1 fois par semaine'\n",
      " 'Je viens pour la première fois' 'N.A' 'Tous les jours ou presque '\n",
      " 'Au moins une fois par semaine']\n"
     ]
    }
   ],
   "source": [
    "#on recupere les valeurs possibles de la colonne Fréquence CROUS\n",
    "freqCROUS = csv_tot[\"Fréquence CROUS\"].unique()\n",
    "print(freqCROUS)"
   ]
  },
  {
   "cell_type": "code",
   "execution_count": 694,
   "id": "226542bf",
   "metadata": {},
   "outputs": [],
   "source": [
    "#on remplace les valeurs de la colonne Stress par des valeurs numériques\n",
    "csv_tot[\"Fréquence CROUS\"] = csv_tot[\"Fréquence CROUS\"].replace('Je viens pour la première fois', 0)\n",
    "csv_tot[\"Fréquence CROUS\"] = csv_tot[\"Fréquence CROUS\"].replace('Au moins 1 fois par semaine', 1)\n",
    "csv_tot[\"Fréquence CROUS\"] = csv_tot[\"Fréquence CROUS\"].replace('Au moins une fois par semaine', 1)\n",
    "csv_tot[\"Fréquence CROUS\"] = csv_tot[\"Fréquence CROUS\"].replace('Tous les jours ou presque', 2)\n",
    "csv_tot[\"Fréquence CROUS\"] = csv_tot[\"Fréquence CROUS\"].replace('Tous les jours ou presque ', 2)"
   ]
  },
  {
   "cell_type": "code",
   "execution_count": 695,
   "id": "5d3537e7",
   "metadata": {},
   "outputs": [
    {
     "name": "stdout",
     "output_type": "stream",
     "text": [
      "[2 1 0 'N.A']\n"
     ]
    }
   ],
   "source": [
    "print(csv_tot[\"Fréquence CROUS\"].unique())"
   ]
  },
  {
   "cell_type": "markdown",
   "id": "14260fc9",
   "metadata": {},
   "source": [
    "### Influence du nombre de personnes dans la file"
   ]
  },
  {
   "cell_type": "code",
   "execution_count": 696,
   "id": "2c9c7ed3",
   "metadata": {},
   "outputs": [
    {
     "name": "stdout",
     "output_type": "stream",
     "text": [
      "['Non, je ne sais pas' 'Non, pas trop' 'Non, je ne pense pas'\n",
      " 'Non,pas trop' 'Plutôt oui' 'Oui,tout à fait' 'Non, je ne pense pas '\n",
      " 'Oui, tout à fait' 'N.A' 'Oui, tout à fait ']\n"
     ]
    }
   ],
   "source": [
    "#on recupere les valeurs possibles de la colonne Nb File\n",
    "NbFile = csv_tot[\"Nb file\"].unique()\n",
    "print(NbFile)"
   ]
  },
  {
   "cell_type": "code",
   "execution_count": 697,
   "id": "8a2be008",
   "metadata": {},
   "outputs": [],
   "source": [
    "#on remplace les valeurs de la colonne Stress par des valeurs numériques\n",
    "csv_tot[\"Nb file\"] = csv_tot[\"Nb file\"].replace('Non, je ne sais pas', 0)\n",
    "csv_tot[\"Nb file\"] = csv_tot[\"Nb file\"].replace('Non, pas trop', 0)\n",
    "csv_tot[\"Nb file\"] = csv_tot[\"Nb file\"].replace('Non, je ne pense pas', 0)\n",
    "csv_tot[\"Nb file\"] = csv_tot[\"Nb file\"].replace('Non,pas trop', 0)\n",
    "csv_tot[\"Nb file\"] = csv_tot[\"Nb file\"].replace('Non, je ne pense pas ', 0)\n",
    "csv_tot[\"Nb file\"] = csv_tot[\"Nb file\"].replace('Plutôt oui', 1)\n",
    "csv_tot[\"Nb file\"] = csv_tot[\"Nb file\"].replace('Oui,tout à fait', 2)\n",
    "csv_tot[\"Nb file\"] = csv_tot[\"Nb file\"].replace('Oui, tout à fait', 2)\n",
    "csv_tot[\"Nb file\"] = csv_tot[\"Nb file\"].replace('Oui, tout à fait ', 2)"
   ]
  },
  {
   "cell_type": "code",
   "execution_count": 698,
   "id": "8251795c",
   "metadata": {},
   "outputs": [
    {
     "name": "stdout",
     "output_type": "stream",
     "text": [
      "[0 1 2 'N.A']\n"
     ]
    }
   ],
   "source": [
    "print(csv_tot[\"Nb file\"].unique())"
   ]
  },
  {
   "cell_type": "markdown",
   "id": "c5a31de8",
   "metadata": {},
   "source": [
    "### Stress"
   ]
  },
  {
   "cell_type": "code",
   "execution_count": 699,
   "id": "878f6732",
   "metadata": {},
   "outputs": [
    {
     "name": "stdout",
     "output_type": "stream",
     "text": [
      "['Plutôt non' 'Oui, très' 'Plutôt oui' 'Non' 'N.A' 'Oui, très ']\n"
     ]
    }
   ],
   "source": [
    "#on recupere les valeurs possibles de la colonne stress\n",
    "stress = csv_tot[\"Stress\"].unique()\n",
    "print(stress)"
   ]
  },
  {
   "cell_type": "code",
   "execution_count": 700,
   "id": "7efd4931",
   "metadata": {},
   "outputs": [],
   "source": [
    "#on remplace les valeurs de la colonne Stress par des valeurs numériques\n",
    "csv_tot[\"Stress\"] = csv_tot[\"Stress\"].replace(\"Non\", 0)\n",
    "csv_tot[\"Stress\"] = csv_tot[\"Stress\"].replace(\"Plutôt non\", 1)\n",
    "csv_tot[\"Stress\"] = csv_tot[\"Stress\"].replace(\"Plutôt oui\", 2)\n",
    "csv_tot[\"Stress\"] = csv_tot[\"Stress\"].replace(\"Oui, très\", 3)\n",
    "csv_tot[\"Stress\"] = csv_tot[\"Stress\"].replace(\"Oui, très \", 3)\n",
    "\n",
    "#csv_tot[\"Stress\"] = csv_tot[\"Stress\"].replace(\"N.A\", 1.5) #on remplace les valeurs manquantes par la moyenne ?\n",
    "#on normalise par moyenne et variance la colonne stress\n",
    "#df1[\"Stress\"] = (df1[\"Stress\"] - df1[\"Stress\"].mean())/df1[\"Stress\"].std()"
   ]
  },
  {
   "cell_type": "code",
   "execution_count": 701,
   "id": "6e7efebd",
   "metadata": {},
   "outputs": [
    {
     "name": "stdout",
     "output_type": "stream",
     "text": [
      "[1 3 2 0 'N.A']\n"
     ]
    }
   ],
   "source": [
    "print(csv_tot[\"Stress\"].unique())"
   ]
  },
  {
   "cell_type": "markdown",
   "id": "a7c721aa",
   "metadata": {},
   "source": [
    "### Faim"
   ]
  },
  {
   "cell_type": "code",
   "execution_count": 702,
   "id": "a50d917d",
   "metadata": {},
   "outputs": [
    {
     "name": "stdout",
     "output_type": "stream",
     "text": [
      "['Oui,assez faim' 'Oui, très faim' 'Oui, assez faim faim'\n",
      " 'Oui, mais très peu' 'Oui,très faim' 'Non' 'Oui, assez faim'\n",
      " 'Oui, assez faim ' 'N.A']\n"
     ]
    }
   ],
   "source": [
    "#on recupere les valeurs possibles de la colonne stress\n",
    "faim = csv_tot[\"Faim\"].unique()\n",
    "print(faim)"
   ]
  },
  {
   "cell_type": "code",
   "execution_count": 703,
   "id": "ad709c2d",
   "metadata": {},
   "outputs": [],
   "source": [
    "#on remplace les valeurs de la colonne Faim par des valeurs numériques\n",
    "csv_tot[\"Faim\"] = csv_tot[\"Faim\"].replace('Non', 0)\n",
    "csv_tot[\"Faim\"] = csv_tot[\"Faim\"].replace('Oui, mais très peu', 1)\n",
    "csv_tot[\"Faim\"] = csv_tot[\"Faim\"].replace(\"Oui,assez faim\", 2)\n",
    "csv_tot[\"Faim\"] = csv_tot[\"Faim\"].replace('Oui, assez faim faim', 2)\n",
    "csv_tot[\"Faim\"] = csv_tot[\"Faim\"].replace('Oui, assez faim', 2)\n",
    "csv_tot[\"Faim\"] = csv_tot[\"Faim\"].replace('Oui, assez faim ', 2)\n",
    "csv_tot[\"Faim\"] = csv_tot[\"Faim\"].replace('Oui,très faim', 3)\n",
    "csv_tot[\"Faim\"] = csv_tot[\"Faim\"].replace('Oui, très faim', 3)\n",
    "\n",
    "#csv_tot[\"Faim\"] = csv_tot[\"Faim\"].replace('N.A', 1.5) #on remplace les valeurs manquantes par la moyenne ??\n",
    "#on normalise par moyenne et variance la colonne faim \n",
    "#csv_tot[\"Faim\"] = (csv_tot[\"Faim\"] - csv_tot[\"Faim\"].mean())/csv_tot[\"Faim\"].std()"
   ]
  },
  {
   "cell_type": "code",
   "execution_count": 704,
   "id": "36214d24",
   "metadata": {},
   "outputs": [
    {
     "name": "stdout",
     "output_type": "stream",
     "text": [
      "[2 3 1 0 'N.A']\n"
     ]
    }
   ],
   "source": [
    "print(csv_tot[\"Faim\"].unique())"
   ]
  },
  {
   "cell_type": "markdown",
   "id": "464dea3e",
   "metadata": {},
   "source": [
    "### Activité physique"
   ]
  },
  {
   "cell_type": "code",
   "execution_count": 705,
   "id": "a9b673ac",
   "metadata": {},
   "outputs": [
    {
     "name": "stdout",
     "output_type": "stream",
     "text": [
      "['Importante' 'Faible' 'Modérée' 'N.A' 'Aucune' 'Aucune ']\n"
     ]
    }
   ],
   "source": [
    "#on recupere les valeurs possibles de la colonne Activité physique\n",
    "activite = csv_tot[\"Activité physique\"].unique()\n",
    "print(activite)"
   ]
  },
  {
   "cell_type": "code",
   "execution_count": 706,
   "id": "5aa50a39",
   "metadata": {},
   "outputs": [],
   "source": [
    "#on remplace les valeurs de la colonne Activité physique par des valeurs numériques\n",
    "csv_tot[\"Activité physique\"] = csv_tot[\"Activité physique\"].replace('Aucune', 0)\n",
    "csv_tot[\"Activité physique\"] = csv_tot[\"Activité physique\"].replace('Aucune ', 0)\n",
    "csv_tot[\"Activité physique\"] = csv_tot[\"Activité physique\"].replace(\"Faible\", 1)\n",
    "csv_tot[\"Activité physique\"] = csv_tot[\"Activité physique\"].replace('Modérée', 2)\n",
    "csv_tot[\"Activité physique\"] = csv_tot[\"Activité physique\"].replace('Importante', 3)\n",
    "\n",
    "#csv_tot[\"Activité physique\"] = csv_tot[\"Activité physique\"].replace(\"N.A\", 1.5) #on remplace les valeurs manquantes par la moyenne ??\n",
    "#on normalise par moyenne et variance la colonne Activité physique \n",
    "#csv_tot[\"Activité physique\"] = (csv_tot[\"Activité physique\"] - csv_tot[\"Activité physique\"].mean())/csv_tot[\"Activité physique\"].std()"
   ]
  },
  {
   "cell_type": "code",
   "execution_count": 707,
   "id": "6d4785f9",
   "metadata": {},
   "outputs": [
    {
     "name": "stdout",
     "output_type": "stream",
     "text": [
      "[3 1 2 'N.A' 0]\n"
     ]
    }
   ],
   "source": [
    "print(csv_tot[\"Activité physique\"].unique())"
   ]
  },
  {
   "cell_type": "markdown",
   "id": "dab095e1",
   "metadata": {},
   "source": [
    "### Perception sensorielle"
   ]
  },
  {
   "cell_type": "code",
   "execution_count": 708,
   "id": "8468db24",
   "metadata": {},
   "outputs": [
    {
     "name": "stdout",
     "output_type": "stream",
     "text": [
      "['Moyennement influencé' 'Peu influencé' 'Pas influencé' 'Très influencé'\n",
      " 'Pas influencé ' 'N.A' 'Pas inflencé']\n"
     ]
    }
   ],
   "source": [
    "#on recupere les valeurs possibles de la colonne Activité physique\n",
    "senso = csv_tot[\"Percept senso\"].unique()\n",
    "print(senso)"
   ]
  },
  {
   "cell_type": "code",
   "execution_count": 709,
   "id": "981a5abc",
   "metadata": {},
   "outputs": [],
   "source": [
    "#on remplace les valeurs de la colonne Activité physique par des valeurs numériques\n",
    "csv_tot[\"Percept senso\"] = csv_tot[\"Percept senso\"].replace('Pas influencé', 0)\n",
    "csv_tot[\"Percept senso\"] = csv_tot[\"Percept senso\"].replace('Pas influencé ', 0)\n",
    "csv_tot[\"Percept senso\"] = csv_tot[\"Percept senso\"].replace('Pas inflencé', 0)\n",
    "csv_tot[\"Percept senso\"] = csv_tot[\"Percept senso\"].replace('Peu influencé', 1)\n",
    "csv_tot[\"Percept senso\"] = csv_tot[\"Percept senso\"].replace('Moyennement influencé', 2)\n",
    "csv_tot[\"Percept senso\"] = csv_tot[\"Percept senso\"].replace('Très influencé', 3)\n",
    "\n",
    "#csv_tot[\"Percept senso\"] = csv_tot[\"Percept senso\"].replace(\"N.A\", 1.5) #on remplace les valeurs manquantes par la moyenne ??\n",
    "#on normalise par moyenne et variance la colonne Activité physique \n",
    "#csv_tot[\"Percept senso\"] = (csv_tot[\"Percept senso\"] - csv_tot[\"Percept senso\"].mean())/csv_tot[\"Percept senso\"].std()"
   ]
  },
  {
   "cell_type": "code",
   "execution_count": 710,
   "id": "1382486b",
   "metadata": {},
   "outputs": [
    {
     "name": "stdout",
     "output_type": "stream",
     "text": [
      "[2 1 0 3 'N.A']\n"
     ]
    }
   ],
   "source": [
    "print(csv_tot[\"Percept senso\"].unique())"
   ]
  },
  {
   "cell_type": "markdown",
   "id": "c52d4cc2",
   "metadata": {},
   "source": [
    "### Influence sociale"
   ]
  },
  {
   "cell_type": "code",
   "execution_count": 711,
   "id": "8ce4a81f",
   "metadata": {},
   "outputs": [
    {
     "name": "stdout",
     "output_type": "stream",
     "text": [
      "['Pas influencé' 'Peu influencé' 'Moyennement influencé' 'Très influencé'\n",
      " 'Moyennement influencé ' 'Pas influencé ' 'N.A' nan]\n"
     ]
    }
   ],
   "source": [
    "#on recupere les valeurs possibles de la colonne Activité physique\n",
    "influ = csv_tot[\"Influ sociale\"].unique()\n",
    "print(influ)"
   ]
  },
  {
   "cell_type": "code",
   "execution_count": 712,
   "id": "ef8cfad1",
   "metadata": {},
   "outputs": [],
   "source": [
    "# #on remplace les valeurs de la colonne Activité physique par des valeurs numériques\n",
    "csv_tot[\"Influ sociale\"] = csv_tot[\"Influ sociale\"].replace('Pas influencé', 0)\n",
    "csv_tot[\"Influ sociale\"] = csv_tot[\"Influ sociale\"].replace('Pas influencé ', 0)\n",
    "csv_tot[\"Influ sociale\"] = csv_tot[\"Influ sociale\"].replace('Peu influencé', 1)\n",
    "csv_tot[\"Influ sociale\"] = csv_tot[\"Influ sociale\"].replace('Moyennement influencé', 2)\n",
    "csv_tot[\"Influ sociale\"] = csv_tot[\"Influ sociale\"].replace('Moyennement influencé ', 2)\n",
    "csv_tot[\"Influ sociale\"] = csv_tot[\"Influ sociale\"].replace('Très influencé', 3)\n",
    "\n",
    "csv_tot[\"Influ sociale\"] = csv_tot[\"Influ sociale\"].fillna('N.A')\n",
    "\n",
    "#csv_tot[\"Influ sociale\"] = csv_tot[\"Influ sociale\"].replace(\"N.A\", 1.5) #on remplace les valeurs manquantes par la moyenne ??\n",
    "# #on normalise par moyenne et variance la colonne Activité physique \n",
    "#csv_tot[\"Influ sociale\"] = (csv_tot[\"Influ sociale\"] - csv_tot[\"Influ sociale\"].mean())/csv_tot[\"Influ sociale\"].std()"
   ]
  },
  {
   "cell_type": "code",
   "execution_count": 713,
   "id": "515c2722",
   "metadata": {},
   "outputs": [
    {
     "name": "stdout",
     "output_type": "stream",
     "text": [
      "[0 1 2 3 'N.A']\n"
     ]
    }
   ],
   "source": [
    "print(csv_tot[\"Influ sociale\"].unique())"
   ]
  },
  {
   "cell_type": "markdown",
   "id": "655e79fa",
   "metadata": {},
   "source": [
    "### Equilibre alimentaire "
   ]
  },
  {
   "cell_type": "code",
   "execution_count": 714,
   "id": "40691ec7",
   "metadata": {},
   "outputs": [
    {
     "name": "stdout",
     "output_type": "stream",
     "text": [
      "['Moyennement' 'Un peu' 'Très attention' 'Manger équilibré' 'Pas du tout'\n",
      " 'N.A' 'Un peu ' 'Moyennement ']\n"
     ]
    }
   ],
   "source": [
    "#on recupere les valeurs possibles de la colonne Activité physique\n",
    "equilibre = csv_tot[\"Equilibre alim\"].unique()\n",
    "print(equilibre)"
   ]
  },
  {
   "cell_type": "code",
   "execution_count": 715,
   "id": "48e13ed6",
   "metadata": {},
   "outputs": [],
   "source": [
    "#on remplace les valeurs de la colonne Activité physique par des valeurs numériques\n",
    "csv_tot[\"Equilibre alim\"] = csv_tot[\"Equilibre alim\"].replace('Pas du tout', 0)\n",
    "csv_tot[\"Equilibre alim\"] = csv_tot[\"Equilibre alim\"].replace('Un peu', 1)\n",
    "csv_tot[\"Equilibre alim\"] = csv_tot[\"Equilibre alim\"].replace('Un peu ', 1)\n",
    "csv_tot[\"Equilibre alim\"] = csv_tot[\"Equilibre alim\"].replace('Moyennement', 2)\n",
    "csv_tot[\"Equilibre alim\"] = csv_tot[\"Equilibre alim\"].replace('Moyennement ', 2)\n",
    "csv_tot[\"Equilibre alim\"] = csv_tot[\"Equilibre alim\"].replace('Manger équilibré', 3)\n",
    "csv_tot[\"Equilibre alim\"] = csv_tot[\"Equilibre alim\"].replace('Très attention', 4)\n",
    "\n",
    "#csv_tot[\"Equilibre alim\"] = csv_tot[\"Equilibre alim\"].replace(\"N.A\", 2) #on remplace les valeurs manquantes par la moyenne ??\n",
    "#on normalise par moyenne et variance la colonne Activité physique \n",
    "#csv_tot[\"Equilibre alim\"] = (csv_tot[\"Equilibre alim\"] - csv_tot[\"Equilibre alim\"].mean())/csv_tot[\"Equilibre alim\"].std()"
   ]
  },
  {
   "cell_type": "code",
   "execution_count": 716,
   "id": "c68b05f5",
   "metadata": {},
   "outputs": [
    {
     "name": "stdout",
     "output_type": "stream",
     "text": [
      "[2 1 4 3 0 'N.A']\n"
     ]
    }
   ],
   "source": [
    "print(csv_tot[\"Equilibre alim\"].unique())"
   ]
  },
  {
   "cell_type": "markdown",
   "id": "68e008c7",
   "metadata": {},
   "source": [
    "## Variables string (Ami)"
   ]
  },
  {
   "cell_type": "code",
   "execution_count": 717,
   "id": "3006ebba",
   "metadata": {},
   "outputs": [
    {
     "name": "stdout",
     "output_type": "stream",
     "text": [
      "[<NA> '9J6M' '5I3E' '0R4C' '0S0Q' '0A4U' '0S7C' '2G0T' '1J4B' '3W3R'\n",
      " '4L1N' '3S6B' '5D2H' '7F5N' '6T9D' '0D4Y' '7N7F' '3M5G' '2F2B' '2A4L'\n",
      " '8V5M' '8B3A' '8G8P' '3T0E' '8G7E' '3H8I' '7H9N' '5R8S' '5R8S ' '2A1P'\n",
      " '8H4M' '7K8M' '7A7P' '3O6S' '7M6P' '2Y1K' '4H1X' '1Y9W' '1C3K' '0H8R'\n",
      " '8B8H' '1O2H' '9J2Z' '1G3P' '2L2Z' '8W4Q' '4A1V' '0R4X' '5I5P' '9B3F'\n",
      " '4M6N' '0Y1T' '3U9V' '8S7P' '2W1G' '8X0N' '7V9Y' '4C3L' '7B2H' '1C5X'\n",
      " '8K6W' '9W3O' '2K9I' '7F0W' '7B9M' '0Y1G' '7L7R' '7A0X' '9R1R' '4M4I'\n",
      " '9I1E' '8A1R' '5Z4K' '4A7O' '9B5K' '8Q9F' '2J2X' '4D2Y' '6C3U' '6G4G'\n",
      " '0Y5X' '3Y2G' '4W2W' '1V0X' '5W0Z' '5Q8S' '5L7H' '2P1V' '7F5T' '0A5K'\n",
      " '2Z9H' '2R7A' '1R9D' '4G8T' '6T3K' '9Z3C' '7K6K' '8I1G' '0Y2Q' '8B5X'\n",
      " '3P0Q' '6O7K' '8X9Z' '3D2B' '9K2R' '4K9H' '4F9D' '5M0T' '1G7G' '5Y3F'\n",
      " '0F7G' '3T0P' '8I1P' '1P9Z' '8O0N' '2M6T' '3R3M' '3M6S' '0O9T' '0X7C'\n",
      " '9K2W' '2S4Q' '1L4G']\n"
     ]
    }
   ],
   "source": [
    "print(csv_tot[\"Ami 3\"].unique())"
   ]
  },
  {
   "cell_type": "code",
   "execution_count": 722,
   "id": "33ff7c57",
   "metadata": {},
   "outputs": [],
   "source": [
    "csv_tot[\"Ami 1\"] = csv_tot[\"Ami 1\"].replace(['\\?', ' '],'', regex=True).astype(str)\n",
    "csv_tot[\"Ami 2\"] = csv_tot[\"Ami 2\"].replace(['\\?', ' '],'', regex=True).astype(str)\n",
    "csv_tot[\"Ami 3\"] = csv_tot[\"Ami 3\"].replace(['\\?', ' '],'', regex=True).astype(str)\n",
    "csv_tot[\"Ami 4\"] = csv_tot[\"Ami 4\"].replace(['\\?', ' '],'', regex=True).astype(str)\n",
    "csv_tot[\"Ami 5\"] = csv_tot[\"Ami 5\"].replace(['\\?', ' '],'', regex=True).astype(str)"
   ]
  },
  {
   "cell_type": "markdown",
   "id": "1ad3b0a6",
   "metadata": {},
   "source": [
    "## Que fait-on des N.A ?"
   ]
  },
  {
   "cell_type": "markdown",
   "id": "c458fae4",
   "metadata": {},
   "source": [
    "Pour l'instant je les remplace par la médiane pour toutes les variables."
   ]
  },
  {
   "cell_type": "code",
   "execution_count": 723,
   "id": "dc1d088a",
   "metadata": {},
   "outputs": [],
   "source": [
    "csv_tot = csv_tot.replace('N.A', np.NaN, regex=True)"
   ]
  },
  {
   "cell_type": "code",
   "execution_count": 724,
   "id": "3c564071",
   "metadata": {},
   "outputs": [
    {
     "data": {
      "text/plain": [
       "Index(['Genre', 'Age', 'Taille', 'Poids', 'IMC', 'Activité physique',\n",
       "       'Régime particulier', 'Végé', 'Fréquence CROUS', 'Equilibre alim',\n",
       "       'Seule ou en groupe', 'Nb groupe entrée', 'Proximité', 'Connaissance',\n",
       "       'Parti groupe', 'Influ sociale', 'Percept senso', 'Nb file', 'Faim',\n",
       "       'Stress', 'Nb convives', 'Ami 1', 'Ami 2', 'Ami 3', 'Ami 4', 'Ami 5'],\n",
       "      dtype='object')"
      ]
     },
     "execution_count": 724,
     "metadata": {},
     "output_type": "execute_result"
    }
   ],
   "source": [
    "csv_tot.columns"
   ]
  },
  {
   "cell_type": "code",
   "execution_count": 725,
   "id": "48538d61",
   "metadata": {},
   "outputs": [
    {
     "data": {
      "text/plain": [
       "Genre                   int64\n",
       "Age                   float64\n",
       "Taille                float64\n",
       "Poids                 float64\n",
       "IMC                   float64\n",
       "Activité physique      object\n",
       "Régime particulier     object\n",
       "Végé                   object\n",
       "Fréquence CROUS        object\n",
       "Equilibre alim         object\n",
       "Seule ou en groupe      int64\n",
       "Nb groupe entrée       object\n",
       "Proximité              object\n",
       "Connaissance           object\n",
       "Parti groupe           object\n",
       "Influ sociale          object\n",
       "Percept senso          object\n",
       "Nb file                object\n",
       "Faim                   object\n",
       "Stress                 object\n",
       "Nb convives            object\n",
       "Ami 1                  object\n",
       "Ami 2                  object\n",
       "Ami 3                  object\n",
       "Ami 4                  object\n",
       "Ami 5                  object\n",
       "dtype: object"
      ]
     },
     "execution_count": 725,
     "metadata": {},
     "output_type": "execute_result"
    }
   ],
   "source": [
    "csv_tot.dtypes"
   ]
  },
  {
   "cell_type": "code",
   "execution_count": 748,
   "id": "3fbf8f01",
   "metadata": {},
   "outputs": [],
   "source": [
    "csv_tot = csv_tot.astype({'Genre':int, 'Age':int, 'Taille':float, 'Poids':float, 'IMC':float, 'Activité physique':int,\n",
    "       'Régime particulier':int, 'Végé':int, 'Fréquence CROUS':int, 'Equilibre alim':int,\n",
    "       'Seule ou en groupe':int, 'Nb groupe entrée':float, 'Proximité':int, 'Connaissance':int,\n",
    "       'Parti groupe':int, 'Influ sociale':int, 'Percept senso':int, 'Nb file':int, 'Faim':int,\n",
    "       'Stress':int, 'Nb convives':int, 'Ami 1':str, 'Ami 2':str, 'Ami 3':str, 'Ami 4':str, 'Ami 5':str}, errors = 'ignore')"
   ]
  },
  {
   "cell_type": "code",
   "execution_count": 763,
   "id": "64755b02",
   "metadata": {},
   "outputs": [
    {
     "name": "stderr",
     "output_type": "stream",
     "text": [
      "C:\\Anaconda\\lib\\site-packages\\ipykernel_launcher.py:1: FutureWarning: Dropping of nuisance columns in DataFrame reductions (with 'numeric_only=None') is deprecated; in a future version this will raise TypeError.  Select only valid columns before calling the reduction.\n",
      "  \"\"\"Entry point for launching an IPython kernel.\n",
      "C:\\Anaconda\\lib\\site-packages\\ipykernel_launcher.py:2: FutureWarning: Dropping of nuisance columns in DataFrame reductions (with 'numeric_only=None') is deprecated; in a future version this will raise TypeError.  Select only valid columns before calling the reduction.\n",
      "  \n"
     ]
    },
    {
     "data": {
      "text/plain": [
       "21"
      ]
     },
     "execution_count": 763,
     "metadata": {},
     "output_type": "execute_result"
    }
   ],
   "source": [
    "median = csv_tot.median(skipna = True)\n",
    "len(csv_tot.median(skipna = True))"
   ]
  },
  {
   "cell_type": "code",
   "execution_count": 768,
   "id": "f462b34e",
   "metadata": {},
   "outputs": [],
   "source": [
    "for variable in csv_tot.columns[:21] :\n",
    "    csv_tot[variable] = csv_tot[variable].fillna(median[variable])"
   ]
  },
  {
   "cell_type": "code",
   "execution_count": 769,
   "id": "97d4ec33",
   "metadata": {},
   "outputs": [],
   "source": [
    "csv_tot = csv_tot.astype({'Genre':int, 'Age':int, 'Taille':float, 'Poids':float, 'IMC':float, 'Activité physique':int,\n",
    "       'Régime particulier':int, 'Végé':int, 'Fréquence CROUS':int, 'Equilibre alim':int,\n",
    "       'Seule ou en groupe':int, 'Nb groupe entrée':float, 'Proximité':int, 'Connaissance':int,\n",
    "       'Parti groupe':int, 'Influ sociale':int, 'Percept senso':int, 'Nb file':int, 'Faim':int,\n",
    "       'Stress':int, 'Nb convives':int, 'Ami 1':str, 'Ami 2':str, 'Ami 3':str, 'Ami 4':str, 'Ami 5':str})"
   ]
  },
  {
   "cell_type": "markdown",
   "id": "82150dc3",
   "metadata": {},
   "source": [
    "### Pour les variables d'échelle"
   ]
  },
  {
   "cell_type": "code",
   "execution_count": 755,
   "id": "2af03777",
   "metadata": {},
   "outputs": [
    {
     "data": {
      "text/plain": [
       "0.7510917030567685"
      ]
     },
     "execution_count": 755,
     "metadata": {},
     "output_type": "execute_result"
    }
   ],
   "source": [
    "csv_tot['Activité physique'] = csv_tot['Activité physique'].fillna(means['Activité physique'])\n",
    "csv_tot['Fréquence CROUS'] = csv_tot['Fréquence CROUS'].fillna(means['Fréquence CROUS'])\n",
    "csv_tot['Influ sociale'] = csv_tot['Influ sociale'].fillna(means['Influ sociale'])\n",
    "csv_tot['Percept senso'] = csv_tot['Percept senso'].fillna(means['Percept senso'])\n",
    "csv_tot['Nb file'] = csv_tot['Nb file'].fillna(means['Nb file'])\n",
    "csv_tot['Faim'] = csv_tot['Faim'].fillna(means['Faim'])\n",
    "csv_tot['Stress'] = csv_tot['Stress'].fillna(means['Stress'])\n",
    "csv_tot['Equilibre alim'] = csv_tot['Equilibre alim'].fillna(means['Equilibre alim'])\n",
    "\n",
    "\n",
    "['Genre', 'Age', 'Taille', 'Poids', 'IMC', 'Activité physique',\n",
    "       'Régime particulier', 'Végé', 'Fréquence CROUS', 'Equilibre alim',\n",
    "       'Seule ou en groupe', 'Nb groupe entrée', 'Proximité', 'Connaissance',\n",
    "       'Parti groupe', 'Influ sociale', 'Percept senso', 'Nb file', 'Faim',\n",
    "       'Stress', 'Nb convives', 'Ami 1', 'Ami 2', 'Ami 3', 'Ami 4', 'Ami 5']"
   ]
  },
  {
   "cell_type": "markdown",
   "id": "0565d434",
   "metadata": {},
   "source": [
    "### Pour les variables numériques"
   ]
  },
  {
   "cell_type": "code",
   "execution_count": 756,
   "id": "f27d6339",
   "metadata": {},
   "outputs": [
    {
     "name": "stdout",
     "output_type": "stream",
     "text": [
      "Help on built-in function round in module builtins:\n",
      "\n",
      "round(number, ndigits=None)\n",
      "    Round a number to a given precision in decimal digits.\n",
      "    \n",
      "    The return value is an integer if ndigits is omitted or None.  Otherwise\n",
      "    the return value has the same type as the number.  ndigits may be negative.\n",
      "\n"
     ]
    }
   ],
   "source": [
    "csv_tot['Stress'] = csv_tot['Stress'].fillna(means['Stress'])\n",
    "csv_tot['Stress'] = csv_tot['Stress'].fillna(means['Stress'])\n",
    "csv_tot['Stress'] = csv_tot['Stress'].fillna(means['Stress'])\n",
    "csv_tot['Stress'] = csv_tot['Stress'].fillna(means['Stress'])\n",
    "csv_tot['Stress'] = csv_tot['Stress'].fillna(means['Stress'])\n",
    "csv_tot['Stress'] = csv_tot['Stress'].fillna(means['Stress'])"
   ]
  },
  {
   "cell_type": "markdown",
   "id": "f4e12bf2",
   "metadata": {},
   "source": [
    "### Pour les variables binaires"
   ]
  },
  {
   "cell_type": "code",
   "execution_count": 758,
   "id": "3018a7a0",
   "metadata": {},
   "outputs": [
    {
     "data": {
      "text/plain": [
       "0"
      ]
     },
     "execution_count": 758,
     "metadata": {},
     "output_type": "execute_result"
    }
   ],
   "source": [
    "round(means[\"Végé\"])"
   ]
  },
  {
   "cell_type": "markdown",
   "id": "ff725025",
   "metadata": {},
   "source": [
    "## Sauvegarde du formulaire"
   ]
  },
  {
   "cell_type": "code",
   "execution_count": null,
   "id": "8e71e8c9",
   "metadata": {},
   "outputs": [],
   "source": [
    "df1.to_csv(\"Merged_Formulaires.csv\", encoding='latin1')"
   ]
  }
 ],
 "metadata": {
  "kernelspec": {
   "display_name": "Python 3 (ipykernel)",
   "language": "python",
   "name": "python3"
  },
  "language_info": {
   "codemirror_mode": {
    "name": "ipython",
    "version": 3
   },
   "file_extension": ".py",
   "mimetype": "text/x-python",
   "name": "python",
   "nbconvert_exporter": "python",
   "pygments_lexer": "ipython3",
   "version": "3.7.4"
  }
 },
 "nbformat": 4,
 "nbformat_minor": 5
}
