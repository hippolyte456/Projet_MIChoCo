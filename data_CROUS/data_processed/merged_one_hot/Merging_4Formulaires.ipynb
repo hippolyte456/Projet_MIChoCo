{
 "cells": [
  {
   "cell_type": "markdown",
   "id": "52ae06c5",
   "metadata": {},
   "source": [
    "# Mise en forme et merging les 4 fichiers formulaires"
   ]
  },
  {
   "cell_type": "markdown",
   "id": "c9605cd7",
   "metadata": {},
   "source": [
    "Code inspiré du fichier `preprocessing_formulaire_hippo.ipynb` (mise en forme des colonnes) et `OneHot Formulaires.ipynb` (concaténation des csv)"
   ]
  },
  {
   "cell_type": "markdown",
   "id": "1c39c3a5",
   "metadata": {},
   "source": [
    "## Chargement packages et données"
   ]
  },
  {
   "cell_type": "code",
   "execution_count": 223,
   "id": "84fbb395",
   "metadata": {},
   "outputs": [
    {
     "data": {
      "text/plain": [
       "\"C:\\\\Users\\\\Ju'\\\\Documents\\\\INGE 3A\\\\IODAA_Fil_Rouge\""
      ]
     },
     "execution_count": 223,
     "metadata": {},
     "output_type": "execute_result"
    }
   ],
   "source": [
    "import numpy as np\n",
    "import pandas as pd\n",
    "import os\n",
    "import math\n",
    "import re \n",
    "os.getcwd()"
   ]
  },
  {
   "cell_type": "code",
   "execution_count": 224,
   "id": "49252624",
   "metadata": {},
   "outputs": [],
   "source": [
    "#df1 = pd.read_csv(file_in, sep=\";\")\n",
    "csv_1 = pd.read_csv(\"data_CROUS/data/Resultats_formulaires_21_octobre.csv\", sep=\";\", decimal =\",\")\n",
    "csv_2 = pd.read_csv(\"data_CROUS/data/Resultats_formulaires_22_octobre.csv\", sep=\";\", decimal =\",\")\n",
    "csv_3 = pd.read_csv(\"data_CROUS/data/Resultats_formulaires_28_octobre.csv\", sep=\";\", decimal =\",\")\n",
    "csv_4 = pd.read_csv(\"data_CROUS/data/Resultats_formulaires_29_octobre.csv\", sep=\";\", decimal =\",\")"
   ]
  },
  {
   "cell_type": "code",
   "execution_count": 225,
   "id": "a49878b6",
   "metadata": {},
   "outputs": [
    {
     "data": {
      "text/html": [
       "<div>\n",
       "<style scoped>\n",
       "    .dataframe tbody tr th:only-of-type {\n",
       "        vertical-align: middle;\n",
       "    }\n",
       "\n",
       "    .dataframe tbody tr th {\n",
       "        vertical-align: top;\n",
       "    }\n",
       "\n",
       "    .dataframe thead th {\n",
       "        text-align: right;\n",
       "    }\n",
       "</style>\n",
       "<table border=\"1\" class=\"dataframe\">\n",
       "  <thead>\n",
       "    <tr style=\"text-align: right;\">\n",
       "      <th></th>\n",
       "      <th>N° Formulaire</th>\n",
       "      <th>Genre</th>\n",
       "      <th>Âge</th>\n",
       "      <th>Taille (m)</th>\n",
       "      <th>Poids (kg)</th>\n",
       "      <th>IMC</th>\n",
       "      <th>Activité physique</th>\n",
       "      <th>Régime particulier</th>\n",
       "      <th>Végé</th>\n",
       "      <th>Fréquence CROUS</th>\n",
       "      <th>...</th>\n",
       "      <th>Stress</th>\n",
       "      <th>Nb convives</th>\n",
       "      <th>Ami 1</th>\n",
       "      <th>Ami 2</th>\n",
       "      <th>Ami 3</th>\n",
       "      <th>Ami 4</th>\n",
       "      <th>Ami 5</th>\n",
       "      <th>Unnamed: 27</th>\n",
       "      <th>Unnamed: 28</th>\n",
       "      <th>Unnamed: 29</th>\n",
       "    </tr>\n",
       "  </thead>\n",
       "  <tbody>\n",
       "    <tr>\n",
       "      <th>0</th>\n",
       "      <td>2E8L</td>\n",
       "      <td>M</td>\n",
       "      <td>20.0</td>\n",
       "      <td>1.84</td>\n",
       "      <td>72.0</td>\n",
       "      <td>21,26654064</td>\n",
       "      <td>Importante</td>\n",
       "      <td>Non</td>\n",
       "      <td>Non</td>\n",
       "      <td>Tous les jours ou presque</td>\n",
       "      <td>...</td>\n",
       "      <td>Plutôt non</td>\n",
       "      <td>4</td>\n",
       "      <td>2H8Q</td>\n",
       "      <td>2 Sans formulaire</td>\n",
       "      <td>NaN</td>\n",
       "      <td>NaN</td>\n",
       "      <td>NaN</td>\n",
       "      <td>NaN</td>\n",
       "      <td>NaN</td>\n",
       "      <td>NaN</td>\n",
       "    </tr>\n",
       "    <tr>\n",
       "      <th>1</th>\n",
       "      <td>6Z9V</td>\n",
       "      <td>M</td>\n",
       "      <td>19.0</td>\n",
       "      <td>1.75</td>\n",
       "      <td>79.0</td>\n",
       "      <td>25,79591837</td>\n",
       "      <td>Faible</td>\n",
       "      <td>Oui</td>\n",
       "      <td>Non</td>\n",
       "      <td>Tous les jours ou presque</td>\n",
       "      <td>...</td>\n",
       "      <td>Oui, très</td>\n",
       "      <td>NaN</td>\n",
       "      <td>N.A</td>\n",
       "      <td>Même groupe pour 4 N.A</td>\n",
       "      <td>NaN</td>\n",
       "      <td>NaN</td>\n",
       "      <td>NaN</td>\n",
       "      <td>NaN</td>\n",
       "      <td>NaN</td>\n",
       "      <td>NaN</td>\n",
       "    </tr>\n",
       "    <tr>\n",
       "      <th>2</th>\n",
       "      <td>1P5N</td>\n",
       "      <td>M</td>\n",
       "      <td>19.0</td>\n",
       "      <td>1.74</td>\n",
       "      <td>74.0</td>\n",
       "      <td>24,44180209</td>\n",
       "      <td>Modérée</td>\n",
       "      <td>Oui</td>\n",
       "      <td>Non</td>\n",
       "      <td>Tous les jours ou presque</td>\n",
       "      <td>...</td>\n",
       "      <td>Plutôt oui</td>\n",
       "      <td>NaN</td>\n",
       "      <td>N.A</td>\n",
       "      <td>Même groupe pour 4 N.A</td>\n",
       "      <td>NaN</td>\n",
       "      <td>NaN</td>\n",
       "      <td>NaN</td>\n",
       "      <td>NaN</td>\n",
       "      <td>NaN</td>\n",
       "      <td>NaN</td>\n",
       "    </tr>\n",
       "    <tr>\n",
       "      <th>3</th>\n",
       "      <td>1L0F</td>\n",
       "      <td>M</td>\n",
       "      <td>21.0</td>\n",
       "      <td>1.70</td>\n",
       "      <td>51.0</td>\n",
       "      <td>17,64705882</td>\n",
       "      <td>N.A</td>\n",
       "      <td>Oui</td>\n",
       "      <td>Non</td>\n",
       "      <td>Tous les jours ou presque</td>\n",
       "      <td>...</td>\n",
       "      <td>Plutôt oui</td>\n",
       "      <td>NaN</td>\n",
       "      <td>N.A</td>\n",
       "      <td>Même groupe pour 4 N.A</td>\n",
       "      <td>NaN</td>\n",
       "      <td>NaN</td>\n",
       "      <td>NaN</td>\n",
       "      <td>NaN</td>\n",
       "      <td>NaN</td>\n",
       "      <td>NaN</td>\n",
       "    </tr>\n",
       "    <tr>\n",
       "      <th>4</th>\n",
       "      <td>6U1H</td>\n",
       "      <td>M</td>\n",
       "      <td>18.0</td>\n",
       "      <td>1.78</td>\n",
       "      <td>71.0</td>\n",
       "      <td>22,40878677</td>\n",
       "      <td>Modérée</td>\n",
       "      <td>Non</td>\n",
       "      <td>Non</td>\n",
       "      <td>Tous les jours ou presque</td>\n",
       "      <td>...</td>\n",
       "      <td>Plutôt non</td>\n",
       "      <td>NaN</td>\n",
       "      <td>N.A</td>\n",
       "      <td>Même groupe pour 4 N.A</td>\n",
       "      <td>NaN</td>\n",
       "      <td>NaN</td>\n",
       "      <td>NaN</td>\n",
       "      <td>NaN</td>\n",
       "      <td>NaN</td>\n",
       "      <td>NaN</td>\n",
       "    </tr>\n",
       "  </tbody>\n",
       "</table>\n",
       "<p>5 rows × 30 columns</p>\n",
       "</div>"
      ],
      "text/plain": [
       "  N° Formulaire Genre   Âge  Taille (m)  Poids (kg)         IMC   \\\n",
       "0          2E8L     M  20.0        1.84        72.0  21,26654064   \n",
       "1          6Z9V     M  19.0        1.75        79.0  25,79591837   \n",
       "2          1P5N     M  19.0        1.74        74.0  24,44180209   \n",
       "3          1L0F     M  21.0        1.70        51.0  17,64705882   \n",
       "4          6U1H     M  18.0        1.78        71.0  22,40878677   \n",
       "\n",
       "  Activité physique Régime particulier Végé            Fréquence CROUS  ...  \\\n",
       "0        Importante                Non  Non  Tous les jours ou presque  ...   \n",
       "1            Faible                Oui  Non  Tous les jours ou presque  ...   \n",
       "2           Modérée                Oui  Non  Tous les jours ou presque  ...   \n",
       "3               N.A                Oui  Non  Tous les jours ou presque  ...   \n",
       "4           Modérée                Non  Non  Tous les jours ou presque  ...   \n",
       "\n",
       "       Stress Nb convives   Ami 1                   Ami 2 Ami 3  Ami 4 Ami 5  \\\n",
       "0  Plutôt non            4   2H8Q       2 Sans formulaire    NaN   NaN   NaN   \n",
       "1   Oui, très          NaN    N.A  Même groupe pour 4 N.A    NaN   NaN   NaN   \n",
       "2  Plutôt oui          NaN    N.A  Même groupe pour 4 N.A    NaN   NaN   NaN   \n",
       "3  Plutôt oui          NaN    N.A  Même groupe pour 4 N.A    NaN   NaN   NaN   \n",
       "4  Plutôt non          NaN    N.A  Même groupe pour 4 N.A    NaN   NaN   NaN   \n",
       "\n",
       "  Unnamed: 27 Unnamed: 28 Unnamed: 29  \n",
       "0         NaN         NaN         NaN  \n",
       "1         NaN         NaN         NaN  \n",
       "2         NaN         NaN         NaN  \n",
       "3         NaN         NaN         NaN  \n",
       "4         NaN         NaN         NaN  \n",
       "\n",
       "[5 rows x 30 columns]"
      ]
     },
     "execution_count": 225,
     "metadata": {},
     "output_type": "execute_result"
    }
   ],
   "source": [
    "csv_1.head()"
   ]
  },
  {
   "cell_type": "code",
   "execution_count": 226,
   "id": "7fb98d37",
   "metadata": {},
   "outputs": [
    {
     "data": {
      "text/html": [
       "<div>\n",
       "<style scoped>\n",
       "    .dataframe tbody tr th:only-of-type {\n",
       "        vertical-align: middle;\n",
       "    }\n",
       "\n",
       "    .dataframe tbody tr th {\n",
       "        vertical-align: top;\n",
       "    }\n",
       "\n",
       "    .dataframe thead th {\n",
       "        text-align: right;\n",
       "    }\n",
       "</style>\n",
       "<table border=\"1\" class=\"dataframe\">\n",
       "  <thead>\n",
       "    <tr style=\"text-align: right;\">\n",
       "      <th></th>\n",
       "      <th>N° Formulaire</th>\n",
       "      <th>Genre</th>\n",
       "      <th>Âge</th>\n",
       "      <th>Taille (m)</th>\n",
       "      <th>Poids (kg)</th>\n",
       "      <th>IMC</th>\n",
       "      <th>Activité physique</th>\n",
       "      <th>Régime particulier</th>\n",
       "      <th>Végé</th>\n",
       "      <th>Fréquence CROUS</th>\n",
       "      <th>...</th>\n",
       "      <th>Stress</th>\n",
       "      <th>Nb convives</th>\n",
       "      <th>Ami 1</th>\n",
       "      <th>Ami 2</th>\n",
       "      <th>Ami 3</th>\n",
       "      <th>Ami 4</th>\n",
       "      <th>Ami 5</th>\n",
       "      <th>Unnamed: 27</th>\n",
       "      <th>Unnamed: 28</th>\n",
       "      <th>Unnamed: 29</th>\n",
       "    </tr>\n",
       "  </thead>\n",
       "  <tbody>\n",
       "    <tr>\n",
       "      <th>266</th>\n",
       "      <td>1T9W</td>\n",
       "      <td>NaN</td>\n",
       "      <td>NaN</td>\n",
       "      <td>NaN</td>\n",
       "      <td>NaN</td>\n",
       "      <td>NaN</td>\n",
       "      <td>NaN</td>\n",
       "      <td>NaN</td>\n",
       "      <td>NaN</td>\n",
       "      <td>NaN</td>\n",
       "      <td>...</td>\n",
       "      <td>NaN</td>\n",
       "      <td>NaN</td>\n",
       "      <td>NaN</td>\n",
       "      <td>NaN</td>\n",
       "      <td>NaN</td>\n",
       "      <td>NaN</td>\n",
       "      <td>NaN</td>\n",
       "      <td>NaN</td>\n",
       "      <td>NaN</td>\n",
       "      <td>NaN</td>\n",
       "    </tr>\n",
       "    <tr>\n",
       "      <th>267</th>\n",
       "      <td>1W6X</td>\n",
       "      <td>NaN</td>\n",
       "      <td>NaN</td>\n",
       "      <td>NaN</td>\n",
       "      <td>NaN</td>\n",
       "      <td>NaN</td>\n",
       "      <td>NaN</td>\n",
       "      <td>NaN</td>\n",
       "      <td>NaN</td>\n",
       "      <td>NaN</td>\n",
       "      <td>...</td>\n",
       "      <td>NaN</td>\n",
       "      <td>NaN</td>\n",
       "      <td>NaN</td>\n",
       "      <td>NaN</td>\n",
       "      <td>NaN</td>\n",
       "      <td>NaN</td>\n",
       "      <td>NaN</td>\n",
       "      <td>NaN</td>\n",
       "      <td>NaN</td>\n",
       "      <td>NaN</td>\n",
       "    </tr>\n",
       "    <tr>\n",
       "      <th>268</th>\n",
       "      <td>5O0Y</td>\n",
       "      <td>NaN</td>\n",
       "      <td>NaN</td>\n",
       "      <td>NaN</td>\n",
       "      <td>NaN</td>\n",
       "      <td>NaN</td>\n",
       "      <td>NaN</td>\n",
       "      <td>NaN</td>\n",
       "      <td>NaN</td>\n",
       "      <td>NaN</td>\n",
       "      <td>...</td>\n",
       "      <td>NaN</td>\n",
       "      <td>NaN</td>\n",
       "      <td>NaN</td>\n",
       "      <td>NaN</td>\n",
       "      <td>NaN</td>\n",
       "      <td>NaN</td>\n",
       "      <td>NaN</td>\n",
       "      <td>NaN</td>\n",
       "      <td>NaN</td>\n",
       "      <td>NaN</td>\n",
       "    </tr>\n",
       "    <tr>\n",
       "      <th>269</th>\n",
       "      <td>3R5P</td>\n",
       "      <td>NaN</td>\n",
       "      <td>NaN</td>\n",
       "      <td>NaN</td>\n",
       "      <td>NaN</td>\n",
       "      <td>NaN</td>\n",
       "      <td>NaN</td>\n",
       "      <td>NaN</td>\n",
       "      <td>NaN</td>\n",
       "      <td>NaN</td>\n",
       "      <td>...</td>\n",
       "      <td>NaN</td>\n",
       "      <td>NaN</td>\n",
       "      <td>NaN</td>\n",
       "      <td>NaN</td>\n",
       "      <td>NaN</td>\n",
       "      <td>NaN</td>\n",
       "      <td>NaN</td>\n",
       "      <td>NaN</td>\n",
       "      <td>NaN</td>\n",
       "      <td>NaN</td>\n",
       "    </tr>\n",
       "    <tr>\n",
       "      <th>270</th>\n",
       "      <td>8K4B</td>\n",
       "      <td>NaN</td>\n",
       "      <td>NaN</td>\n",
       "      <td>NaN</td>\n",
       "      <td>NaN</td>\n",
       "      <td>NaN</td>\n",
       "      <td>NaN</td>\n",
       "      <td>NaN</td>\n",
       "      <td>NaN</td>\n",
       "      <td>NaN</td>\n",
       "      <td>...</td>\n",
       "      <td>NaN</td>\n",
       "      <td>NaN</td>\n",
       "      <td>NaN</td>\n",
       "      <td>NaN</td>\n",
       "      <td>NaN</td>\n",
       "      <td>NaN</td>\n",
       "      <td>NaN</td>\n",
       "      <td>NaN</td>\n",
       "      <td>NaN</td>\n",
       "      <td>NaN</td>\n",
       "    </tr>\n",
       "  </tbody>\n",
       "</table>\n",
       "<p>5 rows × 30 columns</p>\n",
       "</div>"
      ],
      "text/plain": [
       "    N° Formulaire Genre  Âge  Taille (m)  Poids (kg) IMC  Activité physique  \\\n",
       "266          1T9W   NaN  NaN         NaN         NaN  NaN               NaN   \n",
       "267          1W6X   NaN  NaN         NaN         NaN  NaN               NaN   \n",
       "268          5O0Y   NaN  NaN         NaN         NaN  NaN               NaN   \n",
       "269          3R5P   NaN  NaN         NaN         NaN  NaN               NaN   \n",
       "270          8K4B   NaN  NaN         NaN         NaN  NaN               NaN   \n",
       "\n",
       "    Régime particulier Végé Fréquence CROUS  ... Stress Nb convives   Ami 1  \\\n",
       "266                NaN  NaN             NaN  ...    NaN          NaN    NaN   \n",
       "267                NaN  NaN             NaN  ...    NaN          NaN    NaN   \n",
       "268                NaN  NaN             NaN  ...    NaN          NaN    NaN   \n",
       "269                NaN  NaN             NaN  ...    NaN          NaN    NaN   \n",
       "270                NaN  NaN             NaN  ...    NaN          NaN    NaN   \n",
       "\n",
       "    Ami 2 Ami 3  Ami 4 Ami 5 Unnamed: 27 Unnamed: 28 Unnamed: 29  \n",
       "266   NaN    NaN   NaN   NaN         NaN         NaN         NaN  \n",
       "267   NaN    NaN   NaN   NaN         NaN         NaN         NaN  \n",
       "268   NaN    NaN   NaN   NaN         NaN         NaN         NaN  \n",
       "269   NaN    NaN   NaN   NaN         NaN         NaN         NaN  \n",
       "270   NaN    NaN   NaN   NaN         NaN         NaN         NaN  \n",
       "\n",
       "[5 rows x 30 columns]"
      ]
     },
     "execution_count": 226,
     "metadata": {},
     "output_type": "execute_result"
    }
   ],
   "source": [
    "csv_1.tail()"
   ]
  },
  {
   "cell_type": "markdown",
   "id": "7cb63102",
   "metadata": {},
   "source": [
    "Des lignes à la fin de chaque fichier csv n'ont pas été renseignée ou avec des annontations, il faut les enlever."
   ]
  },
  {
   "cell_type": "markdown",
   "id": "c20b876d",
   "metadata": {},
   "source": [
    "## Reduction du CSV aux données seules"
   ]
  },
  {
   "cell_type": "markdown",
   "id": "72a45619",
   "metadata": {},
   "source": [
    "On enlève les annotations en bas, les lignes non remplies en bas. On enlève de même les colonnes non remplies."
   ]
  },
  {
   "cell_type": "code",
   "execution_count": 227,
   "id": "07ff0e0d",
   "metadata": {},
   "outputs": [],
   "source": [
    "#print(csv_4.iloc[84, :])\n",
    "#print(csv_1.iloc[:, :27].columns)"
   ]
  },
  {
   "cell_type": "code",
   "execution_count": 228,
   "id": "4e31a07d",
   "metadata": {},
   "outputs": [],
   "source": [
    "#on garde les lignes remplies des tableurs\n",
    "csv_1 = csv_1.iloc[:135, :39]\n",
    "csv_2 = csv_2.iloc[:69, :39]\n",
    "csv_3 = csv_3.iloc[:169, :39]\n",
    "csv_4 = csv_4.iloc[:85, :39]"
   ]
  },
  {
   "cell_type": "markdown",
   "id": "cb557caa",
   "metadata": {},
   "source": [
    "## Concaténation des CSV pour les différents jours"
   ]
  },
  {
   "cell_type": "code",
   "execution_count": 229,
   "id": "0481a2e6",
   "metadata": {},
   "outputs": [
    {
     "name": "stdout",
     "output_type": "stream",
     "text": [
      "(135, 30)\n",
      "(69, 28)\n",
      "(169, 39)\n",
      "(85, 28)\n"
     ]
    }
   ],
   "source": [
    "print(csv_1.shape)\n",
    "print(csv_2.shape)\n",
    "print(csv_3.shape)\n",
    "print(csv_4.shape)"
   ]
  },
  {
   "cell_type": "code",
   "execution_count": 230,
   "id": "6b046af3",
   "metadata": {},
   "outputs": [],
   "source": [
    "#On rempli les csv pour qu'ils aient tous le même nombre de colonnes\n",
    "#On s'alignes sur csv_3\n",
    "Ami = pd.Series([np.NaN for _ in range(len(csv_1))])\n",
    "csv_1 = pd.concat([csv_1, Ami, Ami, Ami, Ami, Ami, Ami, Ami, Ami, Ami], axis = 1)\n",
    "\n",
    "Ami = pd.Series([np.NaN for _ in range(len(csv_2))])\n",
    "csv_2 = pd.concat([csv_2, Ami, Ami, Ami, Ami, Ami, Ami, Ami, Ami, Ami, Ami, Ami], axis = 1)\n",
    "\n",
    "Ami = pd.Series([np.NaN for _ in range(len(csv_4))])\n",
    "csv_4 = pd.concat([csv_4, Ami, Ami, Ami, Ami, Ami, Ami, Ami, Ami, Ami, Ami, Ami], axis = 1)"
   ]
  },
  {
   "cell_type": "code",
   "execution_count": 231,
   "id": "b6795810",
   "metadata": {},
   "outputs": [
    {
     "name": "stdout",
     "output_type": "stream",
     "text": [
      "(135, 39)\n",
      "(69, 39)\n",
      "(169, 39)\n",
      "(85, 39)\n"
     ]
    },
    {
     "data": {
      "text/plain": [
       "Index(['N° Formulaire', 'Genre ', 'Âge', 'Taille (m)', 'Poids (kg)', 'IMC',\n",
       "       'Activité physique', 'Régime particulier', 'Végé', 'Fréquence CROUS ',\n",
       "       'Equilibre alim', 'Seule ou En groupe', 'Nb groupe entrée', 'Proximité',\n",
       "       'Connaissance', 'Parti groupe', 'Influ sociale', 'Percept senso',\n",
       "       'Nb file', 'Faim', 'Stress', 'Nb convives', 'Ami 1', 'Ami 2', 'Ami 3',\n",
       "       'Ami 4', 'Ami 5', 'Unnamed: 27', 'Unnamed: 28', 'Unnamed: 29',\n",
       "       'Unnamed: 30', 'Unnamed: 31', 'Unnamed: 32', 'Unnamed: 33',\n",
       "       'Unnamed: 34', 'Unnamed: 35', 'Unnamed: 36', 'Unnamed: 37',\n",
       "       'Unnamed: 38'],\n",
       "      dtype='object')"
      ]
     },
     "execution_count": 231,
     "metadata": {},
     "output_type": "execute_result"
    }
   ],
   "source": [
    "print(csv_1.shape)\n",
    "print(csv_2.shape)\n",
    "print(csv_3.shape)\n",
    "print(csv_4.shape)\n",
    "csv_3.columns"
   ]
  },
  {
   "cell_type": "code",
   "execution_count": 232,
   "id": "ae3c36d5",
   "metadata": {},
   "outputs": [],
   "source": [
    "csv_1.columns = [\"N° Formulaire\",'Genre', 'Age', 'Taille', 'Poids', 'IMC', 'Activité physique',\n",
    "       'Régime particulier', 'Végé', 'Fréquence CROUS', 'Equilibre alim',\n",
    "       'Seule ou en groupe', 'Nb groupe entrée', 'Proximité', 'Connaissance',\n",
    "       'Parti groupe', 'Influ sociale', 'Percept senso', 'Nb file', 'Faim',\n",
    "       'Stress', 'Nb convives', 'Ami 1', 'Ami 2', 'Ami 3', 'Ami 4', 'Ami 5', \n",
    "        'Ami 6', 'Ami 7', 'Ami 8', 'Ami 9', 'Ami 10', 'Ami 11', 'Ami 12', 'Ami 13',\n",
    "        'Ami 14', 'Ami 15', 'Ami 16', 'Ami 17']\n",
    "csv_2.columns = csv_1.columns\n",
    "csv_3.columns = csv_1.columns\n",
    "csv_4.columns = csv_1.columns"
   ]
  },
  {
   "cell_type": "code",
   "execution_count": 233,
   "id": "d5e5db39",
   "metadata": {},
   "outputs": [],
   "source": [
    "csv_tot = pd.concat([csv_1, csv_2,csv_3, csv_4])\n",
    "csv_tot = csv_tot.set_index(\"N° Formulaire\")"
   ]
  },
  {
   "cell_type": "code",
   "execution_count": 234,
   "id": "3ea0378b",
   "metadata": {},
   "outputs": [
    {
     "data": {
      "text/plain": [
       "Index(['Genre', 'Age', 'Taille', 'Poids', 'IMC', 'Activité physique',\n",
       "       'Régime particulier', 'Végé', 'Fréquence CROUS', 'Equilibre alim',\n",
       "       'Seule ou en groupe', 'Nb groupe entrée', 'Proximité', 'Connaissance',\n",
       "       'Parti groupe', 'Influ sociale', 'Percept senso', 'Nb file', 'Faim',\n",
       "       'Stress', 'Nb convives', 'Ami 1', 'Ami 2', 'Ami 3', 'Ami 4', 'Ami 5',\n",
       "       'Ami 6', 'Ami 7', 'Ami 8', 'Ami 9', 'Ami 10', 'Ami 11', 'Ami 12',\n",
       "       'Ami 13', 'Ami 14', 'Ami 15', 'Ami 16', 'Ami 17'],\n",
       "      dtype='object')"
      ]
     },
     "execution_count": 234,
     "metadata": {},
     "output_type": "execute_result"
    }
   ],
   "source": [
    "csv_tot.columns"
   ]
  },
  {
   "cell_type": "code",
   "execution_count": 235,
   "id": "e9343f11",
   "metadata": {},
   "outputs": [
    {
     "data": {
      "text/html": [
       "<div>\n",
       "<style scoped>\n",
       "    .dataframe tbody tr th:only-of-type {\n",
       "        vertical-align: middle;\n",
       "    }\n",
       "\n",
       "    .dataframe tbody tr th {\n",
       "        vertical-align: top;\n",
       "    }\n",
       "\n",
       "    .dataframe thead th {\n",
       "        text-align: right;\n",
       "    }\n",
       "</style>\n",
       "<table border=\"1\" class=\"dataframe\">\n",
       "  <thead>\n",
       "    <tr style=\"text-align: right;\">\n",
       "      <th></th>\n",
       "      <th>Genre</th>\n",
       "      <th>Age</th>\n",
       "      <th>Taille</th>\n",
       "      <th>Poids</th>\n",
       "      <th>IMC</th>\n",
       "      <th>Activité physique</th>\n",
       "      <th>Régime particulier</th>\n",
       "      <th>Végé</th>\n",
       "      <th>Fréquence CROUS</th>\n",
       "      <th>Equilibre alim</th>\n",
       "      <th>...</th>\n",
       "      <th>Ami 8</th>\n",
       "      <th>Ami 9</th>\n",
       "      <th>Ami 10</th>\n",
       "      <th>Ami 11</th>\n",
       "      <th>Ami 12</th>\n",
       "      <th>Ami 13</th>\n",
       "      <th>Ami 14</th>\n",
       "      <th>Ami 15</th>\n",
       "      <th>Ami 16</th>\n",
       "      <th>Ami 17</th>\n",
       "    </tr>\n",
       "    <tr>\n",
       "      <th>N° Formulaire</th>\n",
       "      <th></th>\n",
       "      <th></th>\n",
       "      <th></th>\n",
       "      <th></th>\n",
       "      <th></th>\n",
       "      <th></th>\n",
       "      <th></th>\n",
       "      <th></th>\n",
       "      <th></th>\n",
       "      <th></th>\n",
       "      <th></th>\n",
       "      <th></th>\n",
       "      <th></th>\n",
       "      <th></th>\n",
       "      <th></th>\n",
       "      <th></th>\n",
       "      <th></th>\n",
       "      <th></th>\n",
       "      <th></th>\n",
       "      <th></th>\n",
       "      <th></th>\n",
       "    </tr>\n",
       "  </thead>\n",
       "  <tbody>\n",
       "    <tr>\n",
       "      <th>2E8L</th>\n",
       "      <td>M</td>\n",
       "      <td>20.0</td>\n",
       "      <td>1.84</td>\n",
       "      <td>72.0</td>\n",
       "      <td>21,26654064</td>\n",
       "      <td>Importante</td>\n",
       "      <td>Non</td>\n",
       "      <td>Non</td>\n",
       "      <td>Tous les jours ou presque</td>\n",
       "      <td>Moyennement</td>\n",
       "      <td>...</td>\n",
       "      <td>NaN</td>\n",
       "      <td>NaN</td>\n",
       "      <td>NaN</td>\n",
       "      <td>NaN</td>\n",
       "      <td>NaN</td>\n",
       "      <td>NaN</td>\n",
       "      <td>NaN</td>\n",
       "      <td>NaN</td>\n",
       "      <td>NaN</td>\n",
       "      <td>NaN</td>\n",
       "    </tr>\n",
       "    <tr>\n",
       "      <th>6Z9V</th>\n",
       "      <td>M</td>\n",
       "      <td>19.0</td>\n",
       "      <td>1.75</td>\n",
       "      <td>79.0</td>\n",
       "      <td>25,79591837</td>\n",
       "      <td>Faible</td>\n",
       "      <td>Oui</td>\n",
       "      <td>Non</td>\n",
       "      <td>Tous les jours ou presque</td>\n",
       "      <td>Moyennement</td>\n",
       "      <td>...</td>\n",
       "      <td>NaN</td>\n",
       "      <td>NaN</td>\n",
       "      <td>NaN</td>\n",
       "      <td>NaN</td>\n",
       "      <td>NaN</td>\n",
       "      <td>NaN</td>\n",
       "      <td>NaN</td>\n",
       "      <td>NaN</td>\n",
       "      <td>NaN</td>\n",
       "      <td>NaN</td>\n",
       "    </tr>\n",
       "    <tr>\n",
       "      <th>1P5N</th>\n",
       "      <td>M</td>\n",
       "      <td>19.0</td>\n",
       "      <td>1.74</td>\n",
       "      <td>74.0</td>\n",
       "      <td>24,44180209</td>\n",
       "      <td>Modérée</td>\n",
       "      <td>Oui</td>\n",
       "      <td>Non</td>\n",
       "      <td>Tous les jours ou presque</td>\n",
       "      <td>Moyennement</td>\n",
       "      <td>...</td>\n",
       "      <td>NaN</td>\n",
       "      <td>NaN</td>\n",
       "      <td>NaN</td>\n",
       "      <td>NaN</td>\n",
       "      <td>NaN</td>\n",
       "      <td>NaN</td>\n",
       "      <td>NaN</td>\n",
       "      <td>NaN</td>\n",
       "      <td>NaN</td>\n",
       "      <td>NaN</td>\n",
       "    </tr>\n",
       "    <tr>\n",
       "      <th>1L0F</th>\n",
       "      <td>M</td>\n",
       "      <td>21.0</td>\n",
       "      <td>1.70</td>\n",
       "      <td>51.0</td>\n",
       "      <td>17,64705882</td>\n",
       "      <td>N.A</td>\n",
       "      <td>Oui</td>\n",
       "      <td>Non</td>\n",
       "      <td>Tous les jours ou presque</td>\n",
       "      <td>Moyennement</td>\n",
       "      <td>...</td>\n",
       "      <td>NaN</td>\n",
       "      <td>NaN</td>\n",
       "      <td>NaN</td>\n",
       "      <td>NaN</td>\n",
       "      <td>NaN</td>\n",
       "      <td>NaN</td>\n",
       "      <td>NaN</td>\n",
       "      <td>NaN</td>\n",
       "      <td>NaN</td>\n",
       "      <td>NaN</td>\n",
       "    </tr>\n",
       "    <tr>\n",
       "      <th>6U1H</th>\n",
       "      <td>M</td>\n",
       "      <td>18.0</td>\n",
       "      <td>1.78</td>\n",
       "      <td>71.0</td>\n",
       "      <td>22,40878677</td>\n",
       "      <td>Modérée</td>\n",
       "      <td>Non</td>\n",
       "      <td>Non</td>\n",
       "      <td>Tous les jours ou presque</td>\n",
       "      <td>Moyennement</td>\n",
       "      <td>...</td>\n",
       "      <td>NaN</td>\n",
       "      <td>NaN</td>\n",
       "      <td>NaN</td>\n",
       "      <td>NaN</td>\n",
       "      <td>NaN</td>\n",
       "      <td>NaN</td>\n",
       "      <td>NaN</td>\n",
       "      <td>NaN</td>\n",
       "      <td>NaN</td>\n",
       "      <td>NaN</td>\n",
       "    </tr>\n",
       "  </tbody>\n",
       "</table>\n",
       "<p>5 rows × 38 columns</p>\n",
       "</div>"
      ],
      "text/plain": [
       "              Genre   Age  Taille  Poids          IMC Activité physique  \\\n",
       "N° Formulaire                                                             \n",
       "2E8L              M  20.0    1.84   72.0  21,26654064        Importante   \n",
       "6Z9V              M  19.0    1.75   79.0  25,79591837            Faible   \n",
       "1P5N              M  19.0    1.74   74.0  24,44180209           Modérée   \n",
       "1L0F              M  21.0    1.70   51.0  17,64705882               N.A   \n",
       "6U1H              M  18.0    1.78   71.0  22,40878677           Modérée   \n",
       "\n",
       "              Régime particulier Végé            Fréquence CROUS  \\\n",
       "N° Formulaire                                                      \n",
       "2E8L                         Non  Non  Tous les jours ou presque   \n",
       "6Z9V                         Oui  Non  Tous les jours ou presque   \n",
       "1P5N                         Oui  Non  Tous les jours ou presque   \n",
       "1L0F                         Oui  Non  Tous les jours ou presque   \n",
       "6U1H                         Non  Non  Tous les jours ou presque   \n",
       "\n",
       "              Equilibre alim  ... Ami 8 Ami 9 Ami 10 Ami 11 Ami 12 Ami 13  \\\n",
       "N° Formulaire                 ...                                           \n",
       "2E8L             Moyennement  ...   NaN   NaN    NaN    NaN    NaN    NaN   \n",
       "6Z9V             Moyennement  ...   NaN   NaN    NaN    NaN    NaN    NaN   \n",
       "1P5N             Moyennement  ...   NaN   NaN    NaN    NaN    NaN    NaN   \n",
       "1L0F             Moyennement  ...   NaN   NaN    NaN    NaN    NaN    NaN   \n",
       "6U1H             Moyennement  ...   NaN   NaN    NaN    NaN    NaN    NaN   \n",
       "\n",
       "              Ami 14 Ami 15 Ami 16 Ami 17  \n",
       "N° Formulaire                              \n",
       "2E8L             NaN    NaN    NaN    NaN  \n",
       "6Z9V             NaN    NaN    NaN    NaN  \n",
       "1P5N             NaN    NaN    NaN    NaN  \n",
       "1L0F             NaN    NaN    NaN    NaN  \n",
       "6U1H             NaN    NaN    NaN    NaN  \n",
       "\n",
       "[5 rows x 38 columns]"
      ]
     },
     "execution_count": 235,
     "metadata": {},
     "output_type": "execute_result"
    }
   ],
   "source": [
    "csv_tot.head()"
   ]
  },
  {
   "cell_type": "markdown",
   "id": "c8b034dd",
   "metadata": {},
   "source": [
    "## Nettoyage des colonnes Amis"
   ]
  },
  {
   "cell_type": "markdown",
   "id": "0546d796",
   "metadata": {},
   "source": [
    "Laissé tel quel du code source d'Hippo"
   ]
  },
  {
   "cell_type": "code",
   "execution_count": 236,
   "id": "9a3e6ebf",
   "metadata": {},
   "outputs": [],
   "source": [
    "#on créé une regex qui va nous permettre de récupérer les codes des formations\n",
    "#on peut aussi le faire avec cdette syntaxte :\n",
    "# bool(re.match(regex, 'hello1'))\n",
    "\n",
    "def KeepOnlyForm(x):\n",
    "    regex = r\"[0-9][A-Z][0-9][A-Z]\"\n",
    "    if type(x)== str:\n",
    "        match = re.search(regex,x)\n",
    "        if match != None:\n",
    "            return match.string\n",
    "        else:\n",
    "            return pd.NA\n",
    "    else:\n",
    "        return pd.NA"
   ]
  },
  {
   "cell_type": "code",
   "execution_count": 237,
   "id": "793228a9",
   "metadata": {},
   "outputs": [],
   "source": [
    "# on selectionne les colonnes qui commencent par \"Ami\" (on garde maximum 5 amis)\n",
    "col_amis = csv_tot.columns.str.startswith(\"Ami\")\n",
    "dfamis = csv_tot.loc[:,col_amis]\n",
    "\n",
    "#toutes les valeurs qui ne sont pas des chaines de caractères sont remplacées par des Sandofour\n",
    "dfamis = dfamis.applymap(KeepOnlyForm)"
   ]
  },
  {
   "cell_type": "code",
   "execution_count": 238,
   "id": "7bc1f57e",
   "metadata": {},
   "outputs": [],
   "source": [
    "#onremplace les colonnes par les colonnes nettoyées\n",
    "csv_tot.loc[:,col_amis] = dfamis\n",
    "#on enleve les colonnes après la colonne \"Ami 5\"\n",
    "csv_tot = csv_tot.iloc[:,:csv_tot.columns.get_loc(\"Ami 17\")+1]"
   ]
  },
  {
   "cell_type": "markdown",
   "id": "601a03fb",
   "metadata": {},
   "source": [
    "## Variables catégorielles binaires sont codées en 0 et 1"
   ]
  },
  {
   "cell_type": "code",
   "execution_count": 239,
   "id": "d58e3099",
   "metadata": {},
   "outputs": [
    {
     "name": "stdout",
     "output_type": "stream",
     "text": [
      "Genre :  ['M' 'F']\n",
      "Végé :  ['Non' 'Oui' 'N.A' 'Non ']\n",
      "Régime particulier :  ['Non' 'Oui' 'N.A']\n",
      "Proximité :  ['Non' 'Oui' 'N.A']\n",
      "Seule ou en groupe :  ['En groupe' 'Seule ' 'Seule' 'Groupe' 'Groupe ']\n",
      "Connaissance :  ['Non' 'N.A' 'Oui' 'Non ']\n",
      "Parti groupe :  ['N.A' 'Non' 'Oui']\n"
     ]
    }
   ],
   "source": [
    "#on regarde quelles sont les variables binaires\n",
    "print(\"Genre : \", csv_tot[\"Genre\"].unique())\n",
    "print(\"Végé : \", csv_tot[\"Végé\"].unique())\n",
    "print(\"Régime particulier : \", csv_tot[\"Régime particulier\"].unique())\n",
    "print(\"Proximité : \", csv_tot[\"Proximité\"].unique())\n",
    "print(\"Seule ou en groupe : \", csv_tot[\"Seule ou en groupe\"].unique())\n",
    "print(\"Connaissance : \", csv_tot[\"Connaissance\"].unique())\n",
    "print(\"Parti groupe : \", csv_tot[\"Parti groupe\"].unique())"
   ]
  },
  {
   "cell_type": "code",
   "execution_count": 240,
   "id": "96165b39",
   "metadata": {},
   "outputs": [],
   "source": [
    "csv_tot[\"Genre\"] = csv_tot[\"Genre\"].replace({\"F\":0, \"M\":1})\n",
    "csv_tot[\"Végé\"] = csv_tot[\"Végé\"].replace({\"Oui\":1, \"Non\":0, \"Non \":0})\n",
    "csv_tot[\"Régime particulier\"] = csv_tot[\"Régime particulier\"].replace({\"Oui\":1, \"Non\":0})\n",
    "csv_tot[\"Proximité\"] = csv_tot[\"Proximité\"].replace({\"Oui\":1, \"Non\":0})\n",
    "csv_tot[\"Seule ou en groupe\"] = csv_tot[\"Seule ou en groupe\"].replace({\"Seule\":0, \"En groupe\":1, 'Seule ':0, 'Groupe':0, 'Groupe ':0})\n",
    "csv_tot[\"Connaissance\"] = csv_tot[\"Connaissance\"].replace({\"Oui\":1, \"Non\":0, \"Non \":0})\n",
    "csv_tot[\"Régime particulier\"] = csv_tot[\"Régime particulier\"].replace({\"Oui\":1, \"Non\":0})\n",
    "csv_tot[\"Parti groupe\"] = csv_tot[\"Parti groupe\"].replace({\"Oui\":1, \"Non\":0})"
   ]
  },
  {
   "cell_type": "markdown",
   "id": "b4988353",
   "metadata": {},
   "source": [
    "## Variable numérique"
   ]
  },
  {
   "cell_type": "code",
   "execution_count": 242,
   "id": "d78b969e",
   "metadata": {},
   "outputs": [
    {
     "name": "stdout",
     "output_type": "stream",
     "text": [
      "Taille :  [  1.84    1.75    1.74    1.7     1.78    1.85    1.95    1.65    1.69\n",
      "   1.82    1.6     1.8     1.79    1.63    1.67    1.62    1.87    1.72\n",
      "   1.56    1.61    1.91    1.73    1.58    1.83    1.77    1.76    1.86\n",
      "   1.71    1.68    1.755   1.94    1.89    1.9     1.64    1.53    1.92\n",
      "   1.66    1.57    1.59    1.81    1.685   1.93  163.    157.      1.88\n",
      "   1.585   1.96    1.48    1.55    1.705   1.54 ]\n",
      "Nb groupe entrée :  [4.0 5.0 3.0 2.0 1.0 6.0 16.0 11.0 12.0 7.0 17.0 8.0 10.0 18.0 9.0 20.0\n",
      " 13.0 15.0 '2' '1' '5' '6' '3' '10' '4' '7' '8' '12' '15' '27' 'N.A']\n",
      "Nb convives :  ['4' nan '2' '1' '3' '5' '7' '2 ?' '8' '9' 2.0 6.0 3.0 5.0 7.0 '3 ? '\n",
      " '3 ?' 'N.A' '6' '10' '14']\n"
     ]
    }
   ],
   "source": [
    "#print(\"Age : \", csv_tot[\"Age\"].unique())\n",
    "print(\"Taille : \", csv_tot[\"Taille\"].unique())\n",
    "#print(\"Poids : \", csv_tot[\"Poids\"].unique())\n",
    "#print(\"IMC : \", csv_tot[\"IMC\"].unique())\n",
    "print(\"Nb groupe entrée : \", csv_tot[\"Nb groupe entrée\"].unique())\n",
    "print(\"Nb convives : \", csv_tot[\"Nb convives\"].unique())"
   ]
  },
  {
   "cell_type": "code",
   "execution_count": 245,
   "id": "70f70f0c",
   "metadata": {},
   "outputs": [],
   "source": [
    "#csv_tot[\"Taille\"].iloc[np.where(csv_tot[\"Taille\"]>=3)] = csv_tot[\"Taille\"].iloc[np.where(csv_tot[\"Taille\"]>=3)]/100\n",
    "csv_tot[\"Taille\"].loc[np.where(csv_tot[\"Taille\"]>=3)] = csv_tot[\"Taille\"].loc[np.where(csv_tot[\"Taille\"]>=3)]/100"
   ]
  },
  {
   "cell_type": "code",
   "execution_count": 246,
   "id": "e50400d7",
   "metadata": {},
   "outputs": [],
   "source": [
    "csv_tot[\"IMC\"] = csv_tot[\"IMC\"].replace(',', '.', regex = True).astype(float)\n",
    "csv_tot[\"Nb convives\"] = csv_tot[\"Nb convives\"].replace(['\\?', ' '],'', regex=True)   "
   ]
  },
  {
   "cell_type": "code",
   "execution_count": 247,
   "id": "e9de72e6",
   "metadata": {},
   "outputs": [
    {
     "name": "stdout",
     "output_type": "stream",
     "text": [
      "Nb convives :  ['4' nan '2' '1' '3' '5' '7' '8' '9' 2.0 6.0 3.0 5.0 7.0 'N.A' '6' '10'\n",
      " '14']\n"
     ]
    }
   ],
   "source": [
    "#print(\"IMC : \", csv_tot[\"IMC\"].unique())\n",
    "print(\"Nb convives : \", csv_tot[\"Nb convives\"].unique())"
   ]
  },
  {
   "cell_type": "markdown",
   "id": "2aa8556e",
   "metadata": {},
   "source": [
    "## Suppression des colonnes inutiles"
   ]
  },
  {
   "cell_type": "markdown",
   "id": "b0646221",
   "metadata": {},
   "source": [
    "Pour l'instant on garde toutes les colonnes et on verra après si certaines ne sont pas utile."
   ]
  },
  {
   "cell_type": "code",
   "execution_count": 248,
   "id": "7e1832f2",
   "metadata": {},
   "outputs": [],
   "source": [
    "#df1.drop(columns=[\"Fréquence CROUS\"], inplace=True)\n",
    "#df1.drop(columns=[\"Seule ou en groupe\"], inplace=True)\n",
    "#df1.drop(columns=[\"Connaissance\"], inplace=True)\n",
    "#df1.drop(columns=[\"Nb file\"], inplace=True)\n",
    "#df1.drop(columns=[\"Parti groupe\"], inplace=True)"
   ]
  },
  {
   "cell_type": "markdown",
   "id": "709709ff",
   "metadata": {},
   "source": [
    "## Les variables catégorielles qui présente une relation d'odre sont traitées comme des variables numériques"
   ]
  },
  {
   "cell_type": "markdown",
   "id": "45362693",
   "metadata": {},
   "source": [
    "### Fréquence de venue au CROUS"
   ]
  },
  {
   "cell_type": "code",
   "execution_count": 249,
   "id": "0e9ded58",
   "metadata": {},
   "outputs": [
    {
     "name": "stdout",
     "output_type": "stream",
     "text": [
      "['Tous les jours ou presque' 'Au moins 1 fois par semaine'\n",
      " 'Je viens pour la première fois' 'N.A' 'Tous les jours ou presque '\n",
      " 'Au moins une fois par semaine']\n"
     ]
    }
   ],
   "source": [
    "#on recupere les valeurs possibles de la colonne Fréquence CROUS\n",
    "freqCROUS = csv_tot[\"Fréquence CROUS\"].unique()\n",
    "print(freqCROUS)"
   ]
  },
  {
   "cell_type": "code",
   "execution_count": 250,
   "id": "ae1b9285",
   "metadata": {},
   "outputs": [],
   "source": [
    "#on remplace les valeurs de la colonne Stress par des valeurs numériques\n",
    "csv_tot[\"Fréquence CROUS\"] = csv_tot[\"Fréquence CROUS\"].replace('Je viens pour la première fois', 0)\n",
    "csv_tot[\"Fréquence CROUS\"] = csv_tot[\"Fréquence CROUS\"].replace('Au moins 1 fois par semaine', 1)\n",
    "csv_tot[\"Fréquence CROUS\"] = csv_tot[\"Fréquence CROUS\"].replace('Au moins une fois par semaine', 1)\n",
    "csv_tot[\"Fréquence CROUS\"] = csv_tot[\"Fréquence CROUS\"].replace('Tous les jours ou presque', 2)\n",
    "csv_tot[\"Fréquence CROUS\"] = csv_tot[\"Fréquence CROUS\"].replace('Tous les jours ou presque ', 2)"
   ]
  },
  {
   "cell_type": "code",
   "execution_count": 251,
   "id": "b6b7d652",
   "metadata": {},
   "outputs": [
    {
     "name": "stdout",
     "output_type": "stream",
     "text": [
      "[2 1 0 'N.A']\n"
     ]
    }
   ],
   "source": [
    "print(csv_tot[\"Fréquence CROUS\"].unique())"
   ]
  },
  {
   "cell_type": "markdown",
   "id": "7e5feb2a",
   "metadata": {},
   "source": [
    "### Influence du nombre de personnes dans la file"
   ]
  },
  {
   "cell_type": "code",
   "execution_count": 252,
   "id": "c07a245d",
   "metadata": {},
   "outputs": [
    {
     "name": "stdout",
     "output_type": "stream",
     "text": [
      "['Non, je ne sais pas' 'Non, pas trop' 'Non, je ne pense pas'\n",
      " 'Non,pas trop' 'Plutôt oui' 'Oui,tout à fait' 'Non, je ne pense pas '\n",
      " 'Oui, tout à fait' 'N.A' 'Oui, tout à fait ']\n"
     ]
    }
   ],
   "source": [
    "#on recupere les valeurs possibles de la colonne Nb File\n",
    "NbFile = csv_tot[\"Nb file\"].unique()\n",
    "print(NbFile)"
   ]
  },
  {
   "cell_type": "code",
   "execution_count": 253,
   "id": "b3e7d103",
   "metadata": {},
   "outputs": [],
   "source": [
    "#on remplace les valeurs de la colonne Stress par des valeurs numériques\n",
    "csv_tot[\"Nb file\"] = csv_tot[\"Nb file\"].replace('Non, je ne sais pas', 0)\n",
    "csv_tot[\"Nb file\"] = csv_tot[\"Nb file\"].replace('Non, pas trop', 0)\n",
    "csv_tot[\"Nb file\"] = csv_tot[\"Nb file\"].replace('Non, je ne pense pas', 0)\n",
    "csv_tot[\"Nb file\"] = csv_tot[\"Nb file\"].replace('Non,pas trop', 0)\n",
    "csv_tot[\"Nb file\"] = csv_tot[\"Nb file\"].replace('Non, je ne pense pas ', 0)\n",
    "csv_tot[\"Nb file\"] = csv_tot[\"Nb file\"].replace('Plutôt oui', 1)\n",
    "csv_tot[\"Nb file\"] = csv_tot[\"Nb file\"].replace('Oui,tout à fait', 2)\n",
    "csv_tot[\"Nb file\"] = csv_tot[\"Nb file\"].replace('Oui, tout à fait', 2)\n",
    "csv_tot[\"Nb file\"] = csv_tot[\"Nb file\"].replace('Oui, tout à fait ', 2)"
   ]
  },
  {
   "cell_type": "code",
   "execution_count": 254,
   "id": "5092daf3",
   "metadata": {},
   "outputs": [
    {
     "name": "stdout",
     "output_type": "stream",
     "text": [
      "[0 1 2 'N.A']\n"
     ]
    }
   ],
   "source": [
    "print(csv_tot[\"Nb file\"].unique())"
   ]
  },
  {
   "cell_type": "markdown",
   "id": "af234a2b",
   "metadata": {},
   "source": [
    "### Stress"
   ]
  },
  {
   "cell_type": "code",
   "execution_count": 255,
   "id": "221098db",
   "metadata": {},
   "outputs": [
    {
     "name": "stdout",
     "output_type": "stream",
     "text": [
      "['Plutôt non' 'Oui, très' 'Plutôt oui' 'Non' 'N.A' 'Oui, très ']\n"
     ]
    }
   ],
   "source": [
    "#on recupere les valeurs possibles de la colonne stress\n",
    "stress = csv_tot[\"Stress\"].unique()\n",
    "print(stress)"
   ]
  },
  {
   "cell_type": "code",
   "execution_count": 256,
   "id": "c7007b34",
   "metadata": {},
   "outputs": [],
   "source": [
    "#on remplace les valeurs de la colonne Stress par des valeurs numériques\n",
    "csv_tot[\"Stress\"] = csv_tot[\"Stress\"].replace(\"Non\", 0)\n",
    "csv_tot[\"Stress\"] = csv_tot[\"Stress\"].replace(\"Plutôt non\", 1)\n",
    "csv_tot[\"Stress\"] = csv_tot[\"Stress\"].replace(\"Plutôt oui\", 2)\n",
    "csv_tot[\"Stress\"] = csv_tot[\"Stress\"].replace(\"Oui, très\", 3)\n",
    "csv_tot[\"Stress\"] = csv_tot[\"Stress\"].replace(\"Oui, très \", 3)\n",
    "\n",
    "#csv_tot[\"Stress\"] = csv_tot[\"Stress\"].replace(\"N.A\", 1.5) #on remplace les valeurs manquantes par la moyenne ?\n",
    "#on normalise par moyenne et variance la colonne stress\n",
    "#df1[\"Stress\"] = (df1[\"Stress\"] - df1[\"Stress\"].mean())/df1[\"Stress\"].std()"
   ]
  },
  {
   "cell_type": "code",
   "execution_count": 257,
   "id": "3a4d73b9",
   "metadata": {},
   "outputs": [
    {
     "name": "stdout",
     "output_type": "stream",
     "text": [
      "[1 3 2 0 'N.A']\n"
     ]
    }
   ],
   "source": [
    "print(csv_tot[\"Stress\"].unique())"
   ]
  },
  {
   "cell_type": "markdown",
   "id": "65a8149d",
   "metadata": {},
   "source": [
    "### Faim"
   ]
  },
  {
   "cell_type": "code",
   "execution_count": 258,
   "id": "68df5e1c",
   "metadata": {},
   "outputs": [
    {
     "name": "stdout",
     "output_type": "stream",
     "text": [
      "['Oui,assez faim' 'Oui, très faim' 'Oui, assez faim faim'\n",
      " 'Oui, mais très peu' 'Oui,très faim' 'Non' 'Oui, assez faim'\n",
      " 'Oui, assez faim ' 'N.A']\n"
     ]
    }
   ],
   "source": [
    "#on recupere les valeurs possibles de la colonne stress\n",
    "faim = csv_tot[\"Faim\"].unique()\n",
    "print(faim)"
   ]
  },
  {
   "cell_type": "code",
   "execution_count": 259,
   "id": "586e7f9f",
   "metadata": {},
   "outputs": [],
   "source": [
    "#on remplace les valeurs de la colonne Faim par des valeurs numériques\n",
    "csv_tot[\"Faim\"] = csv_tot[\"Faim\"].replace('Non', 0)\n",
    "csv_tot[\"Faim\"] = csv_tot[\"Faim\"].replace('Oui, mais très peu', 1)\n",
    "csv_tot[\"Faim\"] = csv_tot[\"Faim\"].replace(\"Oui,assez faim\", 2)\n",
    "csv_tot[\"Faim\"] = csv_tot[\"Faim\"].replace('Oui, assez faim faim', 2)\n",
    "csv_tot[\"Faim\"] = csv_tot[\"Faim\"].replace('Oui, assez faim', 2)\n",
    "csv_tot[\"Faim\"] = csv_tot[\"Faim\"].replace('Oui, assez faim ', 2)\n",
    "csv_tot[\"Faim\"] = csv_tot[\"Faim\"].replace('Oui,très faim', 3)\n",
    "csv_tot[\"Faim\"] = csv_tot[\"Faim\"].replace('Oui, très faim', 3)\n",
    "\n",
    "#csv_tot[\"Faim\"] = csv_tot[\"Faim\"].replace('N.A', 1.5) #on remplace les valeurs manquantes par la moyenne ??\n",
    "#on normalise par moyenne et variance la colonne faim \n",
    "#csv_tot[\"Faim\"] = (csv_tot[\"Faim\"] - csv_tot[\"Faim\"].mean())/csv_tot[\"Faim\"].std()"
   ]
  },
  {
   "cell_type": "code",
   "execution_count": 260,
   "id": "7e915518",
   "metadata": {},
   "outputs": [
    {
     "name": "stdout",
     "output_type": "stream",
     "text": [
      "[2 3 1 0 'N.A']\n"
     ]
    }
   ],
   "source": [
    "print(csv_tot[\"Faim\"].unique())"
   ]
  },
  {
   "cell_type": "markdown",
   "id": "f3a1270f",
   "metadata": {},
   "source": [
    "### Activité physique"
   ]
  },
  {
   "cell_type": "code",
   "execution_count": 261,
   "id": "9489d412",
   "metadata": {},
   "outputs": [
    {
     "name": "stdout",
     "output_type": "stream",
     "text": [
      "['Importante' 'Faible' 'Modérée' 'N.A' 'Aucune' 'Aucune ']\n"
     ]
    }
   ],
   "source": [
    "#on recupere les valeurs possibles de la colonne Activité physique\n",
    "activite = csv_tot[\"Activité physique\"].unique()\n",
    "print(activite)"
   ]
  },
  {
   "cell_type": "code",
   "execution_count": 262,
   "id": "eb596cc8",
   "metadata": {},
   "outputs": [],
   "source": [
    "#on remplace les valeurs de la colonne Activité physique par des valeurs numériques\n",
    "csv_tot[\"Activité physique\"] = csv_tot[\"Activité physique\"].replace('Aucune', 0)\n",
    "csv_tot[\"Activité physique\"] = csv_tot[\"Activité physique\"].replace('Aucune ', 0)\n",
    "csv_tot[\"Activité physique\"] = csv_tot[\"Activité physique\"].replace(\"Faible\", 1)\n",
    "csv_tot[\"Activité physique\"] = csv_tot[\"Activité physique\"].replace('Modérée', 2)\n",
    "csv_tot[\"Activité physique\"] = csv_tot[\"Activité physique\"].replace('Importante', 3)\n",
    "\n",
    "#csv_tot[\"Activité physique\"] = csv_tot[\"Activité physique\"].replace(\"N.A\", 1.5) #on remplace les valeurs manquantes par la moyenne ??\n",
    "#on normalise par moyenne et variance la colonne Activité physique \n",
    "#csv_tot[\"Activité physique\"] = (csv_tot[\"Activité physique\"] - csv_tot[\"Activité physique\"].mean())/csv_tot[\"Activité physique\"].std()"
   ]
  },
  {
   "cell_type": "code",
   "execution_count": 263,
   "id": "33da7178",
   "metadata": {},
   "outputs": [
    {
     "name": "stdout",
     "output_type": "stream",
     "text": [
      "[3 1 2 'N.A' 0]\n"
     ]
    }
   ],
   "source": [
    "print(csv_tot[\"Activité physique\"].unique())"
   ]
  },
  {
   "cell_type": "markdown",
   "id": "2713ea68",
   "metadata": {},
   "source": [
    "### Perception sensorielle"
   ]
  },
  {
   "cell_type": "code",
   "execution_count": 264,
   "id": "082d881a",
   "metadata": {},
   "outputs": [
    {
     "name": "stdout",
     "output_type": "stream",
     "text": [
      "['Moyennement influencé' 'Peu influencé' 'Pas influencé' 'Très influencé'\n",
      " 'Pas influencé ' 'N.A' 'Pas inflencé']\n"
     ]
    }
   ],
   "source": [
    "#on recupere les valeurs possibles de la colonne Activité physique\n",
    "senso = csv_tot[\"Percept senso\"].unique()\n",
    "print(senso)"
   ]
  },
  {
   "cell_type": "code",
   "execution_count": 265,
   "id": "74ac38ee",
   "metadata": {},
   "outputs": [],
   "source": [
    "#on remplace les valeurs de la colonne Activité physique par des valeurs numériques\n",
    "csv_tot[\"Percept senso\"] = csv_tot[\"Percept senso\"].replace('Pas influencé', 0)\n",
    "csv_tot[\"Percept senso\"] = csv_tot[\"Percept senso\"].replace('Pas influencé ', 0)\n",
    "csv_tot[\"Percept senso\"] = csv_tot[\"Percept senso\"].replace('Pas inflencé', 0)\n",
    "csv_tot[\"Percept senso\"] = csv_tot[\"Percept senso\"].replace('Peu influencé', 1)\n",
    "csv_tot[\"Percept senso\"] = csv_tot[\"Percept senso\"].replace('Moyennement influencé', 2)\n",
    "csv_tot[\"Percept senso\"] = csv_tot[\"Percept senso\"].replace('Très influencé', 3)\n",
    "\n",
    "#csv_tot[\"Percept senso\"] = csv_tot[\"Percept senso\"].replace(\"N.A\", 1.5) #on remplace les valeurs manquantes par la moyenne ??\n",
    "#on normalise par moyenne et variance la colonne Activité physique \n",
    "#csv_tot[\"Percept senso\"] = (csv_tot[\"Percept senso\"] - csv_tot[\"Percept senso\"].mean())/csv_tot[\"Percept senso\"].std()"
   ]
  },
  {
   "cell_type": "code",
   "execution_count": 266,
   "id": "82e45e1d",
   "metadata": {},
   "outputs": [
    {
     "name": "stdout",
     "output_type": "stream",
     "text": [
      "[2 1 0 3 'N.A']\n"
     ]
    }
   ],
   "source": [
    "print(csv_tot[\"Percept senso\"].unique())"
   ]
  },
  {
   "cell_type": "markdown",
   "id": "2c023850",
   "metadata": {},
   "source": [
    "### Influence sociale"
   ]
  },
  {
   "cell_type": "code",
   "execution_count": 267,
   "id": "eb743c25",
   "metadata": {},
   "outputs": [
    {
     "name": "stdout",
     "output_type": "stream",
     "text": [
      "['Pas influencé' 'Peu influencé' 'Moyennement influencé' 'Très influencé'\n",
      " 'Moyennement influencé ' 'Pas influencé ' 'N.A' nan]\n"
     ]
    }
   ],
   "source": [
    "#on recupere les valeurs possibles de la colonne Activité physique\n",
    "influ = csv_tot[\"Influ sociale\"].unique()\n",
    "print(influ)"
   ]
  },
  {
   "cell_type": "code",
   "execution_count": 268,
   "id": "b5b1d349",
   "metadata": {},
   "outputs": [],
   "source": [
    "# #on remplace les valeurs de la colonne Activité physique par des valeurs numériques\n",
    "csv_tot[\"Influ sociale\"] = csv_tot[\"Influ sociale\"].replace('Pas influencé', 0)\n",
    "csv_tot[\"Influ sociale\"] = csv_tot[\"Influ sociale\"].replace('Pas influencé ', 0)\n",
    "csv_tot[\"Influ sociale\"] = csv_tot[\"Influ sociale\"].replace('Peu influencé', 1)\n",
    "csv_tot[\"Influ sociale\"] = csv_tot[\"Influ sociale\"].replace('Moyennement influencé', 2)\n",
    "csv_tot[\"Influ sociale\"] = csv_tot[\"Influ sociale\"].replace('Moyennement influencé ', 2)\n",
    "csv_tot[\"Influ sociale\"] = csv_tot[\"Influ sociale\"].replace('Très influencé', 3)\n",
    "\n",
    "csv_tot[\"Influ sociale\"] = csv_tot[\"Influ sociale\"].fillna('N.A')\n",
    "\n",
    "#csv_tot[\"Influ sociale\"] = csv_tot[\"Influ sociale\"].replace(\"N.A\", 1.5) #on remplace les valeurs manquantes par la moyenne ??\n",
    "# #on normalise par moyenne et variance la colonne Activité physique \n",
    "#csv_tot[\"Influ sociale\"] = (csv_tot[\"Influ sociale\"] - csv_tot[\"Influ sociale\"].mean())/csv_tot[\"Influ sociale\"].std()"
   ]
  },
  {
   "cell_type": "code",
   "execution_count": 269,
   "id": "420e2ff4",
   "metadata": {},
   "outputs": [
    {
     "name": "stdout",
     "output_type": "stream",
     "text": [
      "[0 1 2 3 'N.A']\n"
     ]
    }
   ],
   "source": [
    "print(csv_tot[\"Influ sociale\"].unique())"
   ]
  },
  {
   "cell_type": "markdown",
   "id": "e68d506d",
   "metadata": {},
   "source": [
    "### Equilibre alimentaire "
   ]
  },
  {
   "cell_type": "code",
   "execution_count": 270,
   "id": "e56b24f4",
   "metadata": {},
   "outputs": [
    {
     "name": "stdout",
     "output_type": "stream",
     "text": [
      "['Moyennement' 'Un peu' 'Très attention' 'Manger équilibré' 'Pas du tout'\n",
      " 'N.A' 'Un peu ' 'Moyennement ']\n"
     ]
    }
   ],
   "source": [
    "#on recupere les valeurs possibles de la colonne Activité physique\n",
    "equilibre = csv_tot[\"Equilibre alim\"].unique()\n",
    "print(equilibre)"
   ]
  },
  {
   "cell_type": "code",
   "execution_count": 271,
   "id": "daf9814b",
   "metadata": {},
   "outputs": [],
   "source": [
    "#on remplace les valeurs de la colonne Activité physique par des valeurs numériques\n",
    "csv_tot[\"Equilibre alim\"] = csv_tot[\"Equilibre alim\"].replace('Pas du tout', 0)\n",
    "csv_tot[\"Equilibre alim\"] = csv_tot[\"Equilibre alim\"].replace('Un peu', 1)\n",
    "csv_tot[\"Equilibre alim\"] = csv_tot[\"Equilibre alim\"].replace('Un peu ', 1)\n",
    "csv_tot[\"Equilibre alim\"] = csv_tot[\"Equilibre alim\"].replace('Moyennement', 2)\n",
    "csv_tot[\"Equilibre alim\"] = csv_tot[\"Equilibre alim\"].replace('Moyennement ', 2)\n",
    "csv_tot[\"Equilibre alim\"] = csv_tot[\"Equilibre alim\"].replace('Manger équilibré', 3)\n",
    "csv_tot[\"Equilibre alim\"] = csv_tot[\"Equilibre alim\"].replace('Très attention', 4)\n",
    "\n",
    "#csv_tot[\"Equilibre alim\"] = csv_tot[\"Equilibre alim\"].replace(\"N.A\", 2) #on remplace les valeurs manquantes par la moyenne ??\n",
    "#on normalise par moyenne et variance la colonne Activité physique \n",
    "#csv_tot[\"Equilibre alim\"] = (csv_tot[\"Equilibre alim\"] - csv_tot[\"Equilibre alim\"].mean())/csv_tot[\"Equilibre alim\"].std()"
   ]
  },
  {
   "cell_type": "code",
   "execution_count": 272,
   "id": "aeb14a2f",
   "metadata": {},
   "outputs": [
    {
     "name": "stdout",
     "output_type": "stream",
     "text": [
      "[2 1 4 3 0 'N.A']\n"
     ]
    }
   ],
   "source": [
    "print(csv_tot[\"Equilibre alim\"].unique())"
   ]
  },
  {
   "cell_type": "markdown",
   "id": "5a8b1f5d",
   "metadata": {},
   "source": [
    "## Variables string (Ami)"
   ]
  },
  {
   "cell_type": "code",
   "execution_count": 273,
   "id": "6f7b4b3f",
   "metadata": {},
   "outputs": [
    {
     "name": "stdout",
     "output_type": "stream",
     "text": [
      "[<NA> '3M5G' '7N7F' '7U3T' '6T9D' '0G2I' '8F9H' '6E9U' '6T9B' '8O3V'\n",
      " '4H1P' '1O2T' '9M5B' '7N0N' '1A9V' '1S8D' '1W7I' '5Q1R' '1R9D']\n"
     ]
    }
   ],
   "source": [
    "print(csv_tot[\"Ami 7\"].unique())"
   ]
  },
  {
   "cell_type": "code",
   "execution_count": 274,
   "id": "7cc484b7",
   "metadata": {},
   "outputs": [],
   "source": [
    "csv_tot[\"Ami 1\"] = csv_tot[\"Ami 1\"].replace(['\\?', ' '],'', regex=True).astype(str)\n",
    "csv_tot[\"Ami 2\"] = csv_tot[\"Ami 2\"].replace(['\\?', ' '],'', regex=True).astype(str)\n",
    "csv_tot[\"Ami 3\"] = csv_tot[\"Ami 3\"].replace(['\\?', ' '],'', regex=True).astype(str)\n",
    "csv_tot[\"Ami 4\"] = csv_tot[\"Ami 4\"].replace(['\\?', ' '],'', regex=True).astype(str)\n",
    "csv_tot[\"Ami 5\"] = csv_tot[\"Ami 5\"].replace(['\\?', ' '],'', regex=True).astype(str)\n",
    "\n",
    "#for k in range(1,18):\n",
    "#    csv_tot[f\"Ami {k}\"] = csv_tot[f\"Ami {k}\"].replace(['\\?', ' '],'', regex=True).astype(str)"
   ]
  },
  {
   "cell_type": "markdown",
   "id": "8c8c50fd",
   "metadata": {},
   "source": [
    "## Que fait-on des N.A relou ?"
   ]
  },
  {
   "cell_type": "markdown",
   "id": "efab03eb",
   "metadata": {},
   "source": [
    "Pour l'instant je les remplace par la médiane pour toutes les variables."
   ]
  },
  {
   "cell_type": "code",
   "execution_count": 275,
   "id": "9e7ce4da",
   "metadata": {},
   "outputs": [],
   "source": [
    "csv_tot = csv_tot.replace('N.A', np.NaN, regex=True)\n",
    "csv_tot = csv_tot.replace('<NA>', np.NaN, regex=True)\n",
    "csv_tot = csv_tot.replace(np.nan, np.NaN, regex=True)\n",
    "csv_tot = csv_tot.replace(pd.NA, np.NaN, regex=True)\n",
    "csv_tot = csv_tot.replace('', np.NaN, regex=True)"
   ]
  },
  {
   "cell_type": "code",
   "execution_count": 276,
   "id": "eb929c29",
   "metadata": {},
   "outputs": [
    {
     "data": {
      "text/plain": [
       "Index(['Genre', 'Age', 'Taille', 'Poids', 'IMC', 'Activité physique',\n",
       "       'Régime particulier', 'Végé', 'Fréquence CROUS', 'Equilibre alim',\n",
       "       'Seule ou en groupe', 'Nb groupe entrée', 'Proximité', 'Connaissance',\n",
       "       'Parti groupe', 'Influ sociale', 'Percept senso', 'Nb file', 'Faim',\n",
       "       'Stress', 'Nb convives', 'Ami 1', 'Ami 2', 'Ami 3', 'Ami 4', 'Ami 5',\n",
       "       'Ami 6', 'Ami 7', 'Ami 8', 'Ami 9', 'Ami 10', 'Ami 11', 'Ami 12',\n",
       "       'Ami 13', 'Ami 14', 'Ami 15', 'Ami 16', 'Ami 17'],\n",
       "      dtype='object')"
      ]
     },
     "execution_count": 276,
     "metadata": {},
     "output_type": "execute_result"
    }
   ],
   "source": [
    "csv_tot.columns"
   ]
  },
  {
   "cell_type": "code",
   "execution_count": 277,
   "id": "921dd917",
   "metadata": {},
   "outputs": [
    {
     "data": {
      "text/plain": [
       "Genre                   int64\n",
       "Age                   float64\n",
       "Taille                float64\n",
       "Poids                 float64\n",
       "IMC                   float64\n",
       "Activité physique     float64\n",
       "Régime particulier    float64\n",
       "Végé                  float64\n",
       "Fréquence CROUS       float64\n",
       "Equilibre alim        float64\n",
       "Seule ou en groupe      int64\n",
       "Nb groupe entrée       object\n",
       "Proximité             float64\n",
       "Connaissance          float64\n",
       "Parti groupe          float64\n",
       "Influ sociale         float64\n",
       "Percept senso         float64\n",
       "Nb file               float64\n",
       "Faim                  float64\n",
       "Stress                float64\n",
       "Nb convives            object\n",
       "Ami 1                  object\n",
       "Ami 2                  object\n",
       "Ami 3                  object\n",
       "Ami 4                  object\n",
       "Ami 5                  object\n",
       "Ami 6                  object\n",
       "Ami 7                  object\n",
       "Ami 8                  object\n",
       "Ami 9                  object\n",
       "Ami 10                 object\n",
       "Ami 11                 object\n",
       "Ami 12                 object\n",
       "Ami 13                 object\n",
       "Ami 14                float64\n",
       "Ami 15                float64\n",
       "Ami 16                float64\n",
       "Ami 17                float64\n",
       "dtype: object"
      ]
     },
     "execution_count": 277,
     "metadata": {},
     "output_type": "execute_result"
    }
   ],
   "source": [
    "csv_tot.dtypes"
   ]
  },
  {
   "cell_type": "code",
   "execution_count": 278,
   "id": "4737d3e4",
   "metadata": {},
   "outputs": [],
   "source": [
    "csv_tot = csv_tot.astype({'Genre':int, 'Age':int, 'Taille':float, 'Poids':float, 'IMC':float, 'Activité physique':int,\n",
    "       'Régime particulier':int, 'Végé':int, 'Fréquence CROUS':int, 'Equilibre alim':int,\n",
    "       'Seule ou en groupe':int, 'Nb groupe entrée':float, 'Proximité':int, 'Connaissance':int,\n",
    "       'Parti groupe':int, 'Influ sociale':int, 'Percept senso':int, 'Nb file':int, 'Faim':int,\n",
    "       'Stress':int, 'Nb convives':int, 'Ami 1':str, 'Ami 2':str, 'Ami 3':str, 'Ami 4':str, 'Ami 5':str,\n",
    "       'Ami 6':str, 'Ami 7':str, 'Ami 8':str, 'Ami 8':str, 'Ami 10':str, 'Ami 11':str, 'Ami 12':str, \n",
    "       'Ami 13':str, 'Ami 14':str, 'Ami 15':str, 'Ami 16':str, 'Ami 17':str}, errors = 'ignore')"
   ]
  },
  {
   "cell_type": "code",
   "execution_count": 279,
   "id": "73b4a546",
   "metadata": {},
   "outputs": [
    {
     "name": "stderr",
     "output_type": "stream",
     "text": [
      "C:\\Anaconda\\lib\\site-packages\\ipykernel_launcher.py:1: FutureWarning: Dropping of nuisance columns in DataFrame reductions (with 'numeric_only=None') is deprecated; in a future version this will raise TypeError.  Select only valid columns before calling the reduction.\n",
      "  \"\"\"Entry point for launching an IPython kernel.\n",
      "C:\\Anaconda\\lib\\site-packages\\ipykernel_launcher.py:2: FutureWarning: Dropping of nuisance columns in DataFrame reductions (with 'numeric_only=None') is deprecated; in a future version this will raise TypeError.  Select only valid columns before calling the reduction.\n",
      "  \n"
     ]
    },
    {
     "data": {
      "text/plain": [
       "25"
      ]
     },
     "execution_count": 279,
     "metadata": {},
     "output_type": "execute_result"
    }
   ],
   "source": [
    "median = csv_tot.median(skipna = True)\n",
    "len(csv_tot.median(skipna = True))"
   ]
  },
  {
   "cell_type": "code",
   "execution_count": 280,
   "id": "0bb33430",
   "metadata": {},
   "outputs": [],
   "source": [
    "for variable in csv_tot.columns[:21] :\n",
    "    csv_tot[variable] = csv_tot[variable].fillna(median[variable])"
   ]
  },
  {
   "cell_type": "code",
   "execution_count": 281,
   "id": "9b7d4600",
   "metadata": {},
   "outputs": [],
   "source": [
    "csv_tot = csv_tot.astype({'Genre':int, 'Age':int, 'Taille':float, 'Poids':float, 'IMC':float, 'Activité physique':int,\n",
    "       'Régime particulier':int, 'Végé':int, 'Fréquence CROUS':int, 'Equilibre alim':int,\n",
    "       'Seule ou en groupe':int, 'Nb groupe entrée':float, 'Proximité':int, 'Connaissance':int,\n",
    "       'Parti groupe':int, 'Influ sociale':int, 'Percept senso':int, 'Nb file':int, 'Faim':int,\n",
    "       'Stress':int, 'Nb convives':int, 'Ami 1':str, 'Ami 2':str, 'Ami 3':str, 'Ami 4':str, 'Ami 5':str})"
   ]
  },
  {
   "cell_type": "code",
   "execution_count": 282,
   "id": "f8c5b255",
   "metadata": {},
   "outputs": [
    {
     "data": {
      "text/html": [
       "<div>\n",
       "<style scoped>\n",
       "    .dataframe tbody tr th:only-of-type {\n",
       "        vertical-align: middle;\n",
       "    }\n",
       "\n",
       "    .dataframe tbody tr th {\n",
       "        vertical-align: top;\n",
       "    }\n",
       "\n",
       "    .dataframe thead th {\n",
       "        text-align: right;\n",
       "    }\n",
       "</style>\n",
       "<table border=\"1\" class=\"dataframe\">\n",
       "  <thead>\n",
       "    <tr style=\"text-align: right;\">\n",
       "      <th></th>\n",
       "      <th>Genre</th>\n",
       "      <th>Age</th>\n",
       "      <th>Taille</th>\n",
       "      <th>Poids</th>\n",
       "      <th>IMC</th>\n",
       "      <th>Activité physique</th>\n",
       "      <th>Régime particulier</th>\n",
       "      <th>Végé</th>\n",
       "      <th>Fréquence CROUS</th>\n",
       "      <th>Equilibre alim</th>\n",
       "      <th>...</th>\n",
       "      <th>Ami 8</th>\n",
       "      <th>Ami 9</th>\n",
       "      <th>Ami 10</th>\n",
       "      <th>Ami 11</th>\n",
       "      <th>Ami 12</th>\n",
       "      <th>Ami 13</th>\n",
       "      <th>Ami 14</th>\n",
       "      <th>Ami 15</th>\n",
       "      <th>Ami 16</th>\n",
       "      <th>Ami 17</th>\n",
       "    </tr>\n",
       "    <tr>\n",
       "      <th>N° Formulaire</th>\n",
       "      <th></th>\n",
       "      <th></th>\n",
       "      <th></th>\n",
       "      <th></th>\n",
       "      <th></th>\n",
       "      <th></th>\n",
       "      <th></th>\n",
       "      <th></th>\n",
       "      <th></th>\n",
       "      <th></th>\n",
       "      <th></th>\n",
       "      <th></th>\n",
       "      <th></th>\n",
       "      <th></th>\n",
       "      <th></th>\n",
       "      <th></th>\n",
       "      <th></th>\n",
       "      <th></th>\n",
       "      <th></th>\n",
       "      <th></th>\n",
       "      <th></th>\n",
       "    </tr>\n",
       "  </thead>\n",
       "  <tbody>\n",
       "    <tr>\n",
       "      <th>2E8L</th>\n",
       "      <td>1</td>\n",
       "      <td>20</td>\n",
       "      <td>1.84</td>\n",
       "      <td>72.0</td>\n",
       "      <td>21.266541</td>\n",
       "      <td>3</td>\n",
       "      <td>0</td>\n",
       "      <td>0</td>\n",
       "      <td>2</td>\n",
       "      <td>2</td>\n",
       "      <td>...</td>\n",
       "      <td>nan</td>\n",
       "      <td>NaN</td>\n",
       "      <td>nan</td>\n",
       "      <td>nan</td>\n",
       "      <td>nan</td>\n",
       "      <td>nan</td>\n",
       "      <td>nan</td>\n",
       "      <td>nan</td>\n",
       "      <td>nan</td>\n",
       "      <td>nan</td>\n",
       "    </tr>\n",
       "    <tr>\n",
       "      <th>6Z9V</th>\n",
       "      <td>1</td>\n",
       "      <td>19</td>\n",
       "      <td>1.75</td>\n",
       "      <td>79.0</td>\n",
       "      <td>25.795918</td>\n",
       "      <td>1</td>\n",
       "      <td>1</td>\n",
       "      <td>0</td>\n",
       "      <td>2</td>\n",
       "      <td>2</td>\n",
       "      <td>...</td>\n",
       "      <td>nan</td>\n",
       "      <td>NaN</td>\n",
       "      <td>nan</td>\n",
       "      <td>nan</td>\n",
       "      <td>nan</td>\n",
       "      <td>nan</td>\n",
       "      <td>nan</td>\n",
       "      <td>nan</td>\n",
       "      <td>nan</td>\n",
       "      <td>nan</td>\n",
       "    </tr>\n",
       "    <tr>\n",
       "      <th>1P5N</th>\n",
       "      <td>1</td>\n",
       "      <td>19</td>\n",
       "      <td>1.74</td>\n",
       "      <td>74.0</td>\n",
       "      <td>24.441802</td>\n",
       "      <td>2</td>\n",
       "      <td>1</td>\n",
       "      <td>0</td>\n",
       "      <td>2</td>\n",
       "      <td>2</td>\n",
       "      <td>...</td>\n",
       "      <td>nan</td>\n",
       "      <td>NaN</td>\n",
       "      <td>nan</td>\n",
       "      <td>nan</td>\n",
       "      <td>nan</td>\n",
       "      <td>nan</td>\n",
       "      <td>nan</td>\n",
       "      <td>nan</td>\n",
       "      <td>nan</td>\n",
       "      <td>nan</td>\n",
       "    </tr>\n",
       "    <tr>\n",
       "      <th>1L0F</th>\n",
       "      <td>1</td>\n",
       "      <td>21</td>\n",
       "      <td>1.70</td>\n",
       "      <td>51.0</td>\n",
       "      <td>17.647059</td>\n",
       "      <td>2</td>\n",
       "      <td>1</td>\n",
       "      <td>0</td>\n",
       "      <td>2</td>\n",
       "      <td>2</td>\n",
       "      <td>...</td>\n",
       "      <td>nan</td>\n",
       "      <td>NaN</td>\n",
       "      <td>nan</td>\n",
       "      <td>nan</td>\n",
       "      <td>nan</td>\n",
       "      <td>nan</td>\n",
       "      <td>nan</td>\n",
       "      <td>nan</td>\n",
       "      <td>nan</td>\n",
       "      <td>nan</td>\n",
       "    </tr>\n",
       "    <tr>\n",
       "      <th>6U1H</th>\n",
       "      <td>1</td>\n",
       "      <td>18</td>\n",
       "      <td>1.78</td>\n",
       "      <td>71.0</td>\n",
       "      <td>22.408787</td>\n",
       "      <td>2</td>\n",
       "      <td>0</td>\n",
       "      <td>0</td>\n",
       "      <td>2</td>\n",
       "      <td>2</td>\n",
       "      <td>...</td>\n",
       "      <td>nan</td>\n",
       "      <td>NaN</td>\n",
       "      <td>nan</td>\n",
       "      <td>nan</td>\n",
       "      <td>nan</td>\n",
       "      <td>nan</td>\n",
       "      <td>nan</td>\n",
       "      <td>nan</td>\n",
       "      <td>nan</td>\n",
       "      <td>nan</td>\n",
       "    </tr>\n",
       "    <tr>\n",
       "      <th>...</th>\n",
       "      <td>...</td>\n",
       "      <td>...</td>\n",
       "      <td>...</td>\n",
       "      <td>...</td>\n",
       "      <td>...</td>\n",
       "      <td>...</td>\n",
       "      <td>...</td>\n",
       "      <td>...</td>\n",
       "      <td>...</td>\n",
       "      <td>...</td>\n",
       "      <td>...</td>\n",
       "      <td>...</td>\n",
       "      <td>...</td>\n",
       "      <td>...</td>\n",
       "      <td>...</td>\n",
       "      <td>...</td>\n",
       "      <td>...</td>\n",
       "      <td>...</td>\n",
       "      <td>...</td>\n",
       "      <td>...</td>\n",
       "      <td>...</td>\n",
       "    </tr>\n",
       "    <tr>\n",
       "      <th>2Z9A</th>\n",
       "      <td>1</td>\n",
       "      <td>19</td>\n",
       "      <td>1.82</td>\n",
       "      <td>70.0</td>\n",
       "      <td>21.132713</td>\n",
       "      <td>3</td>\n",
       "      <td>0</td>\n",
       "      <td>0</td>\n",
       "      <td>1</td>\n",
       "      <td>2</td>\n",
       "      <td>...</td>\n",
       "      <td>nan</td>\n",
       "      <td>NaN</td>\n",
       "      <td>nan</td>\n",
       "      <td>nan</td>\n",
       "      <td>nan</td>\n",
       "      <td>nan</td>\n",
       "      <td>nan</td>\n",
       "      <td>nan</td>\n",
       "      <td>nan</td>\n",
       "      <td>nan</td>\n",
       "    </tr>\n",
       "    <tr>\n",
       "      <th>6S8Q</th>\n",
       "      <td>0</td>\n",
       "      <td>21</td>\n",
       "      <td>1.75</td>\n",
       "      <td>60.0</td>\n",
       "      <td>19.591837</td>\n",
       "      <td>2</td>\n",
       "      <td>0</td>\n",
       "      <td>0</td>\n",
       "      <td>2</td>\n",
       "      <td>4</td>\n",
       "      <td>...</td>\n",
       "      <td>nan</td>\n",
       "      <td>NaN</td>\n",
       "      <td>nan</td>\n",
       "      <td>nan</td>\n",
       "      <td>nan</td>\n",
       "      <td>nan</td>\n",
       "      <td>nan</td>\n",
       "      <td>nan</td>\n",
       "      <td>nan</td>\n",
       "      <td>nan</td>\n",
       "    </tr>\n",
       "    <tr>\n",
       "      <th>7B7K</th>\n",
       "      <td>0</td>\n",
       "      <td>25</td>\n",
       "      <td>1.54</td>\n",
       "      <td>75.0</td>\n",
       "      <td>31.624220</td>\n",
       "      <td>1</td>\n",
       "      <td>0</td>\n",
       "      <td>0</td>\n",
       "      <td>2</td>\n",
       "      <td>2</td>\n",
       "      <td>...</td>\n",
       "      <td>nan</td>\n",
       "      <td>NaN</td>\n",
       "      <td>nan</td>\n",
       "      <td>nan</td>\n",
       "      <td>nan</td>\n",
       "      <td>nan</td>\n",
       "      <td>nan</td>\n",
       "      <td>nan</td>\n",
       "      <td>nan</td>\n",
       "      <td>nan</td>\n",
       "    </tr>\n",
       "    <tr>\n",
       "      <th>6X9F</th>\n",
       "      <td>1</td>\n",
       "      <td>28</td>\n",
       "      <td>1.75</td>\n",
       "      <td>75.0</td>\n",
       "      <td>24.489796</td>\n",
       "      <td>1</td>\n",
       "      <td>0</td>\n",
       "      <td>0</td>\n",
       "      <td>2</td>\n",
       "      <td>4</td>\n",
       "      <td>...</td>\n",
       "      <td>nan</td>\n",
       "      <td>NaN</td>\n",
       "      <td>nan</td>\n",
       "      <td>nan</td>\n",
       "      <td>nan</td>\n",
       "      <td>nan</td>\n",
       "      <td>nan</td>\n",
       "      <td>nan</td>\n",
       "      <td>nan</td>\n",
       "      <td>nan</td>\n",
       "    </tr>\n",
       "    <tr>\n",
       "      <th>9B8H</th>\n",
       "      <td>1</td>\n",
       "      <td>20</td>\n",
       "      <td>1.80</td>\n",
       "      <td>80.0</td>\n",
       "      <td>24.691358</td>\n",
       "      <td>2</td>\n",
       "      <td>0</td>\n",
       "      <td>0</td>\n",
       "      <td>2</td>\n",
       "      <td>4</td>\n",
       "      <td>...</td>\n",
       "      <td>nan</td>\n",
       "      <td>NaN</td>\n",
       "      <td>nan</td>\n",
       "      <td>nan</td>\n",
       "      <td>nan</td>\n",
       "      <td>nan</td>\n",
       "      <td>nan</td>\n",
       "      <td>nan</td>\n",
       "      <td>nan</td>\n",
       "      <td>nan</td>\n",
       "    </tr>\n",
       "  </tbody>\n",
       "</table>\n",
       "<p>458 rows × 38 columns</p>\n",
       "</div>"
      ],
      "text/plain": [
       "               Genre  Age  Taille  Poids        IMC  Activité physique  \\\n",
       "N° Formulaire                                                            \n",
       "2E8L               1   20    1.84   72.0  21.266541                  3   \n",
       "6Z9V               1   19    1.75   79.0  25.795918                  1   \n",
       "1P5N               1   19    1.74   74.0  24.441802                  2   \n",
       "1L0F               1   21    1.70   51.0  17.647059                  2   \n",
       "6U1H               1   18    1.78   71.0  22.408787                  2   \n",
       "...              ...  ...     ...    ...        ...                ...   \n",
       "2Z9A               1   19    1.82   70.0  21.132713                  3   \n",
       "6S8Q               0   21    1.75   60.0  19.591837                  2   \n",
       "7B7K               0   25    1.54   75.0  31.624220                  1   \n",
       "6X9F               1   28    1.75   75.0  24.489796                  1   \n",
       "9B8H               1   20    1.80   80.0  24.691358                  2   \n",
       "\n",
       "               Régime particulier  Végé  Fréquence CROUS  Equilibre alim  ...  \\\n",
       "N° Formulaire                                                             ...   \n",
       "2E8L                            0     0                2               2  ...   \n",
       "6Z9V                            1     0                2               2  ...   \n",
       "1P5N                            1     0                2               2  ...   \n",
       "1L0F                            1     0                2               2  ...   \n",
       "6U1H                            0     0                2               2  ...   \n",
       "...                           ...   ...              ...             ...  ...   \n",
       "2Z9A                            0     0                1               2  ...   \n",
       "6S8Q                            0     0                2               4  ...   \n",
       "7B7K                            0     0                2               2  ...   \n",
       "6X9F                            0     0                2               4  ...   \n",
       "9B8H                            0     0                2               4  ...   \n",
       "\n",
       "               Ami 8  Ami 9  Ami 10  Ami 11  Ami 12  Ami 13  Ami 14  Ami 15  \\\n",
       "N° Formulaire                                                                 \n",
       "2E8L             nan    NaN     nan     nan     nan     nan     nan     nan   \n",
       "6Z9V             nan    NaN     nan     nan     nan     nan     nan     nan   \n",
       "1P5N             nan    NaN     nan     nan     nan     nan     nan     nan   \n",
       "1L0F             nan    NaN     nan     nan     nan     nan     nan     nan   \n",
       "6U1H             nan    NaN     nan     nan     nan     nan     nan     nan   \n",
       "...              ...    ...     ...     ...     ...     ...     ...     ...   \n",
       "2Z9A             nan    NaN     nan     nan     nan     nan     nan     nan   \n",
       "6S8Q             nan    NaN     nan     nan     nan     nan     nan     nan   \n",
       "7B7K             nan    NaN     nan     nan     nan     nan     nan     nan   \n",
       "6X9F             nan    NaN     nan     nan     nan     nan     nan     nan   \n",
       "9B8H             nan    NaN     nan     nan     nan     nan     nan     nan   \n",
       "\n",
       "               Ami 16  Ami 17  \n",
       "N° Formulaire                  \n",
       "2E8L              nan     nan  \n",
       "6Z9V              nan     nan  \n",
       "1P5N              nan     nan  \n",
       "1L0F              nan     nan  \n",
       "6U1H              nan     nan  \n",
       "...               ...     ...  \n",
       "2Z9A              nan     nan  \n",
       "6S8Q              nan     nan  \n",
       "7B7K              nan     nan  \n",
       "6X9F              nan     nan  \n",
       "9B8H              nan     nan  \n",
       "\n",
       "[458 rows x 38 columns]"
      ]
     },
     "execution_count": 282,
     "metadata": {},
     "output_type": "execute_result"
    }
   ],
   "source": [
    "csv_tot"
   ]
  },
  {
   "cell_type": "markdown",
   "id": "ed0a892f",
   "metadata": {},
   "source": [
    "## Sauvegarde du formulaire"
   ]
  },
  {
   "cell_type": "code",
   "execution_count": 283,
   "id": "b3520bac",
   "metadata": {},
   "outputs": [],
   "source": [
    "csv_tot.to_csv(\"Merged_Formulaires.csv\", encoding='latin1')"
   ]
  },
  {
   "cell_type": "code",
   "execution_count": null,
   "id": "79fa2671",
   "metadata": {},
   "outputs": [],
   "source": []
  }
 ],
 "metadata": {
  "kernelspec": {
   "display_name": "Python 3 (ipykernel)",
   "language": "python",
   "name": "python3"
  },
  "language_info": {
   "codemirror_mode": {
    "name": "ipython",
    "version": 3
   },
   "file_extension": ".py",
   "mimetype": "text/x-python",
   "name": "python",
   "nbconvert_exporter": "python",
   "pygments_lexer": "ipython3",
   "version": "3.7.4"
  }
 },
 "nbformat": 4,
 "nbformat_minor": 5
}
