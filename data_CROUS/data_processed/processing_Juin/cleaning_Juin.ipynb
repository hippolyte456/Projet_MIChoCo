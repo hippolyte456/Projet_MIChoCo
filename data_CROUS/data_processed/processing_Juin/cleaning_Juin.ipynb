{
 "cells": [
  {
   "cell_type": "markdown",
   "metadata": {
    "pycharm": {
     "name": "#%% md\n"
    }
   },
   "source": [
    "# Preprocessing sur les données de Juin \n",
    "\n",
    "Ce notebook permet d'avoir une première vue sur les données, et de les préprocesser."
   ]
  },
  {
   "cell_type": "code",
   "execution_count": 201,
   "metadata": {
    "pycharm": {
     "name": "#%%\n"
    }
   },
   "outputs": [],
   "source": [
    "import pandas as pd \n",
    "import numpy as np"
   ]
  },
  {
   "cell_type": "markdown",
   "metadata": {
    "pycharm": {
     "name": "#%% md\n"
    }
   },
   "source": [
    "Regardons ce qu'il y a dans les fichiers de type \"resultats choix\" \n"
   ]
  },
  {
   "cell_type": "code",
   "execution_count": 202,
   "metadata": {},
   "outputs": [
    {
     "name": "stdout",
     "output_type": "stream",
     "text": [
      "Index(['Numero questionnaire', 'Plat 1', 'Plat 2', 'Plat 3', 'Hors etudiant',\n",
      "       'Autre Ã©ventuellement', 'Heure départ', 'Genre', 'Régime',\n",
      "       'Fréquentation', 'Faim', 'Connaissance entourage',\n",
      "       'Influence entourage', 'Influence aspect', 'Quantité', 'Equilibre',\n",
      "       'Aspect', 'Attente', 'Convives', 'Unnamed: 19', 'Unnamed: 20',\n",
      "       'Unnamed: 21', 'Unnamed: 22', 'Unnamed: 23', 'Unnamed: 24',\n",
      "       'Unnamed: 25'],\n",
      "      dtype='object')\n",
      "(119, 26)\n",
      "RangeIndex(start=0, stop=119, step=1)\n"
     ]
    }
   ],
   "source": [
    "df = pd.read_csv('data_CROUS/data/Resultats_choix_ENS_juin.csv', sep = ';', index_col=False, encoding='latin8', na_values=['NSPP', 'rien'])\n",
    "print(df.columns)\n",
    "print(df.shape)    \n",
    "print(df.index)"
   ]
  },
  {
   "cell_type": "code",
   "execution_count": 203,
   "metadata": {},
   "outputs": [
    {
     "data": {
      "text/html": [
       "<div>\n",
       "<style scoped>\n",
       "    .dataframe tbody tr th:only-of-type {\n",
       "        vertical-align: middle;\n",
       "    }\n",
       "\n",
       "    .dataframe tbody tr th {\n",
       "        vertical-align: top;\n",
       "    }\n",
       "\n",
       "    .dataframe thead th {\n",
       "        text-align: right;\n",
       "    }\n",
       "</style>\n",
       "<table border=\"1\" class=\"dataframe\">\n",
       "  <thead>\n",
       "    <tr style=\"text-align: right;\">\n",
       "      <th></th>\n",
       "      <th>Numero questionnaire</th>\n",
       "      <th>Plat 1</th>\n",
       "      <th>Plat 2</th>\n",
       "      <th>Plat 3</th>\n",
       "      <th>Hors etudiant</th>\n",
       "      <th>Autre Ã©ventuellement</th>\n",
       "      <th>Heure départ</th>\n",
       "      <th>Genre</th>\n",
       "      <th>Régime</th>\n",
       "      <th>Fréquentation</th>\n",
       "      <th>...</th>\n",
       "      <th>Aspect</th>\n",
       "      <th>Attente</th>\n",
       "      <th>Convives</th>\n",
       "      <th>Unnamed: 19</th>\n",
       "      <th>Unnamed: 20</th>\n",
       "      <th>Unnamed: 21</th>\n",
       "      <th>Unnamed: 22</th>\n",
       "      <th>Unnamed: 23</th>\n",
       "      <th>Unnamed: 24</th>\n",
       "      <th>Unnamed: 25</th>\n",
       "    </tr>\n",
       "  </thead>\n",
       "  <tbody>\n",
       "    <tr>\n",
       "      <th>0</th>\n",
       "      <td>C02</td>\n",
       "      <td>Salade soja</td>\n",
       "      <td>Cabillaud semoule</td>\n",
       "      <td>fruit</td>\n",
       "      <td>NaN</td>\n",
       "      <td>NaN</td>\n",
       "      <td>12:39</td>\n",
       "      <td>Homme</td>\n",
       "      <td>non</td>\n",
       "      <td>1à3</td>\n",
       "      <td>...</td>\n",
       "      <td>0.0</td>\n",
       "      <td>6.0</td>\n",
       "      <td>C01</td>\n",
       "      <td>NaN</td>\n",
       "      <td>NaN</td>\n",
       "      <td>NaN</td>\n",
       "      <td>NaN</td>\n",
       "      <td>NaN</td>\n",
       "      <td>NaN</td>\n",
       "      <td>NaN</td>\n",
       "    </tr>\n",
       "    <tr>\n",
       "      <th>1</th>\n",
       "      <td>C06</td>\n",
       "      <td>Salade riz</td>\n",
       "      <td>Cabillaud semoule</td>\n",
       "      <td>NaN</td>\n",
       "      <td>NaN</td>\n",
       "      <td>NaN</td>\n",
       "      <td>NaN</td>\n",
       "      <td>NaN</td>\n",
       "      <td>NaN</td>\n",
       "      <td>NaN</td>\n",
       "      <td>...</td>\n",
       "      <td>NaN</td>\n",
       "      <td>NaN</td>\n",
       "      <td>NaN</td>\n",
       "      <td>NaN</td>\n",
       "      <td>NaN</td>\n",
       "      <td>NaN</td>\n",
       "      <td>NaN</td>\n",
       "      <td>NaN</td>\n",
       "      <td>NaN</td>\n",
       "      <td>NaN</td>\n",
       "    </tr>\n",
       "    <tr>\n",
       "      <th>2</th>\n",
       "      <td>C04</td>\n",
       "      <td>Saucisson</td>\n",
       "      <td>Chipo semoule</td>\n",
       "      <td>Mousse chocolat</td>\n",
       "      <td>NaN</td>\n",
       "      <td>NaN</td>\n",
       "      <td>NaN</td>\n",
       "      <td>NaN</td>\n",
       "      <td>NaN</td>\n",
       "      <td>NaN</td>\n",
       "      <td>...</td>\n",
       "      <td>NaN</td>\n",
       "      <td>NaN</td>\n",
       "      <td>NaN</td>\n",
       "      <td>NaN</td>\n",
       "      <td>NaN</td>\n",
       "      <td>NaN</td>\n",
       "      <td>NaN</td>\n",
       "      <td>NaN</td>\n",
       "      <td>NaN</td>\n",
       "      <td>NaN</td>\n",
       "    </tr>\n",
       "    <tr>\n",
       "      <th>3</th>\n",
       "      <td>C12</td>\n",
       "      <td>NaN</td>\n",
       "      <td>Chipo semoule</td>\n",
       "      <td>Emmental</td>\n",
       "      <td>NaN</td>\n",
       "      <td>NaN</td>\n",
       "      <td>NaN</td>\n",
       "      <td>NaN</td>\n",
       "      <td>NaN</td>\n",
       "      <td>NaN</td>\n",
       "      <td>...</td>\n",
       "      <td>NaN</td>\n",
       "      <td>NaN</td>\n",
       "      <td>NaN</td>\n",
       "      <td>NaN</td>\n",
       "      <td>NaN</td>\n",
       "      <td>NaN</td>\n",
       "      <td>NaN</td>\n",
       "      <td>NaN</td>\n",
       "      <td>NaN</td>\n",
       "      <td>NaN</td>\n",
       "    </tr>\n",
       "    <tr>\n",
       "      <th>4</th>\n",
       "      <td>C07</td>\n",
       "      <td>Salade riz</td>\n",
       "      <td>Cabillaud semoule</td>\n",
       "      <td>yaourt</td>\n",
       "      <td>NaN</td>\n",
       "      <td>NaN</td>\n",
       "      <td>NaN</td>\n",
       "      <td>NaN</td>\n",
       "      <td>NaN</td>\n",
       "      <td>NaN</td>\n",
       "      <td>...</td>\n",
       "      <td>NaN</td>\n",
       "      <td>NaN</td>\n",
       "      <td>NaN</td>\n",
       "      <td>NaN</td>\n",
       "      <td>NaN</td>\n",
       "      <td>NaN</td>\n",
       "      <td>NaN</td>\n",
       "      <td>NaN</td>\n",
       "      <td>NaN</td>\n",
       "      <td>NaN</td>\n",
       "    </tr>\n",
       "    <tr>\n",
       "      <th>...</th>\n",
       "      <td>...</td>\n",
       "      <td>...</td>\n",
       "      <td>...</td>\n",
       "      <td>...</td>\n",
       "      <td>...</td>\n",
       "      <td>...</td>\n",
       "      <td>...</td>\n",
       "      <td>...</td>\n",
       "      <td>...</td>\n",
       "      <td>...</td>\n",
       "      <td>...</td>\n",
       "      <td>...</td>\n",
       "      <td>...</td>\n",
       "      <td>...</td>\n",
       "      <td>...</td>\n",
       "      <td>...</td>\n",
       "      <td>...</td>\n",
       "      <td>...</td>\n",
       "      <td>...</td>\n",
       "      <td>...</td>\n",
       "      <td>...</td>\n",
       "    </tr>\n",
       "    <tr>\n",
       "      <th>114</th>\n",
       "      <td>B80</td>\n",
       "      <td>Saucisson</td>\n",
       "      <td>Chipo semoule</td>\n",
       "      <td>Mousse chocolat</td>\n",
       "      <td>NaN</td>\n",
       "      <td>NaN</td>\n",
       "      <td>13:11</td>\n",
       "      <td>Homme</td>\n",
       "      <td>non</td>\n",
       "      <td>1à3</td>\n",
       "      <td>...</td>\n",
       "      <td>6.0</td>\n",
       "      <td>7.0</td>\n",
       "      <td>NaN</td>\n",
       "      <td>NaN</td>\n",
       "      <td>NaN</td>\n",
       "      <td>NaN</td>\n",
       "      <td>NaN</td>\n",
       "      <td>NaN</td>\n",
       "      <td>NaN</td>\n",
       "      <td>NaN</td>\n",
       "    </tr>\n",
       "    <tr>\n",
       "      <th>115</th>\n",
       "      <td>B76</td>\n",
       "      <td>Salade riz</td>\n",
       "      <td>lasagnes vg</td>\n",
       "      <td>fruit</td>\n",
       "      <td>NaN</td>\n",
       "      <td>NaN</td>\n",
       "      <td>13:04</td>\n",
       "      <td>Femme</td>\n",
       "      <td>oui</td>\n",
       "      <td>1à3</td>\n",
       "      <td>...</td>\n",
       "      <td>6.0</td>\n",
       "      <td>1.0</td>\n",
       "      <td>B73</td>\n",
       "      <td>B74</td>\n",
       "      <td>B75</td>\n",
       "      <td>NaN</td>\n",
       "      <td>NaN</td>\n",
       "      <td>NaN</td>\n",
       "      <td>NaN</td>\n",
       "      <td>NaN</td>\n",
       "    </tr>\n",
       "    <tr>\n",
       "      <th>116</th>\n",
       "      <td>B79</td>\n",
       "      <td>Carottes</td>\n",
       "      <td>lasagnes vg</td>\n",
       "      <td>fruit</td>\n",
       "      <td>NaN</td>\n",
       "      <td>NaN</td>\n",
       "      <td>NaN</td>\n",
       "      <td>NaN</td>\n",
       "      <td>NaN</td>\n",
       "      <td>NaN</td>\n",
       "      <td>...</td>\n",
       "      <td>NaN</td>\n",
       "      <td>NaN</td>\n",
       "      <td>NaN</td>\n",
       "      <td>NaN</td>\n",
       "      <td>NaN</td>\n",
       "      <td>NaN</td>\n",
       "      <td>NaN</td>\n",
       "      <td>NaN</td>\n",
       "      <td>NaN</td>\n",
       "      <td>NaN</td>\n",
       "    </tr>\n",
       "    <tr>\n",
       "      <th>117</th>\n",
       "      <td>B73</td>\n",
       "      <td>Endives</td>\n",
       "      <td>NaN</td>\n",
       "      <td>NaN</td>\n",
       "      <td>NaN</td>\n",
       "      <td>NaN</td>\n",
       "      <td>NaN</td>\n",
       "      <td>NaN</td>\n",
       "      <td>NaN</td>\n",
       "      <td>NaN</td>\n",
       "      <td>...</td>\n",
       "      <td>NaN</td>\n",
       "      <td>NaN</td>\n",
       "      <td>NaN</td>\n",
       "      <td>NaN</td>\n",
       "      <td>NaN</td>\n",
       "      <td>NaN</td>\n",
       "      <td>NaN</td>\n",
       "      <td>NaN</td>\n",
       "      <td>NaN</td>\n",
       "      <td>NaN</td>\n",
       "    </tr>\n",
       "    <tr>\n",
       "      <th>118</th>\n",
       "      <td>B78</td>\n",
       "      <td>NaN</td>\n",
       "      <td>Cabillaud semoule</td>\n",
       "      <td>fruit</td>\n",
       "      <td>NaN</td>\n",
       "      <td>NaN</td>\n",
       "      <td>13:02</td>\n",
       "      <td>Homme</td>\n",
       "      <td>oui</td>\n",
       "      <td>&gt;3</td>\n",
       "      <td>...</td>\n",
       "      <td>7.0</td>\n",
       "      <td>7.0</td>\n",
       "      <td>NaN</td>\n",
       "      <td>NaN</td>\n",
       "      <td>NaN</td>\n",
       "      <td>NaN</td>\n",
       "      <td>NaN</td>\n",
       "      <td>NaN</td>\n",
       "      <td>NaN</td>\n",
       "      <td>NaN</td>\n",
       "    </tr>\n",
       "  </tbody>\n",
       "</table>\n",
       "<p>119 rows × 26 columns</p>\n",
       "</div>"
      ],
      "text/plain": [
       "    Numero questionnaire       Plat 1             Plat 2           Plat 3  \\\n",
       "0                    C02  Salade soja  Cabillaud semoule            fruit   \n",
       "1                    C06   Salade riz  Cabillaud semoule              NaN   \n",
       "2                    C04    Saucisson      Chipo semoule  Mousse chocolat   \n",
       "3                    C12          NaN      Chipo semoule         Emmental   \n",
       "4                    C07   Salade riz  Cabillaud semoule           yaourt   \n",
       "..                   ...          ...                ...              ...   \n",
       "114                  B80    Saucisson      Chipo semoule  Mousse chocolat   \n",
       "115                  B76   Salade riz        lasagnes vg            fruit   \n",
       "116                  B79     Carottes        lasagnes vg            fruit   \n",
       "117                  B73      Endives                NaN              NaN   \n",
       "118                  B78          NaN  Cabillaud semoule            fruit   \n",
       "\n",
       "    Hors etudiant Autre Ã©ventuellement Heure départ  Genre Régime  \\\n",
       "0             NaN                   NaN        12:39  Homme    non   \n",
       "1             NaN                   NaN          NaN    NaN    NaN   \n",
       "2             NaN                   NaN          NaN    NaN    NaN   \n",
       "3             NaN                   NaN          NaN    NaN    NaN   \n",
       "4             NaN                   NaN          NaN    NaN    NaN   \n",
       "..            ...                   ...          ...    ...    ...   \n",
       "114           NaN                   NaN        13:11  Homme    non   \n",
       "115           NaN                   NaN        13:04  Femme    oui   \n",
       "116           NaN                   NaN          NaN    NaN    NaN   \n",
       "117           NaN                   NaN          NaN    NaN    NaN   \n",
       "118           NaN                   NaN        13:02  Homme    oui   \n",
       "\n",
       "    Fréquentation  ...  Aspect Attente Convives Unnamed: 19  Unnamed: 20  \\\n",
       "0             1à3  ...     0.0     6.0      C01         NaN          NaN   \n",
       "1             NaN  ...     NaN     NaN      NaN         NaN          NaN   \n",
       "2             NaN  ...     NaN     NaN      NaN         NaN          NaN   \n",
       "3             NaN  ...     NaN     NaN      NaN         NaN          NaN   \n",
       "4             NaN  ...     NaN     NaN      NaN         NaN          NaN   \n",
       "..            ...  ...     ...     ...      ...         ...          ...   \n",
       "114           1à3  ...     6.0     7.0      NaN         NaN          NaN   \n",
       "115           1à3  ...     6.0     1.0      B73         B74          B75   \n",
       "116           NaN  ...     NaN     NaN      NaN         NaN          NaN   \n",
       "117           NaN  ...     NaN     NaN      NaN         NaN          NaN   \n",
       "118            >3  ...     7.0     7.0      NaN         NaN          NaN   \n",
       "\n",
       "    Unnamed: 21  Unnamed: 22  Unnamed: 23 Unnamed: 24 Unnamed: 25  \n",
       "0           NaN          NaN          NaN         NaN         NaN  \n",
       "1           NaN          NaN          NaN         NaN         NaN  \n",
       "2           NaN          NaN          NaN         NaN         NaN  \n",
       "3           NaN          NaN          NaN         NaN         NaN  \n",
       "4           NaN          NaN          NaN         NaN         NaN  \n",
       "..          ...          ...          ...         ...         ...  \n",
       "114         NaN          NaN          NaN         NaN         NaN  \n",
       "115         NaN          NaN          NaN         NaN         NaN  \n",
       "116         NaN          NaN          NaN         NaN         NaN  \n",
       "117         NaN          NaN          NaN         NaN         NaN  \n",
       "118         NaN          NaN          NaN         NaN         NaN  \n",
       "\n",
       "[119 rows x 26 columns]"
      ]
     },
     "execution_count": 203,
     "metadata": {},
     "output_type": "execute_result"
    }
   ],
   "source": [
    "df"
   ]
  },
  {
   "cell_type": "markdown",
   "metadata": {},
   "source": [
    "Regardons les tables précédantes pour uniformiser au maximum les colonnes."
   ]
  },
  {
   "cell_type": "code",
   "execution_count": 204,
   "metadata": {
    "pycharm": {
     "name": "#%%\n"
    }
   },
   "outputs": [
    {
     "name": "stdout",
     "output_type": "stream",
     "text": [
      "Index(['Horodateur', 'Numéro de formulaire ', 'ENTREE',\n",
      "       'Prise en double de l'entrée ', 'PLAT ', 'DESSERT',\n",
      "       'Prise en double du dessert'],\n",
      "      dtype='object')\n",
      "(131, 7)\n",
      "RangeIndex(start=0, stop=131, step=1)\n"
     ]
    }
   ],
   "source": [
    "\n",
    "df_0 = pd.read_csv('data_CROUS/data/Resultats_choix_21_octobre.csv', sep = ';', index_col=False)\n",
    "print(df_0.columns) #Index(['Horodateur', 'Numéro de formulaire ', 'ENTREE','Prise en double de l'entrée ', 'PLAT ', 'DESSERT','Prise en double du dessert'],dtype='object')\n",
    "print(df_0.shape)    \n",
    "print(df_0.index)"
   ]
  },
  {
   "cell_type": "markdown",
   "metadata": {},
   "source": [
    "## Plats"
   ]
  },
  {
   "cell_type": "markdown",
   "metadata": {},
   "source": [
    "### Gestion des colonnes annexes"
   ]
  },
  {
   "cell_type": "code",
   "execution_count": 205,
   "metadata": {},
   "outputs": [
    {
     "name": "stdout",
     "output_type": "stream",
     "text": [
      "[nan 'Pizza']\n",
      "[nan '12h20' '12h23' '12h28' '12h30' '12h31' '12h32' '12:12' '12h36'\n",
      " '12h41' 'Burger' 'Frites salade' 'Burger frites' 'Burger frites ']\n"
     ]
    }
   ],
   "source": [
    "print(df['Hors etudiant'].unique())\n",
    "print(df['Autre Ã©ventuellement'].unique())"
   ]
  },
  {
   "cell_type": "code",
   "execution_count": 206,
   "metadata": {},
   "outputs": [
    {
     "name": "stdout",
     "output_type": "stream",
     "text": [
      "Pizza OK\n",
      "Burger  OK\n",
      "Frites salade  OK\n",
      "Burger frites  OK\n",
      "Burger frites   OK\n"
     ]
    }
   ],
   "source": [
    "df.loc[np.where(df['Hors etudiant'] == 'Pizza')[0],['Plat 2']] = 'Pizza'\n",
    "print('Pizza OK')\n",
    "\n",
    "for autre in ['Burger', 'Frites salade', 'Burger frites', 'Burger frites ']:\n",
    "    df.loc[np.where(df['Autre Ã©ventuellement'] == autre)[0],['Plat 2']] = autre\n",
    "    print(autre, ' OK')"
   ]
  },
  {
   "cell_type": "markdown",
   "metadata": {},
   "source": [
    "### Mise en forme des noms des plats"
   ]
  },
  {
   "cell_type": "markdown",
   "metadata": {
    "pycharm": {
     "name": "#%% md\n"
    }
   },
   "source": [
    "Pour commencer, regardons un peu la distribution des différents plats qui ont été choisis. "
   ]
  },
  {
   "cell_type": "code",
   "execution_count": 207,
   "metadata": {
    "pycharm": {
     "name": "#%%\n"
    }
   },
   "outputs": [
    {
     "name": "stdout",
     "output_type": "stream",
     "text": [
      "9\n",
      "Chipo semoule        51\n",
      "lasagnes vg          30\n",
      "Cabillaud semoule    21\n",
      "Burger                3\n",
      "Burger frites         2\n",
      "Pizza                 1\n",
      "Frites salade         1\n",
      "Burger frites         1\n",
      "Name: Plat 2, dtype: int64\n"
     ]
    },
    {
     "data": {
      "text/plain": [
       "array(['Cabillaud semoule', 'Chipo semoule', 'lasagnes vg', nan, 'Pizza',\n",
       "       'Burger', 'Frites salade', 'Burger frites', 'Burger frites '],\n",
       "      dtype=object)"
      ]
     },
     "execution_count": 207,
     "metadata": {},
     "output_type": "execute_result"
    }
   ],
   "source": [
    "# NB : \n",
    "# print(type(df['PLAT '])) # <class 'pandas.core.series.Series'> \n",
    "# print(type(df[['PLAT ']])) # <class 'pandas.core.frame.DataFrame'>\n",
    "\n",
    "print(len(df['Plat 2'].unique())) # Combien de plats possibles ? --> 11 plats différents \n",
    "print(df['Plat 2'].value_counts()) # Quel sont-ils ? \n",
    "df['Plat 2'].unique()"
   ]
  },
  {
   "cell_type": "markdown",
   "metadata": {
    "pycharm": {
     "name": "#%% md\n"
    }
   },
   "source": [
    "On observe qu'une mise en forme va être nécéssaire. En effet, dans les fichier d'Octobre le plat est séparé en différents élements (viande, féculents, légumes)."
   ]
  },
  {
   "cell_type": "code",
   "execution_count": 208,
   "metadata": {},
   "outputs": [],
   "source": [
    "df['Plat 2'] = df['Plat 2'].replace('Chipo semoule', 'Chipo + semoule', regex = True)\n",
    "df['Plat 2'] = df['Plat 2'].replace('Cabillaud semoule', 'Cabillaud + semoule', regex = True)\n",
    "df['Plat 2'] = df['Plat 2'].replace('Burger frites', 'Burger + frites', regex = True)\n",
    "df['Plat 2'] = df['Plat 2'].replace('Burger frites ', 'Burger + frites', regex = True)\n",
    "df['Plat 2'] = df['Plat 2'].replace('Frites salade', 'Frites + salade', regex = True)"
   ]
  },
  {
   "cell_type": "markdown",
   "metadata": {},
   "source": [
    "Puis pour standardiser les données nous enlevons les espaces et les majuscules."
   ]
  },
  {
   "cell_type": "code",
   "execution_count": 209,
   "metadata": {
    "pycharm": {
     "name": "#%%\n"
    }
   },
   "outputs": [
    {
     "name": "stdout",
     "output_type": "stream",
     "text": [
      "0      Cabillaud+semoule\n",
      "1      Cabillaud+semoule\n",
      "2          Chipo+semoule\n",
      "3          Chipo+semoule\n",
      "4      Cabillaud+semoule\n",
      "             ...        \n",
      "114        Chipo+semoule\n",
      "115           lasagnesvg\n",
      "116           lasagnesvg\n",
      "117                  NaN\n",
      "118    Cabillaud+semoule\n",
      "Name: Plat 2, Length: 119, dtype: object\n",
      "8\n",
      "Chipo+semoule        51\n",
      "lasagnesvg           30\n",
      "Cabillaud+semoule    21\n",
      "Burger                3\n",
      "Burger+frites         3\n",
      "Pizza                 1\n",
      "Frites+salade         1\n",
      "Name: Plat 2, dtype: int64\n"
     ]
    },
    {
     "data": {
      "text/plain": [
       "array(['Cabillaud+semoule', 'Chipo+semoule', 'lasagnesvg', nan, 'Pizza',\n",
       "       'Burger', 'Frites+salade', 'Burger+frites'], dtype=object)"
      ]
     },
     "execution_count": 209,
     "metadata": {},
     "output_type": "execute_result"
    }
   ],
   "source": [
    "# Enlevons tous les espaces:\n",
    "df['Plat 2'] = df['Plat 2'].replace(' ', '', regex = True)\n",
    "print(df['Plat 2'])\n",
    "\n",
    "# On obtient alors \n",
    "print(len(df['Plat 2'].unique())) # Combien de plats possibles ? --> 13 plats differents \n",
    "print(df['Plat 2'].value_counts()) # Quel sont-ils ? \n",
    "\n",
    "df['Plat 2'].unique()"
   ]
  },
  {
   "cell_type": "markdown",
   "metadata": {
    "pycharm": {
     "name": "#%% md\n"
    }
   },
   "source": [
    "De plus, on observe qu'à cause d'un problème de casse, \"FeuilletéSaumonoseille+Torsades+Poeléebrocolis \" et \"FeuilletéSaumonoseille+Torsades+PoeléeBrocolis\" sont considérés comme 2 plats differents "
   ]
  },
  {
   "cell_type": "code",
   "execution_count": 210,
   "metadata": {
    "pycharm": {
     "name": "#%%\n"
    }
   },
   "outputs": [
    {
     "name": "stdout",
     "output_type": "stream",
     "text": [
      "8\n",
      "chipo+semoule        51\n",
      "lasagnesvg           30\n",
      "cabillaud+semoule    21\n",
      "burger                3\n",
      "burger+frites         3\n",
      "pizza                 1\n",
      "frites+salade         1\n",
      "Name: Plat 2, dtype: int64\n"
     ]
    },
    {
     "data": {
      "text/plain": [
       "array(['cabillaud+semoule', 'chipo+semoule', 'lasagnesvg', nan, 'pizza',\n",
       "       'burger', 'frites+salade', 'burger+frites'], dtype=object)"
      ]
     },
     "execution_count": 210,
     "metadata": {},
     "output_type": "execute_result"
    }
   ],
   "source": [
    "# --> on enlève la casse \n",
    "df['Plat 2'] = df['Plat 2'].str.lower()\n",
    "# On recommence et on obtient alors :\n",
    "print(len(df['Plat 2'].unique())) \n",
    "print(df['Plat 2'].value_counts()) \n",
    "df['Plat 2'].unique()"
   ]
  },
  {
   "cell_type": "markdown",
   "metadata": {},
   "source": [
    "Les lignes où il n'y a pratiquement que des valeurs anquantes sont à supprimer :"
   ]
  },
  {
   "cell_type": "code",
   "execution_count": 211,
   "metadata": {},
   "outputs": [
    {
     "data": {
      "text/html": [
       "<div>\n",
       "<style scoped>\n",
       "    .dataframe tbody tr th:only-of-type {\n",
       "        vertical-align: middle;\n",
       "    }\n",
       "\n",
       "    .dataframe tbody tr th {\n",
       "        vertical-align: top;\n",
       "    }\n",
       "\n",
       "    .dataframe thead th {\n",
       "        text-align: right;\n",
       "    }\n",
       "</style>\n",
       "<table border=\"1\" class=\"dataframe\">\n",
       "  <thead>\n",
       "    <tr style=\"text-align: right;\">\n",
       "      <th></th>\n",
       "      <th>Numero questionnaire</th>\n",
       "      <th>Plat 1</th>\n",
       "      <th>Plat 2</th>\n",
       "      <th>Plat 3</th>\n",
       "      <th>Hors etudiant</th>\n",
       "      <th>Autre Ã©ventuellement</th>\n",
       "      <th>Heure départ</th>\n",
       "      <th>Genre</th>\n",
       "      <th>Régime</th>\n",
       "      <th>Fréquentation</th>\n",
       "      <th>...</th>\n",
       "      <th>Aspect</th>\n",
       "      <th>Attente</th>\n",
       "      <th>Convives</th>\n",
       "      <th>Unnamed: 19</th>\n",
       "      <th>Unnamed: 20</th>\n",
       "      <th>Unnamed: 21</th>\n",
       "      <th>Unnamed: 22</th>\n",
       "      <th>Unnamed: 23</th>\n",
       "      <th>Unnamed: 24</th>\n",
       "      <th>Unnamed: 25</th>\n",
       "    </tr>\n",
       "  </thead>\n",
       "  <tbody>\n",
       "    <tr>\n",
       "      <th>10</th>\n",
       "      <td>C11</td>\n",
       "      <td>Endives</td>\n",
       "      <td>NaN</td>\n",
       "      <td>NaN</td>\n",
       "      <td>NaN</td>\n",
       "      <td>NaN</td>\n",
       "      <td>NaN</td>\n",
       "      <td>NaN</td>\n",
       "      <td>NaN</td>\n",
       "      <td>NaN</td>\n",
       "      <td>...</td>\n",
       "      <td>NaN</td>\n",
       "      <td>NaN</td>\n",
       "      <td>NaN</td>\n",
       "      <td>NaN</td>\n",
       "      <td>NaN</td>\n",
       "      <td>NaN</td>\n",
       "      <td>NaN</td>\n",
       "      <td>NaN</td>\n",
       "      <td>NaN</td>\n",
       "      <td>NaN</td>\n",
       "    </tr>\n",
       "    <tr>\n",
       "      <th>76</th>\n",
       "      <td>A01</td>\n",
       "      <td>Salade riz</td>\n",
       "      <td>NaN</td>\n",
       "      <td>NaN</td>\n",
       "      <td>NaN</td>\n",
       "      <td>NaN</td>\n",
       "      <td>NaN</td>\n",
       "      <td>NaN</td>\n",
       "      <td>NaN</td>\n",
       "      <td>NaN</td>\n",
       "      <td>...</td>\n",
       "      <td>NaN</td>\n",
       "      <td>NaN</td>\n",
       "      <td>NaN</td>\n",
       "      <td>NaN</td>\n",
       "      <td>NaN</td>\n",
       "      <td>NaN</td>\n",
       "      <td>NaN</td>\n",
       "      <td>NaN</td>\n",
       "      <td>NaN</td>\n",
       "      <td>NaN</td>\n",
       "    </tr>\n",
       "    <tr>\n",
       "      <th>86</th>\n",
       "      <td>B38</td>\n",
       "      <td>Salade soja</td>\n",
       "      <td>NaN</td>\n",
       "      <td>NaN</td>\n",
       "      <td>NaN</td>\n",
       "      <td>NaN</td>\n",
       "      <td>NaN</td>\n",
       "      <td>NaN</td>\n",
       "      <td>NaN</td>\n",
       "      <td>NaN</td>\n",
       "      <td>...</td>\n",
       "      <td>NaN</td>\n",
       "      <td>NaN</td>\n",
       "      <td>NaN</td>\n",
       "      <td>NaN</td>\n",
       "      <td>NaN</td>\n",
       "      <td>NaN</td>\n",
       "      <td>NaN</td>\n",
       "      <td>NaN</td>\n",
       "      <td>NaN</td>\n",
       "      <td>NaN</td>\n",
       "    </tr>\n",
       "    <tr>\n",
       "      <th>98</th>\n",
       "      <td>B09</td>\n",
       "      <td>Salade riz</td>\n",
       "      <td>NaN</td>\n",
       "      <td>NaN</td>\n",
       "      <td>NaN</td>\n",
       "      <td>NaN</td>\n",
       "      <td>NaN</td>\n",
       "      <td>NaN</td>\n",
       "      <td>NaN</td>\n",
       "      <td>NaN</td>\n",
       "      <td>...</td>\n",
       "      <td>NaN</td>\n",
       "      <td>NaN</td>\n",
       "      <td>NaN</td>\n",
       "      <td>NaN</td>\n",
       "      <td>NaN</td>\n",
       "      <td>NaN</td>\n",
       "      <td>NaN</td>\n",
       "      <td>NaN</td>\n",
       "      <td>NaN</td>\n",
       "      <td>NaN</td>\n",
       "    </tr>\n",
       "    <tr>\n",
       "      <th>108</th>\n",
       "      <td>B58</td>\n",
       "      <td>Saucisson</td>\n",
       "      <td>NaN</td>\n",
       "      <td>NaN</td>\n",
       "      <td>NaN</td>\n",
       "      <td>NaN</td>\n",
       "      <td>NaN</td>\n",
       "      <td>NaN</td>\n",
       "      <td>NaN</td>\n",
       "      <td>NaN</td>\n",
       "      <td>...</td>\n",
       "      <td>NaN</td>\n",
       "      <td>NaN</td>\n",
       "      <td>NaN</td>\n",
       "      <td>NaN</td>\n",
       "      <td>NaN</td>\n",
       "      <td>NaN</td>\n",
       "      <td>NaN</td>\n",
       "      <td>NaN</td>\n",
       "      <td>NaN</td>\n",
       "      <td>NaN</td>\n",
       "    </tr>\n",
       "    <tr>\n",
       "      <th>110</th>\n",
       "      <td>B67</td>\n",
       "      <td>Salade riz</td>\n",
       "      <td>NaN</td>\n",
       "      <td>NaN</td>\n",
       "      <td>NaN</td>\n",
       "      <td>NaN</td>\n",
       "      <td>12:54</td>\n",
       "      <td>Homme</td>\n",
       "      <td>non</td>\n",
       "      <td>&gt;3</td>\n",
       "      <td>...</td>\n",
       "      <td>5.0</td>\n",
       "      <td>10.0</td>\n",
       "      <td>B68</td>\n",
       "      <td>NaN</td>\n",
       "      <td>NaN</td>\n",
       "      <td>NaN</td>\n",
       "      <td>NaN</td>\n",
       "      <td>NaN</td>\n",
       "      <td>NaN</td>\n",
       "      <td>NaN</td>\n",
       "    </tr>\n",
       "    <tr>\n",
       "      <th>112</th>\n",
       "      <td>B75</td>\n",
       "      <td>Salade riz</td>\n",
       "      <td>NaN</td>\n",
       "      <td>NaN</td>\n",
       "      <td>NaN</td>\n",
       "      <td>NaN</td>\n",
       "      <td>13:04</td>\n",
       "      <td>Homme</td>\n",
       "      <td>NaN</td>\n",
       "      <td>&gt;3</td>\n",
       "      <td>...</td>\n",
       "      <td>8.0</td>\n",
       "      <td>8.0</td>\n",
       "      <td>B73</td>\n",
       "      <td>B74</td>\n",
       "      <td>B76</td>\n",
       "      <td>NaN</td>\n",
       "      <td>NaN</td>\n",
       "      <td>NaN</td>\n",
       "      <td>NaN</td>\n",
       "      <td>NaN</td>\n",
       "    </tr>\n",
       "    <tr>\n",
       "      <th>113</th>\n",
       "      <td>B74</td>\n",
       "      <td>Endives</td>\n",
       "      <td>NaN</td>\n",
       "      <td>NaN</td>\n",
       "      <td>NaN</td>\n",
       "      <td>NaN</td>\n",
       "      <td>13:04</td>\n",
       "      <td>Homme</td>\n",
       "      <td>oui</td>\n",
       "      <td>&gt;3</td>\n",
       "      <td>...</td>\n",
       "      <td>3.0</td>\n",
       "      <td>6.0</td>\n",
       "      <td>B73</td>\n",
       "      <td>B76</td>\n",
       "      <td>NaN</td>\n",
       "      <td>NaN</td>\n",
       "      <td>NaN</td>\n",
       "      <td>NaN</td>\n",
       "      <td>NaN</td>\n",
       "      <td>NaN</td>\n",
       "    </tr>\n",
       "    <tr>\n",
       "      <th>117</th>\n",
       "      <td>B73</td>\n",
       "      <td>Endives</td>\n",
       "      <td>NaN</td>\n",
       "      <td>NaN</td>\n",
       "      <td>NaN</td>\n",
       "      <td>NaN</td>\n",
       "      <td>NaN</td>\n",
       "      <td>NaN</td>\n",
       "      <td>NaN</td>\n",
       "      <td>NaN</td>\n",
       "      <td>...</td>\n",
       "      <td>NaN</td>\n",
       "      <td>NaN</td>\n",
       "      <td>NaN</td>\n",
       "      <td>NaN</td>\n",
       "      <td>NaN</td>\n",
       "      <td>NaN</td>\n",
       "      <td>NaN</td>\n",
       "      <td>NaN</td>\n",
       "      <td>NaN</td>\n",
       "      <td>NaN</td>\n",
       "    </tr>\n",
       "  </tbody>\n",
       "</table>\n",
       "<p>9 rows × 26 columns</p>\n",
       "</div>"
      ],
      "text/plain": [
       "    Numero questionnaire       Plat 1 Plat 2 Plat 3 Hors etudiant  \\\n",
       "10                   C11      Endives    NaN    NaN           NaN   \n",
       "76                   A01   Salade riz    NaN    NaN           NaN   \n",
       "86                   B38  Salade soja    NaN    NaN           NaN   \n",
       "98                   B09   Salade riz    NaN    NaN           NaN   \n",
       "108                  B58    Saucisson    NaN    NaN           NaN   \n",
       "110                  B67   Salade riz    NaN    NaN           NaN   \n",
       "112                  B75   Salade riz    NaN    NaN           NaN   \n",
       "113                  B74      Endives    NaN    NaN           NaN   \n",
       "117                  B73      Endives    NaN    NaN           NaN   \n",
       "\n",
       "    Autre Ã©ventuellement Heure départ  Genre Régime Fréquentation  ...  \\\n",
       "10                    NaN          NaN    NaN    NaN           NaN  ...   \n",
       "76                    NaN          NaN    NaN    NaN           NaN  ...   \n",
       "86                    NaN          NaN    NaN    NaN           NaN  ...   \n",
       "98                    NaN          NaN    NaN    NaN           NaN  ...   \n",
       "108                   NaN          NaN    NaN    NaN           NaN  ...   \n",
       "110                   NaN        12:54  Homme    non            >3  ...   \n",
       "112                   NaN        13:04  Homme    NaN            >3  ...   \n",
       "113                   NaN        13:04  Homme    oui            >3  ...   \n",
       "117                   NaN          NaN    NaN    NaN           NaN  ...   \n",
       "\n",
       "     Aspect Attente Convives Unnamed: 19  Unnamed: 20 Unnamed: 21  \\\n",
       "10      NaN     NaN      NaN         NaN          NaN         NaN   \n",
       "76      NaN     NaN      NaN         NaN          NaN         NaN   \n",
       "86      NaN     NaN      NaN         NaN          NaN         NaN   \n",
       "98      NaN     NaN      NaN         NaN          NaN         NaN   \n",
       "108     NaN     NaN      NaN         NaN          NaN         NaN   \n",
       "110     5.0    10.0      B68         NaN          NaN         NaN   \n",
       "112     8.0     8.0      B73         B74          B76         NaN   \n",
       "113     3.0     6.0      B73         B76          NaN         NaN   \n",
       "117     NaN     NaN      NaN         NaN          NaN         NaN   \n",
       "\n",
       "     Unnamed: 22  Unnamed: 23 Unnamed: 24 Unnamed: 25  \n",
       "10           NaN          NaN         NaN         NaN  \n",
       "76           NaN          NaN         NaN         NaN  \n",
       "86           NaN          NaN         NaN         NaN  \n",
       "98           NaN          NaN         NaN         NaN  \n",
       "108          NaN          NaN         NaN         NaN  \n",
       "110          NaN          NaN         NaN         NaN  \n",
       "112          NaN          NaN         NaN         NaN  \n",
       "113          NaN          NaN         NaN         NaN  \n",
       "117          NaN          NaN         NaN         NaN  \n",
       "\n",
       "[9 rows x 26 columns]"
      ]
     },
     "execution_count": 211,
     "metadata": {},
     "output_type": "execute_result"
    }
   ],
   "source": [
    "df.loc[np.where(df['Plat 2'].isnull())[0],:]"
   ]
  },
  {
   "cell_type": "code",
   "execution_count": 212,
   "metadata": {},
   "outputs": [
    {
     "data": {
      "text/plain": [
       "array([ 10,  76,  86,  98, 108, 117], dtype=int64)"
      ]
     },
     "execution_count": 212,
     "metadata": {},
     "output_type": "execute_result"
    }
   ],
   "source": [
    "np.where(df['Plat 2'].isnull() * df['Genre'].isnull())[0]"
   ]
  },
  {
   "cell_type": "code",
   "execution_count": 213,
   "metadata": {},
   "outputs": [],
   "source": [
    "df = df.drop(index = np.where(df['Plat 2'].isnull() * df['Genre'].isnull())[0])"
   ]
  },
  {
   "cell_type": "code",
   "execution_count": 214,
   "metadata": {},
   "outputs": [
    {
     "data": {
      "text/html": [
       "<div>\n",
       "<style scoped>\n",
       "    .dataframe tbody tr th:only-of-type {\n",
       "        vertical-align: middle;\n",
       "    }\n",
       "\n",
       "    .dataframe tbody tr th {\n",
       "        vertical-align: top;\n",
       "    }\n",
       "\n",
       "    .dataframe thead th {\n",
       "        text-align: right;\n",
       "    }\n",
       "</style>\n",
       "<table border=\"1\" class=\"dataframe\">\n",
       "  <thead>\n",
       "    <tr style=\"text-align: right;\">\n",
       "      <th></th>\n",
       "      <th>Numero questionnaire</th>\n",
       "      <th>Plat 1</th>\n",
       "      <th>Plat 2</th>\n",
       "      <th>Plat 3</th>\n",
       "      <th>Hors etudiant</th>\n",
       "      <th>Autre Ã©ventuellement</th>\n",
       "      <th>Heure départ</th>\n",
       "      <th>Genre</th>\n",
       "      <th>Régime</th>\n",
       "      <th>Fréquentation</th>\n",
       "      <th>...</th>\n",
       "      <th>Aspect</th>\n",
       "      <th>Attente</th>\n",
       "      <th>Convives</th>\n",
       "      <th>Unnamed: 19</th>\n",
       "      <th>Unnamed: 20</th>\n",
       "      <th>Unnamed: 21</th>\n",
       "      <th>Unnamed: 22</th>\n",
       "      <th>Unnamed: 23</th>\n",
       "      <th>Unnamed: 24</th>\n",
       "      <th>Unnamed: 25</th>\n",
       "    </tr>\n",
       "  </thead>\n",
       "  <tbody>\n",
       "    <tr>\n",
       "      <th>105</th>\n",
       "      <td>B67</td>\n",
       "      <td>Salade riz</td>\n",
       "      <td>NaN</td>\n",
       "      <td>NaN</td>\n",
       "      <td>NaN</td>\n",
       "      <td>NaN</td>\n",
       "      <td>12:54</td>\n",
       "      <td>Homme</td>\n",
       "      <td>non</td>\n",
       "      <td>&gt;3</td>\n",
       "      <td>...</td>\n",
       "      <td>5.0</td>\n",
       "      <td>10.0</td>\n",
       "      <td>B68</td>\n",
       "      <td>NaN</td>\n",
       "      <td>NaN</td>\n",
       "      <td>NaN</td>\n",
       "      <td>NaN</td>\n",
       "      <td>NaN</td>\n",
       "      <td>NaN</td>\n",
       "      <td>NaN</td>\n",
       "    </tr>\n",
       "    <tr>\n",
       "      <th>107</th>\n",
       "      <td>B75</td>\n",
       "      <td>Salade riz</td>\n",
       "      <td>NaN</td>\n",
       "      <td>NaN</td>\n",
       "      <td>NaN</td>\n",
       "      <td>NaN</td>\n",
       "      <td>13:04</td>\n",
       "      <td>Homme</td>\n",
       "      <td>NaN</td>\n",
       "      <td>&gt;3</td>\n",
       "      <td>...</td>\n",
       "      <td>8.0</td>\n",
       "      <td>8.0</td>\n",
       "      <td>B73</td>\n",
       "      <td>B74</td>\n",
       "      <td>B76</td>\n",
       "      <td>NaN</td>\n",
       "      <td>NaN</td>\n",
       "      <td>NaN</td>\n",
       "      <td>NaN</td>\n",
       "      <td>NaN</td>\n",
       "    </tr>\n",
       "    <tr>\n",
       "      <th>108</th>\n",
       "      <td>B74</td>\n",
       "      <td>Endives</td>\n",
       "      <td>NaN</td>\n",
       "      <td>NaN</td>\n",
       "      <td>NaN</td>\n",
       "      <td>NaN</td>\n",
       "      <td>13:04</td>\n",
       "      <td>Homme</td>\n",
       "      <td>oui</td>\n",
       "      <td>&gt;3</td>\n",
       "      <td>...</td>\n",
       "      <td>3.0</td>\n",
       "      <td>6.0</td>\n",
       "      <td>B73</td>\n",
       "      <td>B76</td>\n",
       "      <td>NaN</td>\n",
       "      <td>NaN</td>\n",
       "      <td>NaN</td>\n",
       "      <td>NaN</td>\n",
       "      <td>NaN</td>\n",
       "      <td>NaN</td>\n",
       "    </tr>\n",
       "  </tbody>\n",
       "</table>\n",
       "<p>3 rows × 26 columns</p>\n",
       "</div>"
      ],
      "text/plain": [
       "    Numero questionnaire      Plat 1 Plat 2 Plat 3 Hors etudiant  \\\n",
       "105                  B67  Salade riz    NaN    NaN           NaN   \n",
       "107                  B75  Salade riz    NaN    NaN           NaN   \n",
       "108                  B74     Endives    NaN    NaN           NaN   \n",
       "\n",
       "    Autre Ã©ventuellement Heure départ  Genre Régime Fréquentation  ...  \\\n",
       "105                   NaN        12:54  Homme    non            >3  ...   \n",
       "107                   NaN        13:04  Homme    NaN            >3  ...   \n",
       "108                   NaN        13:04  Homme    oui            >3  ...   \n",
       "\n",
       "     Aspect Attente Convives Unnamed: 19  Unnamed: 20 Unnamed: 21  \\\n",
       "105     5.0    10.0      B68         NaN          NaN         NaN   \n",
       "107     8.0     8.0      B73         B74          B76         NaN   \n",
       "108     3.0     6.0      B73         B76          NaN         NaN   \n",
       "\n",
       "     Unnamed: 22  Unnamed: 23 Unnamed: 24 Unnamed: 25  \n",
       "105          NaN          NaN         NaN         NaN  \n",
       "107          NaN          NaN         NaN         NaN  \n",
       "108          NaN          NaN         NaN         NaN  \n",
       "\n",
       "[3 rows x 26 columns]"
      ]
     },
     "execution_count": 214,
     "metadata": {},
     "output_type": "execute_result"
    }
   ],
   "source": [
    "df.reset_index(drop = True, inplace = True)\n",
    "df.loc[np.where(df['Plat 2'].isnull())[0],:]"
   ]
  },
  {
   "cell_type": "markdown",
   "metadata": {},
   "source": [
    "## Entrées"
   ]
  },
  {
   "cell_type": "markdown",
   "metadata": {
    "pycharm": {
     "name": "#%% md\n"
    }
   },
   "source": [
    "Voyons maintenant pour la colonne \"ENTREE\""
   ]
  },
  {
   "cell_type": "code",
   "execution_count": 215,
   "metadata": {
    "pycharm": {
     "name": "#%%\n"
    }
   },
   "outputs": [
    {
     "name": "stdout",
     "output_type": "stream",
     "text": [
      "7\n",
      "Carottes       21\n",
      "Salade riz     20\n",
      "Saucisson      16\n",
      "Salade soja    10\n",
      "Endives         4\n",
      "Sardines        2\n",
      "Name: Plat 1, dtype: int64\n"
     ]
    },
    {
     "data": {
      "text/plain": [
       "array(['Salade soja', 'Salade riz', 'Saucisson', nan, 'Endives',\n",
       "       'Carottes', 'Sardines'], dtype=object)"
      ]
     },
     "execution_count": 215,
     "metadata": {},
     "output_type": "execute_result"
    }
   ],
   "source": [
    "print(len(df['Plat 1'].unique())) \n",
    "print(df['Plat 1'].value_counts()) \n",
    "df['Plat 1'].unique()"
   ]
  },
  {
   "cell_type": "markdown",
   "metadata": {
    "pycharm": {
     "name": "#%% md\n"
    }
   },
   "source": [
    "Pas d'erreurs en particulier...  \n",
    "Nous allons tout de même suppprimer les espaces et mettre en lower case pour standaradiser avec les autres fichiers."
   ]
  },
  {
   "cell_type": "code",
   "execution_count": 216,
   "metadata": {
    "pycharm": {
     "name": "#%%\n"
    }
   },
   "outputs": [
    {
     "name": "stdout",
     "output_type": "stream",
     "text": [
      "7\n",
      "carottes      21\n",
      "saladeriz     20\n",
      "saucisson     16\n",
      "saladesoja    10\n",
      "endives        4\n",
      "sardines       2\n",
      "Name: Plat 1, dtype: int64\n"
     ]
    }
   ],
   "source": [
    "# Enlevons tous les espaces et les apostrophes \n",
    "df['Plat 1'] = df['Plat 1'].replace(' ', '', regex = True)\n",
    "df['Plat 1'] = df['Plat 1'].replace(\"'\", '', regex = True)\n",
    "# --> on enlève la casse \n",
    "df['Plat 1'] = df['Plat 1'].str.lower()\n",
    "print(len(df['Plat 1'].unique())) \n",
    "print(df['Plat 1'].value_counts()) "
   ]
  },
  {
   "cell_type": "markdown",
   "metadata": {},
   "source": [
    "## Desserts"
   ]
  },
  {
   "cell_type": "markdown",
   "metadata": {
    "pycharm": {
     "name": "#%% md\n"
    }
   },
   "source": [
    "Voyons maintenant pour la colonne 'DESSERTS'"
   ]
  },
  {
   "cell_type": "code",
   "execution_count": 217,
   "metadata": {
    "pycharm": {
     "name": "#%%\n"
    }
   },
   "outputs": [
    {
     "name": "stdout",
     "output_type": "stream",
     "text": [
      "10\n",
      "fruit                    33\n",
      "yaourt                   17\n",
      "Mousse chocolat          16\n",
      "Donut                    13\n",
      "Emmental                  8\n",
      "Chaource                  5\n",
      "Crème dessert             3\n",
      "Tarte frboises/ananas     3\n",
      "Crème crÃ©ole             1\n",
      "Name: Plat 3, dtype: int64\n"
     ]
    }
   ],
   "source": [
    "print(len(df['Plat 3'].unique())) \n",
    "print(df['Plat 3'].value_counts())"
   ]
  },
  {
   "cell_type": "code",
   "execution_count": 218,
   "metadata": {
    "pycharm": {
     "name": "#%%\n"
    }
   },
   "outputs": [],
   "source": [
    "# Enlevons tous les espaces et les apostrophes \n",
    "df['Plat 3'] = df['Plat 3'].replace(' ', '', regex = True)\n",
    "df['Plat 3'] = df['Plat 3'].replace(\"'\", '', regex = True)\n",
    "\n",
    "df['Plat 3'] = df['Plat 3'].replace(\"\\/\", '', regex = True)\n",
    "# --> on enlève la casse \n",
    "df['Plat 3'] = df['Plat 3'].str.lower()\n"
   ]
  },
  {
   "cell_type": "markdown",
   "metadata": {
    "pycharm": {
     "name": "#%% md\n"
    }
   },
   "source": [
    "On y voit plus clair --> S'il y a des erreurs de frappes / d'enregistrements, on sera plus à meme de le voir.  "
   ]
  },
  {
   "cell_type": "code",
   "execution_count": 219,
   "metadata": {
    "pycharm": {
     "name": "#%%\n"
    }
   },
   "outputs": [
    {
     "name": "stdout",
     "output_type": "stream",
     "text": [
      "10\n",
      "fruit                  33\n",
      "yaourt                 17\n",
      "moussechocolat         16\n",
      "donut                  13\n",
      "emmental                8\n",
      "chaource                5\n",
      "crèmedessert            3\n",
      "tartefrboisesananas     3\n",
      "crèmecrã©ole            1\n",
      "Name: Plat 3, dtype: int64\n"
     ]
    }
   ],
   "source": [
    "print(len(df['Plat 3'].unique())) \n",
    "print(df['Plat 3'].value_counts())"
   ]
  },
  {
   "cell_type": "markdown",
   "metadata": {},
   "source": [
    "# Gestion des colonnes"
   ]
  },
  {
   "cell_type": "markdown",
   "metadata": {},
   "source": [
    "Des horaires sont écrits dans la colonne "
   ]
  },
  {
   "cell_type": "code",
   "execution_count": 220,
   "metadata": {},
   "outputs": [
    {
     "data": {
      "text/html": [
       "<div>\n",
       "<style scoped>\n",
       "    .dataframe tbody tr th:only-of-type {\n",
       "        vertical-align: middle;\n",
       "    }\n",
       "\n",
       "    .dataframe tbody tr th {\n",
       "        vertical-align: top;\n",
       "    }\n",
       "\n",
       "    .dataframe thead th {\n",
       "        text-align: right;\n",
       "    }\n",
       "</style>\n",
       "<table border=\"1\" class=\"dataframe\">\n",
       "  <thead>\n",
       "    <tr style=\"text-align: right;\">\n",
       "      <th></th>\n",
       "      <th>Heure départ</th>\n",
       "      <th>Autre Ã©ventuellement</th>\n",
       "    </tr>\n",
       "  </thead>\n",
       "  <tbody>\n",
       "    <tr>\n",
       "      <th>59</th>\n",
       "      <td>12:53</td>\n",
       "      <td>12h20</td>\n",
       "    </tr>\n",
       "    <tr>\n",
       "      <th>64</th>\n",
       "      <td>13:11</td>\n",
       "      <td>12h23</td>\n",
       "    </tr>\n",
       "    <tr>\n",
       "      <th>66</th>\n",
       "      <td>12:40</td>\n",
       "      <td>12h28</td>\n",
       "    </tr>\n",
       "    <tr>\n",
       "      <th>67</th>\n",
       "      <td>13:02</td>\n",
       "      <td>12h30</td>\n",
       "    </tr>\n",
       "    <tr>\n",
       "      <th>68</th>\n",
       "      <td>13:03</td>\n",
       "      <td>12h31</td>\n",
       "    </tr>\n",
       "    <tr>\n",
       "      <th>70</th>\n",
       "      <td>NaN</td>\n",
       "      <td>12h32</td>\n",
       "    </tr>\n",
       "    <tr>\n",
       "      <th>71</th>\n",
       "      <td>12:41</td>\n",
       "      <td>12:12</td>\n",
       "    </tr>\n",
       "    <tr>\n",
       "      <th>72</th>\n",
       "      <td>NaN</td>\n",
       "      <td>12h36</td>\n",
       "    </tr>\n",
       "    <tr>\n",
       "      <th>74</th>\n",
       "      <td>13:15</td>\n",
       "      <td>12h41</td>\n",
       "    </tr>\n",
       "    <tr>\n",
       "      <th>82</th>\n",
       "      <td>NaN</td>\n",
       "      <td>Burger</td>\n",
       "    </tr>\n",
       "    <tr>\n",
       "      <th>83</th>\n",
       "      <td>NaN</td>\n",
       "      <td>Burger</td>\n",
       "    </tr>\n",
       "    <tr>\n",
       "      <th>94</th>\n",
       "      <td>NaN</td>\n",
       "      <td>Frites salade</td>\n",
       "    </tr>\n",
       "    <tr>\n",
       "      <th>95</th>\n",
       "      <td>NaN</td>\n",
       "      <td>Burger frites</td>\n",
       "    </tr>\n",
       "    <tr>\n",
       "      <th>97</th>\n",
       "      <td>NaN</td>\n",
       "      <td>Burger</td>\n",
       "    </tr>\n",
       "    <tr>\n",
       "      <th>98</th>\n",
       "      <td>NaN</td>\n",
       "      <td>Burger frites</td>\n",
       "    </tr>\n",
       "    <tr>\n",
       "      <th>104</th>\n",
       "      <td>13:00</td>\n",
       "      <td>Burger frites</td>\n",
       "    </tr>\n",
       "  </tbody>\n",
       "</table>\n",
       "</div>"
      ],
      "text/plain": [
       "    Heure départ Autre Ã©ventuellement\n",
       "59         12:53                 12h20\n",
       "64         13:11                 12h23\n",
       "66         12:40                 12h28\n",
       "67         13:02                 12h30\n",
       "68         13:03                 12h31\n",
       "70           NaN                 12h32\n",
       "71         12:41                 12:12\n",
       "72           NaN                 12h36\n",
       "74         13:15                 12h41\n",
       "82           NaN                Burger\n",
       "83           NaN                Burger\n",
       "94           NaN         Frites salade\n",
       "95           NaN         Burger frites\n",
       "97           NaN                Burger\n",
       "98           NaN        Burger frites \n",
       "104        13:00         Burger frites"
      ]
     },
     "execution_count": 220,
     "metadata": {},
     "output_type": "execute_result"
    }
   ],
   "source": [
    "HD = df.loc[np.where(df['Autre Ã©ventuellement'].notna())[0],['Heure départ', 'Autre Ã©ventuellement']]\n",
    "#AE = df.loc[np.where(df['Autre Ã©ventuellement'].notna())[0],['Heure départ']]\n",
    "HD"
   ]
  },
  {
   "cell_type": "code",
   "execution_count": 221,
   "metadata": {},
   "outputs": [
    {
     "name": "stdout",
     "output_type": "stream",
     "text": [
      "Index(['Numero questionnaire', 'Plat 1', 'Plat 2', 'Plat 3', 'Heure départ',\n",
      "       'Genre', 'Régime', 'Fréquentation', 'Faim', 'Connaissance entourage',\n",
      "       'Influence entourage', 'Influence aspect', 'Quantité', 'Equilibre',\n",
      "       'Aspect', 'Attente', 'Convives', 'Unnamed: 19', 'Unnamed: 20',\n",
      "       'Unnamed: 21', 'Unnamed: 22', 'Unnamed: 23', 'Unnamed: 24',\n",
      "       'Unnamed: 25'],\n",
      "      dtype='object')\n"
     ]
    }
   ],
   "source": [
    "df = df.drop('Hors etudiant', axis=1)\n",
    "df = df.drop('Autre Ã©ventuellement', axis=1)\n",
    "print(df.columns)"
   ]
  },
  {
   "cell_type": "code",
   "execution_count": 222,
   "metadata": {},
   "outputs": [
    {
     "data": {
      "text/html": [
       "<div>\n",
       "<style scoped>\n",
       "    .dataframe tbody tr th:only-of-type {\n",
       "        vertical-align: middle;\n",
       "    }\n",
       "\n",
       "    .dataframe tbody tr th {\n",
       "        vertical-align: top;\n",
       "    }\n",
       "\n",
       "    .dataframe thead th {\n",
       "        text-align: right;\n",
       "    }\n",
       "</style>\n",
       "<table border=\"1\" class=\"dataframe\">\n",
       "  <thead>\n",
       "    <tr style=\"text-align: right;\">\n",
       "      <th></th>\n",
       "      <th>Numéro de formulaire</th>\n",
       "      <th>ENTREE</th>\n",
       "      <th>PLAT</th>\n",
       "      <th>DESSERT</th>\n",
       "      <th>Horodateur</th>\n",
       "      <th>Genre</th>\n",
       "      <th>Régime</th>\n",
       "      <th>Fréquentation</th>\n",
       "      <th>Faim</th>\n",
       "      <th>Connaissance entourage</th>\n",
       "      <th>...</th>\n",
       "      <th>Aspect</th>\n",
       "      <th>Attente</th>\n",
       "      <th>Convives</th>\n",
       "      <th>Unnamed: 19</th>\n",
       "      <th>Unnamed: 20</th>\n",
       "      <th>Unnamed: 21</th>\n",
       "      <th>Unnamed: 22</th>\n",
       "      <th>Unnamed: 23</th>\n",
       "      <th>Unnamed: 24</th>\n",
       "      <th>Unnamed: 25</th>\n",
       "    </tr>\n",
       "  </thead>\n",
       "  <tbody>\n",
       "    <tr>\n",
       "      <th>0</th>\n",
       "      <td>C02</td>\n",
       "      <td>saladesoja</td>\n",
       "      <td>cabillaud+semoule</td>\n",
       "      <td>fruit</td>\n",
       "      <td>12:39</td>\n",
       "      <td>Homme</td>\n",
       "      <td>non</td>\n",
       "      <td>1à3</td>\n",
       "      <td>6.0</td>\n",
       "      <td>oui</td>\n",
       "      <td>...</td>\n",
       "      <td>0.0</td>\n",
       "      <td>6.0</td>\n",
       "      <td>C01</td>\n",
       "      <td>NaN</td>\n",
       "      <td>NaN</td>\n",
       "      <td>NaN</td>\n",
       "      <td>NaN</td>\n",
       "      <td>NaN</td>\n",
       "      <td>NaN</td>\n",
       "      <td>NaN</td>\n",
       "    </tr>\n",
       "    <tr>\n",
       "      <th>1</th>\n",
       "      <td>C06</td>\n",
       "      <td>saladeriz</td>\n",
       "      <td>cabillaud+semoule</td>\n",
       "      <td>NaN</td>\n",
       "      <td>NaN</td>\n",
       "      <td>NaN</td>\n",
       "      <td>NaN</td>\n",
       "      <td>NaN</td>\n",
       "      <td>NaN</td>\n",
       "      <td>NaN</td>\n",
       "      <td>...</td>\n",
       "      <td>NaN</td>\n",
       "      <td>NaN</td>\n",
       "      <td>NaN</td>\n",
       "      <td>NaN</td>\n",
       "      <td>NaN</td>\n",
       "      <td>NaN</td>\n",
       "      <td>NaN</td>\n",
       "      <td>NaN</td>\n",
       "      <td>NaN</td>\n",
       "      <td>NaN</td>\n",
       "    </tr>\n",
       "    <tr>\n",
       "      <th>2</th>\n",
       "      <td>C04</td>\n",
       "      <td>saucisson</td>\n",
       "      <td>chipo+semoule</td>\n",
       "      <td>moussechocolat</td>\n",
       "      <td>NaN</td>\n",
       "      <td>NaN</td>\n",
       "      <td>NaN</td>\n",
       "      <td>NaN</td>\n",
       "      <td>NaN</td>\n",
       "      <td>NaN</td>\n",
       "      <td>...</td>\n",
       "      <td>NaN</td>\n",
       "      <td>NaN</td>\n",
       "      <td>NaN</td>\n",
       "      <td>NaN</td>\n",
       "      <td>NaN</td>\n",
       "      <td>NaN</td>\n",
       "      <td>NaN</td>\n",
       "      <td>NaN</td>\n",
       "      <td>NaN</td>\n",
       "      <td>NaN</td>\n",
       "    </tr>\n",
       "    <tr>\n",
       "      <th>3</th>\n",
       "      <td>C12</td>\n",
       "      <td>NaN</td>\n",
       "      <td>chipo+semoule</td>\n",
       "      <td>emmental</td>\n",
       "      <td>NaN</td>\n",
       "      <td>NaN</td>\n",
       "      <td>NaN</td>\n",
       "      <td>NaN</td>\n",
       "      <td>NaN</td>\n",
       "      <td>NaN</td>\n",
       "      <td>...</td>\n",
       "      <td>NaN</td>\n",
       "      <td>NaN</td>\n",
       "      <td>NaN</td>\n",
       "      <td>NaN</td>\n",
       "      <td>NaN</td>\n",
       "      <td>NaN</td>\n",
       "      <td>NaN</td>\n",
       "      <td>NaN</td>\n",
       "      <td>NaN</td>\n",
       "      <td>NaN</td>\n",
       "    </tr>\n",
       "    <tr>\n",
       "      <th>4</th>\n",
       "      <td>C07</td>\n",
       "      <td>saladeriz</td>\n",
       "      <td>cabillaud+semoule</td>\n",
       "      <td>yaourt</td>\n",
       "      <td>NaN</td>\n",
       "      <td>NaN</td>\n",
       "      <td>NaN</td>\n",
       "      <td>NaN</td>\n",
       "      <td>NaN</td>\n",
       "      <td>NaN</td>\n",
       "      <td>...</td>\n",
       "      <td>NaN</td>\n",
       "      <td>NaN</td>\n",
       "      <td>NaN</td>\n",
       "      <td>NaN</td>\n",
       "      <td>NaN</td>\n",
       "      <td>NaN</td>\n",
       "      <td>NaN</td>\n",
       "      <td>NaN</td>\n",
       "      <td>NaN</td>\n",
       "      <td>NaN</td>\n",
       "    </tr>\n",
       "    <tr>\n",
       "      <th>...</th>\n",
       "      <td>...</td>\n",
       "      <td>...</td>\n",
       "      <td>...</td>\n",
       "      <td>...</td>\n",
       "      <td>...</td>\n",
       "      <td>...</td>\n",
       "      <td>...</td>\n",
       "      <td>...</td>\n",
       "      <td>...</td>\n",
       "      <td>...</td>\n",
       "      <td>...</td>\n",
       "      <td>...</td>\n",
       "      <td>...</td>\n",
       "      <td>...</td>\n",
       "      <td>...</td>\n",
       "      <td>...</td>\n",
       "      <td>...</td>\n",
       "      <td>...</td>\n",
       "      <td>...</td>\n",
       "      <td>...</td>\n",
       "      <td>...</td>\n",
       "    </tr>\n",
       "    <tr>\n",
       "      <th>108</th>\n",
       "      <td>B74</td>\n",
       "      <td>endives</td>\n",
       "      <td>NaN</td>\n",
       "      <td>NaN</td>\n",
       "      <td>13:04</td>\n",
       "      <td>Homme</td>\n",
       "      <td>oui</td>\n",
       "      <td>&gt;3</td>\n",
       "      <td>8.0</td>\n",
       "      <td>oui</td>\n",
       "      <td>...</td>\n",
       "      <td>3.0</td>\n",
       "      <td>6.0</td>\n",
       "      <td>B73</td>\n",
       "      <td>B76</td>\n",
       "      <td>NaN</td>\n",
       "      <td>NaN</td>\n",
       "      <td>NaN</td>\n",
       "      <td>NaN</td>\n",
       "      <td>NaN</td>\n",
       "      <td>NaN</td>\n",
       "    </tr>\n",
       "    <tr>\n",
       "      <th>109</th>\n",
       "      <td>B80</td>\n",
       "      <td>saucisson</td>\n",
       "      <td>chipo+semoule</td>\n",
       "      <td>moussechocolat</td>\n",
       "      <td>13:11</td>\n",
       "      <td>Homme</td>\n",
       "      <td>non</td>\n",
       "      <td>1à3</td>\n",
       "      <td>8.0</td>\n",
       "      <td>oui</td>\n",
       "      <td>...</td>\n",
       "      <td>6.0</td>\n",
       "      <td>7.0</td>\n",
       "      <td>NaN</td>\n",
       "      <td>NaN</td>\n",
       "      <td>NaN</td>\n",
       "      <td>NaN</td>\n",
       "      <td>NaN</td>\n",
       "      <td>NaN</td>\n",
       "      <td>NaN</td>\n",
       "      <td>NaN</td>\n",
       "    </tr>\n",
       "    <tr>\n",
       "      <th>110</th>\n",
       "      <td>B76</td>\n",
       "      <td>saladeriz</td>\n",
       "      <td>lasagnesvg</td>\n",
       "      <td>fruit</td>\n",
       "      <td>13:04</td>\n",
       "      <td>Femme</td>\n",
       "      <td>oui</td>\n",
       "      <td>1à3</td>\n",
       "      <td>6.0</td>\n",
       "      <td>oui</td>\n",
       "      <td>...</td>\n",
       "      <td>6.0</td>\n",
       "      <td>1.0</td>\n",
       "      <td>B73</td>\n",
       "      <td>B74</td>\n",
       "      <td>B75</td>\n",
       "      <td>NaN</td>\n",
       "      <td>NaN</td>\n",
       "      <td>NaN</td>\n",
       "      <td>NaN</td>\n",
       "      <td>NaN</td>\n",
       "    </tr>\n",
       "    <tr>\n",
       "      <th>111</th>\n",
       "      <td>B79</td>\n",
       "      <td>carottes</td>\n",
       "      <td>lasagnesvg</td>\n",
       "      <td>fruit</td>\n",
       "      <td>NaN</td>\n",
       "      <td>NaN</td>\n",
       "      <td>NaN</td>\n",
       "      <td>NaN</td>\n",
       "      <td>NaN</td>\n",
       "      <td>NaN</td>\n",
       "      <td>...</td>\n",
       "      <td>NaN</td>\n",
       "      <td>NaN</td>\n",
       "      <td>NaN</td>\n",
       "      <td>NaN</td>\n",
       "      <td>NaN</td>\n",
       "      <td>NaN</td>\n",
       "      <td>NaN</td>\n",
       "      <td>NaN</td>\n",
       "      <td>NaN</td>\n",
       "      <td>NaN</td>\n",
       "    </tr>\n",
       "    <tr>\n",
       "      <th>112</th>\n",
       "      <td>B78</td>\n",
       "      <td>NaN</td>\n",
       "      <td>cabillaud+semoule</td>\n",
       "      <td>fruit</td>\n",
       "      <td>13:02</td>\n",
       "      <td>Homme</td>\n",
       "      <td>oui</td>\n",
       "      <td>&gt;3</td>\n",
       "      <td>7.0</td>\n",
       "      <td>non</td>\n",
       "      <td>...</td>\n",
       "      <td>7.0</td>\n",
       "      <td>7.0</td>\n",
       "      <td>NaN</td>\n",
       "      <td>NaN</td>\n",
       "      <td>NaN</td>\n",
       "      <td>NaN</td>\n",
       "      <td>NaN</td>\n",
       "      <td>NaN</td>\n",
       "      <td>NaN</td>\n",
       "      <td>NaN</td>\n",
       "    </tr>\n",
       "  </tbody>\n",
       "</table>\n",
       "<p>113 rows × 24 columns</p>\n",
       "</div>"
      ],
      "text/plain": [
       "    Numéro de formulaire      ENTREE              PLAT          DESSERT  \\\n",
       "0                    C02  saladesoja  cabillaud+semoule           fruit   \n",
       "1                    C06   saladeriz  cabillaud+semoule             NaN   \n",
       "2                    C04   saucisson      chipo+semoule  moussechocolat   \n",
       "3                    C12         NaN      chipo+semoule        emmental   \n",
       "4                    C07   saladeriz  cabillaud+semoule          yaourt   \n",
       "..                   ...         ...                ...             ...   \n",
       "108                  B74     endives                NaN             NaN   \n",
       "109                  B80   saucisson      chipo+semoule  moussechocolat   \n",
       "110                  B76   saladeriz         lasagnesvg           fruit   \n",
       "111                  B79    carottes         lasagnesvg           fruit   \n",
       "112                  B78         NaN  cabillaud+semoule           fruit   \n",
       "\n",
       "    Horodateur  Genre Régime Fréquentation  Faim Connaissance entourage  ...  \\\n",
       "0        12:39  Homme    non           1à3   6.0                    oui  ...   \n",
       "1          NaN    NaN    NaN           NaN   NaN                    NaN  ...   \n",
       "2          NaN    NaN    NaN           NaN   NaN                    NaN  ...   \n",
       "3          NaN    NaN    NaN           NaN   NaN                    NaN  ...   \n",
       "4          NaN    NaN    NaN           NaN   NaN                    NaN  ...   \n",
       "..         ...    ...    ...           ...   ...                    ...  ...   \n",
       "108      13:04  Homme    oui            >3   8.0                    oui  ...   \n",
       "109      13:11  Homme    non           1à3   8.0                    oui  ...   \n",
       "110      13:04  Femme    oui           1à3   6.0                    oui  ...   \n",
       "111        NaN    NaN    NaN           NaN   NaN                    NaN  ...   \n",
       "112      13:02  Homme    oui            >3   7.0                    non  ...   \n",
       "\n",
       "    Aspect Attente  Convives Unnamed: 19  Unnamed: 20  Unnamed: 21  \\\n",
       "0      0.0     6.0       C01         NaN          NaN          NaN   \n",
       "1      NaN     NaN       NaN         NaN          NaN          NaN   \n",
       "2      NaN     NaN       NaN         NaN          NaN          NaN   \n",
       "3      NaN     NaN       NaN         NaN          NaN          NaN   \n",
       "4      NaN     NaN       NaN         NaN          NaN          NaN   \n",
       "..     ...     ...       ...         ...          ...          ...   \n",
       "108    3.0     6.0       B73         B76          NaN          NaN   \n",
       "109    6.0     7.0       NaN         NaN          NaN          NaN   \n",
       "110    6.0     1.0       B73         B74          B75          NaN   \n",
       "111    NaN     NaN       NaN         NaN          NaN          NaN   \n",
       "112    7.0     7.0       NaN         NaN          NaN          NaN   \n",
       "\n",
       "    Unnamed: 22 Unnamed: 23 Unnamed: 24 Unnamed: 25  \n",
       "0           NaN         NaN         NaN         NaN  \n",
       "1           NaN         NaN         NaN         NaN  \n",
       "2           NaN         NaN         NaN         NaN  \n",
       "3           NaN         NaN         NaN         NaN  \n",
       "4           NaN         NaN         NaN         NaN  \n",
       "..          ...         ...         ...         ...  \n",
       "108         NaN         NaN         NaN         NaN  \n",
       "109         NaN         NaN         NaN         NaN  \n",
       "110         NaN         NaN         NaN         NaN  \n",
       "111         NaN         NaN         NaN         NaN  \n",
       "112         NaN         NaN         NaN         NaN  \n",
       "\n",
       "[113 rows x 24 columns]"
      ]
     },
     "execution_count": 222,
     "metadata": {},
     "output_type": "execute_result"
    }
   ],
   "source": [
    "#Index(['Horodateur', 'Numéro de formulaire', 'ENTREE', 'PLAT ', 'DESSERT'], dtype='object')\n",
    "df.columns = ['Numéro de formulaire', 'ENTREE', 'PLAT ', 'DESSERT', \n",
    "                    'Horodateur', 'Genre', 'Régime',\n",
    "                   'Fréquentation', 'Faim', 'Connaissance entourage',\n",
    "                   'Influence entourage', 'Influence aspect', 'Quantité', 'Equilibre',\n",
    "                   'Aspect', 'Attente', 'Convives', 'Unnamed: 19', 'Unnamed: 20',\n",
    "                   'Unnamed: 21', 'Unnamed: 22', 'Unnamed: 23', 'Unnamed: 24',\n",
    "                   'Unnamed: 25']\n",
    "df"
   ]
  },
  {
   "cell_type": "markdown",
   "metadata": {},
   "source": [
    "# Sauvegarde"
   ]
  },
  {
   "cell_type": "markdown",
   "metadata": {
    "pycharm": {
     "name": "#%% md\n"
    }
   },
   "source": [
    "Le csv est préprocéssé, nous pouvons l'enregistrer. "
   ]
  },
  {
   "cell_type": "code",
   "execution_count": 223,
   "metadata": {
    "pycharm": {
     "name": "#%%\n"
    }
   },
   "outputs": [],
   "source": [
    "df.to_csv(\"Resultats_choix_Juin_ENS_cleaned.csv\", sep = ';')"
   ]
  },
  {
   "cell_type": "code",
   "execution_count": null,
   "metadata": {},
   "outputs": [],
   "source": []
  }
 ],
 "metadata": {
  "kernelspec": {
   "display_name": "Python 3 (ipykernel)",
   "language": "python",
   "name": "python3"
  },
  "language_info": {
   "codemirror_mode": {
    "name": "ipython",
    "version": 3
   },
   "file_extension": ".py",
   "mimetype": "text/x-python",
   "name": "python",
   "nbconvert_exporter": "python",
   "pygments_lexer": "ipython3",
   "version": "3.7.4"
  },
  "vscode": {
   "interpreter": {
    "hash": "5fc140dc3efbcdd724716f65d474894e1947e1edd4b80a080fedd84e10bf2ba4"
   }
  }
 },
 "nbformat": 4,
 "nbformat_minor": 2
}
