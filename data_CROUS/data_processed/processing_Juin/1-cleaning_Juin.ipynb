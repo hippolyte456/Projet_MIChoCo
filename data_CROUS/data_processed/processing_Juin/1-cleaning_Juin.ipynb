{
 "cells": [
  {
   "cell_type": "markdown",
   "metadata": {
    "pycharm": {
     "name": "#%% md\n"
    }
   },
   "source": [
    "# Preprocessing sur les données de Juin \n",
    "\n",
    "Ce notebook permet d'avoir une première vue sur les données, et de les préprocesser."
   ]
  },
  {
   "cell_type": "code",
   "execution_count": 22,
   "metadata": {
    "pycharm": {
     "name": "#%%\n"
    }
   },
   "outputs": [],
   "source": [
    "import pandas as pd \n",
    "import numpy as np"
   ]
  },
  {
   "cell_type": "markdown",
   "metadata": {
    "pycharm": {
     "name": "#%% md\n"
    }
   },
   "source": [
    "Regardons ce qu'il y a dans les fichiers de type \"resultats choix\" \n"
   ]
  },
  {
   "cell_type": "code",
   "execution_count": 23,
   "metadata": {},
   "outputs": [
    {
     "name": "stdout",
     "output_type": "stream",
     "text": [
      "Index(['Horodateur', 'Numero questionnaire', 'Plat 1', 'Plat 2', 'garniture',\n",
      "       'Plat 3', 'Hors etudiant', 'Autre ', 'Heure départ', 'Genre', 'Regime',\n",
      "       'Fréquentation', 'Faim', 'Connaissances', 'Influence',\n",
      "       'Influence aspect', 'Quantité', 'Equilibré', 'Aspect', 'Convive 1',\n",
      "       'Convive 2', 'Convive 3', 'Convive 4', 'Convive 5', 'Convive 6',\n",
      "       'Convive 7', 'Convive 8', 'Unnamed: 27'],\n",
      "      dtype='object')\n",
      "(121, 28)\n",
      "RangeIndex(start=0, stop=121, step=1)\n"
     ]
    }
   ],
   "source": [
    "df = pd.read_csv('data_CROUS/data/Resultats_choix_LieuDeVie_juin.csv', sep = ';', index_col=False, encoding='latin8', na_values=['NSPP', 'rien'])\n",
    "print(df.columns)\n",
    "print(df.shape)    \n",
    "print(df.index)"
   ]
  },
  {
   "cell_type": "code",
   "execution_count": 24,
   "metadata": {},
   "outputs": [
    {
     "data": {
      "text/html": [
       "<div>\n",
       "<style scoped>\n",
       "    .dataframe tbody tr th:only-of-type {\n",
       "        vertical-align: middle;\n",
       "    }\n",
       "\n",
       "    .dataframe tbody tr th {\n",
       "        vertical-align: top;\n",
       "    }\n",
       "\n",
       "    .dataframe thead th {\n",
       "        text-align: right;\n",
       "    }\n",
       "</style>\n",
       "<table border=\"1\" class=\"dataframe\">\n",
       "  <thead>\n",
       "    <tr style=\"text-align: right;\">\n",
       "      <th></th>\n",
       "      <th>Horodateur</th>\n",
       "      <th>Numero questionnaire</th>\n",
       "      <th>Plat 1</th>\n",
       "      <th>Plat 2</th>\n",
       "      <th>garniture</th>\n",
       "      <th>Plat 3</th>\n",
       "      <th>Hors etudiant</th>\n",
       "      <th>Autre</th>\n",
       "      <th>Heure départ</th>\n",
       "      <th>Genre</th>\n",
       "      <th>...</th>\n",
       "      <th>Aspect</th>\n",
       "      <th>Convive 1</th>\n",
       "      <th>Convive 2</th>\n",
       "      <th>Convive 3</th>\n",
       "      <th>Convive 4</th>\n",
       "      <th>Convive 5</th>\n",
       "      <th>Convive 6</th>\n",
       "      <th>Convive 7</th>\n",
       "      <th>Convive 8</th>\n",
       "      <th>Unnamed: 27</th>\n",
       "    </tr>\n",
       "  </thead>\n",
       "  <tbody>\n",
       "    <tr>\n",
       "      <th>0</th>\n",
       "      <td>11:35:32</td>\n",
       "      <td>B23</td>\n",
       "      <td>oeuf mayo</td>\n",
       "      <td>Escalope de porc</td>\n",
       "      <td>pomme de terre</td>\n",
       "      <td>yaourt</td>\n",
       "      <td>NaN</td>\n",
       "      <td>NaN</td>\n",
       "      <td>12:06</td>\n",
       "      <td>Homme</td>\n",
       "      <td>...</td>\n",
       "      <td>4.0</td>\n",
       "      <td>B25</td>\n",
       "      <td>B24</td>\n",
       "      <td>B19</td>\n",
       "      <td>NaN</td>\n",
       "      <td>NaN</td>\n",
       "      <td>NaN</td>\n",
       "      <td>NaN</td>\n",
       "      <td>NaN</td>\n",
       "      <td>NaN</td>\n",
       "    </tr>\n",
       "    <tr>\n",
       "      <th>1</th>\n",
       "      <td>11:36:00</td>\n",
       "      <td>B25</td>\n",
       "      <td>oeuf mayo</td>\n",
       "      <td>Escalope de porc</td>\n",
       "      <td>pomme de terre</td>\n",
       "      <td>tarte chocolat</td>\n",
       "      <td>NaN</td>\n",
       "      <td>NaN</td>\n",
       "      <td>12:06</td>\n",
       "      <td>Homme</td>\n",
       "      <td>...</td>\n",
       "      <td>10.0</td>\n",
       "      <td>B23</td>\n",
       "      <td>B24</td>\n",
       "      <td>NaN</td>\n",
       "      <td>NaN</td>\n",
       "      <td>NaN</td>\n",
       "      <td>NaN</td>\n",
       "      <td>NaN</td>\n",
       "      <td>NaN</td>\n",
       "      <td>NaN</td>\n",
       "    </tr>\n",
       "    <tr>\n",
       "      <th>2</th>\n",
       "      <td>11:38:24</td>\n",
       "      <td>B19</td>\n",
       "      <td>oeuf mayo</td>\n",
       "      <td>Escalope de porc</td>\n",
       "      <td>pomme de terre</td>\n",
       "      <td>tarte chocolat</td>\n",
       "      <td>NaN</td>\n",
       "      <td>NaN</td>\n",
       "      <td>12:10</td>\n",
       "      <td>Homme</td>\n",
       "      <td>...</td>\n",
       "      <td>0.0</td>\n",
       "      <td>B23</td>\n",
       "      <td>B25</td>\n",
       "      <td>B24</td>\n",
       "      <td>NaN</td>\n",
       "      <td>NaN</td>\n",
       "      <td>NaN</td>\n",
       "      <td>NaN</td>\n",
       "      <td>NaN</td>\n",
       "      <td>NaN</td>\n",
       "    </tr>\n",
       "    <tr>\n",
       "      <th>3</th>\n",
       "      <td>11:40:13</td>\n",
       "      <td>B20</td>\n",
       "      <td>oeuf mayo</td>\n",
       "      <td>Escalope de porc</td>\n",
       "      <td>pomme de terre</td>\n",
       "      <td>NaN</td>\n",
       "      <td>NaN</td>\n",
       "      <td>NaN</td>\n",
       "      <td>NaN</td>\n",
       "      <td>NaN</td>\n",
       "      <td>...</td>\n",
       "      <td>NaN</td>\n",
       "      <td>NaN</td>\n",
       "      <td>NaN</td>\n",
       "      <td>NaN</td>\n",
       "      <td>NaN</td>\n",
       "      <td>NaN</td>\n",
       "      <td>NaN</td>\n",
       "      <td>NaN</td>\n",
       "      <td>NaN</td>\n",
       "      <td>NaN</td>\n",
       "    </tr>\n",
       "    <tr>\n",
       "      <th>4</th>\n",
       "      <td>11:40:42</td>\n",
       "      <td>B21</td>\n",
       "      <td>NaN</td>\n",
       "      <td>Escalope de porc</td>\n",
       "      <td>pomme de terre</td>\n",
       "      <td>NaN</td>\n",
       "      <td>NaN</td>\n",
       "      <td>NaN</td>\n",
       "      <td>12:10</td>\n",
       "      <td>Homme</td>\n",
       "      <td>...</td>\n",
       "      <td>7.0</td>\n",
       "      <td>B20</td>\n",
       "      <td>B22</td>\n",
       "      <td>B24</td>\n",
       "      <td>B17</td>\n",
       "      <td>B18</td>\n",
       "      <td>B19</td>\n",
       "      <td>B23</td>\n",
       "      <td>NaN</td>\n",
       "      <td>NaN</td>\n",
       "    </tr>\n",
       "    <tr>\n",
       "      <th>...</th>\n",
       "      <td>...</td>\n",
       "      <td>...</td>\n",
       "      <td>...</td>\n",
       "      <td>...</td>\n",
       "      <td>...</td>\n",
       "      <td>...</td>\n",
       "      <td>...</td>\n",
       "      <td>...</td>\n",
       "      <td>...</td>\n",
       "      <td>...</td>\n",
       "      <td>...</td>\n",
       "      <td>...</td>\n",
       "      <td>...</td>\n",
       "      <td>...</td>\n",
       "      <td>...</td>\n",
       "      <td>...</td>\n",
       "      <td>...</td>\n",
       "      <td>...</td>\n",
       "      <td>...</td>\n",
       "      <td>...</td>\n",
       "      <td>...</td>\n",
       "    </tr>\n",
       "    <tr>\n",
       "      <th>116</th>\n",
       "      <td>12:54:51 PM</td>\n",
       "      <td>A02</td>\n",
       "      <td>NaN</td>\n",
       "      <td>gnocchis pesto (vege)</td>\n",
       "      <td>NaN</td>\n",
       "      <td>fruit</td>\n",
       "      <td>NaN</td>\n",
       "      <td>NaN</td>\n",
       "      <td>13:33</td>\n",
       "      <td>Femme</td>\n",
       "      <td>...</td>\n",
       "      <td>6.0</td>\n",
       "      <td>A01</td>\n",
       "      <td>A03</td>\n",
       "      <td>NaN</td>\n",
       "      <td>NaN</td>\n",
       "      <td>NaN</td>\n",
       "      <td>NaN</td>\n",
       "      <td>NaN</td>\n",
       "      <td>NaN</td>\n",
       "      <td>NaN</td>\n",
       "    </tr>\n",
       "    <tr>\n",
       "      <th>117</th>\n",
       "      <td>12:55:22 PM</td>\n",
       "      <td>A04</td>\n",
       "      <td>NaN</td>\n",
       "      <td>Escalope de porc</td>\n",
       "      <td>pomme de terre</td>\n",
       "      <td>tarte chocolat</td>\n",
       "      <td>NaN</td>\n",
       "      <td>NaN</td>\n",
       "      <td>13:22</td>\n",
       "      <td>Homme</td>\n",
       "      <td>...</td>\n",
       "      <td>4.0</td>\n",
       "      <td>A06</td>\n",
       "      <td>A07</td>\n",
       "      <td>A08</td>\n",
       "      <td>NaN</td>\n",
       "      <td>NaN</td>\n",
       "      <td>NaN</td>\n",
       "      <td>NaN</td>\n",
       "      <td>NaN</td>\n",
       "      <td>NaN</td>\n",
       "    </tr>\n",
       "    <tr>\n",
       "      <th>118</th>\n",
       "      <td>12:55:40 PM</td>\n",
       "      <td>A01</td>\n",
       "      <td>NaN</td>\n",
       "      <td>Escalope de porc</td>\n",
       "      <td>pomme de terre</td>\n",
       "      <td>NaN</td>\n",
       "      <td>NaN</td>\n",
       "      <td>NaN</td>\n",
       "      <td>13:33</td>\n",
       "      <td>Homme</td>\n",
       "      <td>...</td>\n",
       "      <td>5.0</td>\n",
       "      <td>A03</td>\n",
       "      <td>A03</td>\n",
       "      <td>NaN</td>\n",
       "      <td>NaN</td>\n",
       "      <td>NaN</td>\n",
       "      <td>NaN</td>\n",
       "      <td>NaN</td>\n",
       "      <td>NaN</td>\n",
       "      <td>NaN</td>\n",
       "    </tr>\n",
       "    <tr>\n",
       "      <th>119</th>\n",
       "      <td>12:57:05 PM</td>\n",
       "      <td>A10</td>\n",
       "      <td>NaN</td>\n",
       "      <td>NaN</td>\n",
       "      <td>NaN</td>\n",
       "      <td>NaN</td>\n",
       "      <td>Grillades</td>\n",
       "      <td>NaN</td>\n",
       "      <td>NaN</td>\n",
       "      <td>NaN</td>\n",
       "      <td>...</td>\n",
       "      <td>NaN</td>\n",
       "      <td>NaN</td>\n",
       "      <td>NaN</td>\n",
       "      <td>NaN</td>\n",
       "      <td>NaN</td>\n",
       "      <td>NaN</td>\n",
       "      <td>NaN</td>\n",
       "      <td>NaN</td>\n",
       "      <td>NaN</td>\n",
       "      <td>NaN</td>\n",
       "    </tr>\n",
       "    <tr>\n",
       "      <th>120</th>\n",
       "      <td>12:57:26 PM</td>\n",
       "      <td>A11</td>\n",
       "      <td>NaN</td>\n",
       "      <td>NaN</td>\n",
       "      <td>NaN</td>\n",
       "      <td>NaN</td>\n",
       "      <td>Grillades</td>\n",
       "      <td>NaN</td>\n",
       "      <td>NaN</td>\n",
       "      <td>NaN</td>\n",
       "      <td>...</td>\n",
       "      <td>NaN</td>\n",
       "      <td>NaN</td>\n",
       "      <td>NaN</td>\n",
       "      <td>NaN</td>\n",
       "      <td>NaN</td>\n",
       "      <td>NaN</td>\n",
       "      <td>NaN</td>\n",
       "      <td>NaN</td>\n",
       "      <td>NaN</td>\n",
       "      <td>NaN</td>\n",
       "    </tr>\n",
       "  </tbody>\n",
       "</table>\n",
       "<p>121 rows × 28 columns</p>\n",
       "</div>"
      ],
      "text/plain": [
       "      Horodateur Numero questionnaire     Plat 1                 Plat 2  \\\n",
       "0       11:35:32                  B23  oeuf mayo       Escalope de porc   \n",
       "1       11:36:00                  B25  oeuf mayo       Escalope de porc   \n",
       "2       11:38:24                  B19  oeuf mayo       Escalope de porc   \n",
       "3       11:40:13                  B20  oeuf mayo       Escalope de porc   \n",
       "4       11:40:42                  B21        NaN       Escalope de porc   \n",
       "..           ...                  ...        ...                    ...   \n",
       "116  12:54:51 PM                  A02        NaN  gnocchis pesto (vege)   \n",
       "117  12:55:22 PM                  A04        NaN       Escalope de porc   \n",
       "118  12:55:40 PM                  A01        NaN       Escalope de porc   \n",
       "119  12:57:05 PM                  A10        NaN                    NaN   \n",
       "120  12:57:26 PM                  A11        NaN                    NaN   \n",
       "\n",
       "          garniture          Plat 3 Hors etudiant Autre  Heure départ  Genre  \\\n",
       "0    pomme de terre          yaourt           NaN    NaN        12:06  Homme   \n",
       "1    pomme de terre  tarte chocolat           NaN    NaN        12:06  Homme   \n",
       "2    pomme de terre  tarte chocolat           NaN    NaN        12:10  Homme   \n",
       "3    pomme de terre             NaN           NaN    NaN          NaN    NaN   \n",
       "4    pomme de terre             NaN           NaN    NaN        12:10  Homme   \n",
       "..              ...             ...           ...    ...          ...    ...   \n",
       "116             NaN           fruit           NaN    NaN        13:33  Femme   \n",
       "117  pomme de terre  tarte chocolat           NaN    NaN        13:22  Homme   \n",
       "118  pomme de terre             NaN           NaN    NaN        13:33  Homme   \n",
       "119             NaN             NaN     Grillades    NaN          NaN    NaN   \n",
       "120             NaN             NaN     Grillades    NaN          NaN    NaN   \n",
       "\n",
       "     ... Aspect Convive 1  Convive 2 Convive 3 Convive 4 Convive 5  Convive 6  \\\n",
       "0    ...    4.0       B25        B24       B19       NaN       NaN        NaN   \n",
       "1    ...   10.0       B23        B24       NaN       NaN       NaN        NaN   \n",
       "2    ...    0.0       B23        B25       B24       NaN       NaN        NaN   \n",
       "3    ...    NaN       NaN        NaN       NaN       NaN       NaN        NaN   \n",
       "4    ...    7.0       B20        B22       B24       B17       B18        B19   \n",
       "..   ...    ...       ...        ...       ...       ...       ...        ...   \n",
       "116  ...    6.0       A01        A03       NaN       NaN       NaN        NaN   \n",
       "117  ...    4.0       A06        A07       A08       NaN       NaN        NaN   \n",
       "118  ...    5.0       A03        A03       NaN       NaN       NaN        NaN   \n",
       "119  ...    NaN       NaN        NaN       NaN       NaN       NaN        NaN   \n",
       "120  ...    NaN       NaN        NaN       NaN       NaN       NaN        NaN   \n",
       "\n",
       "     Convive 7  Convive 8 Unnamed: 27  \n",
       "0          NaN        NaN         NaN  \n",
       "1          NaN        NaN         NaN  \n",
       "2          NaN        NaN         NaN  \n",
       "3          NaN        NaN         NaN  \n",
       "4          B23        NaN         NaN  \n",
       "..         ...        ...         ...  \n",
       "116        NaN        NaN         NaN  \n",
       "117        NaN        NaN         NaN  \n",
       "118        NaN        NaN         NaN  \n",
       "119        NaN        NaN         NaN  \n",
       "120        NaN        NaN         NaN  \n",
       "\n",
       "[121 rows x 28 columns]"
      ]
     },
     "execution_count": 24,
     "metadata": {},
     "output_type": "execute_result"
    }
   ],
   "source": [
    "df"
   ]
  },
  {
   "cell_type": "markdown",
   "metadata": {},
   "source": [
    "Regardons les tables précédantes pour uniformiser au maximum les colonnes."
   ]
  },
  {
   "cell_type": "code",
   "execution_count": 25,
   "metadata": {
    "pycharm": {
     "name": "#%%\n"
    }
   },
   "outputs": [
    {
     "name": "stdout",
     "output_type": "stream",
     "text": [
      "Index(['Horodateur', 'Numéro de formulaire ', 'ENTREE',\n",
      "       'Prise en double de l'entrée ', 'PLAT ', 'DESSERT',\n",
      "       'Prise en double du dessert'],\n",
      "      dtype='object')\n",
      "(131, 7)\n",
      "RangeIndex(start=0, stop=131, step=1)\n"
     ]
    }
   ],
   "source": [
    "\n",
    "df_0 = pd.read_csv('data_CROUS/data/Resultats_choix_21_octobre.csv', sep = ';', index_col=False)\n",
    "print(df_0.columns) #Index(['Horodateur', 'Numéro de formulaire ', 'ENTREE','Prise en double de l'entrée ', 'PLAT ', 'DESSERT','Prise en double du dessert'],dtype='object')\n",
    "print(df_0.shape)    \n",
    "print(df_0.index)"
   ]
  },
  {
   "cell_type": "markdown",
   "metadata": {},
   "source": [
    "## Plats"
   ]
  },
  {
   "cell_type": "markdown",
   "metadata": {},
   "source": [
    "### Gestion des colonnes annexes"
   ]
  },
  {
   "cell_type": "code",
   "execution_count": 26,
   "metadata": {},
   "outputs": [
    {
     "name": "stdout",
     "output_type": "stream",
     "text": [
      "[nan 'Grillades' 'Pizza']\n",
      "[nan 'Part pizza en entree ' 'En plat : frites ' 'Pizza entree'\n",
      " 'Burger et frites' '3 yaourts ']\n"
     ]
    }
   ],
   "source": [
    "print(df['Hors etudiant'].unique())\n",
    "print(df['Autre '].unique())\n",
    "#print(df['Autre Ã©ventuellement'].unique())"
   ]
  },
  {
   "cell_type": "code",
   "execution_count": 27,
   "metadata": {},
   "outputs": [
    {
     "name": "stdout",
     "output_type": "stream",
     "text": [
      "Pizza OK\n",
      "Grillades OK\n",
      "En plat : frites   OK\n",
      "Burger et frites  OK\n",
      "Part pizza en entree   OK\n",
      "Pizza entree  OK\n",
      "3 yaourts  OK\n"
     ]
    }
   ],
   "source": [
    "df.loc[np.where(df['Hors etudiant'] == 'Pizza')[0],['Plat 2']] = 'Pizza'\n",
    "print('Pizza OK')\n",
    "\n",
    "df.loc[np.where(df['Hors etudiant'] == 'Grillades')[0],['Plat 2']] = 'Grillades'\n",
    "print('Grillades OK')\n",
    "\n",
    "#for autre in ['Burger', 'Frites salade', 'Burger frites', 'Burger frites ']:\n",
    "#    df.loc[np.where(df['Autre Ã©ventuellement'] == autre)[0],['Plat 2']] = autre\n",
    "#    print(autre, ' OK')\n",
    "\n",
    "for autre in ['En plat : frites ', 'Burger et frites']:\n",
    "    df.loc[np.where(df['Autre '] == autre)[0],['Plat 2']] = autre\n",
    "    print(autre, ' OK')\n",
    "    \n",
    "for autre in ['Part pizza en entree ', 'Pizza entree']:\n",
    "    df.loc[np.where(df['Autre '] == autre)[0],['Plat 1']] = autre\n",
    "    print(autre, ' OK')\n",
    "    \n",
    "df.loc[np.where(df['Autre '] == '3 yaourts ')[0],['Plat 3']] = 'yaourt + yaourt + yaourt'\n",
    "print('3 yaourts  OK')"
   ]
  },
  {
   "cell_type": "markdown",
   "metadata": {},
   "source": [
    "### Mise en forme des noms des plats"
   ]
  },
  {
   "cell_type": "markdown",
   "metadata": {
    "pycharm": {
     "name": "#%% md\n"
    }
   },
   "source": [
    "Pour commencer, regardons un peu la distribution des différents plats qui ont été choisis. "
   ]
  },
  {
   "cell_type": "code",
   "execution_count": 28,
   "metadata": {
    "pycharm": {
     "name": "#%%\n"
    }
   },
   "outputs": [
    {
     "name": "stdout",
     "output_type": "stream",
     "text": [
      "8\n",
      "Escalope de porc         53\n",
      "tarte saumon             29\n",
      "gnocchis pesto (vege)    18\n",
      "Grillades                12\n",
      "Pizza                     3\n",
      "En plat : frites          1\n",
      "Burger et frites          1\n",
      "Name: Plat 2, dtype: int64\n"
     ]
    },
    {
     "data": {
      "text/plain": [
       "array(['Escalope de porc', 'Grillades', 'tarte saumon', nan,\n",
       "       'En plat : frites ', 'Pizza', 'gnocchis pesto (vege)',\n",
       "       'Burger et frites'], dtype=object)"
      ]
     },
     "execution_count": 28,
     "metadata": {},
     "output_type": "execute_result"
    }
   ],
   "source": [
    "# NB : \n",
    "# print(type(df['PLAT '])) # <class 'pandas.core.series.Series'> \n",
    "# print(type(df[['PLAT ']])) # <class 'pandas.core.frame.DataFrame'>\n",
    "\n",
    "print(len(df['Plat 2'].unique())) # Combien de plats possibles ? --> 11 plats différents \n",
    "print(df['Plat 2'].value_counts()) # Quel sont-ils ? \n",
    "df['Plat 2'].unique()"
   ]
  },
  {
   "cell_type": "markdown",
   "metadata": {
    "pycharm": {
     "name": "#%% md\n"
    }
   },
   "source": [
    "On observe qu'une mise en forme va être nécéssaire. En effet, dans les fichier d'Octobre le plat est séparé en différents élements (viande, féculents, légumes)."
   ]
  },
  {
   "cell_type": "code",
   "execution_count": 29,
   "metadata": {},
   "outputs": [],
   "source": [
    "#df['Plat 2'] = df['Plat 2'].replace('Chipo semoule', 'Chipo + semoule', regex = True)\n",
    "#df['Plat 2'] = df['Plat 2'].replace('Cabillaud semoule', 'Cabillaud + semoule', regex = True)\n",
    "#df['Plat 2'] = df['Plat 2'].replace('Burger frites', 'Burger + frites', regex = True)\n",
    "#df['Plat 2'] = df['Plat 2'].replace('Burger frites ', 'Burger + frites', regex = True)\n",
    "#df['Plat 2'] = df['Plat 2'].replace('Frites salade', 'Frites + salade', regex = True)"
   ]
  },
  {
   "cell_type": "code",
   "execution_count": 30,
   "metadata": {},
   "outputs": [],
   "source": [
    "df['Plat 2'] = df['Plat 2'].replace('En plat : frites ', 'frites', regex = True)\n",
    "df['Plat 2'] = df['Plat 2'].replace('Burger et frites', 'Burger + frites', regex = True)\n",
    "df['Plat 2'] = df['Plat 2'].replace(['\\(', '\\)'], '', regex = True)"
   ]
  },
  {
   "cell_type": "code",
   "execution_count": 31,
   "metadata": {},
   "outputs": [
    {
     "data": {
      "text/plain": [
       "array(['Escalope de porc', 'Grillades', 'tarte saumon', nan, 'frites',\n",
       "       'Pizza', 'gnocchis pesto vege', 'Burger + frites'], dtype=object)"
      ]
     },
     "execution_count": 31,
     "metadata": {},
     "output_type": "execute_result"
    }
   ],
   "source": [
    "df['Plat 2'].unique()"
   ]
  },
  {
   "cell_type": "markdown",
   "metadata": {},
   "source": [
    "Pour le **fichier Lieu De Vie** (LDV) on a une colonne supplémentaire `garniture`."
   ]
  },
  {
   "cell_type": "code",
   "execution_count": 32,
   "metadata": {},
   "outputs": [
    {
     "data": {
      "text/plain": [
       "array(['pomme de terre', nan, 'Les 2', 'poelee meridionale'], dtype=object)"
      ]
     },
     "execution_count": 32,
     "metadata": {},
     "output_type": "execute_result"
    }
   ],
   "source": [
    "df['garniture'].unique()"
   ]
  },
  {
   "cell_type": "code",
   "execution_count": 33,
   "metadata": {},
   "outputs": [
    {
     "name": "stderr",
     "output_type": "stream",
     "text": [
      "C:\\Anaconda\\lib\\site-packages\\ipykernel_launcher.py:3: SettingWithCopyWarning: \n",
      "A value is trying to be set on a copy of a slice from a DataFrame\n",
      "\n",
      "See the caveats in the documentation: https://pandas.pydata.org/pandas-docs/stable/user_guide/indexing.html#returning-a-view-versus-a-copy\n",
      "  This is separate from the ipykernel package so we can avoid doing imports until\n"
     ]
    }
   ],
   "source": [
    "df['garniture'] = df['garniture'].replace('Les 2', 'pomme de terre + poelee meridionale', regex = True)\n",
    "\n",
    "df['Plat 2'][df['garniture'].notna()] = df['Plat 2'][df['garniture'].notna()] + ' + ' + df['garniture'][df['garniture'].notna()]"
   ]
  },
  {
   "cell_type": "code",
   "execution_count": 34,
   "metadata": {},
   "outputs": [
    {
     "data": {
      "text/plain": [
       "array(['Escalope de porc + pomme de terre', 'Grillades',\n",
       "       'tarte saumon + pomme de terre',\n",
       "       'tarte saumon + pomme de terre + poelee meridionale', nan,\n",
       "       'Escalope de porc + pomme de terre + poelee meridionale', 'frites',\n",
       "       'Pizza', 'Escalope de porc + poelee meridionale',\n",
       "       'gnocchis pesto vege', 'gnocchis pesto vege + pomme de terre',\n",
       "       'Escalope de porc', 'tarte saumon + poelee meridionale',\n",
       "       'Burger + frites'], dtype=object)"
      ]
     },
     "execution_count": 34,
     "metadata": {},
     "output_type": "execute_result"
    }
   ],
   "source": [
    "df['Plat 2'].unique()"
   ]
  },
  {
   "cell_type": "markdown",
   "metadata": {},
   "source": [
    "Puis pour standardiser les données nous enlevons les espaces et les majuscules."
   ]
  },
  {
   "cell_type": "code",
   "execution_count": 35,
   "metadata": {
    "pycharm": {
     "name": "#%%\n"
    }
   },
   "outputs": [
    {
     "name": "stdout",
     "output_type": "stream",
     "text": [
      "0      Escalopedeporc+pommedeterre\n",
      "1      Escalopedeporc+pommedeterre\n",
      "2      Escalopedeporc+pommedeterre\n",
      "3      Escalopedeporc+pommedeterre\n",
      "4      Escalopedeporc+pommedeterre\n",
      "                  ...             \n",
      "116              gnocchispestovege\n",
      "117    Escalopedeporc+pommedeterre\n",
      "118    Escalopedeporc+pommedeterre\n",
      "119                      Grillades\n",
      "120                      Grillades\n",
      "Name: Plat 2, Length: 121, dtype: object\n",
      "14\n",
      "Escalopedeporc+pommedeterre                      34\n",
      "tartesaumon+pommedeterre                         20\n",
      "Escalopedeporc+pommedeterre+poeleemeridionale    17\n",
      "gnocchispestovege                                16\n",
      "Grillades                                        12\n",
      "tartesaumon+pommedeterre+poeleemeridionale        8\n",
      "Pizza                                             3\n",
      "gnocchispestovege+pommedeterre                    2\n",
      "frites                                            1\n",
      "Escalopedeporc+poeleemeridionale                  1\n",
      "Escalopedeporc                                    1\n",
      "tartesaumon+poeleemeridionale                     1\n",
      "Burger+frites                                     1\n",
      "Name: Plat 2, dtype: int64\n"
     ]
    },
    {
     "data": {
      "text/plain": [
       "array(['Escalopedeporc+pommedeterre', 'Grillades',\n",
       "       'tartesaumon+pommedeterre',\n",
       "       'tartesaumon+pommedeterre+poeleemeridionale', nan,\n",
       "       'Escalopedeporc+pommedeterre+poeleemeridionale', 'frites', 'Pizza',\n",
       "       'Escalopedeporc+poeleemeridionale', 'gnocchispestovege',\n",
       "       'gnocchispestovege+pommedeterre', 'Escalopedeporc',\n",
       "       'tartesaumon+poeleemeridionale', 'Burger+frites'], dtype=object)"
      ]
     },
     "execution_count": 35,
     "metadata": {},
     "output_type": "execute_result"
    }
   ],
   "source": [
    "# Enlevons tous les espaces:\n",
    "df['Plat 2'] = df['Plat 2'].replace(' ', '', regex = True)\n",
    "print(df['Plat 2'])\n",
    "\n",
    "# On obtient alors \n",
    "print(len(df['Plat 2'].unique())) # Combien de plats possibles ? --> 13 plats differents \n",
    "print(df['Plat 2'].value_counts()) # Quel sont-ils ? \n",
    "\n",
    "df['Plat 2'].unique()"
   ]
  },
  {
   "cell_type": "markdown",
   "metadata": {
    "pycharm": {
     "name": "#%% md\n"
    }
   },
   "source": [
    "De plus, on observe qu'à cause d'un problème de casse, \"FeuilletéSaumonoseille+Torsades+Poeléebrocolis \" et \"FeuilletéSaumonoseille+Torsades+PoeléeBrocolis\" sont considérés comme 2 plats differents "
   ]
  },
  {
   "cell_type": "code",
   "execution_count": 36,
   "metadata": {
    "pycharm": {
     "name": "#%%\n"
    }
   },
   "outputs": [
    {
     "name": "stdout",
     "output_type": "stream",
     "text": [
      "14\n",
      "escalopedeporc+pommedeterre                      34\n",
      "tartesaumon+pommedeterre                         20\n",
      "escalopedeporc+pommedeterre+poeleemeridionale    17\n",
      "gnocchispestovege                                16\n",
      "grillades                                        12\n",
      "tartesaumon+pommedeterre+poeleemeridionale        8\n",
      "pizza                                             3\n",
      "gnocchispestovege+pommedeterre                    2\n",
      "frites                                            1\n",
      "escalopedeporc+poeleemeridionale                  1\n",
      "escalopedeporc                                    1\n",
      "tartesaumon+poeleemeridionale                     1\n",
      "burger+frites                                     1\n",
      "Name: Plat 2, dtype: int64\n"
     ]
    },
    {
     "data": {
      "text/plain": [
       "array(['escalopedeporc+pommedeterre', 'grillades',\n",
       "       'tartesaumon+pommedeterre',\n",
       "       'tartesaumon+pommedeterre+poeleemeridionale', nan,\n",
       "       'escalopedeporc+pommedeterre+poeleemeridionale', 'frites', 'pizza',\n",
       "       'escalopedeporc+poeleemeridionale', 'gnocchispestovege',\n",
       "       'gnocchispestovege+pommedeterre', 'escalopedeporc',\n",
       "       'tartesaumon+poeleemeridionale', 'burger+frites'], dtype=object)"
      ]
     },
     "execution_count": 36,
     "metadata": {},
     "output_type": "execute_result"
    }
   ],
   "source": [
    "# --> on enlève la casse \n",
    "df['Plat 2'] = df['Plat 2'].str.lower()\n",
    "# On recommence et on obtient alors :\n",
    "print(len(df['Plat 2'].unique())) \n",
    "print(df['Plat 2'].value_counts()) \n",
    "df['Plat 2'].unique()"
   ]
  },
  {
   "cell_type": "markdown",
   "metadata": {},
   "source": [
    "Les lignes où il n'y a pratiquement que des valeurs anquantes sont à supprimer :"
   ]
  },
  {
   "cell_type": "code",
   "execution_count": 37,
   "metadata": {},
   "outputs": [
    {
     "data": {
      "text/html": [
       "<div>\n",
       "<style scoped>\n",
       "    .dataframe tbody tr th:only-of-type {\n",
       "        vertical-align: middle;\n",
       "    }\n",
       "\n",
       "    .dataframe tbody tr th {\n",
       "        vertical-align: top;\n",
       "    }\n",
       "\n",
       "    .dataframe thead th {\n",
       "        text-align: right;\n",
       "    }\n",
       "</style>\n",
       "<table border=\"1\" class=\"dataframe\">\n",
       "  <thead>\n",
       "    <tr style=\"text-align: right;\">\n",
       "      <th></th>\n",
       "      <th>Horodateur</th>\n",
       "      <th>Numero questionnaire</th>\n",
       "      <th>Plat 1</th>\n",
       "      <th>Plat 2</th>\n",
       "      <th>garniture</th>\n",
       "      <th>Plat 3</th>\n",
       "      <th>Hors etudiant</th>\n",
       "      <th>Autre</th>\n",
       "      <th>Heure départ</th>\n",
       "      <th>Genre</th>\n",
       "      <th>...</th>\n",
       "      <th>Aspect</th>\n",
       "      <th>Convive 1</th>\n",
       "      <th>Convive 2</th>\n",
       "      <th>Convive 3</th>\n",
       "      <th>Convive 4</th>\n",
       "      <th>Convive 5</th>\n",
       "      <th>Convive 6</th>\n",
       "      <th>Convive 7</th>\n",
       "      <th>Convive 8</th>\n",
       "      <th>Unnamed: 27</th>\n",
       "    </tr>\n",
       "  </thead>\n",
       "  <tbody>\n",
       "    <tr>\n",
       "      <th>18</th>\n",
       "      <td>11:50:24</td>\n",
       "      <td>B11</td>\n",
       "      <td>oeuf mayo</td>\n",
       "      <td>NaN</td>\n",
       "      <td>NaN</td>\n",
       "      <td>NaN</td>\n",
       "      <td>NaN</td>\n",
       "      <td>NaN</td>\n",
       "      <td>12:03</td>\n",
       "      <td>Homme</td>\n",
       "      <td>...</td>\n",
       "      <td>8.0</td>\n",
       "      <td>NaN</td>\n",
       "      <td>NaN</td>\n",
       "      <td>NaN</td>\n",
       "      <td>NaN</td>\n",
       "      <td>NaN</td>\n",
       "      <td>NaN</td>\n",
       "      <td>NaN</td>\n",
       "      <td>NaN</td>\n",
       "      <td>NaN</td>\n",
       "    </tr>\n",
       "    <tr>\n",
       "      <th>65</th>\n",
       "      <td>12:35:09 PM</td>\n",
       "      <td>A62</td>\n",
       "      <td>betteraves pommes echalotes</td>\n",
       "      <td>NaN</td>\n",
       "      <td>NaN</td>\n",
       "      <td>NaN</td>\n",
       "      <td>NaN</td>\n",
       "      <td>NaN</td>\n",
       "      <td>12:48</td>\n",
       "      <td>Homme</td>\n",
       "      <td>...</td>\n",
       "      <td>6.0</td>\n",
       "      <td>A61</td>\n",
       "      <td>A60</td>\n",
       "      <td>NaN</td>\n",
       "      <td>NaN</td>\n",
       "      <td>NaN</td>\n",
       "      <td>NaN</td>\n",
       "      <td>NaN</td>\n",
       "      <td>NaN</td>\n",
       "      <td>NaN</td>\n",
       "    </tr>\n",
       "    <tr>\n",
       "      <th>79</th>\n",
       "      <td>12:41:01 PM</td>\n",
       "      <td>A37</td>\n",
       "      <td>NaN</td>\n",
       "      <td>NaN</td>\n",
       "      <td>pomme de terre + poelee meridionale</td>\n",
       "      <td>fromage</td>\n",
       "      <td>NaN</td>\n",
       "      <td>NaN</td>\n",
       "      <td>NaN</td>\n",
       "      <td>NaN</td>\n",
       "      <td>...</td>\n",
       "      <td>NaN</td>\n",
       "      <td>NaN</td>\n",
       "      <td>NaN</td>\n",
       "      <td>NaN</td>\n",
       "      <td>NaN</td>\n",
       "      <td>NaN</td>\n",
       "      <td>NaN</td>\n",
       "      <td>NaN</td>\n",
       "      <td>NaN</td>\n",
       "      <td>NaN</td>\n",
       "    </tr>\n",
       "    <tr>\n",
       "      <th>102</th>\n",
       "      <td>12:49:36 PM</td>\n",
       "      <td>A19</td>\n",
       "      <td>NaN</td>\n",
       "      <td>NaN</td>\n",
       "      <td>pomme de terre</td>\n",
       "      <td>yaourt</td>\n",
       "      <td>NaN</td>\n",
       "      <td>NaN</td>\n",
       "      <td>13:26</td>\n",
       "      <td>Homme</td>\n",
       "      <td>...</td>\n",
       "      <td>5.0</td>\n",
       "      <td>A22</td>\n",
       "      <td>A17</td>\n",
       "      <td>A21</td>\n",
       "      <td>A15</td>\n",
       "      <td>A18</td>\n",
       "      <td>A14</td>\n",
       "      <td>A16</td>\n",
       "      <td>A20</td>\n",
       "      <td>A13</td>\n",
       "    </tr>\n",
       "  </tbody>\n",
       "</table>\n",
       "<p>4 rows × 28 columns</p>\n",
       "</div>"
      ],
      "text/plain": [
       "      Horodateur Numero questionnaire                       Plat 1 Plat 2  \\\n",
       "18      11:50:24                  B11                    oeuf mayo    NaN   \n",
       "65   12:35:09 PM                  A62  betteraves pommes echalotes    NaN   \n",
       "79   12:41:01 PM                  A37                          NaN    NaN   \n",
       "102  12:49:36 PM                  A19                          NaN    NaN   \n",
       "\n",
       "                               garniture   Plat 3 Hors etudiant Autre   \\\n",
       "18                                   NaN      NaN           NaN    NaN   \n",
       "65                                   NaN      NaN           NaN    NaN   \n",
       "79   pomme de terre + poelee meridionale  fromage           NaN    NaN   \n",
       "102                       pomme de terre   yaourt           NaN    NaN   \n",
       "\n",
       "    Heure départ  Genre  ... Aspect Convive 1  Convive 2 Convive 3 Convive 4  \\\n",
       "18         12:03  Homme  ...    8.0       NaN        NaN       NaN       NaN   \n",
       "65         12:48  Homme  ...    6.0       A61        A60       NaN       NaN   \n",
       "79           NaN    NaN  ...    NaN       NaN        NaN       NaN       NaN   \n",
       "102        13:26  Homme  ...    5.0       A22        A17       A21       A15   \n",
       "\n",
       "    Convive 5  Convive 6  Convive 7  Convive 8 Unnamed: 27  \n",
       "18        NaN        NaN        NaN        NaN         NaN  \n",
       "65        NaN        NaN        NaN        NaN         NaN  \n",
       "79        NaN        NaN        NaN        NaN         NaN  \n",
       "102       A18        A14        A16        A20         A13  \n",
       "\n",
       "[4 rows x 28 columns]"
      ]
     },
     "execution_count": 37,
     "metadata": {},
     "output_type": "execute_result"
    }
   ],
   "source": [
    "df.loc[np.where(df['Plat 2'].isnull())[0],:]"
   ]
  },
  {
   "cell_type": "code",
   "execution_count": 38,
   "metadata": {},
   "outputs": [
    {
     "data": {
      "text/plain": [
       "array([79], dtype=int64)"
      ]
     },
     "execution_count": 38,
     "metadata": {},
     "output_type": "execute_result"
    }
   ],
   "source": [
    "np.where(df['Plat 2'].isnull() * df['Genre'].isnull())[0]"
   ]
  },
  {
   "cell_type": "code",
   "execution_count": 39,
   "metadata": {},
   "outputs": [],
   "source": [
    "df = df.drop(index = np.where(df['Plat 2'].isnull() * df['Genre'].isnull())[0])"
   ]
  },
  {
   "cell_type": "code",
   "execution_count": 40,
   "metadata": {},
   "outputs": [
    {
     "data": {
      "text/html": [
       "<div>\n",
       "<style scoped>\n",
       "    .dataframe tbody tr th:only-of-type {\n",
       "        vertical-align: middle;\n",
       "    }\n",
       "\n",
       "    .dataframe tbody tr th {\n",
       "        vertical-align: top;\n",
       "    }\n",
       "\n",
       "    .dataframe thead th {\n",
       "        text-align: right;\n",
       "    }\n",
       "</style>\n",
       "<table border=\"1\" class=\"dataframe\">\n",
       "  <thead>\n",
       "    <tr style=\"text-align: right;\">\n",
       "      <th></th>\n",
       "      <th>Horodateur</th>\n",
       "      <th>Numero questionnaire</th>\n",
       "      <th>Plat 1</th>\n",
       "      <th>Plat 2</th>\n",
       "      <th>garniture</th>\n",
       "      <th>Plat 3</th>\n",
       "      <th>Hors etudiant</th>\n",
       "      <th>Autre</th>\n",
       "      <th>Heure départ</th>\n",
       "      <th>Genre</th>\n",
       "      <th>...</th>\n",
       "      <th>Aspect</th>\n",
       "      <th>Convive 1</th>\n",
       "      <th>Convive 2</th>\n",
       "      <th>Convive 3</th>\n",
       "      <th>Convive 4</th>\n",
       "      <th>Convive 5</th>\n",
       "      <th>Convive 6</th>\n",
       "      <th>Convive 7</th>\n",
       "      <th>Convive 8</th>\n",
       "      <th>Unnamed: 27</th>\n",
       "    </tr>\n",
       "  </thead>\n",
       "  <tbody>\n",
       "    <tr>\n",
       "      <th>18</th>\n",
       "      <td>11:50:24</td>\n",
       "      <td>B11</td>\n",
       "      <td>oeuf mayo</td>\n",
       "      <td>NaN</td>\n",
       "      <td>NaN</td>\n",
       "      <td>NaN</td>\n",
       "      <td>NaN</td>\n",
       "      <td>NaN</td>\n",
       "      <td>12:03</td>\n",
       "      <td>Homme</td>\n",
       "      <td>...</td>\n",
       "      <td>8.0</td>\n",
       "      <td>NaN</td>\n",
       "      <td>NaN</td>\n",
       "      <td>NaN</td>\n",
       "      <td>NaN</td>\n",
       "      <td>NaN</td>\n",
       "      <td>NaN</td>\n",
       "      <td>NaN</td>\n",
       "      <td>NaN</td>\n",
       "      <td>NaN</td>\n",
       "    </tr>\n",
       "    <tr>\n",
       "      <th>65</th>\n",
       "      <td>12:35:09 PM</td>\n",
       "      <td>A62</td>\n",
       "      <td>betteraves pommes echalotes</td>\n",
       "      <td>NaN</td>\n",
       "      <td>NaN</td>\n",
       "      <td>NaN</td>\n",
       "      <td>NaN</td>\n",
       "      <td>NaN</td>\n",
       "      <td>12:48</td>\n",
       "      <td>Homme</td>\n",
       "      <td>...</td>\n",
       "      <td>6.0</td>\n",
       "      <td>A61</td>\n",
       "      <td>A60</td>\n",
       "      <td>NaN</td>\n",
       "      <td>NaN</td>\n",
       "      <td>NaN</td>\n",
       "      <td>NaN</td>\n",
       "      <td>NaN</td>\n",
       "      <td>NaN</td>\n",
       "      <td>NaN</td>\n",
       "    </tr>\n",
       "    <tr>\n",
       "      <th>101</th>\n",
       "      <td>12:49:36 PM</td>\n",
       "      <td>A19</td>\n",
       "      <td>NaN</td>\n",
       "      <td>NaN</td>\n",
       "      <td>pomme de terre</td>\n",
       "      <td>yaourt</td>\n",
       "      <td>NaN</td>\n",
       "      <td>NaN</td>\n",
       "      <td>13:26</td>\n",
       "      <td>Homme</td>\n",
       "      <td>...</td>\n",
       "      <td>5.0</td>\n",
       "      <td>A22</td>\n",
       "      <td>A17</td>\n",
       "      <td>A21</td>\n",
       "      <td>A15</td>\n",
       "      <td>A18</td>\n",
       "      <td>A14</td>\n",
       "      <td>A16</td>\n",
       "      <td>A20</td>\n",
       "      <td>A13</td>\n",
       "    </tr>\n",
       "  </tbody>\n",
       "</table>\n",
       "<p>3 rows × 28 columns</p>\n",
       "</div>"
      ],
      "text/plain": [
       "      Horodateur Numero questionnaire                       Plat 1 Plat 2  \\\n",
       "18      11:50:24                  B11                    oeuf mayo    NaN   \n",
       "65   12:35:09 PM                  A62  betteraves pommes echalotes    NaN   \n",
       "101  12:49:36 PM                  A19                          NaN    NaN   \n",
       "\n",
       "          garniture  Plat 3 Hors etudiant Autre  Heure départ  Genre  ...  \\\n",
       "18              NaN     NaN           NaN    NaN        12:03  Homme  ...   \n",
       "65              NaN     NaN           NaN    NaN        12:48  Homme  ...   \n",
       "101  pomme de terre  yaourt           NaN    NaN        13:26  Homme  ...   \n",
       "\n",
       "    Aspect Convive 1  Convive 2 Convive 3 Convive 4 Convive 5  Convive 6  \\\n",
       "18     8.0       NaN        NaN       NaN       NaN       NaN        NaN   \n",
       "65     6.0       A61        A60       NaN       NaN       NaN        NaN   \n",
       "101    5.0       A22        A17       A21       A15       A18        A14   \n",
       "\n",
       "     Convive 7  Convive 8 Unnamed: 27  \n",
       "18         NaN        NaN         NaN  \n",
       "65         NaN        NaN         NaN  \n",
       "101        A16        A20         A13  \n",
       "\n",
       "[3 rows x 28 columns]"
      ]
     },
     "execution_count": 40,
     "metadata": {},
     "output_type": "execute_result"
    }
   ],
   "source": [
    "df.reset_index(drop = True, inplace = True)\n",
    "df.loc[np.where(df['Plat 2'].isnull())[0],:]"
   ]
  },
  {
   "cell_type": "markdown",
   "metadata": {},
   "source": [
    "## Entrées"
   ]
  },
  {
   "cell_type": "markdown",
   "metadata": {
    "pycharm": {
     "name": "#%% md\n"
    }
   },
   "source": [
    "Voyons maintenant pour la colonne \"ENTREE\""
   ]
  },
  {
   "cell_type": "code",
   "execution_count": 41,
   "metadata": {
    "pycharm": {
     "name": "#%%\n"
    }
   },
   "outputs": [
    {
     "name": "stdout",
     "output_type": "stream",
     "text": [
      "7\n",
      "oeuf mayo                      13\n",
      "betteraves pommes echalotes     9\n",
      "salade pomme de terre           6\n",
      "Tomates                         5\n",
      "Part pizza en entree            1\n",
      "Pizza entree                    1\n",
      "Name: Plat 1, dtype: int64\n"
     ]
    },
    {
     "data": {
      "text/plain": [
       "array(['oeuf mayo', nan, 'betteraves pommes echalotes',\n",
       "       'Part pizza en entree ', 'Tomates', 'Pizza entree',\n",
       "       'salade pomme de terre'], dtype=object)"
      ]
     },
     "execution_count": 41,
     "metadata": {},
     "output_type": "execute_result"
    }
   ],
   "source": [
    "print(len(df['Plat 1'].unique())) \n",
    "print(df['Plat 1'].value_counts()) \n",
    "df['Plat 1'].unique()"
   ]
  },
  {
   "cell_type": "code",
   "execution_count": 42,
   "metadata": {},
   "outputs": [
    {
     "data": {
      "text/plain": [
       "array(['oeuf mayo', nan, 'betteraves pommes echalotes', 'pizzaentree',\n",
       "       'Tomates', 'salade pomme de terre'], dtype=object)"
      ]
     },
     "execution_count": 42,
     "metadata": {},
     "output_type": "execute_result"
    }
   ],
   "source": [
    "df['Plat 1'] = df['Plat 1'].replace('Part pizza en entree ', 'pizzaentree', regex = True)\n",
    "df['Plat 1'] = df['Plat 1'].replace('Pizza entree', 'pizzaentree', regex = True)\n",
    "df['Plat 1'].unique()"
   ]
  },
  {
   "cell_type": "markdown",
   "metadata": {
    "pycharm": {
     "name": "#%% md\n"
    }
   },
   "source": [
    "Pas d'erreurs en particulier...  \n",
    "Nous allons tout de même suppprimer les espaces et mettre en lower case pour standaradiser avec les autres fichiers."
   ]
  },
  {
   "cell_type": "code",
   "execution_count": 43,
   "metadata": {
    "pycharm": {
     "name": "#%%\n"
    }
   },
   "outputs": [
    {
     "name": "stdout",
     "output_type": "stream",
     "text": [
      "6\n",
      "oeufmayo                     13\n",
      "betteravespommesechalotes     9\n",
      "saladepommedeterre            6\n",
      "tomates                       5\n",
      "pizzaentree                   2\n",
      "Name: Plat 1, dtype: int64\n"
     ]
    }
   ],
   "source": [
    "# Enlevons tous les espaces et les apostrophes \n",
    "df['Plat 1'] = df['Plat 1'].replace(' ', '', regex = True)\n",
    "df['Plat 1'] = df['Plat 1'].replace(\"'\", '', regex = True)\n",
    "# --> on enlève la casse \n",
    "df['Plat 1'] = df['Plat 1'].str.lower()\n",
    "print(len(df['Plat 1'].unique())) \n",
    "print(df['Plat 1'].value_counts()) "
   ]
  },
  {
   "cell_type": "markdown",
   "metadata": {},
   "source": [
    "## Desserts"
   ]
  },
  {
   "cell_type": "markdown",
   "metadata": {
    "pycharm": {
     "name": "#%% md\n"
    }
   },
   "source": [
    "Voyons maintenant pour la colonne 'DESSERTS'"
   ]
  },
  {
   "cell_type": "code",
   "execution_count": 44,
   "metadata": {
    "pycharm": {
     "name": "#%%\n"
    }
   },
   "outputs": [
    {
     "name": "stdout",
     "output_type": "stream",
     "text": [
      "8\n",
      "yaourt                      33\n",
      "tarte chocolat              22\n",
      "fruit                       18\n",
      "peche au sirop               5\n",
      "fromage                      3\n",
      "Madeleine                    2\n",
      "yaourt + yaourt + yaourt     1\n",
      "Name: Plat 3, dtype: int64\n"
     ]
    }
   ],
   "source": [
    "print(len(df['Plat 3'].unique())) \n",
    "print(df['Plat 3'].value_counts())"
   ]
  },
  {
   "cell_type": "code",
   "execution_count": 45,
   "metadata": {
    "pycharm": {
     "name": "#%%\n"
    }
   },
   "outputs": [],
   "source": [
    "# Enlevons tous les espaces et les apostrophes \n",
    "df['Plat 3'] = df['Plat 3'].replace(' ', '', regex = True)\n",
    "df['Plat 3'] = df['Plat 3'].replace(\"'\", '', regex = True)\n",
    "\n",
    "df['Plat 3'] = df['Plat 3'].replace(\"\\/\", '', regex = True)\n",
    "# --> on enlève la casse \n",
    "df['Plat 3'] = df['Plat 3'].str.lower()\n"
   ]
  },
  {
   "cell_type": "markdown",
   "metadata": {
    "pycharm": {
     "name": "#%% md\n"
    }
   },
   "source": [
    "On y voit plus clair --> S'il y a des erreurs de frappes / d'enregistrements, on sera plus à meme de le voir.  "
   ]
  },
  {
   "cell_type": "code",
   "execution_count": 46,
   "metadata": {
    "pycharm": {
     "name": "#%%\n"
    }
   },
   "outputs": [
    {
     "name": "stdout",
     "output_type": "stream",
     "text": [
      "8\n",
      "yaourt                  33\n",
      "tartechocolat           22\n",
      "fruit                   18\n",
      "pecheausirop             5\n",
      "fromage                  3\n",
      "madeleine                2\n",
      "yaourt+yaourt+yaourt     1\n",
      "Name: Plat 3, dtype: int64\n"
     ]
    }
   ],
   "source": [
    "print(len(df['Plat 3'].unique())) \n",
    "print(df['Plat 3'].value_counts())"
   ]
  },
  {
   "cell_type": "markdown",
   "metadata": {},
   "source": [
    "# Gestion des colonnes"
   ]
  },
  {
   "cell_type": "markdown",
   "metadata": {},
   "source": [
    "Des horaires sont écrits dans la colonne Autre pour fichier **ENS**."
   ]
  },
  {
   "cell_type": "code",
   "execution_count": 51,
   "metadata": {},
   "outputs": [
    {
     "data": {
      "text/plain": [
       "array([nan, 'Part pizza en entree ', 'En plat : frites ', 'Pizza entree',\n",
       "       'Burger et frites', '3 yaourts '], dtype=object)"
      ]
     },
     "execution_count": 51,
     "metadata": {},
     "output_type": "execute_result"
    }
   ],
   "source": [
    "#HD = df.loc[np.where(df['Autre Ã©ventuellement'].notna())[0],['Heure départ', 'Autre Ã©ventuellement']]\n",
    "#AE = df.loc[np.where(df['Autre Ã©ventuellement'].notna())[0],['Heure départ']]\n",
    "#HD\n",
    "df['Autre '].unique()"
   ]
  },
  {
   "cell_type": "code",
   "execution_count": 52,
   "metadata": {},
   "outputs": [
    {
     "name": "stdout",
     "output_type": "stream",
     "text": [
      "Index(['Horodateur', 'Numero questionnaire', 'Plat 1', 'Plat 2', 'Plat 3',\n",
      "       'Heure départ', 'Genre', 'Regime', 'Fréquentation', 'Faim',\n",
      "       'Connaissances', 'Influence', 'Influence aspect', 'Quantité',\n",
      "       'Equilibré', 'Aspect', 'Convive 1', 'Convive 2', 'Convive 3',\n",
      "       'Convive 4', 'Convive 5', 'Convive 6', 'Convive 7', 'Convive 8',\n",
      "       'Unnamed: 27'],\n",
      "      dtype='object')\n"
     ]
    }
   ],
   "source": [
    "df = df.drop('Hors etudiant', axis=1)\n",
    "#df = df.drop('Autre Ã©ventuellement', axis=1)\n",
    "df = df.drop('Autre ', axis=1)\n",
    "df = df.drop('garniture', axis=1)\n",
    "print(df.columns)"
   ]
  },
  {
   "cell_type": "code",
   "execution_count": 53,
   "metadata": {},
   "outputs": [
    {
     "data": {
      "text/html": [
       "<div>\n",
       "<style scoped>\n",
       "    .dataframe tbody tr th:only-of-type {\n",
       "        vertical-align: middle;\n",
       "    }\n",
       "\n",
       "    .dataframe tbody tr th {\n",
       "        vertical-align: top;\n",
       "    }\n",
       "\n",
       "    .dataframe thead th {\n",
       "        text-align: right;\n",
       "    }\n",
       "</style>\n",
       "<table border=\"1\" class=\"dataframe\">\n",
       "  <thead>\n",
       "    <tr style=\"text-align: right;\">\n",
       "      <th></th>\n",
       "      <th>Horodateur</th>\n",
       "      <th>Numéro de formulaire</th>\n",
       "      <th>ENTREE</th>\n",
       "      <th>PLAT</th>\n",
       "      <th>DESSERT</th>\n",
       "      <th>Heure départ</th>\n",
       "      <th>Genre</th>\n",
       "      <th>Regime</th>\n",
       "      <th>Fréquentation</th>\n",
       "      <th>Faim</th>\n",
       "      <th>...</th>\n",
       "      <th>Aspect</th>\n",
       "      <th>Convive 1</th>\n",
       "      <th>Convive 2</th>\n",
       "      <th>Convive 3</th>\n",
       "      <th>Convive 4</th>\n",
       "      <th>Convive 5</th>\n",
       "      <th>Convive 6</th>\n",
       "      <th>Convive 7</th>\n",
       "      <th>Convive 8</th>\n",
       "      <th>Unnamed: 27</th>\n",
       "    </tr>\n",
       "  </thead>\n",
       "  <tbody>\n",
       "    <tr>\n",
       "      <th>0</th>\n",
       "      <td>11:35:32</td>\n",
       "      <td>B23</td>\n",
       "      <td>oeufmayo</td>\n",
       "      <td>escalopedeporc+pommedeterre</td>\n",
       "      <td>yaourt</td>\n",
       "      <td>12:06</td>\n",
       "      <td>Homme</td>\n",
       "      <td>non</td>\n",
       "      <td>&gt;3</td>\n",
       "      <td>10.0</td>\n",
       "      <td>...</td>\n",
       "      <td>4.0</td>\n",
       "      <td>B25</td>\n",
       "      <td>B24</td>\n",
       "      <td>B19</td>\n",
       "      <td>NaN</td>\n",
       "      <td>NaN</td>\n",
       "      <td>NaN</td>\n",
       "      <td>NaN</td>\n",
       "      <td>NaN</td>\n",
       "      <td>NaN</td>\n",
       "    </tr>\n",
       "    <tr>\n",
       "      <th>1</th>\n",
       "      <td>11:36:00</td>\n",
       "      <td>B25</td>\n",
       "      <td>oeufmayo</td>\n",
       "      <td>escalopedeporc+pommedeterre</td>\n",
       "      <td>tartechocolat</td>\n",
       "      <td>12:06</td>\n",
       "      <td>Homme</td>\n",
       "      <td>non</td>\n",
       "      <td>&gt;3</td>\n",
       "      <td>10.0</td>\n",
       "      <td>...</td>\n",
       "      <td>10.0</td>\n",
       "      <td>B23</td>\n",
       "      <td>B24</td>\n",
       "      <td>NaN</td>\n",
       "      <td>NaN</td>\n",
       "      <td>NaN</td>\n",
       "      <td>NaN</td>\n",
       "      <td>NaN</td>\n",
       "      <td>NaN</td>\n",
       "      <td>NaN</td>\n",
       "    </tr>\n",
       "    <tr>\n",
       "      <th>2</th>\n",
       "      <td>11:38:24</td>\n",
       "      <td>B19</td>\n",
       "      <td>oeufmayo</td>\n",
       "      <td>escalopedeporc+pommedeterre</td>\n",
       "      <td>tartechocolat</td>\n",
       "      <td>12:10</td>\n",
       "      <td>Homme</td>\n",
       "      <td>non</td>\n",
       "      <td>&gt;3</td>\n",
       "      <td>7.0</td>\n",
       "      <td>...</td>\n",
       "      <td>0.0</td>\n",
       "      <td>B23</td>\n",
       "      <td>B25</td>\n",
       "      <td>B24</td>\n",
       "      <td>NaN</td>\n",
       "      <td>NaN</td>\n",
       "      <td>NaN</td>\n",
       "      <td>NaN</td>\n",
       "      <td>NaN</td>\n",
       "      <td>NaN</td>\n",
       "    </tr>\n",
       "    <tr>\n",
       "      <th>3</th>\n",
       "      <td>11:40:13</td>\n",
       "      <td>B20</td>\n",
       "      <td>oeufmayo</td>\n",
       "      <td>escalopedeporc+pommedeterre</td>\n",
       "      <td>NaN</td>\n",
       "      <td>NaN</td>\n",
       "      <td>NaN</td>\n",
       "      <td>NaN</td>\n",
       "      <td>NaN</td>\n",
       "      <td>NaN</td>\n",
       "      <td>...</td>\n",
       "      <td>NaN</td>\n",
       "      <td>NaN</td>\n",
       "      <td>NaN</td>\n",
       "      <td>NaN</td>\n",
       "      <td>NaN</td>\n",
       "      <td>NaN</td>\n",
       "      <td>NaN</td>\n",
       "      <td>NaN</td>\n",
       "      <td>NaN</td>\n",
       "      <td>NaN</td>\n",
       "    </tr>\n",
       "    <tr>\n",
       "      <th>4</th>\n",
       "      <td>11:40:42</td>\n",
       "      <td>B21</td>\n",
       "      <td>NaN</td>\n",
       "      <td>escalopedeporc+pommedeterre</td>\n",
       "      <td>NaN</td>\n",
       "      <td>12:10</td>\n",
       "      <td>Homme</td>\n",
       "      <td>non</td>\n",
       "      <td>1à3</td>\n",
       "      <td>6.0</td>\n",
       "      <td>...</td>\n",
       "      <td>7.0</td>\n",
       "      <td>B20</td>\n",
       "      <td>B22</td>\n",
       "      <td>B24</td>\n",
       "      <td>B17</td>\n",
       "      <td>B18</td>\n",
       "      <td>B19</td>\n",
       "      <td>B23</td>\n",
       "      <td>NaN</td>\n",
       "      <td>NaN</td>\n",
       "    </tr>\n",
       "    <tr>\n",
       "      <th>...</th>\n",
       "      <td>...</td>\n",
       "      <td>...</td>\n",
       "      <td>...</td>\n",
       "      <td>...</td>\n",
       "      <td>...</td>\n",
       "      <td>...</td>\n",
       "      <td>...</td>\n",
       "      <td>...</td>\n",
       "      <td>...</td>\n",
       "      <td>...</td>\n",
       "      <td>...</td>\n",
       "      <td>...</td>\n",
       "      <td>...</td>\n",
       "      <td>...</td>\n",
       "      <td>...</td>\n",
       "      <td>...</td>\n",
       "      <td>...</td>\n",
       "      <td>...</td>\n",
       "      <td>...</td>\n",
       "      <td>...</td>\n",
       "      <td>...</td>\n",
       "    </tr>\n",
       "    <tr>\n",
       "      <th>115</th>\n",
       "      <td>12:54:51 PM</td>\n",
       "      <td>A02</td>\n",
       "      <td>NaN</td>\n",
       "      <td>gnocchispestovege</td>\n",
       "      <td>fruit</td>\n",
       "      <td>13:33</td>\n",
       "      <td>Femme</td>\n",
       "      <td>oui</td>\n",
       "      <td>&gt;3</td>\n",
       "      <td>3.0</td>\n",
       "      <td>...</td>\n",
       "      <td>6.0</td>\n",
       "      <td>A01</td>\n",
       "      <td>A03</td>\n",
       "      <td>NaN</td>\n",
       "      <td>NaN</td>\n",
       "      <td>NaN</td>\n",
       "      <td>NaN</td>\n",
       "      <td>NaN</td>\n",
       "      <td>NaN</td>\n",
       "      <td>NaN</td>\n",
       "    </tr>\n",
       "    <tr>\n",
       "      <th>116</th>\n",
       "      <td>12:55:22 PM</td>\n",
       "      <td>A04</td>\n",
       "      <td>NaN</td>\n",
       "      <td>escalopedeporc+pommedeterre</td>\n",
       "      <td>tartechocolat</td>\n",
       "      <td>13:22</td>\n",
       "      <td>Homme</td>\n",
       "      <td>non</td>\n",
       "      <td>&gt;3</td>\n",
       "      <td>7.0</td>\n",
       "      <td>...</td>\n",
       "      <td>4.0</td>\n",
       "      <td>A06</td>\n",
       "      <td>A07</td>\n",
       "      <td>A08</td>\n",
       "      <td>NaN</td>\n",
       "      <td>NaN</td>\n",
       "      <td>NaN</td>\n",
       "      <td>NaN</td>\n",
       "      <td>NaN</td>\n",
       "      <td>NaN</td>\n",
       "    </tr>\n",
       "    <tr>\n",
       "      <th>117</th>\n",
       "      <td>12:55:40 PM</td>\n",
       "      <td>A01</td>\n",
       "      <td>NaN</td>\n",
       "      <td>escalopedeporc+pommedeterre</td>\n",
       "      <td>NaN</td>\n",
       "      <td>13:33</td>\n",
       "      <td>Homme</td>\n",
       "      <td>non</td>\n",
       "      <td>&gt;3</td>\n",
       "      <td>7.0</td>\n",
       "      <td>...</td>\n",
       "      <td>5.0</td>\n",
       "      <td>A03</td>\n",
       "      <td>A03</td>\n",
       "      <td>NaN</td>\n",
       "      <td>NaN</td>\n",
       "      <td>NaN</td>\n",
       "      <td>NaN</td>\n",
       "      <td>NaN</td>\n",
       "      <td>NaN</td>\n",
       "      <td>NaN</td>\n",
       "    </tr>\n",
       "    <tr>\n",
       "      <th>118</th>\n",
       "      <td>12:57:05 PM</td>\n",
       "      <td>A10</td>\n",
       "      <td>NaN</td>\n",
       "      <td>grillades</td>\n",
       "      <td>NaN</td>\n",
       "      <td>NaN</td>\n",
       "      <td>NaN</td>\n",
       "      <td>NaN</td>\n",
       "      <td>NaN</td>\n",
       "      <td>NaN</td>\n",
       "      <td>...</td>\n",
       "      <td>NaN</td>\n",
       "      <td>NaN</td>\n",
       "      <td>NaN</td>\n",
       "      <td>NaN</td>\n",
       "      <td>NaN</td>\n",
       "      <td>NaN</td>\n",
       "      <td>NaN</td>\n",
       "      <td>NaN</td>\n",
       "      <td>NaN</td>\n",
       "      <td>NaN</td>\n",
       "    </tr>\n",
       "    <tr>\n",
       "      <th>119</th>\n",
       "      <td>12:57:26 PM</td>\n",
       "      <td>A11</td>\n",
       "      <td>NaN</td>\n",
       "      <td>grillades</td>\n",
       "      <td>NaN</td>\n",
       "      <td>NaN</td>\n",
       "      <td>NaN</td>\n",
       "      <td>NaN</td>\n",
       "      <td>NaN</td>\n",
       "      <td>NaN</td>\n",
       "      <td>...</td>\n",
       "      <td>NaN</td>\n",
       "      <td>NaN</td>\n",
       "      <td>NaN</td>\n",
       "      <td>NaN</td>\n",
       "      <td>NaN</td>\n",
       "      <td>NaN</td>\n",
       "      <td>NaN</td>\n",
       "      <td>NaN</td>\n",
       "      <td>NaN</td>\n",
       "      <td>NaN</td>\n",
       "    </tr>\n",
       "  </tbody>\n",
       "</table>\n",
       "<p>120 rows × 25 columns</p>\n",
       "</div>"
      ],
      "text/plain": [
       "      Horodateur Numéro de formulaire    ENTREE                        PLAT   \\\n",
       "0       11:35:32                  B23  oeufmayo  escalopedeporc+pommedeterre   \n",
       "1       11:36:00                  B25  oeufmayo  escalopedeporc+pommedeterre   \n",
       "2       11:38:24                  B19  oeufmayo  escalopedeporc+pommedeterre   \n",
       "3       11:40:13                  B20  oeufmayo  escalopedeporc+pommedeterre   \n",
       "4       11:40:42                  B21       NaN  escalopedeporc+pommedeterre   \n",
       "..           ...                  ...       ...                          ...   \n",
       "115  12:54:51 PM                  A02       NaN            gnocchispestovege   \n",
       "116  12:55:22 PM                  A04       NaN  escalopedeporc+pommedeterre   \n",
       "117  12:55:40 PM                  A01       NaN  escalopedeporc+pommedeterre   \n",
       "118  12:57:05 PM                  A10       NaN                    grillades   \n",
       "119  12:57:26 PM                  A11       NaN                    grillades   \n",
       "\n",
       "           DESSERT Heure départ  Genre Regime Fréquentation  Faim  ... Aspect  \\\n",
       "0           yaourt        12:06  Homme    non            >3  10.0  ...    4.0   \n",
       "1    tartechocolat        12:06  Homme    non            >3  10.0  ...   10.0   \n",
       "2    tartechocolat        12:10  Homme    non            >3   7.0  ...    0.0   \n",
       "3              NaN          NaN    NaN    NaN           NaN   NaN  ...    NaN   \n",
       "4              NaN        12:10  Homme    non           1à3   6.0  ...    7.0   \n",
       "..             ...          ...    ...    ...           ...   ...  ...    ...   \n",
       "115          fruit        13:33  Femme    oui            >3   3.0  ...    6.0   \n",
       "116  tartechocolat        13:22  Homme    non            >3   7.0  ...    4.0   \n",
       "117            NaN        13:33  Homme    non            >3   7.0  ...    5.0   \n",
       "118            NaN          NaN    NaN    NaN           NaN   NaN  ...    NaN   \n",
       "119            NaN          NaN    NaN    NaN           NaN   NaN  ...    NaN   \n",
       "\n",
       "    Convive 1 Convive 2  Convive 3  Convive 4  Convive 5 Convive 6 Convive 7  \\\n",
       "0         B25       B24        B19        NaN        NaN       NaN       NaN   \n",
       "1         B23       B24        NaN        NaN        NaN       NaN       NaN   \n",
       "2         B23       B25        B24        NaN        NaN       NaN       NaN   \n",
       "3         NaN       NaN        NaN        NaN        NaN       NaN       NaN   \n",
       "4         B20       B22        B24        B17        B18       B19       B23   \n",
       "..        ...       ...        ...        ...        ...       ...       ...   \n",
       "115       A01       A03        NaN        NaN        NaN       NaN       NaN   \n",
       "116       A06       A07        A08        NaN        NaN       NaN       NaN   \n",
       "117       A03       A03        NaN        NaN        NaN       NaN       NaN   \n",
       "118       NaN       NaN        NaN        NaN        NaN       NaN       NaN   \n",
       "119       NaN       NaN        NaN        NaN        NaN       NaN       NaN   \n",
       "\n",
       "    Convive 8 Unnamed: 27  \n",
       "0         NaN         NaN  \n",
       "1         NaN         NaN  \n",
       "2         NaN         NaN  \n",
       "3         NaN         NaN  \n",
       "4         NaN         NaN  \n",
       "..        ...         ...  \n",
       "115       NaN         NaN  \n",
       "116       NaN         NaN  \n",
       "117       NaN         NaN  \n",
       "118       NaN         NaN  \n",
       "119       NaN         NaN  \n",
       "\n",
       "[120 rows x 25 columns]"
      ]
     },
     "execution_count": 53,
     "metadata": {},
     "output_type": "execute_result"
    }
   ],
   "source": [
    "#Index(['Horodateur', 'Numéro de formulaire', 'ENTREE', 'PLAT ', 'DESSERT'], dtype='object')\n",
    "df.columns = ['Horodateur', 'Numéro de formulaire', 'ENTREE', 'PLAT ', 'DESSERT',\n",
    "       'Heure départ', 'Genre', 'Regime', 'Fréquentation', 'Faim',\n",
    "       'Connaissances', 'Influence', 'Influence aspect', 'Quantité',\n",
    "       'Equilibré', 'Aspect', 'Convive 1', 'Convive 2', 'Convive 3',\n",
    "       'Convive 4', 'Convive 5', 'Convive 6', 'Convive 7', 'Convive 8',\n",
    "       'Unnamed: 27']\n",
    "df"
   ]
  },
  {
   "cell_type": "markdown",
   "metadata": {},
   "source": [
    "# Sauvegarde"
   ]
  },
  {
   "cell_type": "markdown",
   "metadata": {
    "pycharm": {
     "name": "#%% md\n"
    }
   },
   "source": [
    "Le csv est préprocéssé, nous pouvons l'enregistrer. "
   ]
  },
  {
   "cell_type": "code",
   "execution_count": 54,
   "metadata": {
    "pycharm": {
     "name": "#%%\n"
    }
   },
   "outputs": [],
   "source": [
    "df.to_csv(\"Resultats_choix_Juin_LDV_cleaned.csv\", sep = ';')"
   ]
  },
  {
   "cell_type": "code",
   "execution_count": null,
   "metadata": {},
   "outputs": [],
   "source": []
  }
 ],
 "metadata": {
  "kernelspec": {
   "display_name": "Python 3 (ipykernel)",
   "language": "python",
   "name": "python3"
  },
  "language_info": {
   "codemirror_mode": {
    "name": "ipython",
    "version": 3
   },
   "file_extension": ".py",
   "mimetype": "text/x-python",
   "name": "python",
   "nbconvert_exporter": "python",
   "pygments_lexer": "ipython3",
   "version": "3.7.4"
  },
  "vscode": {
   "interpreter": {
    "hash": "5fc140dc3efbcdd724716f65d474894e1947e1edd4b80a080fedd84e10bf2ba4"
   }
  }
 },
 "nbformat": 4,
 "nbformat_minor": 2
}
