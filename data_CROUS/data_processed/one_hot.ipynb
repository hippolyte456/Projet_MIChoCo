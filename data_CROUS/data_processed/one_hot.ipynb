{
 "cells": [
  {
   "cell_type": "code",
   "execution_count": 1,
   "metadata": {},
   "outputs": [],
   "source": [
    "import pandas as pd \n",
    "import numpy as np\n",
    "import os \n",
    "\n",
    "os.getcwd()\n",
    "file_out = 'choix_21_octobre_clean.csv'\n",
    "file_in = '../data/Resultats_choix_21_octobre.csv'"
   ]
  },
  {
   "cell_type": "code",
   "execution_count": 3,
   "metadata": {},
   "outputs": [
    {
     "name": "stdout",
     "output_type": "stream",
     "text": [
      "['torsades', 'feuilletésaumonoseille', 'boeufbourguignon', 'kebab', 'risottocourgettes', 'pizzaraclette', 'faux-filet', 'pizzamerguezpoivrons', 'hamburger', 'escalopeviennoise', 'poeléebrocolis', 'frites', 'torsadespoeléebrocolis', 'ratatouille', 'chouxblancàlajaponaise', 'saladelentilles', 'champignons', 'carottesrâpées', 'oeufmimosa', 'saladepates', 'artichauts', 'salami', 'coeursdepalmiers', 'tomates', 'yaourtauxfruits', 'œufàlaneige', 'faissellenature', 'yaourtnaturesucré', 'fromageblancfruitsrouges', 'banane', 'mimolette', 'flancchocolat', 'faissellenatureflancchocolat', 'orange', 'yaourtnaturesucréyaourtauxfruits', 'pommegolden', 'kiwi']\n",
      "37\n"
     ]
    }
   ],
   "source": [
    "#### on créé un vecteur qui prend toutes les valeurs différentes du tableau ####\n",
    "\n",
    "df= df.rename(columns={'Numéro de formulaire ': 'num_form'})\n",
    "dfmeal= df.drop('Horodateur',axis=1)\n",
    "dfmeal = dfmeal.drop('num_form',axis=1)\n",
    "\n",
    "all_items = []\n",
    "for colonne in dfmeal.columns:\n",
    "    col_items = df[colonne].unique()\n",
    "    for item in col_items:\n",
    "        if item not in all_items:\n",
    "            all_items.append(item)\n",
    "\n",
    "#on retire les items None, pasdentrée, pasdedessert, pasdeplat\n",
    "all_items.remove(None)\n",
    "all_items.remove('pasdentrée')\n",
    "all_items.remove('pasdedessert')\n",
    "print(all_items)\n",
    "print(len(all_items))\n"
   ]
  },
  {
   "cell_type": "code",
   "execution_count": 4,
   "metadata": {},
   "outputs": [],
   "source": [
    "#on crée une matrice à partir du df, chaque ligne doit prendre la valeur 1 si l'item est présent dans le repas, 0 sinon \n",
    "#ATTENTION AU CAS OU UNE PERSONNE A PRIS PLUSIEURS FOIS LA MEME CHOSE... SOIT ON FAIT QQ CHOSE DE PARTICULIER, SOIT ON L'ENLEVE)\n",
    "\n",
    "#on crée une matrice de la taille (nombre d'enregistrement dans le df, nombre d'items differents)\n",
    "X = np.zeros((len(df), len(all_items)))\n",
    "\n",
    "#on parcourt lers lignes du dataframe\n",
    "for i in range(len(df)):\n",
    "    #on recupere la ligne i\n",
    "    items = df.iloc[i]\n",
    "    #on enleve les None\n",
    "    items = items.dropna()\n",
    "    for item in items:\n",
    "        if item in all_items:\n",
    "            \n",
    "            #print(item)\n",
    "            #on recupere l'indice de l'item dans all_items\n",
    "            index = all_items.index(item)\n",
    "            #on 1 dans la matrice à la ligne i et à la colonne index [OU ON INCREMENTE DE 1 SI ON VEUT AUTORISER UN ITEM À ETRE PRIS PLUSIEURS FOIS]\n",
    "            X[i,index] = 1"
   ]
  },
  {
   "cell_type": "code",
   "execution_count": 5,
   "metadata": {},
   "outputs": [],
   "source": [
    "# save the matrix in a csv file\n",
    "X = pd.DataFrame(X, columns = all_items)\n",
    "#on ajoute les numéros de formulaire et les horodateurs\n",
    "X['Horodateur'] = df['Horodateur']\n",
    "X['num_form'] = df['num_form']\n",
    "\n",
    "X.to_csv(file_out , sep = ';')"
   ]
  }
 ],
 "metadata": {
  "kernelspec": {
   "display_name": "base",
   "language": "python",
   "name": "python3"
  },
  "language_info": {
   "codemirror_mode": {
    "name": "ipython",
    "version": 3
   },
   "file_extension": ".py",
   "mimetype": "text/x-python",
   "name": "python",
   "nbconvert_exporter": "python",
   "pygments_lexer": "ipython3",
   "version": "3.9.13 | packaged by conda-forge | (main, May 27 2022, 17:01:00) \n[Clang 13.0.1 ]"
  },
  "orig_nbformat": 4,
  "vscode": {
   "interpreter": {
    "hash": "5fc140dc3efbcdd724716f65d474894e1947e1edd4b80a080fedd84e10bf2ba4"
   }
  }
 },
 "nbformat": 4,
 "nbformat_minor": 2
}
