{
 "cells": [
  {
   "cell_type": "markdown",
   "metadata": {
    "pycharm": {
     "name": "#%% md\n"
    }
   },
   "source": [
    "## Preprocessing\n",
    "\n",
    "Ce notebook permet d'avoir une première vue sur les données, et de les préprocesser."
   ]
  },
  {
   "cell_type": "code",
   "execution_count": 1,
   "metadata": {
    "pycharm": {
     "name": "#%%\n"
    }
   },
   "outputs": [],
   "source": [
    "import pandas as pd "
   ]
  },
  {
   "cell_type": "markdown",
   "metadata": {
    "pycharm": {
     "name": "#%% md\n"
    }
   },
   "source": [
    "Regardons ce qu'il y a dans les fichiers de type \"resultats choix\" \n"
   ]
  },
  {
   "cell_type": "code",
   "execution_count": 69,
   "metadata": {
    "pycharm": {
     "name": "#%%\n"
    }
   },
   "outputs": [
    {
     "name": "stdout",
     "output_type": "stream",
     "text": [
      "Index(['Horodateur', 'Numéro de formulaire', 'ENTREE',\n",
      "       'Prise en double de l'entrée ', 'PLAT ', 'DESSERT',\n",
      "       'Prise en double du dessert'],\n",
      "      dtype='object')\n",
      "   Horodateur Numéro de formulaire                     ENTREE  \\\n",
      "0    12:30:58                 9V8W                 Chou blanc   \n",
      "1    12:33:56                 8B5X               Pas d'entrée   \n",
      "2    12:34:46                 6X9F           Rillette poisson   \n",
      "3    12:35:27                 7B7K              Mini sandwich   \n",
      "4    12:35:56                 3Q7Q              Mini sandwich   \n",
      "5    12:36:59                 1C8S                  Betterave   \n",
      "6    12:37:48                 OL7Y               Pas d'entrée   \n",
      "7    12:39:19                 9E7A              Mini sandwich   \n",
      "8    12:40:23                 4B5E  Salade de pommes de terre   \n",
      "9    12:40:41                 607K                  Betterave   \n",
      "\n",
      "  Prise en double de l'entrée   \\\n",
      "0                          Non   \n",
      "1                          Non   \n",
      "2                          Non   \n",
      "3                          Non   \n",
      "4                          Non   \n",
      "5                          Non   \n",
      "6                          Non   \n",
      "7                          Non   \n",
      "8                          Non   \n",
      "9                          Non   \n",
      "\n",
      "                                               PLAT   \\\n",
      "0               Roti de légumes au tofu + Spaghettis   \n",
      "1               Roti de légumes au tofu + Spaghettis   \n",
      "2  Poisson pané + Spaghettis + Mousseline de potiron   \n",
      "3  Filet de poulet + Spaghettis + Mousseline de p...   \n",
      "4  Poisson pané + Spaghettis + Mousseline de potiron   \n",
      "5  Poisson pané + Spaghettis + Mousseline de potiron   \n",
      "6                          Poisson pané + Spaghettis   \n",
      "7  Poisson pané + Spaghettis + Mousseline de potiron   \n",
      "8  Poisson pané + Spaghettis + Mousseline de potiron   \n",
      "9  Filet de poulet + Spaghettis + Mousseline de p...   \n",
      "\n",
      "                                 DESSERT Prise en double du dessert  \n",
      "0                         Pas de dessert                        Non  \n",
      "1         Roquefort + Pruneaux en sirop                         Non  \n",
      "2                 Crème praliné + Orange                        Oui  \n",
      "3      Yaourt nature Bio + Crème praliné                        Non  \n",
      "4                                 Banane                        Non  \n",
      "5              Pruneaux en sirop + Pomme                        Non  \n",
      "6            Roquefort + Banane + Pomme                         Oui  \n",
      "7             Yaourt nature Bio + Banane                        Oui  \n",
      "8                               Compote                         Non  \n",
      "9  Yaourt nature Bio + Pruneaux en sirop                        Oui  \n",
      "(67, 7)\n",
      "RangeIndex(start=0, stop=67, step=1)\n"
     ]
    }
   ],
   "source": [
    "\n",
    "df = pd.read_csv('Resultats_choix_21_octobre.csv', sep = ';', index_col=False)\n",
    "print(df.columns) #Index(['Horodateur', 'Numéro de formulaire ', 'ENTREE','Prise en double de l'entrée ', 'PLAT ', 'DESSERT','Prise en double du dessert'],dtype='object')\n",
    "print(df.head(10))\n",
    "print(df.shape)    \n",
    "print(df.index)     "
   ]
  },
  {
   "cell_type": "markdown",
   "metadata": {
    "pycharm": {
     "name": "#%% md\n"
    }
   },
   "source": [
    "Pour commencer, regardons un peu la distribution des différents plats qui ont été choisis. "
   ]
  },
  {
   "cell_type": "code",
   "execution_count": 70,
   "metadata": {
    "pycharm": {
     "name": "#%%\n"
    }
   },
   "outputs": [
    {
     "name": "stdout",
     "output_type": "stream",
     "text": [
      "12\n",
      "Poisson pané + Spaghettis + Mousseline de potiron       18\n",
      "Filet de poulet + Spaghettis + Mousseline de potiron    17\n",
      "Roti de légumes au tofu + Spaghettis                     9\n",
      "Poisson pané + Spaghettis                                7\n",
      "Kebab + Frites                                           5\n",
      "Filet de poulet + Spaghettis                             4\n",
      "Entrecôte + Frites + Salade                              2\n",
      "Filet de poulet + Spaghettis + légumes                   1\n",
      "Filet de poulet + Mousseline de potiron                  1\n",
      "Poisson pané  + Mousseline de potiron                    1\n",
      "Filet de poulet                                          1\n",
      "Kebab + Salade                                           1\n",
      "Name: PLAT , dtype: int64\n"
     ]
    }
   ],
   "source": [
    "# NB : \n",
    "# print(type(df['PLAT '])) # <class 'pandas.core.series.Series'> \n",
    "# print(type(df[['PLAT ']])) # <class 'pandas.core.frame.DataFrame'>\n",
    "\n",
    "print(len(df['PLAT '].unique())) # Combien de plats possibles ? --> 11 plats différents \n",
    "print(df['PLAT '].value_counts()) # Quel sont-ils ? \n",
    "\n"
   ]
  },
  {
   "cell_type": "markdown",
   "metadata": {
    "pycharm": {
     "name": "#%% md\n"
    }
   },
   "source": [
    "On observe qu'une mise en forme va être nécéssaire. En effet, à cause des espaces, les plats suivants : \n",
    "\"Boeuf  bourguignon + Torsades +Poelée brocolis\" / \"Boeuf bourguignon + Torsades + Poelée brocolis \" / \"Boeuf  bourguignon + Torsades + Poelée brocolis \"\n",
    "Ne sont pas considérés comme étant les mêmes. "
   ]
  },
  {
   "cell_type": "code",
   "execution_count": 71,
   "metadata": {
    "pycharm": {
     "name": "#%%\n"
    }
   },
   "outputs": [
    {
     "name": "stdout",
     "output_type": "stream",
     "text": [
      "0                   Rotidelégumesautofu+Spaghettis\n",
      "1                   Rotidelégumesautofu+Spaghettis\n",
      "2       Poissonpané+Spaghettis+Mousselinedepotiron\n",
      "3     Filetdepoulet+Spaghettis+Mousselinedepotiron\n",
      "4       Poissonpané+Spaghettis+Mousselinedepotiron\n",
      "                          ...                     \n",
      "62      Poissonpané+Spaghettis+Mousselinedepotiron\n",
      "63    Filetdepoulet+Spaghettis+Mousselinedepotiron\n",
      "64                          Poissonpané+Spaghettis\n",
      "65                                    Kebab+Frites\n",
      "66                                    Kebab+Salade\n",
      "Name: PLAT , Length: 67, dtype: object\n",
      "12\n",
      "Poissonpané+Spaghettis+Mousselinedepotiron      18\n",
      "Filetdepoulet+Spaghettis+Mousselinedepotiron    17\n",
      "Rotidelégumesautofu+Spaghettis                   9\n",
      "Poissonpané+Spaghettis                           7\n",
      "Kebab+Frites                                     5\n",
      "Filetdepoulet+Spaghettis                         4\n",
      "Entrecôte+Frites+Salade                          2\n",
      "Filetdepoulet+Spaghettis+légumes                 1\n",
      "Filetdepoulet+Mousselinedepotiron                1\n",
      "Poissonpané+Mousselinedepotiron                  1\n",
      "Filetdepoulet                                    1\n",
      "Kebab+Salade                                     1\n",
      "Name: PLAT , dtype: int64\n"
     ]
    }
   ],
   "source": [
    "# Enlevons tous les espaces:\n",
    "df['PLAT '] = df['PLAT '].replace(' ', '', regex = True)\n",
    "print(df['PLAT '])\n",
    "\n",
    "# On obtient alors \n",
    "print(len(df['PLAT '].unique())) # Combien de plats possibles ? --> 13 plats differents \n",
    "print(df['PLAT '].value_counts()) # Quel sont-ils ? \n",
    "\n"
   ]
  },
  {
   "cell_type": "markdown",
   "metadata": {
    "pycharm": {
     "name": "#%% md\n"
    }
   },
   "source": [
    "C'est mieux! \n",
    "On observe tout de meme qu'il reste qqs problèmes.\n",
    "Par exemple, un '+' a été oublié, si bien que \"FeuilletéSaumonoseille+TorsadesPoeléebrocolis\" et \"FeuilletéSaumonoseille+Torsades+PoeléeBrocolis\"\n",
    "ne sont pas considérés comme équivalents. \n",
    "--> pas d'autres choix que de rajouter le '+' à la main (?)\n",
    "\n",
    "Pour garder les données d'origine intactes en cas de soucis, créons un dossier 'data_processed' \n",
    "sur lequel on travaillera et qui contiendra ce genre de modifications.   # DONE "
   ]
  },
  {
   "cell_type": "markdown",
   "metadata": {
    "pycharm": {
     "name": "#%% md\n"
    }
   },
   "source": [
    "De plus, on observe qu'à cause d'un problème de casse, \"FeuilletéSaumonoseille+Torsades+Poeléebrocolis \" et \"FeuilletéSaumonoseille+Torsades+PoeléeBrocolis\" sont considérés comme 2 plats differents "
   ]
  },
  {
   "cell_type": "code",
   "execution_count": 72,
   "metadata": {
    "pycharm": {
     "name": "#%%\n"
    }
   },
   "outputs": [
    {
     "name": "stdout",
     "output_type": "stream",
     "text": [
      "12\n",
      "poissonpané+spaghettis+mousselinedepotiron      18\n",
      "filetdepoulet+spaghettis+mousselinedepotiron    17\n",
      "rotidelégumesautofu+spaghettis                   9\n",
      "poissonpané+spaghettis                           7\n",
      "kebab+frites                                     5\n",
      "filetdepoulet+spaghettis                         4\n",
      "entrecôte+frites+salade                          2\n",
      "filetdepoulet+spaghettis+légumes                 1\n",
      "filetdepoulet+mousselinedepotiron                1\n",
      "poissonpané+mousselinedepotiron                  1\n",
      "filetdepoulet                                    1\n",
      "kebab+salade                                     1\n",
      "Name: PLAT , dtype: int64\n"
     ]
    }
   ],
   "source": [
    "# --> on enlève la casse \n",
    "df['PLAT '] = df['PLAT '].str.lower()\n",
    "# On recommence et on obtient alors :\n",
    "print(len(df['PLAT '].unique())) \n",
    "print(df['PLAT '].value_counts()) "
   ]
  },
  {
   "cell_type": "markdown",
   "metadata": {
    "pycharm": {
     "name": "#%% md\n"
    }
   },
   "source": [
    "Répondons à quelques questions simples : "
   ]
  },
  {
   "cell_type": "code",
   "execution_count": 73,
   "metadata": {
    "pycharm": {
     "name": "#%%\n"
    }
   },
   "outputs": [
    {
     "name": "stdout",
     "output_type": "stream",
     "text": [
      "0\n",
      "7\n",
      "0\n"
     ]
    }
   ],
   "source": [
    "print(df['PLAT '].str.count(\"torsades\").sum()) # A - Combien de personnes ont pris des torsades ? --> 96 \n",
    "print(df['PLAT '].str.count(\"frites\").sum()) # A - Combien de personnes ont pris des frites ? --> 12\n",
    "print(df['PLAT '].str.count(\"pizza\").sum()) # A - Combien de personnes ont pris des pizza ? --> 4"
   ]
  },
  {
   "cell_type": "markdown",
   "metadata": {
    "pycharm": {
     "name": "#%% md\n"
    }
   },
   "source": [
    "Voyons maintenant pour la colonne \"ENTREE\""
   ]
  },
  {
   "cell_type": "code",
   "execution_count": 74,
   "metadata": {
    "pycharm": {
     "name": "#%%\n"
    }
   },
   "outputs": [
    {
     "name": "stdout",
     "output_type": "stream",
     "text": [
      "9\n",
      "Pas d'entrée                 30\n",
      "Champignons                  10\n",
      "Betterave                     7\n",
      "Mini sandwich                 5\n",
      "Chou blanc                    4\n",
      "Rillette poisson              4\n",
      "Salade de pommes de terre     4\n",
      "Salade de riz                 2\n",
      "Pâté                          1\n",
      "Name: ENTREE, dtype: int64\n"
     ]
    }
   ],
   "source": [
    "df['ENTREE']\n",
    "print(len(df['ENTREE'].unique())) \n",
    "print(df['ENTREE'].value_counts()) "
   ]
  },
  {
   "attachments": {},
   "cell_type": "markdown",
   "metadata": {
    "pycharm": {
     "name": "#%% md\n"
    }
   },
   "source": [
    "Pas d'erreurs en particulier...  \n",
    "Nous allons tout de même suppprimer les espaces et mettre en lower.case. "
   ]
  },
  {
   "cell_type": "code",
   "execution_count": 75,
   "metadata": {
    "pycharm": {
     "name": "#%%\n"
    }
   },
   "outputs": [
    {
     "name": "stdout",
     "output_type": "stream",
     "text": [
      "9\n",
      "pasdentrée               30\n",
      "champignons              10\n",
      "betterave                 7\n",
      "minisandwich              5\n",
      "choublanc                 4\n",
      "rillettepoisson           4\n",
      "saladedepommesdeterre     4\n",
      "saladederiz               2\n",
      "pâté                      1\n",
      "Name: ENTREE, dtype: int64\n"
     ]
    }
   ],
   "source": [
    "# Enlevons tous les espaces et les apostrophes \n",
    "df['ENTREE'] = df['ENTREE'].replace(' ', '', regex = True)\n",
    "df['ENTREE'] = df['ENTREE'].replace(\"'\", '', regex = True)\n",
    "# --> on enlève la casse \n",
    "df['ENTREE'] = df['ENTREE'].str.lower()\n",
    "print(len(df['ENTREE'].unique())) \n",
    "print(df['ENTREE'].value_counts()) "
   ]
  },
  {
   "cell_type": "markdown",
   "metadata": {
    "pycharm": {
     "name": "#%% md\n"
    }
   },
   "source": [
    "Voyons maintenant pour la colonne 'DESSERTS'"
   ]
  },
  {
   "cell_type": "code",
   "execution_count": 77,
   "metadata": {
    "pycharm": {
     "name": "#%%\n"
    }
   },
   "outputs": [
    {
     "name": "stdout",
     "output_type": "stream",
     "text": [
      "37\n",
      "Pas de dessert                           5\n",
      "Banane                                   4\n",
      "Yaourt nature Bio                        4\n",
      "Compote                                  3\n",
      "Roquefort                                3\n",
      "Yaourt nature Bio + Compote              3\n",
      "Crème praliné                            3\n",
      "Banane                                   3\n",
      "Yaourt nature Bio + Banane               2\n",
      "Crème praliné                            2\n",
      "Yaourt nature Bio + Pruneaux en sirop    2\n",
      "Yaourt nature Bio                        2\n",
      "Roquefort + Yaourt nature Bio            2\n",
      "Pomme                                    2\n",
      "Yaourt nature Bio + Pomme                2\n",
      "Yaourt nature Bio + Crème praliné        2\n",
      "Cantal AOP + Banane                      2\n",
      "Pruneaux en sirop + Pomme                2\n",
      "Crème praliné + Pomme                    1\n",
      "Compote                                  1\n",
      "Roquefort                                1\n",
      "Kiwi                                     1\n",
      "Roquefort + Crème praliné                1\n",
      "Orange + Pomme                           1\n",
      "Banane + Pomme                           1\n",
      "Kiwi                                     1\n",
      "Cantal AOP                               1\n",
      "Roquefort + Crème praliné                1\n",
      "Orange                                   1\n",
      "Roquefort + Pruneaux en sirop            1\n",
      "Cantal AOP + Orange                      1\n",
      "Cantal AOP + Yaourt nature Bio           1\n",
      "Crème praliné + Banane                   1\n",
      "Cantal AOP + Kiwi                        1\n",
      "Roquefort + Banane + Pomme               1\n",
      "Crème praliné + Orange                   1\n",
      "Orange                                   1\n",
      "Name: DESSERT, dtype: int64\n"
     ]
    }
   ],
   "source": [
    "df['DESSERT']\n",
    "print(len(df['DESSERT'].unique())) \n",
    "print(df['DESSERT'].value_counts()) "
   ]
  },
  {
   "cell_type": "markdown",
   "metadata": {
    "pycharm": {
     "name": "#%% md\n"
    }
   },
   "source": [
    "42 possibilités, non pas parce que le choix est très large, mais parce qu'il y a beaucoup de combinaisons possibles.  \n",
    "Pour juste compter quel est le dessert qui a été le plus choisi, il serait interessant de ne pas brouiller le signal avec de telle combinaisons.  \n",
    "One-hot encoding ? "
   ]
  },
  {
   "cell_type": "code",
   "execution_count": 78,
   "metadata": {
    "pycharm": {
     "name": "#%%\n"
    }
   },
   "outputs": [],
   "source": [
    "# Enlevons tous les espaces et les apostrophes \n",
    "df['DESSERT'] = df['DESSERT'].replace(' ', '', regex = True)\n",
    "df['DESSERT'] = df['DESSERT'].replace(\"'\", '', regex = True)\n",
    "# --> on enlève la casse \n",
    "df['DESSERT'] = df['DESSERT'].str.lower()\n"
   ]
  },
  {
   "cell_type": "markdown",
   "metadata": {
    "pycharm": {
     "name": "#%% md\n"
    }
   },
   "source": [
    "On y voit plus clair --> S'il y a des erreurs de frappes / d'enregistrements, on sera plus à meme de le voir.  "
   ]
  },
  {
   "cell_type": "code",
   "execution_count": 80,
   "metadata": {
    "pycharm": {
     "name": "#%%\n"
    }
   },
   "outputs": [
    {
     "name": "stdout",
     "output_type": "stream",
     "text": [
      "29\n",
      "banane                             7\n",
      "yaourtnaturebio                    6\n",
      "pasdedessert                       5\n",
      "crèmepraliné                       5\n",
      "roquefort                          4\n",
      "compote                            4\n",
      "yaourtnaturebio+compote            3\n",
      "pomme                              2\n",
      "kiwi                               2\n",
      "yaourtnaturebio+pomme              2\n",
      "roquefort+crèmepraliné             2\n",
      "orange                             2\n",
      "cantalaop+banane                   2\n",
      "roquefort+yaourtnaturebio          2\n",
      "yaourtnaturebio+pruneauxensirop    2\n",
      "yaourtnaturebio+banane             2\n",
      "pruneauxensirop+pomme              2\n",
      "yaourtnaturebio+crèmepraliné       2\n",
      "cantalaop+yaourtnaturebio          1\n",
      "roquefort+pruneauxensirop          1\n",
      "cantalaop+orange                   1\n",
      "crèmepraliné+banane                1\n",
      "cantalaop                          1\n",
      "cantalaop+kiwi                     1\n",
      "roquefort+banane+pomme             1\n",
      "crèmepraliné+pomme                 1\n",
      "crèmepraliné+orange                1\n",
      "orange+pomme                       1\n",
      "banane+pomme                       1\n",
      "Name: DESSERT, dtype: int64\n"
     ]
    }
   ],
   "source": [
    "print(len(df['DESSERT'].unique())) \n",
    "print(df['DESSERT'].value_counts())"
   ]
  },
  {
   "cell_type": "markdown",
   "metadata": {
    "pycharm": {
     "name": "#%% md\n"
    }
   },
   "source": [
    "On observe que des '+' on été oubliés : faissellenatureflancchocolat  et yaourtnaturesucréyaourtauxfruits n'ont pas été séparés.  \n",
    "Modifions les à la main dans le csv.  # DONE "
   ]
  },
  {
   "cell_type": "markdown",
   "metadata": {
    "pycharm": {
     "name": "#%% md\n"
    }
   },
   "source": [
    "On observe que les colonnes 'prise en double de dessert' et 'prise en double d'entree' sont très mal renseignées : il est indiqué 'NON' même quand c'est le cas, et inversement. On les enlève, si besoin nous récréerons l'info.  "
   ]
  },
  {
   "cell_type": "code",
   "execution_count": 81,
   "metadata": {
    "pycharm": {
     "name": "#%%\n"
    }
   },
   "outputs": [
    {
     "name": "stdout",
     "output_type": "stream",
     "text": [
      "Index(['Horodateur', 'Numéro de formulaire', 'ENTREE', 'PLAT ', 'DESSERT'], dtype='object')\n"
     ]
    }
   ],
   "source": [
    "df = df.drop(\"Prise en double de l'entrée \", axis=1)\n",
    "df = df.drop('Prise en double du dessert', axis=1)\n",
    "print(df.columns )"
   ]
  },
  {
   "cell_type": "markdown",
   "metadata": {
    "pycharm": {
     "name": "#%% md\n"
    }
   },
   "source": [
    "Le csv est préprocéssé, nous pouvons l'enregistrer. "
   ]
  },
  {
   "cell_type": "code",
   "execution_count": 82,
   "metadata": {
    "pycharm": {
     "name": "#%%\n"
    }
   },
   "outputs": [],
   "source": [
    "df.to_csv(\"Resultats_choix_21_octobre_cleaned.csv\", sep = ';')"
   ]
  },
  {
   "cell_type": "code",
   "execution_count": null,
   "metadata": {},
   "outputs": [],
   "source": []
  }
 ],
 "metadata": {
  "kernelspec": {
   "display_name": "Python 3.9.13 ('base')",
   "language": "python",
   "name": "python3"
  },
  "language_info": {
   "codemirror_mode": {
    "name": "ipython",
    "version": 3
   },
   "file_extension": ".py",
   "mimetype": "text/x-python",
   "name": "python",
   "nbconvert_exporter": "python",
   "pygments_lexer": "ipython3",
   "version": "3.9.13"
  },
  "orig_nbformat": 4,
  "vscode": {
   "interpreter": {
    "hash": "5fc140dc3efbcdd724716f65d474894e1947e1edd4b80a080fedd84e10bf2ba4"
   }
  }
 },
 "nbformat": 4,
 "nbformat_minor": 2
}
