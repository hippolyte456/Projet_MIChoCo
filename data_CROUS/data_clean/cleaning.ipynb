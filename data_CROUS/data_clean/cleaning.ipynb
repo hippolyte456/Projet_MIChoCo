{
 "cells": [
  {
   "cell_type": "markdown",
   "metadata": {
    "pycharm": {
     "name": "#%% md\n"
    }
   },
   "source": [
    "## Preprocessing\n",
    "\n",
    "Ce notebook permet d'avoir une première vue sur les données, et de les préprocesser."
   ]
  },
  {
   "cell_type": "code",
<<<<<<< HEAD
   "execution_count": 1,
=======
   "execution_count": 3,
>>>>>>> 05518f031434e641eb63604b52ee505fa95bd35c
   "metadata": {
    "pycharm": {
     "name": "#%%\n"
    }
   },
<<<<<<< HEAD
   "outputs": [],
   "source": [
    "import pandas as pd "
=======
   "outputs": [
    {
     "data": {
      "text/plain": [
       "'/home/hippo/Documents/Projet_MIChoCo/data_CROUS/data_clean'"
      ]
     },
     "execution_count": 3,
     "metadata": {},
     "output_type": "execute_result"
    }
   ],
   "source": [
    "import pandas as pd \n",
    "import os \n",
    "\n",
    "os.getcwd()"
>>>>>>> 05518f031434e641eb63604b52ee505fa95bd35c
   ]
  },
  {
   "cell_type": "markdown",
   "metadata": {
    "pycharm": {
     "name": "#%% md\n"
    }
   },
   "source": [
    "Regardons ce qu'il y a dans les fichiers de type \"resultats choix\" \n"
   ]
  },
  {
   "cell_type": "code",
<<<<<<< HEAD
   "execution_count": 69,
=======
   "execution_count": null,
>>>>>>> 05518f031434e641eb63604b52ee505fa95bd35c
   "metadata": {
    "pycharm": {
     "name": "#%%\n"
    }
   },
<<<<<<< HEAD
   "outputs": [
    {
     "name": "stdout",
     "output_type": "stream",
     "text": [
      "Index(['Horodateur', 'Numéro de formulaire', 'ENTREE',\n",
      "       'Prise en double de l'entrée ', 'PLAT ', 'DESSERT',\n",
      "       'Prise en double du dessert'],\n",
      "      dtype='object')\n",
      "   Horodateur Numéro de formulaire                     ENTREE  \\\n",
      "0    12:30:58                 9V8W                 Chou blanc   \n",
      "1    12:33:56                 8B5X               Pas d'entrée   \n",
      "2    12:34:46                 6X9F           Rillette poisson   \n",
      "3    12:35:27                 7B7K              Mini sandwich   \n",
      "4    12:35:56                 3Q7Q              Mini sandwich   \n",
      "5    12:36:59                 1C8S                  Betterave   \n",
      "6    12:37:48                 OL7Y               Pas d'entrée   \n",
      "7    12:39:19                 9E7A              Mini sandwich   \n",
      "8    12:40:23                 4B5E  Salade de pommes de terre   \n",
      "9    12:40:41                 607K                  Betterave   \n",
      "\n",
      "  Prise en double de l'entrée   \\\n",
      "0                          Non   \n",
      "1                          Non   \n",
      "2                          Non   \n",
      "3                          Non   \n",
      "4                          Non   \n",
      "5                          Non   \n",
      "6                          Non   \n",
      "7                          Non   \n",
      "8                          Non   \n",
      "9                          Non   \n",
      "\n",
      "                                               PLAT   \\\n",
      "0               Roti de légumes au tofu + Spaghettis   \n",
      "1               Roti de légumes au tofu + Spaghettis   \n",
      "2  Poisson pané + Spaghettis + Mousseline de potiron   \n",
      "3  Filet de poulet + Spaghettis + Mousseline de p...   \n",
      "4  Poisson pané + Spaghettis + Mousseline de potiron   \n",
      "5  Poisson pané + Spaghettis + Mousseline de potiron   \n",
      "6                          Poisson pané + Spaghettis   \n",
      "7  Poisson pané + Spaghettis + Mousseline de potiron   \n",
      "8  Poisson pané + Spaghettis + Mousseline de potiron   \n",
      "9  Filet de poulet + Spaghettis + Mousseline de p...   \n",
      "\n",
      "                                 DESSERT Prise en double du dessert  \n",
      "0                         Pas de dessert                        Non  \n",
      "1         Roquefort + Pruneaux en sirop                         Non  \n",
      "2                 Crème praliné + Orange                        Oui  \n",
      "3      Yaourt nature Bio + Crème praliné                        Non  \n",
      "4                                 Banane                        Non  \n",
      "5              Pruneaux en sirop + Pomme                        Non  \n",
      "6            Roquefort + Banane + Pomme                         Oui  \n",
      "7             Yaourt nature Bio + Banane                        Oui  \n",
      "8                               Compote                         Non  \n",
      "9  Yaourt nature Bio + Pruneaux en sirop                        Oui  \n",
      "(67, 7)\n",
      "RangeIndex(start=0, stop=67, step=1)\n"
     ]
    }
   ],
   "source": [
    "\n",
    "df = pd.read_csv('Resultats_choix_21_octobre.csv', sep = ';', index_col=False)\n",
=======
   "outputs": [],
   "source": [
    "df = pd.read_csv('../data_processed/Resultats_choix_21_octobre.csv', sep = ';', index_col=False)\n",
>>>>>>> 05518f031434e641eb63604b52ee505fa95bd35c
    "print(df.columns) #Index(['Horodateur', 'Numéro de formulaire ', 'ENTREE','Prise en double de l'entrée ', 'PLAT ', 'DESSERT','Prise en double du dessert'],dtype='object')\n",
    "print(df.head(10))\n",
    "print(df.shape)    \n",
    "print(df.index)     "
   ]
  },
  {
   "cell_type": "markdown",
   "metadata": {
    "pycharm": {
     "name": "#%% md\n"
    }
   },
   "source": [
    "Pour commencer, regardons un peu la distribution des différents plats qui ont été choisis. "
   ]
  },
  {
   "cell_type": "code",
<<<<<<< HEAD
   "execution_count": 70,
=======
   "execution_count": 84,
>>>>>>> 05518f031434e641eb63604b52ee505fa95bd35c
   "metadata": {
    "pycharm": {
     "name": "#%%\n"
    }
   },
   "outputs": [
    {
     "name": "stdout",
     "output_type": "stream",
     "text": [
<<<<<<< HEAD
      "12\n",
      "Poisson pané + Spaghettis + Mousseline de potiron       18\n",
      "Filet de poulet + Spaghettis + Mousseline de potiron    17\n",
      "Roti de légumes au tofu + Spaghettis                     9\n",
      "Poisson pané + Spaghettis                                7\n",
      "Kebab + Frites                                           5\n",
      "Filet de poulet + Spaghettis                             4\n",
      "Entrecôte + Frites + Salade                              2\n",
      "Filet de poulet + Spaghettis + légumes                   1\n",
      "Filet de poulet + Mousseline de potiron                  1\n",
      "Poisson pané  + Mousseline de potiron                    1\n",
      "Filet de poulet                                          1\n",
      "Kebab + Salade                                           1\n",
=======
      "21\n",
      "Boeuf bourguignon + Torsades + Poelée brocolis            27\n",
      "Risotto courgettes                                        19\n",
      "Boeuf bourguignon + Torsades                              15\n",
      "Feuilleté Saumon oseille + Torsades + Poelée brocolis     14\n",
      "Feuilleté Saumon oseille + Torsades                       13\n",
      "Kebab + Frites                                            10\n",
      "Boeuf  bourguignon + Torsades                              8\n",
      "Boeuf  bourguignon + Torsades + Poelée brocolis            4\n",
      "Feuilleté Saumon oseille + Torsades + Poelée brocolis      3\n",
      "Boeuf bourguignon + Torsades + Poelée brocolis             3\n",
      "Pizza merguez poivrons                                     2\n",
      "Feuilleté Saumon oseille + Torsades + Poelée Brocolis      2\n",
      "Pizza raclette                                             2\n",
      "Boeuf  bourguignon + Torsades + Poelée brocolis            2\n",
      "Feuilleté Saumon oseille + Torsades + Poelée  brocolis     1\n",
      "Hamburger + Frites                                         1\n",
      "Torsades + Escalope viennoise                              1\n",
      "Faux-filet + Frites                                        1\n",
      "Boeuf  bourguignon + Torsades +Poelée brocolis             1\n",
      "Torsades + Poelée brocolis + Escalope viennoise            1\n",
      "Feuilleté Saumon oseille + Torsades + Ratatouille          1\n",
>>>>>>> 05518f031434e641eb63604b52ee505fa95bd35c
      "Name: PLAT , dtype: int64\n"
     ]
    }
   ],
   "source": [
    "# NB : \n",
    "# print(type(df['PLAT '])) # <class 'pandas.core.series.Series'> \n",
    "# print(type(df[['PLAT ']])) # <class 'pandas.core.frame.DataFrame'>\n",
    "\n",
    "print(len(df['PLAT '].unique())) # Combien de plats possibles ? --> 11 plats différents \n",
    "print(df['PLAT '].value_counts()) # Quel sont-ils ? \n",
    "\n"
   ]
  },
  {
   "cell_type": "markdown",
   "metadata": {
    "pycharm": {
     "name": "#%% md\n"
    }
   },
   "source": [
    "On observe qu'une mise en forme va être nécéssaire. En effet, à cause des espaces, les plats suivants : \n",
    "\"Boeuf  bourguignon + Torsades +Poelée brocolis\" / \"Boeuf bourguignon + Torsades + Poelée brocolis \" / \"Boeuf  bourguignon + Torsades + Poelée brocolis \"\n",
    "Ne sont pas considérés comme étant les mêmes. "
   ]
  },
  {
   "cell_type": "code",
<<<<<<< HEAD
   "execution_count": 71,
=======
   "execution_count": 85,
>>>>>>> 05518f031434e641eb63604b52ee505fa95bd35c
   "metadata": {
    "pycharm": {
     "name": "#%%\n"
    }
   },
   "outputs": [
    {
     "name": "stdout",
     "output_type": "stream",
     "text": [
<<<<<<< HEAD
      "0                   Rotidelégumesautofu+Spaghettis\n",
      "1                   Rotidelégumesautofu+Spaghettis\n",
      "2       Poissonpané+Spaghettis+Mousselinedepotiron\n",
      "3     Filetdepoulet+Spaghettis+Mousselinedepotiron\n",
      "4       Poissonpané+Spaghettis+Mousselinedepotiron\n",
      "                          ...                     \n",
      "62      Poissonpané+Spaghettis+Mousselinedepotiron\n",
      "63    Filetdepoulet+Spaghettis+Mousselinedepotiron\n",
      "64                          Poissonpané+Spaghettis\n",
      "65                                    Kebab+Frites\n",
      "66                                    Kebab+Salade\n",
      "Name: PLAT , Length: 67, dtype: object\n",
      "12\n",
      "Poissonpané+Spaghettis+Mousselinedepotiron      18\n",
      "Filetdepoulet+Spaghettis+Mousselinedepotiron    17\n",
      "Rotidelégumesautofu+Spaghettis                   9\n",
      "Poissonpané+Spaghettis                           7\n",
      "Kebab+Frites                                     5\n",
      "Filetdepoulet+Spaghettis                         4\n",
      "Entrecôte+Frites+Salade                          2\n",
      "Filetdepoulet+Spaghettis+légumes                 1\n",
      "Filetdepoulet+Mousselinedepotiron                1\n",
      "Poissonpané+Mousselinedepotiron                  1\n",
      "Filetdepoulet                                    1\n",
      "Kebab+Salade                                     1\n",
=======
      "0                          Torsades+Escalopeviennoise\n",
      "1      FeuilletéSaumonoseille+Torsades+PoeléeBrocolis\n",
      "2            Boeufbourguignon+Torsades+Poeléebrocolis\n",
      "3      FeuilletéSaumonoseille+Torsades+PoeléeBrocolis\n",
      "4           Torsades+Poeléebrocolis+Escalopeviennoise\n",
      "                            ...                      \n",
      "126    FeuilletéSaumonoseille+Torsades+Poeléebrocolis\n",
      "127    FeuilletéSaumonoseille+Torsades+Poeléebrocolis\n",
      "128                         Boeufbourguignon+Torsades\n",
      "129          Boeufbourguignon+Torsades+Poeléebrocolis\n",
      "130    FeuilletéSaumonoseille+Torsades+Poeléebrocolis\n",
      "Name: PLAT , Length: 131, dtype: object\n",
      "14\n",
      "Boeufbourguignon+Torsades+Poeléebrocolis          37\n",
      "Boeufbourguignon+Torsades                         23\n",
      "Risottocourgettes                                 19\n",
      "FeuilletéSaumonoseille+Torsades+Poeléebrocolis    18\n",
      "FeuilletéSaumonoseille+Torsades                   13\n",
      "Kebab+Frites                                      10\n",
      "FeuilletéSaumonoseille+Torsades+PoeléeBrocolis     2\n",
      "Pizzaraclette                                      2\n",
      "Pizzamerguezpoivrons                               2\n",
      "Torsades+Escalopeviennoise                         1\n",
      "Torsades+Poeléebrocolis+Escalopeviennoise          1\n",
      "FeuilletéSaumonoseille+Torsades+Ratatouille        1\n",
      "Faux-filet+Frites                                  1\n",
      "Hamburger+Frites                                   1\n",
>>>>>>> 05518f031434e641eb63604b52ee505fa95bd35c
      "Name: PLAT , dtype: int64\n"
     ]
    }
   ],
   "source": [
    "# Enlevons tous les espaces:\n",
    "df['PLAT '] = df['PLAT '].replace(' ', '', regex = True)\n",
    "print(df['PLAT '])\n",
    "\n",
    "# On obtient alors \n",
    "print(len(df['PLAT '].unique())) # Combien de plats possibles ? --> 13 plats differents \n",
    "print(df['PLAT '].value_counts()) # Quel sont-ils ? \n",
    "\n"
   ]
  },
  {
   "cell_type": "markdown",
   "metadata": {
    "pycharm": {
     "name": "#%% md\n"
    }
   },
   "source": [
    "C'est mieux! \n",
    "On observe tout de meme qu'il reste qqs problèmes.\n",
    "Par exemple, un '+' a été oublié, si bien que \"FeuilletéSaumonoseille+TorsadesPoeléebrocolis\" et \"FeuilletéSaumonoseille+Torsades+PoeléeBrocolis\"\n",
    "ne sont pas considérés comme équivalents. \n",
    "--> pas d'autres choix que de rajouter le '+' à la main (?)\n",
    "\n",
    "Pour garder les données d'origine intactes en cas de soucis, créons un dossier 'data_processed' \n",
    "sur lequel on travaillera et qui contiendra ce genre de modifications.   # DONE "
   ]
  },
  {
   "cell_type": "markdown",
   "metadata": {
    "pycharm": {
     "name": "#%% md\n"
    }
   },
   "source": [
    "De plus, on observe qu'à cause d'un problème de casse, \"FeuilletéSaumonoseille+Torsades+Poeléebrocolis \" et \"FeuilletéSaumonoseille+Torsades+PoeléeBrocolis\" sont considérés comme 2 plats differents "
   ]
  },
  {
   "cell_type": "code",
<<<<<<< HEAD
   "execution_count": 72,
=======
   "execution_count": 86,
>>>>>>> 05518f031434e641eb63604b52ee505fa95bd35c
   "metadata": {
    "pycharm": {
     "name": "#%%\n"
    }
   },
   "outputs": [
    {
     "name": "stdout",
     "output_type": "stream",
     "text": [
<<<<<<< HEAD
      "12\n",
      "poissonpané+spaghettis+mousselinedepotiron      18\n",
      "filetdepoulet+spaghettis+mousselinedepotiron    17\n",
      "rotidelégumesautofu+spaghettis                   9\n",
      "poissonpané+spaghettis                           7\n",
      "kebab+frites                                     5\n",
      "filetdepoulet+spaghettis                         4\n",
      "entrecôte+frites+salade                          2\n",
      "filetdepoulet+spaghettis+légumes                 1\n",
      "filetdepoulet+mousselinedepotiron                1\n",
      "poissonpané+mousselinedepotiron                  1\n",
      "filetdepoulet                                    1\n",
      "kebab+salade                                     1\n",
=======
      "13\n",
      "boeufbourguignon+torsades+poeléebrocolis          37\n",
      "boeufbourguignon+torsades                         23\n",
      "feuilletésaumonoseille+torsades+poeléebrocolis    20\n",
      "risottocourgettes                                 19\n",
      "feuilletésaumonoseille+torsades                   13\n",
      "kebab+frites                                      10\n",
      "pizzaraclette                                      2\n",
      "pizzamerguezpoivrons                               2\n",
      "torsades+escalopeviennoise                         1\n",
      "torsades+poeléebrocolis+escalopeviennoise          1\n",
      "feuilletésaumonoseille+torsades+ratatouille        1\n",
      "faux-filet+frites                                  1\n",
      "hamburger+frites                                   1\n",
>>>>>>> 05518f031434e641eb63604b52ee505fa95bd35c
      "Name: PLAT , dtype: int64\n"
     ]
    }
   ],
   "source": [
    "# --> on enlève la casse \n",
    "df['PLAT '] = df['PLAT '].str.lower()\n",
    "# On recommence et on obtient alors :\n",
    "print(len(df['PLAT '].unique())) \n",
    "print(df['PLAT '].value_counts()) "
   ]
  },
  {
   "cell_type": "markdown",
   "metadata": {
    "pycharm": {
     "name": "#%% md\n"
    }
   },
   "source": [
    "Répondons à quelques questions simples : "
   ]
  },
  {
   "cell_type": "code",
<<<<<<< HEAD
   "execution_count": 73,
=======
   "execution_count": 87,
>>>>>>> 05518f031434e641eb63604b52ee505fa95bd35c
   "metadata": {
    "pycharm": {
     "name": "#%%\n"
    }
   },
   "outputs": [
    {
     "name": "stdout",
     "output_type": "stream",
     "text": [
<<<<<<< HEAD
      "0\n",
      "7\n",
      "0\n"
=======
      "96\n",
      "12\n",
      "4\n"
>>>>>>> 05518f031434e641eb63604b52ee505fa95bd35c
     ]
    }
   ],
   "source": [
    "print(df['PLAT '].str.count(\"torsades\").sum()) # A - Combien de personnes ont pris des torsades ? --> 96 \n",
    "print(df['PLAT '].str.count(\"frites\").sum()) # A - Combien de personnes ont pris des frites ? --> 12\n",
    "print(df['PLAT '].str.count(\"pizza\").sum()) # A - Combien de personnes ont pris des pizza ? --> 4"
   ]
  },
  {
   "cell_type": "markdown",
   "metadata": {
    "pycharm": {
     "name": "#%% md\n"
    }
   },
   "source": [
<<<<<<< HEAD
=======
    "Encoder les données en one-hot peut etre pertinente ici. Pour l'instant nous ne faisons qu'une étape préliminaire :  \n",
    "séparer la colonne PLAT et 3 colonnes. "
   ]
  },
  {
   "cell_type": "code",
   "execution_count": 88,
   "metadata": {
    "pycharm": {
     "name": "#%%\n"
    }
   },
   "outputs": [
    {
     "name": "stdout",
     "output_type": "stream",
     "text": [
      "Index(['Horodateur', 'Numéro de formulaire ', 'ENTREE',\n",
      "       'Prise en double de l'entrée ', 'DESSERT', 'Prise en double du dessert',\n",
      "       'PLAT_1', 'PLAT_2', 'PLAT_3'],\n",
      "      dtype='object')\n"
     ]
    }
   ],
   "source": [
    "\n",
    "# Séparons maintenant en plusieurs colonnes la colonne 'PLAT' en utilisant le '+' qui sépare 2 items \n",
    "# L'item i se retrouve dans la colonne 'PLAT_i'\n",
    "df[['PLAT_1','PLAT_2', 'PLAT_3']] = df['PLAT '].str.split('+', expand=True)\n",
    "# On peut supprimer la colonne PLAT\n",
    "df = df.drop('PLAT ', axis = 1)\n",
    "print(df.columns)\n"
   ]
  },
  {
   "cell_type": "markdown",
   "metadata": {
    "pycharm": {
     "name": "#%% md\n"
    }
   },
   "source": [
>>>>>>> 05518f031434e641eb63604b52ee505fa95bd35c
    "Voyons maintenant pour la colonne \"ENTREE\""
   ]
  },
  {
   "cell_type": "code",
<<<<<<< HEAD
   "execution_count": 74,
=======
   "execution_count": 89,
>>>>>>> 05518f031434e641eb63604b52ee505fa95bd35c
   "metadata": {
    "pycharm": {
     "name": "#%%\n"
    }
   },
   "outputs": [
    {
     "name": "stdout",
     "output_type": "stream",
     "text": [
<<<<<<< HEAD
      "9\n",
      "Pas d'entrée                 30\n",
      "Champignons                  10\n",
      "Betterave                     7\n",
      "Mini sandwich                 5\n",
      "Chou blanc                    4\n",
      "Rillette poisson              4\n",
      "Salade de pommes de terre     4\n",
      "Salade de riz                 2\n",
      "Pâté                          1\n",
=======
      "20\n",
      "Pas d'entrée                               63\n",
      "Oeuf mimosa                                17\n",
      "Salade lentilles                           15\n",
      "Champignons                                 5\n",
      "Salade pates                                5\n",
      "Choux blanc à la japonaise                  5\n",
      "Carottes râpées                             4\n",
      "Artichauts                                  3\n",
      "Salade lentilles + Champignons              2\n",
      "Tomates                                     2\n",
      "Oeuf mimosa + Artichauts                    1\n",
      "Salami                                      1\n",
      "Oeuf mimosa + Salami                        1\n",
      "Champignons + Coeurs de palmiers            1\n",
      "Oeuf mimosa + Champignons                   1\n",
      "Coeurs de palmiers                          1\n",
      "Salami + Champignons                        1\n",
      "Salade lentilles + Carottes râpées          1\n",
      "Salade lentilles + Oeuf mimosa              1\n",
      "Choux blanc à la japonaise + Artichauts     1\n",
>>>>>>> 05518f031434e641eb63604b52ee505fa95bd35c
      "Name: ENTREE, dtype: int64\n"
     ]
    }
   ],
   "source": [
    "df['ENTREE']\n",
    "print(len(df['ENTREE'].unique())) \n",
    "print(df['ENTREE'].value_counts()) "
   ]
  },
  {
<<<<<<< HEAD
   "attachments": {},
=======
>>>>>>> 05518f031434e641eb63604b52ee505fa95bd35c
   "cell_type": "markdown",
   "metadata": {
    "pycharm": {
     "name": "#%% md\n"
    }
   },
   "source": [
    "Pas d'erreurs en particulier...  \n",
<<<<<<< HEAD
    "Nous allons tout de même suppprimer les espaces et mettre en lower.case. "
=======
    "Nous allons tout de même suppprimer les espaces et mettre en lower.case. \n",
    "De plus, toujours dans une optique de one hot encoding, nous allons mettre sur 2 colonnes si entrée double."
>>>>>>> 05518f031434e641eb63604b52ee505fa95bd35c
   ]
  },
  {
   "cell_type": "code",
<<<<<<< HEAD
   "execution_count": 75,
=======
   "execution_count": 90,
>>>>>>> 05518f031434e641eb63604b52ee505fa95bd35c
   "metadata": {
    "pycharm": {
     "name": "#%%\n"
    }
   },
   "outputs": [
    {
     "name": "stdout",
     "output_type": "stream",
     "text": [
<<<<<<< HEAD
      "9\n",
      "pasdentrée               30\n",
      "champignons              10\n",
      "betterave                 7\n",
      "minisandwich              5\n",
      "choublanc                 4\n",
      "rillettepoisson           4\n",
      "saladedepommesdeterre     4\n",
      "saladederiz               2\n",
      "pâté                      1\n",
      "Name: ENTREE, dtype: int64\n"
=======
      "Index(['Horodateur', 'Numéro de formulaire ', 'Prise en double de l'entrée ',\n",
      "       'DESSERT', 'Prise en double du dessert', 'PLAT_1', 'PLAT_2', 'PLAT_3',\n",
      "       'ENTREE_1', 'ENTREE_2'],\n",
      "      dtype='object')\n",
      "0                  pasdentrée\n",
      "1      chouxblancàlajaponaise\n",
      "2             saladelentilles\n",
      "3             saladelentilles\n",
      "4                  pasdentrée\n",
      "                ...          \n",
      "126                pasdentrée\n",
      "127                pasdentrée\n",
      "128    chouxblancàlajaponaise\n",
      "129                   tomates\n",
      "130                pasdentrée\n",
      "Name: ENTREE_1, Length: 131, dtype: object\n",
      "11\n",
      "pasdentrée                63\n",
      "oeufmimosa                20\n",
      "saladelentilles           19\n",
      "chouxblancàlajaponaise     6\n",
      "champignons                6\n",
      "saladepates                5\n",
      "carottesrâpées             4\n",
      "artichauts                 3\n",
      "salami                     2\n",
      "tomates                    2\n",
      "coeursdepalmiers           1\n",
      "Name: ENTREE_1, dtype: int64\n",
      "7\n",
      "champignons         4\n",
      "artichauts          2\n",
      "oeufmimosa          1\n",
      "carottesrâpées      1\n",
      "coeursdepalmiers    1\n",
      "salami              1\n",
      "Name: ENTREE_2, dtype: int64\n"
>>>>>>> 05518f031434e641eb63604b52ee505fa95bd35c
     ]
    }
   ],
   "source": [
    "# Enlevons tous les espaces et les apostrophes \n",
    "df['ENTREE'] = df['ENTREE'].replace(' ', '', regex = True)\n",
    "df['ENTREE'] = df['ENTREE'].replace(\"'\", '', regex = True)\n",
    "# --> on enlève la casse \n",
    "df['ENTREE'] = df['ENTREE'].str.lower()\n",
<<<<<<< HEAD
    "print(len(df['ENTREE'].unique())) \n",
    "print(df['ENTREE'].value_counts()) "
=======
    "# Séparons maintenant en plusieurs colonnes la colonne 'ENTREE en utilisant le '+' qui sépare 2 items \n",
    "# L'item i se retrouve dans la colonne 'ENTREE_i'\n",
    "df[['ENTREE_1','ENTREE_2']] = df['ENTREE'].str.split('+', expand=True)\n",
    "#On peut maintenant supprimer la colonne ENTREE\n",
    "df = df.drop('ENTREE', axis=1)\n",
    "\n",
    "# on obtient alors : \n",
    "print(df.columns)\n",
    "print(df['ENTREE_1'])\n",
    "print(len(df['ENTREE_1'].unique())) \n",
    "print(df['ENTREE_1'].value_counts()) \n",
    "\n",
    "print(len(df['ENTREE_2'].unique())) \n",
    "print(df['ENTREE_2'].value_counts()) "
>>>>>>> 05518f031434e641eb63604b52ee505fa95bd35c
   ]
  },
  {
   "cell_type": "markdown",
   "metadata": {
    "pycharm": {
     "name": "#%% md\n"
    }
   },
   "source": [
    "Voyons maintenant pour la colonne 'DESSERTS'"
   ]
  },
  {
   "cell_type": "code",
<<<<<<< HEAD
   "execution_count": 77,
=======
   "execution_count": 91,
>>>>>>> 05518f031434e641eb63604b52ee505fa95bd35c
   "metadata": {
    "pycharm": {
     "name": "#%%\n"
    }
   },
   "outputs": [
    {
     "name": "stdout",
     "output_type": "stream",
     "text": [
<<<<<<< HEAD
      "37\n",
      "Pas de dessert                           5\n",
      "Banane                                   4\n",
      "Yaourt nature Bio                        4\n",
      "Compote                                  3\n",
      "Roquefort                                3\n",
      "Yaourt nature Bio + Compote              3\n",
      "Crème praliné                            3\n",
      "Banane                                   3\n",
      "Yaourt nature Bio + Banane               2\n",
      "Crème praliné                            2\n",
      "Yaourt nature Bio + Pruneaux en sirop    2\n",
      "Yaourt nature Bio                        2\n",
      "Roquefort + Yaourt nature Bio            2\n",
      "Pomme                                    2\n",
      "Yaourt nature Bio + Pomme                2\n",
      "Yaourt nature Bio + Crème praliné        2\n",
      "Cantal AOP + Banane                      2\n",
      "Pruneaux en sirop + Pomme                2\n",
      "Crème praliné + Pomme                    1\n",
      "Compote                                  1\n",
      "Roquefort                                1\n",
      "Kiwi                                     1\n",
      "Roquefort + Crème praliné                1\n",
      "Orange + Pomme                           1\n",
      "Banane + Pomme                           1\n",
      "Kiwi                                     1\n",
      "Cantal AOP                               1\n",
      "Roquefort + Crème praliné                1\n",
      "Orange                                   1\n",
      "Roquefort + Pruneaux en sirop            1\n",
      "Cantal AOP + Orange                      1\n",
      "Cantal AOP + Yaourt nature Bio           1\n",
      "Crème praliné + Banane                   1\n",
      "Cantal AOP + Kiwi                        1\n",
      "Roquefort + Banane + Pomme               1\n",
      "Crème praliné + Orange                   1\n",
      "Orange                                   1\n",
=======
      "42\n",
      "Yaourt aux fruits                                                 15\n",
      "Fromage blanc fruits rouges                                       11\n",
      "Pas de dessert                                                     9\n",
      "Yaourt aux fruits + Banane                                         8\n",
      "Fromage blanc fruits rouges + Pomme golden                         8\n",
      "Yaourt aux fruits + Pomme golden                                   5\n",
      "Banane                                                             5\n",
      "Yaourt aux fruits + Fromage blanc fruits rouges + Banane           5\n",
      "Fromage blanc fruits rouges + Orange                               4\n",
      "Yaourt aux fruits + Fromage blanc fruits rouges                    4\n",
      "Faisselle nature + Fromage blanc fruits rouges                     4\n",
      "Yaourt nature sucré                                                4\n",
      "Mimolette + Fromage blanc fruits rouges                            4\n",
      "Faisselle nature                                                   4\n",
      "Orange                                                             3\n",
      "Yaourt nature sucré + Fromage blanc fruits rouges                  3\n",
      "Fromage blanc fruits rouges + Banane                               3\n",
      "Mimolette                                                          2\n",
      "Faisselle nature + Pomme golden                                    2\n",
      "Yaourt aux fruits + Kiwi                                           2\n",
      "Mimolette + Yaourt aux fruits                                      2\n",
      "Faisselle nature + Fromage blanc fruits rouges + Pomme golden      2\n",
      "Flanc chocolat                                                     2\n",
      "Fromage blanc fruits rouges + Flanc chocolat                       2\n",
      "Œuf à la neige                                                     1\n",
      "Fromage blanc fruits rouges + Kiwi                                 1\n",
      "Yaourt nature sucré + Pomme golden + Kiwi                          1\n",
      "Yaourt aux fruits + Fromage blanc fruits rouges + Pomme golden     1\n",
      "Pomme golden                                                       1\n",
      "Yaourt aux fruits                                                  1\n",
      "Mimolette + Flanc chocolat                                         1\n",
      "Yaourt aux fruits + Flanc chocolat                                 1\n",
      "Yaourt nature sucré + Œuf à la neige                               1\n",
      "Faisselle nature + Flanc chocolat + Banane                         1\n",
      "Yaourt aux fruits + Flanc chocolat + Banane                        1\n",
      "Yaourt nature sucré + Yaourt aux fruits + Banane                   1\n",
      "Faisselle nature + Flanc chocolat                                  1\n",
      "Œuf à la neige                                                     1\n",
      "Yaourt nature sucré + Pomme golden                                 1\n",
      "Faisselle nature + Banane                                          1\n",
      "Mimolette + Fromage blanc fruits rouges + Flanc chocolat           1\n",
      "Fromage blanc fruits rouges + Pomme golden + Kiwi                  1\n",
>>>>>>> 05518f031434e641eb63604b52ee505fa95bd35c
      "Name: DESSERT, dtype: int64\n"
     ]
    }
   ],
   "source": [
    "df['DESSERT']\n",
    "print(len(df['DESSERT'].unique())) \n",
    "print(df['DESSERT'].value_counts()) "
   ]
  },
  {
   "cell_type": "markdown",
   "metadata": {
    "pycharm": {
     "name": "#%% md\n"
    }
   },
   "source": [
    "42 possibilités, non pas parce que le choix est très large, mais parce qu'il y a beaucoup de combinaisons possibles.  \n",
    "Pour juste compter quel est le dessert qui a été le plus choisi, il serait interessant de ne pas brouiller le signal avec de telle combinaisons.  \n",
    "One-hot encoding ? "
   ]
  },
  {
   "cell_type": "code",
<<<<<<< HEAD
   "execution_count": 78,
=======
   "execution_count": 92,
>>>>>>> 05518f031434e641eb63604b52ee505fa95bd35c
   "metadata": {
    "pycharm": {
     "name": "#%%\n"
    }
   },
<<<<<<< HEAD
   "outputs": [],
=======
   "outputs": [
    {
     "name": "stdout",
     "output_type": "stream",
     "text": [
      "Index(['Horodateur', 'Numéro de formulaire ', 'Prise en double de l'entrée ',\n",
      "       'Prise en double du dessert', 'PLAT_1', 'PLAT_2', 'PLAT_3', 'ENTREE_1',\n",
      "       'ENTREE_2', 'DESSERT_1', 'DESSERT_2', 'DESSERT_3'],\n",
      "      dtype='object')\n"
     ]
    }
   ],
>>>>>>> 05518f031434e641eb63604b52ee505fa95bd35c
   "source": [
    "# Enlevons tous les espaces et les apostrophes \n",
    "df['DESSERT'] = df['DESSERT'].replace(' ', '', regex = True)\n",
    "df['DESSERT'] = df['DESSERT'].replace(\"'\", '', regex = True)\n",
    "# --> on enlève la casse \n",
<<<<<<< HEAD
    "df['DESSERT'] = df['DESSERT'].str.lower()\n"
=======
    "df['DESSERT'] = df['DESSERT'].str.lower()\n",
    "# Séparons maintenant en plusieurs colonnes la colonne 'DESSERT en utilisant le '+' qui sépare 2 items \n",
    "# L'item i se retrouve dans la colonne 'DESSERT_i'\n",
    "df[['DESSERT_1','DESSERT_2', 'DESSERT_3']] = df['DESSERT'].str.split('+', expand=True)\n",
    "#On peut maintenant supprimer la colonne DESSERT\n",
    "df = df.drop('DESSERT', axis=1)\n",
    "print(df.columns)\n"
>>>>>>> 05518f031434e641eb63604b52ee505fa95bd35c
   ]
  },
  {
   "cell_type": "markdown",
   "metadata": {
    "pycharm": {
     "name": "#%% md\n"
    }
   },
   "source": [
    "On y voit plus clair --> S'il y a des erreurs de frappes / d'enregistrements, on sera plus à meme de le voir.  "
   ]
  },
  {
   "cell_type": "code",
<<<<<<< HEAD
   "execution_count": 80,
=======
   "execution_count": 93,
>>>>>>> 05518f031434e641eb63604b52ee505fa95bd35c
   "metadata": {
    "pycharm": {
     "name": "#%%\n"
    }
   },
   "outputs": [
    {
     "name": "stdout",
     "output_type": "stream",
     "text": [
<<<<<<< HEAD
      "29\n",
      "banane                             7\n",
      "yaourtnaturebio                    6\n",
      "pasdedessert                       5\n",
      "crèmepraliné                       5\n",
      "roquefort                          4\n",
      "compote                            4\n",
      "yaourtnaturebio+compote            3\n",
      "pomme                              2\n",
      "kiwi                               2\n",
      "yaourtnaturebio+pomme              2\n",
      "roquefort+crèmepraliné             2\n",
      "orange                             2\n",
      "cantalaop+banane                   2\n",
      "roquefort+yaourtnaturebio          2\n",
      "yaourtnaturebio+pruneauxensirop    2\n",
      "yaourtnaturebio+banane             2\n",
      "pruneauxensirop+pomme              2\n",
      "yaourtnaturebio+crèmepraliné       2\n",
      "cantalaop+yaourtnaturebio          1\n",
      "roquefort+pruneauxensirop          1\n",
      "cantalaop+orange                   1\n",
      "crèmepraliné+banane                1\n",
      "cantalaop                          1\n",
      "cantalaop+kiwi                     1\n",
      "roquefort+banane+pomme             1\n",
      "crèmepraliné+pomme                 1\n",
      "crèmepraliné+orange                1\n",
      "orange+pomme                       1\n",
      "banane+pomme                       1\n",
      "Name: DESSERT, dtype: int64\n"
=======
      "11\n",
      "yaourtauxfruits             43\n",
      "fromageblancfruitsrouges    30\n",
      "faissellenature             15\n",
      "yaourtnaturesucré           11\n",
      "mimolette                   10\n",
      "pasdedessert                 9\n",
      "banane                       5\n",
      "orange                       3\n",
      "œufàlaneige                  2\n",
      "flancchocolat                2\n",
      "pommegolden                  1\n",
      "Name: DESSERT_1, dtype: int64\n"
>>>>>>> 05518f031434e641eb63604b52ee505fa95bd35c
     ]
    }
   ],
   "source": [
<<<<<<< HEAD
    "print(len(df['DESSERT'].unique())) \n",
    "print(df['DESSERT'].value_counts())"
=======
    "print(len(df['DESSERT_1'].unique())) \n",
    "print(df['DESSERT_1'].value_counts())"
>>>>>>> 05518f031434e641eb63604b52ee505fa95bd35c
   ]
  },
  {
   "cell_type": "markdown",
   "metadata": {
    "pycharm": {
     "name": "#%% md\n"
    }
   },
   "source": [
    "On observe que des '+' on été oubliés : faissellenatureflancchocolat  et yaourtnaturesucréyaourtauxfruits n'ont pas été séparés.  \n",
    "Modifions les à la main dans le csv.  # DONE "
   ]
  },
  {
   "cell_type": "markdown",
   "metadata": {
    "pycharm": {
     "name": "#%% md\n"
    }
   },
   "source": [
    "On observe que les colonnes 'prise en double de dessert' et 'prise en double d'entree' sont très mal renseignées : il est indiqué 'NON' même quand c'est le cas, et inversement. On les enlève, si besoin nous récréerons l'info.  "
   ]
  },
  {
   "cell_type": "code",
<<<<<<< HEAD
   "execution_count": 81,
=======
   "execution_count": 94,
>>>>>>> 05518f031434e641eb63604b52ee505fa95bd35c
   "metadata": {
    "pycharm": {
     "name": "#%%\n"
    }
   },
   "outputs": [
    {
     "name": "stdout",
     "output_type": "stream",
     "text": [
<<<<<<< HEAD
      "Index(['Horodateur', 'Numéro de formulaire', 'ENTREE', 'PLAT ', 'DESSERT'], dtype='object')\n"
=======
      "Index(['Horodateur', 'Numéro de formulaire ', 'PLAT_1', 'PLAT_2', 'PLAT_3',\n",
      "       'ENTREE_1', 'ENTREE_2', 'DESSERT_1', 'DESSERT_2', 'DESSERT_3'],\n",
      "      dtype='object')\n"
>>>>>>> 05518f031434e641eb63604b52ee505fa95bd35c
     ]
    }
   ],
   "source": [
    "df = df.drop(\"Prise en double de l'entrée \", axis=1)\n",
    "df = df.drop('Prise en double du dessert', axis=1)\n",
    "print(df.columns )"
   ]
  },
  {
   "cell_type": "markdown",
   "metadata": {
    "pycharm": {
     "name": "#%% md\n"
    }
   },
   "source": [
    "Le csv est préprocéssé, nous pouvons l'enregistrer. "
   ]
  },
  {
   "cell_type": "code",
<<<<<<< HEAD
   "execution_count": 82,
=======
   "execution_count": 97,
>>>>>>> 05518f031434e641eb63604b52ee505fa95bd35c
   "metadata": {
    "pycharm": {
     "name": "#%%\n"
    }
   },
   "outputs": [],
   "source": [
<<<<<<< HEAD
    "df.to_csv(\"Resultats_choix_21_octobre_cleaned.csv\", sep = ';')"
=======
    "df.to_csv(\"data_CROUS/data_processed/Resultats_choix_21_octobre_processed.csv\", sep = ';')"
   ]
  },
  {
   "cell_type": "markdown",
   "metadata": {
    "pycharm": {
     "name": "#%% md\n"
    }
   },
   "source": [
    "Nous allons maintenant encoder ce df en one-hot et l'enregistrer. "
>>>>>>> 05518f031434e641eb63604b52ee505fa95bd35c
   ]
  },
  {
   "cell_type": "code",
<<<<<<< HEAD
   "execution_count": null,
   "metadata": {},
   "outputs": [],
=======
   "execution_count": 100,
   "metadata": {
    "pycharm": {
     "name": "#%%\n"
    }
   },
   "outputs": [
    {
     "name": "stdout",
     "output_type": "stream",
     "text": [
      "Index(['Unnamed: 0', 'Horodateur', 'Numéro de formulaire ', 'PLAT_1', 'PLAT_2',\n",
      "       'PLAT_3', 'ENTREE_1', 'ENTREE_2', 'DESSERT_1', 'DESSERT_2',\n",
      "       'DESSERT_3'],\n",
      "      dtype='object')\n"
     ]
    },
    {
     "ename": "KeyError",
     "evalue": "('PLAT_1', 'PLAT_2', 'PLAT_3', 'ENTREE_1', 'ENTREE_2', 'DESSERT_1', 'DESSERT_2', 'DESSERT_3')",
     "output_type": "error",
     "traceback": [
      "\u001b[0;31m---------------------------------------------------------------------------\u001b[0m",
      "\u001b[0;31mKeyError\u001b[0m                                  Traceback (most recent call last)",
      "File \u001b[0;32m~/miniconda3/lib/python3.9/site-packages/pandas/core/indexes/base.py:3803\u001b[0m, in \u001b[0;36mIndex.get_loc\u001b[0;34m(self, key, method, tolerance)\u001b[0m\n\u001b[1;32m   3802\u001b[0m \u001b[39mtry\u001b[39;00m:\n\u001b[0;32m-> 3803\u001b[0m     \u001b[39mreturn\u001b[39;00m \u001b[39mself\u001b[39;49m\u001b[39m.\u001b[39;49m_engine\u001b[39m.\u001b[39;49mget_loc(casted_key)\n\u001b[1;32m   3804\u001b[0m \u001b[39mexcept\u001b[39;00m \u001b[39mKeyError\u001b[39;00m \u001b[39mas\u001b[39;00m err:\n",
      "File \u001b[0;32m~/miniconda3/lib/python3.9/site-packages/pandas/_libs/index.pyx:138\u001b[0m, in \u001b[0;36mpandas._libs.index.IndexEngine.get_loc\u001b[0;34m()\u001b[0m\n",
      "File \u001b[0;32m~/miniconda3/lib/python3.9/site-packages/pandas/_libs/index.pyx:165\u001b[0m, in \u001b[0;36mpandas._libs.index.IndexEngine.get_loc\u001b[0;34m()\u001b[0m\n",
      "File \u001b[0;32mpandas/_libs/hashtable_class_helper.pxi:5745\u001b[0m, in \u001b[0;36mpandas._libs.hashtable.PyObjectHashTable.get_item\u001b[0;34m()\u001b[0m\n",
      "File \u001b[0;32mpandas/_libs/hashtable_class_helper.pxi:5753\u001b[0m, in \u001b[0;36mpandas._libs.hashtable.PyObjectHashTable.get_item\u001b[0;34m()\u001b[0m\n",
      "\u001b[0;31mKeyError\u001b[0m: ('PLAT_1', 'PLAT_2', 'PLAT_3', 'ENTREE_1', 'ENTREE_2', 'DESSERT_1', 'DESSERT_2', 'DESSERT_3')",
      "\nThe above exception was the direct cause of the following exception:\n",
      "\u001b[0;31mKeyError\u001b[0m                                  Traceback (most recent call last)",
      "Cell \u001b[0;32mIn [100], line 3\u001b[0m\n\u001b[1;32m      1\u001b[0m csv \u001b[39m=\u001b[39m pd\u001b[39m.\u001b[39mread_csv(\u001b[39m\"\u001b[39m\u001b[39mdata_CROUS/data_processed/Resultats_choix_21_octobre_processed.csv\u001b[39m\u001b[39m\"\u001b[39m, sep \u001b[39m=\u001b[39m \u001b[39m'\u001b[39m\u001b[39m;\u001b[39m\u001b[39m'\u001b[39m, index_col\u001b[39m=\u001b[39m\u001b[39mFalse\u001b[39;00m)\n\u001b[1;32m      2\u001b[0m \u001b[39mprint\u001b[39m(csv\u001b[39m.\u001b[39mcolumns)\n\u001b[0;32m----> 3\u001b[0m one_hot \u001b[39m=\u001b[39m pd\u001b[39m.\u001b[39mget_dummies(csv[\u001b[39m'\u001b[39;49m\u001b[39mPLAT_1\u001b[39;49m\u001b[39m'\u001b[39;49m, \u001b[39m'\u001b[39;49m\u001b[39mPLAT_2\u001b[39;49m\u001b[39m'\u001b[39;49m,\u001b[39m'\u001b[39;49m\u001b[39mPLAT_3\u001b[39;49m\u001b[39m'\u001b[39;49m, \u001b[39m'\u001b[39;49m\u001b[39mENTREE_1\u001b[39;49m\u001b[39m'\u001b[39;49m, \u001b[39m'\u001b[39;49m\u001b[39mENTREE_2\u001b[39;49m\u001b[39m'\u001b[39;49m, \u001b[39m'\u001b[39;49m\u001b[39mDESSERT_1\u001b[39;49m\u001b[39m'\u001b[39;49m, \u001b[39m'\u001b[39;49m\u001b[39mDESSERT_2\u001b[39;49m\u001b[39m'\u001b[39;49m,\u001b[39m'\u001b[39;49m\u001b[39mDESSERT_3\u001b[39;49m\u001b[39m'\u001b[39;49m])\n\u001b[1;32m      4\u001b[0m \u001b[39mprint\u001b[39m(one_hot\u001b[39m.\u001b[39mcolumns)\n",
      "File \u001b[0;32m~/miniconda3/lib/python3.9/site-packages/pandas/core/frame.py:3804\u001b[0m, in \u001b[0;36mDataFrame.__getitem__\u001b[0;34m(self, key)\u001b[0m\n\u001b[1;32m   3802\u001b[0m \u001b[39mif\u001b[39;00m \u001b[39mself\u001b[39m\u001b[39m.\u001b[39mcolumns\u001b[39m.\u001b[39mnlevels \u001b[39m>\u001b[39m \u001b[39m1\u001b[39m:\n\u001b[1;32m   3803\u001b[0m     \u001b[39mreturn\u001b[39;00m \u001b[39mself\u001b[39m\u001b[39m.\u001b[39m_getitem_multilevel(key)\n\u001b[0;32m-> 3804\u001b[0m indexer \u001b[39m=\u001b[39m \u001b[39mself\u001b[39;49m\u001b[39m.\u001b[39;49mcolumns\u001b[39m.\u001b[39;49mget_loc(key)\n\u001b[1;32m   3805\u001b[0m \u001b[39mif\u001b[39;00m is_integer(indexer):\n\u001b[1;32m   3806\u001b[0m     indexer \u001b[39m=\u001b[39m [indexer]\n",
      "File \u001b[0;32m~/miniconda3/lib/python3.9/site-packages/pandas/core/indexes/base.py:3805\u001b[0m, in \u001b[0;36mIndex.get_loc\u001b[0;34m(self, key, method, tolerance)\u001b[0m\n\u001b[1;32m   3803\u001b[0m     \u001b[39mreturn\u001b[39;00m \u001b[39mself\u001b[39m\u001b[39m.\u001b[39m_engine\u001b[39m.\u001b[39mget_loc(casted_key)\n\u001b[1;32m   3804\u001b[0m \u001b[39mexcept\u001b[39;00m \u001b[39mKeyError\u001b[39;00m \u001b[39mas\u001b[39;00m err:\n\u001b[0;32m-> 3805\u001b[0m     \u001b[39mraise\u001b[39;00m \u001b[39mKeyError\u001b[39;00m(key) \u001b[39mfrom\u001b[39;00m \u001b[39merr\u001b[39;00m\n\u001b[1;32m   3806\u001b[0m \u001b[39mexcept\u001b[39;00m \u001b[39mTypeError\u001b[39;00m:\n\u001b[1;32m   3807\u001b[0m     \u001b[39m# If we have a listlike key, _check_indexing_error will raise\u001b[39;00m\n\u001b[1;32m   3808\u001b[0m     \u001b[39m#  InvalidIndexError. Otherwise we fall through and re-raise\u001b[39;00m\n\u001b[1;32m   3809\u001b[0m     \u001b[39m#  the TypeError.\u001b[39;00m\n\u001b[1;32m   3810\u001b[0m     \u001b[39mself\u001b[39m\u001b[39m.\u001b[39m_check_indexing_error(key)\n",
      "\u001b[0;31mKeyError\u001b[0m: ('PLAT_1', 'PLAT_2', 'PLAT_3', 'ENTREE_1', 'ENTREE_2', 'DESSERT_1', 'DESSERT_2', 'DESSERT_3')"
     ]
    }
   ],
   "source": [
    "csv = pd.read_csv(\"data_CROUS/data_processed/Resultats_choix_21_octobre_processed.csv\", sep = ';', index_col=False)\n",
    "print(csv.columns)\n",
    "one_hot = pd.get_dummies(csv['PLAT_1', 'PLAT_2','PLAT_3', 'ENTREE_1', 'ENTREE_2', 'DESSERT_1', 'DESSERT_2','DESSERT_3'])\n",
    "print(one_hot.columns)"
   ]
  },
  {
   "cell_type": "markdown",
   "metadata": {
    "pycharm": {
     "name": "#%% md\n"
    }
   },
>>>>>>> 05518f031434e641eb63604b52ee505fa95bd35c
   "source": []
  }
 ],
 "metadata": {
  "kernelspec": {
<<<<<<< HEAD
   "display_name": "Python 3.9.13 ('base')",
=======
   "display_name": "base",
>>>>>>> 05518f031434e641eb63604b52ee505fa95bd35c
   "language": "python",
   "name": "python3"
  },
  "language_info": {
   "codemirror_mode": {
    "name": "ipython",
    "version": 3
   },
   "file_extension": ".py",
   "mimetype": "text/x-python",
   "name": "python",
   "nbconvert_exporter": "python",
   "pygments_lexer": "ipython3",
<<<<<<< HEAD
   "version": "3.9.13"
=======
   "version": "3.9.12"
>>>>>>> 05518f031434e641eb63604b52ee505fa95bd35c
  },
  "orig_nbformat": 4,
  "vscode": {
   "interpreter": {
<<<<<<< HEAD
    "hash": "5fc140dc3efbcdd724716f65d474894e1947e1edd4b80a080fedd84e10bf2ba4"
=======
    "hash": "baacd7ded0742aa8408bda3ed6ced71320ba4869ece4e05e453d0cf31ed1376f"
>>>>>>> 05518f031434e641eb63604b52ee505fa95bd35c
   }
  }
 },
 "nbformat": 4,
 "nbformat_minor": 2
}
