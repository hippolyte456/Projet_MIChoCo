{
 "cells": [
  {
   "cell_type": "markdown",
   "metadata": {
    "pycharm": {
     "name": "#%% md\n"
    }
   },
   "source": [
    "## Preprocessing\n",
    "\n",
    "Ce notebook permet d'avoir une première vue sur les données, et de les préprocesser."
   ]
  },
  {
   "cell_type": "code",
   "execution_count": 83,
   "metadata": {
    "pycharm": {
     "name": "#%%\n"
    }
   },
   "outputs": [],
   "source": [
    "import pandas as pd "
   ]
  },
  {
   "cell_type": "markdown",
   "metadata": {
    "pycharm": {
     "name": "#%% md\n"
    }
   },
   "source": [
    "Regardons ce qu'il y a dans les fichiers de type \"resultats choix\" \n"
   ]
  },
  {
   "cell_type": "code",
   "execution_count": 84,
   "metadata": {
    "pycharm": {
     "name": "#%%\n"
    }
   },
   "outputs": [
    {
     "name": "stdout",
     "output_type": "stream",
     "text": [
      "Index(['Horodateur', 'Numéro de formulaire ', 'ENTREE',\n",
      "       'Prise en double de l'entrée ', 'PLAT ', 'DESSERT',\n",
      "       'Prise en double du dessert'],\n",
      "      dtype='object')\n",
      "    Horodateur Numéro de formulaire                           ENTREE  \\\n",
      "0   12:30:48                    6P4Y                    Pas d'entrée   \n",
      "1   12:32:01                    2H8Z     Choux blanc à la japonaise    \n",
      "2   12:32:45                    8M4T  Salade lentilles + Champignons   \n",
      "3   12:32:51                    3G0E                Salade lentilles   \n",
      "4   12:33:28                   8K6E                     Pas d'entrée   \n",
      "5   12:33:34                    2O6T                    Pas d'entrée   \n",
      "6   12:34:07                    1N8N                     Champignons   \n",
      "7   12:34:09                    5P2D                 Carottes râpées   \n",
      "8   12:34:30                    6R0N                    Pas d'entrée   \n",
      "9   12:34:54                    5U6D                     Champignons   \n",
      "\n",
      "  Prise en double de l'entrée   \\\n",
      "0                          Non   \n",
      "1                          Non   \n",
      "2                          Non   \n",
      "3                          Non   \n",
      "4                          Non   \n",
      "5                          Non   \n",
      "6                          Non   \n",
      "7                          Non   \n",
      "8                          Non   \n",
      "9                          Non   \n",
      "\n",
      "                                               PLAT   \\\n",
      "0                      Torsades + Escalope viennoise   \n",
      "1  Feuilleté Saumon oseille + Torsades + Poelée B...   \n",
      "2    Boeuf bourguignon + Torsades + Poelée brocolis    \n",
      "3  Feuilleté Saumon oseille + Torsades + Poelée B...   \n",
      "4    Torsades + Poelée brocolis + Escalope viennoise   \n",
      "5                Feuilleté Saumon oseille + Torsades   \n",
      "6    Boeuf  bourguignon + Torsades + Poelée brocolis   \n",
      "7                      Boeuf  bourguignon + Torsades   \n",
      "8    Boeuf  bourguignon + Torsades + Poelée brocolis   \n",
      "9                      Boeuf  bourguignon + Torsades   \n",
      "\n",
      "                                DESSERT Prise en double du dessert  \n",
      "0            Yaourt aux fruits + Banane                        Non  \n",
      "1                       Œuf à la neige                         Non  \n",
      "2                      Faisselle nature                        Non  \n",
      "3                        Œuf à la neige                        Non  \n",
      "4            Yaourt aux fruits + Banane                        Non  \n",
      "5  Yaourt nature sucré + Œuf à la neige                        Non  \n",
      "6  Fromage blanc fruits rouges + Banane                        Non  \n",
      "7            Yaourt aux fruits + Banane                        Non  \n",
      "8      Yaourt aux fruits + Pomme golden                        Non  \n",
      "9                     Yaourt aux fruits                        Non  \n",
      "(131, 7)\n",
      "RangeIndex(start=0, stop=131, step=1)\n"
     ]
    }
   ],
   "source": [
    "\n",
    "df = pd.read_csv('Resultats_choix_21_octobre.csv', sep = ';', index_col=False)\n",
    "print(df.columns) #Index(['Horodateur', 'Numéro de formulaire ', 'ENTREE','Prise en double de l'entrée ', 'PLAT ', 'DESSERT','Prise en double du dessert'],dtype='object')\n",
    "print(df.head(10))\n",
    "print(df.shape)    \n",
    "print(df.index)     "
   ]
  },
  {
   "cell_type": "markdown",
   "metadata": {
    "pycharm": {
     "name": "#%% md\n"
    }
   },
   "source": [
    "Pour commencer, regardons un peu la distribution des différents plats qui ont été choisis. "
   ]
  },
  {
   "cell_type": "code",
   "execution_count": 85,
   "metadata": {
    "pycharm": {
     "name": "#%%\n"
    }
   },
   "outputs": [
    {
     "name": "stdout",
     "output_type": "stream",
     "text": [
      "21\n",
      "Boeuf bourguignon + Torsades + Poelée brocolis            27\n",
      "Risotto courgettes                                        19\n",
      "Boeuf bourguignon + Torsades                              15\n",
      "Feuilleté Saumon oseille + Torsades + Poelée brocolis     14\n",
      "Feuilleté Saumon oseille + Torsades                       13\n",
      "Kebab + Frites                                            10\n",
      "Boeuf  bourguignon + Torsades                              8\n",
      "Boeuf  bourguignon + Torsades + Poelée brocolis            4\n",
      "Feuilleté Saumon oseille + Torsades + Poelée brocolis      3\n",
      "Boeuf bourguignon + Torsades + Poelée brocolis             3\n",
      "Pizza merguez poivrons                                     2\n",
      "Feuilleté Saumon oseille + Torsades + Poelée Brocolis      2\n",
      "Pizza raclette                                             2\n",
      "Boeuf  bourguignon + Torsades + Poelée brocolis            2\n",
      "Feuilleté Saumon oseille + Torsades+ Poelée brocolis       1\n",
      "Hamburger + Frites                                         1\n",
      "Torsades + Escalope viennoise                              1\n",
      "Faux-filet + Frites                                        1\n",
      "Boeuf  bourguignon + Torsades +Poelée brocolis             1\n",
      "Torsades + Poelée brocolis + Escalope viennoise            1\n",
      "Feuilleté Saumon oseille + Torsades + Ratatouille          1\n",
      "Name: PLAT , dtype: int64\n"
     ]
    }
   ],
   "source": [
    "# NB : \n",
    "# print(type(df['PLAT '])) # <class 'pandas.core.series.Series'> \n",
    "# print(type(df[['PLAT ']])) # <class 'pandas.core.frame.DataFrame'>\n",
    "\n",
    "print(len(df['PLAT '].unique())) # Combien de plats possibles ? --> 11 plats différents \n",
    "print(df['PLAT '].value_counts()) # Quel sont-ils ? \n",
    "\n"
   ]
  },
  {
   "cell_type": "markdown",
   "metadata": {
    "pycharm": {
     "name": "#%% md\n"
    }
   },
   "source": [
    "On observe qu'une mise en forme va être nécéssaire. En effet, à cause des espaces, les plats suivants : \n",
    "\"Boeuf  bourguignon + Torsades +Poelée brocolis\" / \"Boeuf bourguignon + Torsades + Poelée brocolis \" / \"Boeuf  bourguignon + Torsades + Poelée brocolis \"\n",
    "Ne sont pas considérés comme étant les mêmes. "
   ]
  },
  {
   "cell_type": "code",
   "execution_count": 86,
   "metadata": {
    "pycharm": {
     "name": "#%%\n"
    }
   },
   "outputs": [
    {
     "name": "stdout",
     "output_type": "stream",
     "text": [
      "0                          Torsades+Escalopeviennoise\n",
      "1      FeuilletéSaumonoseille+Torsades+PoeléeBrocolis\n",
      "2            Boeufbourguignon+Torsades+Poeléebrocolis\n",
      "3      FeuilletéSaumonoseille+Torsades+PoeléeBrocolis\n",
      "4           Torsades+Poeléebrocolis+Escalopeviennoise\n",
      "                            ...                      \n",
      "126    FeuilletéSaumonoseille+Torsades+Poeléebrocolis\n",
      "127    FeuilletéSaumonoseille+Torsades+Poeléebrocolis\n",
      "128                         Boeufbourguignon+Torsades\n",
      "129          Boeufbourguignon+Torsades+Poeléebrocolis\n",
      "130    FeuilletéSaumonoseille+Torsades+Poeléebrocolis\n",
      "Name: PLAT , Length: 131, dtype: object\n",
      "14\n",
      "Boeufbourguignon+Torsades+Poeléebrocolis          37\n",
      "Boeufbourguignon+Torsades                         23\n",
      "Risottocourgettes                                 19\n",
      "FeuilletéSaumonoseille+Torsades+Poeléebrocolis    18\n",
      "FeuilletéSaumonoseille+Torsades                   13\n",
      "Kebab+Frites                                      10\n",
      "FeuilletéSaumonoseille+Torsades+PoeléeBrocolis     2\n",
      "Pizzaraclette                                      2\n",
      "Pizzamerguezpoivrons                               2\n",
      "Torsades+Escalopeviennoise                         1\n",
      "Torsades+Poeléebrocolis+Escalopeviennoise          1\n",
      "FeuilletéSaumonoseille+Torsades+Ratatouille        1\n",
      "Faux-filet+Frites                                  1\n",
      "Hamburger+Frites                                   1\n",
      "Name: PLAT , dtype: int64\n"
     ]
    }
   ],
   "source": [
    "# Enlevons tous les espaces:\n",
    "df['PLAT '] = df['PLAT '].replace(' ', '', regex = True)\n",
    "print(df['PLAT '])\n",
    "\n",
    "# On obtient alors \n",
    "print(len(df['PLAT '].unique())) # Combien de plats possibles ? --> 13 plats differents \n",
    "print(df['PLAT '].value_counts()) # Quel sont-ils ? \n",
    "\n"
   ]
  },
  {
   "cell_type": "markdown",
   "metadata": {
    "pycharm": {
     "name": "#%% md\n"
    }
   },
   "source": [
    "C'est mieux! \n",
    "On observe tout de meme qu'il reste qqs problèmes.\n",
    "Par exemple, un '+' a été oublié, si bien que \"FeuilletéSaumonoseille+TorsadesPoeléebrocolis\" et \"FeuilletéSaumonoseille+Torsades+PoeléeBrocolis\"\n",
    "ne sont pas considérés comme équivalents. \n",
    "--> pas d'autres choix que de rajouter le '+' à la main (?)\n",
    "\n",
    "Pour garder les données d'origine intactes en cas de soucis, créons un dossier 'data_processed' \n",
    "sur lequel on travaillera et qui contiendra ce genre de modifications.   # DONE "
   ]
  },
  {
   "cell_type": "markdown",
   "metadata": {
    "pycharm": {
     "name": "#%% md\n"
    }
   },
   "source": [
    "De plus, on observe qu'à cause d'un problème de casse, \"FeuilletéSaumonoseille+Torsades+Poeléebrocolis \" et \"FeuilletéSaumonoseille+Torsades+PoeléeBrocolis\" sont considérés comme 2 plats differents "
   ]
  },
  {
   "cell_type": "code",
   "execution_count": 72,
   "metadata": {
    "pycharm": {
     "name": "#%%\n"
    }
   },
   "outputs": [
    {
     "name": "stdout",
     "output_type": "stream",
     "text": [
      "12\n",
      "poissonpané+spaghettis+mousselinedepotiron      18\n",
      "filetdepoulet+spaghettis+mousselinedepotiron    17\n",
      "rotidelégumesautofu+spaghettis                   9\n",
      "poissonpané+spaghettis                           7\n",
      "kebab+frites                                     5\n",
      "filetdepoulet+spaghettis                         4\n",
      "entrecôte+frites+salade                          2\n",
      "filetdepoulet+spaghettis+légumes                 1\n",
      "filetdepoulet+mousselinedepotiron                1\n",
      "poissonpané+mousselinedepotiron                  1\n",
      "filetdepoulet                                    1\n",
      "kebab+salade                                     1\n",
      "Name: PLAT , dtype: int64\n"
     ]
    }
   ],
   "source": [
    "# --> on enlève la casse \n",
    "df['PLAT '] = df['PLAT '].str.lower()\n",
    "# On recommence et on obtient alors :\n",
    "print(len(df['PLAT '].unique())) \n",
    "print(df['PLAT '].value_counts()) "
   ]
  },
  {
   "cell_type": "markdown",
   "metadata": {
    "pycharm": {
     "name": "#%% md\n"
    }
   },
   "source": [
    "Répondons à quelques questions simples : "
   ]
  },
  {
   "cell_type": "code",
   "execution_count": 73,
   "metadata": {
    "pycharm": {
     "name": "#%%\n"
    }
   },
   "outputs": [
    {
     "name": "stdout",
     "output_type": "stream",
     "text": [
      "0\n",
      "7\n",
      "0\n"
     ]
    }
   ],
   "source": [
    "print(df['PLAT '].str.count(\"torsades\").sum()) # A - Combien de personnes ont pris des torsades ? --> 96 \n",
    "print(df['PLAT '].str.count(\"frites\").sum()) # A - Combien de personnes ont pris des frites ? --> 12\n",
    "print(df['PLAT '].str.count(\"pizza\").sum()) # A - Combien de personnes ont pris des pizza ? --> 4"
   ]
  },
  {
   "cell_type": "markdown",
   "metadata": {
    "pycharm": {
     "name": "#%% md\n"
    }
   },
   "source": [
    "Voyons maintenant pour la colonne \"ENTREE\""
   ]
  },
  {
   "cell_type": "code",
   "execution_count": 74,
   "metadata": {
    "pycharm": {
     "name": "#%%\n"
    }
   },
   "outputs": [
    {
     "name": "stdout",
     "output_type": "stream",
     "text": [
      "9\n",
      "Pas d'entrée                 30\n",
      "Champignons                  10\n",
      "Betterave                     7\n",
      "Mini sandwich                 5\n",
      "Chou blanc                    4\n",
      "Rillette poisson              4\n",
      "Salade de pommes de terre     4\n",
      "Salade de riz                 2\n",
      "Pâté                          1\n",
      "Name: ENTREE, dtype: int64\n"
     ]
    }
   ],
   "source": [
    "df['ENTREE']\n",
    "print(len(df['ENTREE'].unique())) \n",
    "print(df['ENTREE'].value_counts()) "
   ]
  },
  {
   "attachments": {},
   "cell_type": "markdown",
   "metadata": {
    "pycharm": {
     "name": "#%% md\n"
    }
   },
   "source": [
    "Pas d'erreurs en particulier...  \n",
    "Nous allons tout de même suppprimer les espaces et mettre en lower.case. "
   ]
  },
  {
   "cell_type": "code",
   "execution_count": 75,
   "metadata": {
    "pycharm": {
     "name": "#%%\n"
    }
   },
   "outputs": [
    {
     "name": "stdout",
     "output_type": "stream",
     "text": [
      "9\n",
      "pasdentrée               30\n",
      "champignons              10\n",
      "betterave                 7\n",
      "minisandwich              5\n",
      "choublanc                 4\n",
      "rillettepoisson           4\n",
      "saladedepommesdeterre     4\n",
      "saladederiz               2\n",
      "pâté                      1\n",
      "Name: ENTREE, dtype: int64\n"
     ]
    }
   ],
   "source": [
    "# Enlevons tous les espaces et les apostrophes \n",
    "df['ENTREE'] = df['ENTREE'].replace(' ', '', regex = True)\n",
    "df['ENTREE'] = df['ENTREE'].replace(\"'\", '', regex = True)\n",
    "# --> on enlève la casse \n",
    "df['ENTREE'] = df['ENTREE'].str.lower()\n",
    "print(len(df['ENTREE'].unique())) \n",
    "print(df['ENTREE'].value_counts()) "
   ]
  },
  {
   "cell_type": "markdown",
   "metadata": {
    "pycharm": {
     "name": "#%% md\n"
    }
   },
   "source": [
    "Voyons maintenant pour la colonne 'DESSERTS'"
   ]
  },
  {
   "cell_type": "code",
   "execution_count": 77,
   "metadata": {
    "pycharm": {
     "name": "#%%\n"
    }
   },
   "outputs": [
    {
     "name": "stdout",
     "output_type": "stream",
     "text": [
      "37\n",
      "Pas de dessert                           5\n",
      "Banane                                   4\n",
      "Yaourt nature Bio                        4\n",
      "Compote                                  3\n",
      "Roquefort                                3\n",
      "Yaourt nature Bio + Compote              3\n",
      "Crème praliné                            3\n",
      "Banane                                   3\n",
      "Yaourt nature Bio + Banane               2\n",
      "Crème praliné                            2\n",
      "Yaourt nature Bio + Pruneaux en sirop    2\n",
      "Yaourt nature Bio                        2\n",
      "Roquefort + Yaourt nature Bio            2\n",
      "Pomme                                    2\n",
      "Yaourt nature Bio + Pomme                2\n",
      "Yaourt nature Bio + Crème praliné        2\n",
      "Cantal AOP + Banane                      2\n",
      "Pruneaux en sirop + Pomme                2\n",
      "Crème praliné + Pomme                    1\n",
      "Compote                                  1\n",
      "Roquefort                                1\n",
      "Kiwi                                     1\n",
      "Roquefort + Crème praliné                1\n",
      "Orange + Pomme                           1\n",
      "Banane + Pomme                           1\n",
      "Kiwi                                     1\n",
      "Cantal AOP                               1\n",
      "Roquefort + Crème praliné                1\n",
      "Orange                                   1\n",
      "Roquefort + Pruneaux en sirop            1\n",
      "Cantal AOP + Orange                      1\n",
      "Cantal AOP + Yaourt nature Bio           1\n",
      "Crème praliné + Banane                   1\n",
      "Cantal AOP + Kiwi                        1\n",
      "Roquefort + Banane + Pomme               1\n",
      "Crème praliné + Orange                   1\n",
      "Orange                                   1\n",
      "Name: DESSERT, dtype: int64\n"
     ]
    }
   ],
   "source": [
    "df['DESSERT']\n",
    "print(len(df['DESSERT'].unique())) \n",
    "print(df['DESSERT'].value_counts()) "
   ]
  },
  {
   "cell_type": "markdown",
   "metadata": {
    "pycharm": {
     "name": "#%% md\n"
    }
   },
   "source": [
    "42 possibilités, non pas parce que le choix est très large, mais parce qu'il y a beaucoup de combinaisons possibles.  \n",
    "Pour juste compter quel est le dessert qui a été le plus choisi, il serait interessant de ne pas brouiller le signal avec de telle combinaisons.  \n",
    "One-hot encoding ? "
   ]
  },
  {
   "cell_type": "code",
   "execution_count": 78,
   "metadata": {
    "pycharm": {
     "name": "#%%\n"
    }
   },
   "outputs": [],
   "source": [
    "# Enlevons tous les espaces et les apostrophes \n",
    "df['DESSERT'] = df['DESSERT'].replace(' ', '', regex = True)\n",
    "df['DESSERT'] = df['DESSERT'].replace(\"'\", '', regex = True)\n",
    "# --> on enlève la casse \n",
    "df['DESSERT'] = df['DESSERT'].str.lower()\n"
   ]
  },
  {
   "cell_type": "markdown",
   "metadata": {
    "pycharm": {
     "name": "#%% md\n"
    }
   },
   "source": [
    "On y voit plus clair --> S'il y a des erreurs de frappes / d'enregistrements, on sera plus à meme de le voir.  "
   ]
  },
  {
   "cell_type": "code",
   "execution_count": 80,
   "metadata": {
    "pycharm": {
     "name": "#%%\n"
    }
   },
   "outputs": [
    {
     "name": "stdout",
     "output_type": "stream",
     "text": [
      "29\n",
      "banane                             7\n",
      "yaourtnaturebio                    6\n",
      "pasdedessert                       5\n",
      "crèmepraliné                       5\n",
      "roquefort                          4\n",
      "compote                            4\n",
      "yaourtnaturebio+compote            3\n",
      "pomme                              2\n",
      "kiwi                               2\n",
      "yaourtnaturebio+pomme              2\n",
      "roquefort+crèmepraliné             2\n",
      "orange                             2\n",
      "cantalaop+banane                   2\n",
      "roquefort+yaourtnaturebio          2\n",
      "yaourtnaturebio+pruneauxensirop    2\n",
      "yaourtnaturebio+banane             2\n",
      "pruneauxensirop+pomme              2\n",
      "yaourtnaturebio+crèmepraliné       2\n",
      "cantalaop+yaourtnaturebio          1\n",
      "roquefort+pruneauxensirop          1\n",
      "cantalaop+orange                   1\n",
      "crèmepraliné+banane                1\n",
      "cantalaop                          1\n",
      "cantalaop+kiwi                     1\n",
      "roquefort+banane+pomme             1\n",
      "crèmepraliné+pomme                 1\n",
      "crèmepraliné+orange                1\n",
      "orange+pomme                       1\n",
      "banane+pomme                       1\n",
      "Name: DESSERT, dtype: int64\n"
     ]
    }
   ],
   "source": [
    "print(len(df['DESSERT'].unique())) \n",
    "print(df['DESSERT'].value_counts())"
   ]
  },
  {
   "cell_type": "markdown",
   "metadata": {
    "pycharm": {
     "name": "#%% md\n"
    }
   },
   "source": [
    "On observe que des '+' on été oubliés : faissellenatureflancchocolat  et yaourtnaturesucréyaourtauxfruits n'ont pas été séparés.  \n",
    "Modifions les à la main dans le csv.  # DONE "
   ]
  },
  {
   "cell_type": "markdown",
   "metadata": {
    "pycharm": {
     "name": "#%% md\n"
    }
   },
   "source": [
    "On observe que les colonnes 'prise en double de dessert' et 'prise en double d'entree' sont très mal renseignées : il est indiqué 'NON' même quand c'est le cas, et inversement. On les enlève, si besoin nous récréerons l'info.  "
   ]
  },
  {
   "cell_type": "code",
   "execution_count": 81,
   "metadata": {
    "pycharm": {
     "name": "#%%\n"
    }
   },
   "outputs": [
    {
     "name": "stdout",
     "output_type": "stream",
     "text": [
      "Index(['Horodateur', 'Numéro de formulaire', 'ENTREE', 'PLAT ', 'DESSERT'], dtype='object')\n"
     ]
    }
   ],
   "source": [
    "df = df.drop(\"Prise en double de l'entrée \", axis=1)\n",
    "df = df.drop('Prise en double du dessert', axis=1)\n",
    "print(df.columns )"
   ]
  },
  {
   "cell_type": "markdown",
   "metadata": {
    "pycharm": {
     "name": "#%% md\n"
    }
   },
   "source": [
    "Le csv est préprocéssé, nous pouvons l'enregistrer. "
   ]
  },
  {
   "cell_type": "code",
   "execution_count": 82,
   "metadata": {
    "pycharm": {
     "name": "#%%\n"
    }
   },
   "outputs": [],
   "source": [
    "df.to_csv(\"Resultats_choix_21_octobre_cleaned.csv\", sep = ';')"
   ]
  },
  {
   "cell_type": "code",
   "execution_count": null,
   "metadata": {},
   "outputs": [],
   "source": []
  }
 ],
 "metadata": {
  "kernelspec": {
   "display_name": "Python 3.9.13 ('base')",
   "language": "python",
   "name": "python3"
  },
  "language_info": {
   "codemirror_mode": {
    "name": "ipython",
    "version": 3
   },
   "file_extension": ".py",
   "mimetype": "text/x-python",
   "name": "python",
   "nbconvert_exporter": "python",
   "pygments_lexer": "ipython3",
   "version": "3.9.13 | packaged by conda-forge | (main, May 27 2022, 17:01:00) \n[Clang 13.0.1 ]"
  },
  "orig_nbformat": 4,
  "vscode": {
   "interpreter": {
    "hash": "5fc140dc3efbcdd724716f65d474894e1947e1edd4b80a080fedd84e10bf2ba4"
   }
  }
 },
 "nbformat": 4,
 "nbformat_minor": 2
}
