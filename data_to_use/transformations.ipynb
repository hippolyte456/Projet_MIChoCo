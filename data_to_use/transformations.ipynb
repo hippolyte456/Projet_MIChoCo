{
 "cells": [
  {
   "cell_type": "code",
   "execution_count": 4,
   "metadata": {},
   "outputs": [
    {
     "name": "stdout",
     "output_type": "stream",
     "text": [
      "/home/hippo/Documents/Projet_MIChoCo/data_to_use\n"
     ]
    }
   ],
   "source": [
    "import numpy as np\n",
    "import pandas as pd\n",
    "import matplotlib.pyplot as plt\n",
    "import os\n",
    "import math\n",
    "import re \n",
    "print(os.getcwd())\n",
    "\n",
    "\n",
    "file_in = '../data_CROUS/preprocessed_hippo/choix_21_octobre_clean.csv'\n",
    "#on recueillera tous les resultats d'analyses dans un fichier texte de sortie\n",
    "#folder_out = 'data_to_use/choice_representation/'"
   ]
  },
  {
   "cell_type": "code",
   "execution_count": 5,
   "metadata": {},
   "outputs": [],
   "source": [
    "choix = pd.read_csv(file_in, sep=\";\", encoding='latin-1')"
   ]
  },
  {
   "cell_type": "code",
   "execution_count": 7,
   "metadata": {},
   "outputs": [],
   "source": [
    "# on retire les colonnes ne correspondant pas à des choix\n",
    "choix = choix.drop(\"Horodateur\", axis=1)\n",
    "choix = choix.drop(\"Unnamed: 0\", axis=1)"
   ]
  },
  {
   "cell_type": "code",
   "execution_count": null,
   "metadata": {},
   "outputs": [],
   "source": []
  },
  {
   "attachments": {},
   "cell_type": "markdown",
   "metadata": {},
   "source": [
    "### I. Transformations de la matrice de choix "
   ]
  },
  {
   "attachments": {},
   "cell_type": "markdown",
   "metadata": {},
   "source": [
    "#### a. Representation des aliments par leur spatialité"
   ]
  },
  {
   "cell_type": "code",
   "execution_count": null,
   "metadata": {},
   "outputs": [],
   "source": [
    "# on passe de la representation item par item à une representation qui aggrège le nombre d'item choisis par lieux\n",
    "# s'il y a 5 tables différentes où sont  disposer les items, on aura 5 colonnes dans le tableau\n",
    "\n",
    "spatial_vector = np.array([]) # un vecteur de la longueur du nombre d'items, qui associe à chacun son lieu sur lesquels on pouvait le trouver\n",
    "\n",
    "def make_spatial_matrix(matrix, array):\n",
    "    return matrix\n",
    "\n",
    "X = make_spatial_matrix(choix, spatial_vector)"
   ]
  },
  {
   "cell_type": "code",
   "execution_count": null,
   "metadata": {},
   "outputs": [],
   "source": [
    "# on save la matrice de choix pour pouvoir la réutiliser\n",
    "X.to_csv('choix_representation/spaceX.csv', sep=';', encoding='latin-1')"
   ]
  },
  {
   "attachments": {},
   "cell_type": "markdown",
   "metadata": {},
   "source": [
    "#### b. Representation des aliments par leur catégorie alimentaire "
   ]
  },
  {
   "cell_type": "code",
   "execution_count": null,
   "metadata": {},
   "outputs": [],
   "source": []
  },
  {
   "cell_type": "code",
   "execution_count": null,
   "metadata": {},
   "outputs": [],
   "source": [
    "# on save la matrice de choix pour pouvoir la réutiliser\n",
    "X.to_csv('choix_representation/catX.csv', sep=';', encoding='latin-1')"
   ]
  },
  {
   "attachments": {},
   "cell_type": "markdown",
   "metadata": {},
   "source": [
    "#### c. Representation des aliments par leur healthiness"
   ]
  },
  {
   "cell_type": "code",
   "execution_count": null,
   "metadata": {},
   "outputs": [],
   "source": []
  },
  {
   "cell_type": "code",
   "execution_count": null,
   "metadata": {},
   "outputs": [],
   "source": [
    "# on save la matrice de choix pour pouvoir la réutiliser\n",
    "X.to_csv('choix_representation/healthX.csv', sep=';', encoding='latin-1')"
   ]
  }
 ],
 "metadata": {
  "kernelspec": {
   "display_name": "base",
   "language": "python",
   "name": "python3"
  },
  "language_info": {
   "codemirror_mode": {
    "name": "ipython",
    "version": 3
   },
   "file_extension": ".py",
   "mimetype": "text/x-python",
   "name": "python",
   "nbconvert_exporter": "python",
   "pygments_lexer": "ipython3",
   "version": "3.9.12 (main, Apr  5 2022, 06:56:58) \n[GCC 7.5.0]"
  },
  "orig_nbformat": 4,
  "vscode": {
   "interpreter": {
    "hash": "baacd7ded0742aa8408bda3ed6ced71320ba4869ece4e05e453d0cf31ed1376f"
   }
  }
 },
 "nbformat": 4,
 "nbformat_minor": 2
}
