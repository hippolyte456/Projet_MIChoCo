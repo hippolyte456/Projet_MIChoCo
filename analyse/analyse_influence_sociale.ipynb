{
 "cells": [
  {
   "attachments": {},
   "cell_type": "markdown",
   "metadata": {},
   "source": [
    "L'objectif du projet est d'essayer de comprendre les facteurs qui influences le comportement alimentaires blablabla"
   ]
  },
  {
   "attachments": {},
   "cell_type": "markdown",
   "metadata": {},
   "source": [
    "## Chargement packages et données "
   ]
  },
  {
   "cell_type": "code",
   "execution_count": 55,
   "metadata": {},
   "outputs": [
    {
     "name": "stdout",
     "output_type": "stream",
     "text": [
      "/home/hippo/Documents/Projet_MIChoCo\n"
     ]
    }
   ],
   "source": [
    "import numpy as np\n",
    "import pandas as pd\n",
    "import matplotlib.pyplot as plt\n",
    "import os\n",
    "import math\n",
    "import re \n",
    "print(os.getcwd())\n",
    "\n",
    "file_in1 = 'data_CROUS/preprocessed_hippo/merged_21_octobre.csv'\n",
    "file_in2 = 'data_CROUS/preprocessed_hippo/choix_21_octobre_clean.csv'\n",
    "#on recueillera tous les resultats d'analyses dans un fichier texte de sortie\n",
    "file_out = ''"
   ]
  },
  {
   "cell_type": "code",
   "execution_count": 56,
   "metadata": {},
   "outputs": [],
   "source": [
    "merged = pd.read_csv(file_in1, sep=\",\", encoding='latin-1')\n",
    "choix = pd.read_csv(file_in2, sep=\";\", encoding='latin-1')"
   ]
  },
  {
   "attachments": {},
   "cell_type": "markdown",
   "metadata": {},
   "source": [
    "### Regroupement des lignes par groupe "
   ]
  },
  {
   "cell_type": "code",
   "execution_count": null,
   "metadata": {},
   "outputs": [],
   "source": []
  },
  {
   "attachments": {},
   "cell_type": "markdown",
   "metadata": {},
   "source": [
    "### Dernière transformation avant analyse"
   ]
  },
  {
   "cell_type": "code",
   "execution_count": 57,
   "metadata": {},
   "outputs": [],
   "source": [
    "choix = choix.drop(\"Horodateur\", axis=1) # a enlever quand on prendra les matrices dans data_to_use\n",
    "choix = choix.drop(\"Unnamed: 0\", axis=1) # a enlever quand on prendra les matrices dans data_to_use\n",
    "choix = choix.drop(\"num_form\", axis=1)"
   ]
  },
  {
   "cell_type": "code",
   "execution_count": 42,
   "metadata": {},
   "outputs": [],
   "source": [
    "#on transforme en numpy\n",
    "choix = choix.to_numpy()"
   ]
  },
  {
   "cell_type": "code",
   "execution_count": null,
   "metadata": {},
   "outputs": [],
   "source": [
    "\n",
    "#on affiche la matrice des choix sous forme d'une image avec matplotlib\n",
    "plt.imshow(choix)\n",
    "plt.show()\n",
    "\n",
    "'''\n",
    "To DO \n",
    "faire la meme chose après avoir agréger les personnes qui mange ensemble\n",
    "'''"
   ]
  },
  {
   "attachments": {},
   "cell_type": "markdown",
   "metadata": {},
   "source": [
    "### Definition d'une distance entre 2 plateaux qui soient meilleurs que la corrélation (utile ?)"
   ]
  },
  {
   "cell_type": "code",
   "execution_count": 47,
   "metadata": {},
   "outputs": [],
   "source": [
    "# calcul de la distance moyenne entre deux choix d'individus, \n",
    "# il faut définir une métrique qui sera la proportion d'items choisis en commun sur le nombre d'item total dans les deux choix\n",
    "''' \n",
    "attention, ici il faut qu'on discute de la métrique choisie\n",
    "'''\n",
    "def distance_proportion(choix1, choix2):\n",
    "    #on compte le nombre de choix en commun \n",
    "    nb_item_commun = 0\n",
    "    nb_item_total = 0\n",
    "    for i in range(len(choix1)):\n",
    "        nb_item_total += choix1[i] + choix2[i]\n",
    "        if choix1[i] == choix2[i]:\n",
    "            nb_item_commun += choix1[i] + choix2[i]         \n",
    "    #on calcule la proportion de choix en commun \n",
    "    proportion = nb_item_commun / nb_item_total\n",
    "    return proportion\n",
    "# on compte le nombre de choix en commun \n",
    "\n"
   ]
  },
  {
   "cell_type": "code",
   "execution_count": 49,
   "metadata": {},
   "outputs": [
    {
     "data": {
      "text/plain": [
       "0.36363636363636365"
      ]
     },
     "execution_count": 49,
     "metadata": {},
     "output_type": "execute_result"
    }
   ],
   "source": [
    "#un exemple de porportion de plats choisis entre 2 individus \n",
    "distance_proportion(choix[1], choix[2])"
   ]
  },
  {
   "attachments": {},
   "cell_type": "markdown",
   "metadata": {},
   "source": [
    "### Corrélation moyenne entre individus"
   ]
  },
  {
   "cell_type": "code",
   "execution_count": null,
   "metadata": {},
   "outputs": [],
   "source": [
    "# on calcule la corrélation entre les individus \n",
    "corr_matrix = np.corrcoef(choix)\n",
    "print(corr_matrix.shape)\n",
    "plt.imshow(corr_matrix)\n"
   ]
  },
  {
   "attachments": {},
   "cell_type": "markdown",
   "metadata": {},
   "source": [
    "... la corrélation augmente en fin de service car il y a moins de choix \n",
    "... on voit deja l'influence des choix des individus qui passe à peu près en même temps"
   ]
  },
  {
   "cell_type": "code",
   "execution_count": 54,
   "metadata": {},
   "outputs": [
    {
     "name": "stdout",
     "output_type": "stream",
     "text": [
      "0.22719679864592693\n"
     ]
    }
   ],
   "source": [
    "#on calcule la distance moyenne d'un individu par rapport à tous les autres individus \n",
    "\n",
    "#on fait la moyenne de la matrice de corrélation\n",
    "moy_corr = np.mean(corr_matrix)\n",
    "print(moy_corr)"
   ]
  },
  {
   "attachments": {},
   "cell_type": "markdown",
   "metadata": {},
   "source": [
    "### Corrélation moyenne des individus au sein d'un groupe "
   ]
  }
 ],
 "metadata": {
  "kernelspec": {
   "display_name": "base",
   "language": "python",
   "name": "python3"
  },
  "language_info": {
   "codemirror_mode": {
    "name": "ipython",
    "version": 3
   },
   "file_extension": ".py",
   "mimetype": "text/x-python",
   "name": "python",
   "nbconvert_exporter": "python",
   "pygments_lexer": "ipython3",
   "version": "3.9.12"
  },
  "orig_nbformat": 4,
  "vscode": {
   "interpreter": {
    "hash": "baacd7ded0742aa8408bda3ed6ced71320ba4869ece4e05e453d0cf31ed1376f"
   }
  }
 },
 "nbformat": 4,
 "nbformat_minor": 2
}
