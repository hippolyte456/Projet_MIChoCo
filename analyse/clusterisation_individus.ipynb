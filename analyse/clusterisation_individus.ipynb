{
 "cells": [
  {
   "attachments": {},
   "cell_type": "markdown",
   "metadata": {},
   "source": [
    "### Chargements packages et données "
   ]
  },
  {
   "attachments": {},
   "cell_type": "markdown",
   "metadata": {},
   "source": [
    "### KNN"
   ]
  },
  {
   "cell_type": "code",
   "execution_count": null,
   "metadata": {},
   "outputs": [],
   "source": [
    "import numpy as np \n",
    "import pandas as pd \n",
    "\n",
    "\n",
    "data_21 = pd.read_csv('data_CROUS/data_processed/one_hot/Resultats_choix_21_octobre_onehot.csv', sep = ';', index_col=False)\n",
    "data_22 = pd.read_csv('data_CROUS/data_processed/one_hot/Resultats_choix_22_octobre_onehot.csv', sep = ';', index_col=False)\n",
    "data_28 = pd.read_csv('data_CROUS/data_processed/one_hot/Resultats_choix_28_octobre_onehot.csv', sep = ';', index_col=False)\n",
    "data_29 = pd.read_csv('data_CROUS/data_processed/one_hot/Resultats_choix_29_octobre_onehot.csv', sep = ';', index_col=False)\n",
    "\n",
    "data_train = data_21 + data_22 + data_28 + data_29\n"
   ]
  },
  {
   "cell_type": "code",
   "execution_count": null,
   "metadata": {},
   "outputs": [],
   "source": [
    "class K_Means:\n",
    "    def __init__(self, k=2, tol=0.001, max_iter=300): #centroids = {}\n",
    "        self.k = k\n",
    "        self.tol = tol\n",
    "        self.max_iter = max_iter\n",
    "        #self.centroids = centroids \n",
    "\n",
    "    def fit(self,data):\n",
    "\n",
    "        #if len(self.centroids) == 0:\n",
    "        #my_centro = [[2, 10],[3, 8],[8,1]]\n",
    "        my_centro = [[1.5,9],[1.5,7],[8,2]]\n",
    "        \n",
    "        self.centroids = {}\n",
    "        for i in range(self.k):\n",
    "                self.centroids[i] = my_centro[i]\n",
    "        print(self.centroids)\n",
    "\n",
    "\n",
    "        for i in range(self.max_iter):\n",
    "            self.classifications = {}\n",
    "\n",
    "            for i in range(self.k):\n",
    "                self.classifications[i] = []\n",
    "\n",
    "            for featureset in data:\n",
    "                distances = [np.linalg.norm(featureset-self.centroids[centroid]) for centroid in self.centroids]\n",
    "                classification = distances.index(min(distances))\n",
    "                self.classifications[classification].append(featureset)\n",
    "\n",
    "            prev_centroids = dict(self.centroids)\n",
    "\n",
    "            for classification in self.classifications:\n",
    "                self.centroids[classification] = np.average(self.classifications[classification],axis=0)\n",
    "\n",
    "            optimized = True\n",
    "\n",
    "            for c in self.centroids:\n",
    "                original_centroid = prev_centroids[c]\n",
    "                current_centroid = self.centroids[c]\n",
    "                if np.sum((current_centroid-original_centroid)/original_centroid*100.0) > self.tol:\n",
    "                    print(np.sum((current_centroid-original_centroid)/original_centroid*100.0))\n",
    "                    optimized = False\n",
    "\n",
    "            if optimized:\n",
    "                break\n",
    "\n"
   ]
  },
  {
   "attachments": {},
   "cell_type": "markdown",
   "metadata": {},
   "source": [
    "### PCA"
   ]
  },
  {
   "cell_type": "code",
   "execution_count": null,
   "metadata": {},
   "outputs": [],
   "source": []
  },
  {
   "attachments": {},
   "cell_type": "markdown",
   "metadata": {},
   "source": [
    "### Recherche de motifs ? "
   ]
  }
 ],
 "metadata": {
  "kernelspec": {
   "display_name": "base",
   "language": "python",
   "name": "python3"
  },
  "language_info": {
   "name": "python",
   "version": "3.9.13 | packaged by conda-forge | (main, May 27 2022, 17:01:00) \n[Clang 13.0.1 ]"
  },
  "orig_nbformat": 4,
  "vscode": {
   "interpreter": {
    "hash": "5fc140dc3efbcdd724716f65d474894e1947e1edd4b80a080fedd84e10bf2ba4"
   }
  }
 },
 "nbformat": 4,
 "nbformat_minor": 2
}
