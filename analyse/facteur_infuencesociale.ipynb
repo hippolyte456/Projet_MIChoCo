{
 "cells": [
  {
   "cell_type": "code",
   "execution_count": 1,
   "metadata": {},
   "outputs": [],
   "source": [
    "#import des librairies\n",
    "import pandas as pd\n",
    "import numpy as np\n",
    "import matplotlib.pyplot as plt\n",
    "import seaborn as sns\n",
    "import os \n",
    "\n",
    "os.getcwd()\n",
    "folder_in = \"../data_CROUS/data_processed/merged_one_hot/\"\n",
    "folder_out = \"\""
   ]
  },
  {
   "cell_type": "code",
   "execution_count": 2,
   "metadata": {},
   "outputs": [
    {
     "data": {
      "text/plain": [
       "0      2\n",
       "1      2\n",
       "2      2\n",
       "3      2\n",
       "4      2\n",
       "      ..\n",
       "321    1\n",
       "322    3\n",
       "323    3\n",
       "324    2\n",
       "325    2\n",
       "Name: Faim, Length: 326, dtype: int64"
      ]
     },
     "execution_count": 2,
     "metadata": {},
     "output_type": "execute_result"
    }
   ],
   "source": [
    "#chargement des données\n",
    "dfmerged = pd.read_csv(folder_in + \"merged_Forms_Choix.csv\", sep=',', encoding='latin-1')\n",
    "#dfchoix = pd.read_csv(folder_in + \"Merged_Choix.csv\", sep=',', encoding='latin-1')\n",
    "dfmerged[\"Faim\"]"
   ]
  },
  {
   "cell_type": "code",
   "execution_count": 3,
   "metadata": {},
   "outputs": [],
   "source": [
    "#pour une ligne donnée, récupération des numéros de formulaires des amis dans le merged\n",
    "\n",
    "\n",
    "#on créé un dataframe empty \n",
    "YX = pd.DataFrame(columns=dfmerged.columns)\n",
    "\n",
    "for i in range(len(dfmerged)):\n",
    "    #on prend la ieme ligne du merged\n",
    "    ligne = dfmerged.iloc[i]\n",
    "    num_form = ligne['Unnamed: 0']\n",
    "    num_groupe = i+1\n",
    "    Lamis = []\n",
    "    yx = dfmerged[dfmerged['index'] == num_form]\n",
    "    #on récupère les valeurs des colonnes dont le nom commencent par Ami\n",
    "    for col in ligne.index:\n",
    "        if col.startswith('Ami'):\n",
    "            #on ne prend que les valeurs différentes de nan\n",
    "            if type(ligne[col]) is str:\n",
    "                Lamis.append(ligne[col])\n",
    "    #on crée une matrice de choix concaténée avec les choix des amis \n",
    "    #comme on a moins de ligne dans le merged que dans le choix, on part du merged et ajoute les choix des amis\n",
    "    for ami in Lamis:\n",
    "        # on prend la ligne où le num_form est celui de l'ami\n",
    "        choix_ami = dfmerged[dfmerged['index'] == ami]\n",
    "        #soit on a une ligne pleine car le numero de formulaire a été trouvé\n",
    "        #soit une ligne vide car il n'a pas été retrouvé\n",
    "        #DANS LE CAS OÙ IL N'EST PAS TROUVÉ ON AJOUTE PAS LA LIGNE\n",
    "        if choix_ami.shape[0] != 0:\n",
    "            yx = pd.concat([yx, choix_ami], axis=0)\n",
    "        yx['num_groupe'] = num_groupe\n",
    "    #on ajoute la ligne au dataframe YX\n",
    "    YX = pd.concat([YX, yx], axis=0)\n",
    "\n",
    "\n",
    "\n",
    "YX.drop(['Unnamed: 0'], axis=1, inplace=True)\n",
    "\n"
   ]
  },
  {
   "cell_type": "code",
   "execution_count": 4,
   "metadata": {},
   "outputs": [
    {
     "data": {
      "text/html": [
       "<div>\n",
       "<style scoped>\n",
       "    .dataframe tbody tr th:only-of-type {\n",
       "        vertical-align: middle;\n",
       "    }\n",
       "\n",
       "    .dataframe tbody tr th {\n",
       "        vertical-align: top;\n",
       "    }\n",
       "\n",
       "    .dataframe thead th {\n",
       "        text-align: right;\n",
       "    }\n",
       "</style>\n",
       "<table border=\"1\" class=\"dataframe\">\n",
       "  <thead>\n",
       "    <tr style=\"text-align: right;\">\n",
       "      <th></th>\n",
       "      <th>index</th>\n",
       "      <th>Genre</th>\n",
       "      <th>Age</th>\n",
       "      <th>Taille</th>\n",
       "      <th>Poids</th>\n",
       "      <th>IMC</th>\n",
       "      <th>Activité physique</th>\n",
       "      <th>Régime particulier</th>\n",
       "      <th>Végé</th>\n",
       "      <th>Fréquence CROUS</th>\n",
       "      <th>...</th>\n",
       "      <th>poire</th>\n",
       "      <th>pruneauxausirop</th>\n",
       "      <th>emmental</th>\n",
       "      <th>bleudauvergneaop</th>\n",
       "      <th>cremepraline</th>\n",
       "      <th>gateaudesemoule</th>\n",
       "      <th>cocktailfruitsexotiques</th>\n",
       "      <th>roquefort</th>\n",
       "      <th>cantalaop</th>\n",
       "      <th>num_groupe</th>\n",
       "    </tr>\n",
       "  </thead>\n",
       "  <tbody>\n",
       "    <tr>\n",
       "      <th>243</th>\n",
       "      <td>7F8H</td>\n",
       "      <td>1</td>\n",
       "      <td>19</td>\n",
       "      <td>1.82</td>\n",
       "      <td>65.0</td>\n",
       "      <td>19.623234</td>\n",
       "      <td>2</td>\n",
       "      <td>1</td>\n",
       "      <td>0</td>\n",
       "      <td>2</td>\n",
       "      <td>...</td>\n",
       "      <td>0.0</td>\n",
       "      <td>0.0</td>\n",
       "      <td>0.0</td>\n",
       "      <td>0.0</td>\n",
       "      <td>0.0</td>\n",
       "      <td>0.0</td>\n",
       "      <td>0.0</td>\n",
       "      <td>0.0</td>\n",
       "      <td>0.0</td>\n",
       "      <td>1.0</td>\n",
       "    </tr>\n",
       "    <tr>\n",
       "      <th>21</th>\n",
       "      <td>0R4C</td>\n",
       "      <td>1</td>\n",
       "      <td>19</td>\n",
       "      <td>1.87</td>\n",
       "      <td>67.0</td>\n",
       "      <td>19.159827</td>\n",
       "      <td>3</td>\n",
       "      <td>0</td>\n",
       "      <td>0</td>\n",
       "      <td>2</td>\n",
       "      <td>...</td>\n",
       "      <td>0.0</td>\n",
       "      <td>0.0</td>\n",
       "      <td>0.0</td>\n",
       "      <td>0.0</td>\n",
       "      <td>0.0</td>\n",
       "      <td>0.0</td>\n",
       "      <td>0.0</td>\n",
       "      <td>0.0</td>\n",
       "      <td>0.0</td>\n",
       "      <td>2.0</td>\n",
       "    </tr>\n",
       "    <tr>\n",
       "      <th>219</th>\n",
       "      <td>6O4Y</td>\n",
       "      <td>1</td>\n",
       "      <td>19</td>\n",
       "      <td>1.85</td>\n",
       "      <td>74.0</td>\n",
       "      <td>21.621622</td>\n",
       "      <td>1</td>\n",
       "      <td>0</td>\n",
       "      <td>0</td>\n",
       "      <td>2</td>\n",
       "      <td>...</td>\n",
       "      <td>0.0</td>\n",
       "      <td>0.0</td>\n",
       "      <td>0.0</td>\n",
       "      <td>0.0</td>\n",
       "      <td>0.0</td>\n",
       "      <td>0.0</td>\n",
       "      <td>0.0</td>\n",
       "      <td>0.0</td>\n",
       "      <td>0.0</td>\n",
       "      <td>2.0</td>\n",
       "    </tr>\n",
       "    <tr>\n",
       "      <th>25</th>\n",
       "      <td>0S0Q</td>\n",
       "      <td>1</td>\n",
       "      <td>19</td>\n",
       "      <td>1.78</td>\n",
       "      <td>55.0</td>\n",
       "      <td>17.358919</td>\n",
       "      <td>2</td>\n",
       "      <td>0</td>\n",
       "      <td>0</td>\n",
       "      <td>2</td>\n",
       "      <td>...</td>\n",
       "      <td>0.0</td>\n",
       "      <td>0.0</td>\n",
       "      <td>0.0</td>\n",
       "      <td>0.0</td>\n",
       "      <td>0.0</td>\n",
       "      <td>0.0</td>\n",
       "      <td>0.0</td>\n",
       "      <td>0.0</td>\n",
       "      <td>0.0</td>\n",
       "      <td>2.0</td>\n",
       "    </tr>\n",
       "    <tr>\n",
       "      <th>96</th>\n",
       "      <td>2U4F</td>\n",
       "      <td>1</td>\n",
       "      <td>20</td>\n",
       "      <td>1.7</td>\n",
       "      <td>65.0</td>\n",
       "      <td>22.491349</td>\n",
       "      <td>1</td>\n",
       "      <td>0</td>\n",
       "      <td>0</td>\n",
       "      <td>2</td>\n",
       "      <td>...</td>\n",
       "      <td>0.0</td>\n",
       "      <td>0.0</td>\n",
       "      <td>0.0</td>\n",
       "      <td>0.0</td>\n",
       "      <td>0.0</td>\n",
       "      <td>0.0</td>\n",
       "      <td>0.0</td>\n",
       "      <td>0.0</td>\n",
       "      <td>0.0</td>\n",
       "      <td>2.0</td>\n",
       "    </tr>\n",
       "    <tr>\n",
       "      <th>...</th>\n",
       "      <td>...</td>\n",
       "      <td>...</td>\n",
       "      <td>...</td>\n",
       "      <td>...</td>\n",
       "      <td>...</td>\n",
       "      <td>...</td>\n",
       "      <td>...</td>\n",
       "      <td>...</td>\n",
       "      <td>...</td>\n",
       "      <td>...</td>\n",
       "      <td>...</td>\n",
       "      <td>...</td>\n",
       "      <td>...</td>\n",
       "      <td>...</td>\n",
       "      <td>...</td>\n",
       "      <td>...</td>\n",
       "      <td>...</td>\n",
       "      <td>...</td>\n",
       "      <td>...</td>\n",
       "      <td>...</td>\n",
       "      <td>...</td>\n",
       "    </tr>\n",
       "    <tr>\n",
       "      <th>131</th>\n",
       "      <td>3S5G</td>\n",
       "      <td>0</td>\n",
       "      <td>21</td>\n",
       "      <td>1.63</td>\n",
       "      <td>55.0</td>\n",
       "      <td>20.700817</td>\n",
       "      <td>1</td>\n",
       "      <td>0</td>\n",
       "      <td>0</td>\n",
       "      <td>2</td>\n",
       "      <td>...</td>\n",
       "      <td>0.0</td>\n",
       "      <td>0.0</td>\n",
       "      <td>0.0</td>\n",
       "      <td>0.0</td>\n",
       "      <td>0.0</td>\n",
       "      <td>0.0</td>\n",
       "      <td>0.0</td>\n",
       "      <td>0.0</td>\n",
       "      <td>0.0</td>\n",
       "      <td>325.0</td>\n",
       "    </tr>\n",
       "    <tr>\n",
       "      <th>33</th>\n",
       "      <td>1A9V</td>\n",
       "      <td>1</td>\n",
       "      <td>21</td>\n",
       "      <td>1.74</td>\n",
       "      <td>65.0</td>\n",
       "      <td>21.46915</td>\n",
       "      <td>0</td>\n",
       "      <td>0</td>\n",
       "      <td>0</td>\n",
       "      <td>1</td>\n",
       "      <td>...</td>\n",
       "      <td>0.0</td>\n",
       "      <td>0.0</td>\n",
       "      <td>0.0</td>\n",
       "      <td>0.0</td>\n",
       "      <td>0.0</td>\n",
       "      <td>0.0</td>\n",
       "      <td>0.0</td>\n",
       "      <td>0.0</td>\n",
       "      <td>0.0</td>\n",
       "      <td>325.0</td>\n",
       "    </tr>\n",
       "    <tr>\n",
       "      <th>206</th>\n",
       "      <td>6A4U</td>\n",
       "      <td>1</td>\n",
       "      <td>22</td>\n",
       "      <td>1.75</td>\n",
       "      <td>50.0</td>\n",
       "      <td>16.326531</td>\n",
       "      <td>2</td>\n",
       "      <td>0</td>\n",
       "      <td>0</td>\n",
       "      <td>2</td>\n",
       "      <td>...</td>\n",
       "      <td>1.0</td>\n",
       "      <td>0.0</td>\n",
       "      <td>0.0</td>\n",
       "      <td>0.0</td>\n",
       "      <td>0.0</td>\n",
       "      <td>0.0</td>\n",
       "      <td>0.0</td>\n",
       "      <td>0.0</td>\n",
       "      <td>0.0</td>\n",
       "      <td>325.0</td>\n",
       "    </tr>\n",
       "    <tr>\n",
       "      <th>303</th>\n",
       "      <td>9C8Y</td>\n",
       "      <td>1</td>\n",
       "      <td>22</td>\n",
       "      <td>1.78</td>\n",
       "      <td>78.0</td>\n",
       "      <td>24.618104</td>\n",
       "      <td>2</td>\n",
       "      <td>0</td>\n",
       "      <td>0</td>\n",
       "      <td>2</td>\n",
       "      <td>...</td>\n",
       "      <td>0.0</td>\n",
       "      <td>0.0</td>\n",
       "      <td>0.0</td>\n",
       "      <td>0.0</td>\n",
       "      <td>0.0</td>\n",
       "      <td>1.0</td>\n",
       "      <td>0.0</td>\n",
       "      <td>0.0</td>\n",
       "      <td>0.0</td>\n",
       "      <td>325.0</td>\n",
       "    </tr>\n",
       "    <tr>\n",
       "      <th>291</th>\n",
       "      <td>8W1B</td>\n",
       "      <td>0</td>\n",
       "      <td>22</td>\n",
       "      <td>1.7</td>\n",
       "      <td>57.0</td>\n",
       "      <td>19.723183</td>\n",
       "      <td>2</td>\n",
       "      <td>1</td>\n",
       "      <td>1</td>\n",
       "      <td>1</td>\n",
       "      <td>...</td>\n",
       "      <td>0.0</td>\n",
       "      <td>0.0</td>\n",
       "      <td>0.0</td>\n",
       "      <td>0.0</td>\n",
       "      <td>0.0</td>\n",
       "      <td>0.0</td>\n",
       "      <td>0.0</td>\n",
       "      <td>0.0</td>\n",
       "      <td>0.0</td>\n",
       "      <td>326.0</td>\n",
       "    </tr>\n",
       "  </tbody>\n",
       "</table>\n",
       "<p>692 rows × 119 columns</p>\n",
       "</div>"
      ],
      "text/plain": [
       "    index Genre Age Taille Poids        IMC Activité physique  \\\n",
       "243  7F8H     1  19   1.82  65.0  19.623234                 2   \n",
       "21   0R4C     1  19   1.87  67.0  19.159827                 3   \n",
       "219  6O4Y     1  19   1.85  74.0  21.621622                 1   \n",
       "25   0S0Q     1  19   1.78  55.0  17.358919                 2   \n",
       "96   2U4F     1  20    1.7  65.0  22.491349                 1   \n",
       "..    ...   ...  ..    ...   ...        ...               ...   \n",
       "131  3S5G     0  21   1.63  55.0  20.700817                 1   \n",
       "33   1A9V     1  21   1.74  65.0   21.46915                 0   \n",
       "206  6A4U     1  22   1.75  50.0  16.326531                 2   \n",
       "303  9C8Y     1  22   1.78  78.0  24.618104                 2   \n",
       "291  8W1B     0  22    1.7  57.0  19.723183                 2   \n",
       "\n",
       "    Régime particulier Végé Fréquence CROUS  ... poire pruneauxausirop  \\\n",
       "243                  1    0               2  ...   0.0             0.0   \n",
       "21                   0    0               2  ...   0.0             0.0   \n",
       "219                  0    0               2  ...   0.0             0.0   \n",
       "25                   0    0               2  ...   0.0             0.0   \n",
       "96                   0    0               2  ...   0.0             0.0   \n",
       "..                 ...  ...             ...  ...   ...             ...   \n",
       "131                  0    0               2  ...   0.0             0.0   \n",
       "33                   0    0               1  ...   0.0             0.0   \n",
       "206                  0    0               2  ...   1.0             0.0   \n",
       "303                  0    0               2  ...   0.0             0.0   \n",
       "291                  1    1               1  ...   0.0             0.0   \n",
       "\n",
       "    emmental bleudauvergneaop cremepraline gateaudesemoule  \\\n",
       "243      0.0              0.0          0.0             0.0   \n",
       "21       0.0              0.0          0.0             0.0   \n",
       "219      0.0              0.0          0.0             0.0   \n",
       "25       0.0              0.0          0.0             0.0   \n",
       "96       0.0              0.0          0.0             0.0   \n",
       "..       ...              ...          ...             ...   \n",
       "131      0.0              0.0          0.0             0.0   \n",
       "33       0.0              0.0          0.0             0.0   \n",
       "206      0.0              0.0          0.0             0.0   \n",
       "303      0.0              0.0          0.0             1.0   \n",
       "291      0.0              0.0          0.0             0.0   \n",
       "\n",
       "    cocktailfruitsexotiques roquefort cantalaop num_groupe  \n",
       "243                     0.0       0.0       0.0        1.0  \n",
       "21                      0.0       0.0       0.0        2.0  \n",
       "219                     0.0       0.0       0.0        2.0  \n",
       "25                      0.0       0.0       0.0        2.0  \n",
       "96                      0.0       0.0       0.0        2.0  \n",
       "..                      ...       ...       ...        ...  \n",
       "131                     0.0       0.0       0.0      325.0  \n",
       "33                      0.0       0.0       0.0      325.0  \n",
       "206                     0.0       0.0       0.0      325.0  \n",
       "303                     0.0       0.0       0.0      325.0  \n",
       "291                     0.0       0.0       0.0      326.0  \n",
       "\n",
       "[692 rows x 119 columns]"
      ]
     },
     "execution_count": 4,
     "metadata": {},
     "output_type": "execute_result"
    }
   ],
   "source": [
    "#separation des donnees selon le jour de la semaine (si il y a plusieurs jours)\n",
    "YX"
   ]
  },
  {
   "cell_type": "code",
   "execution_count": 5,
   "metadata": {},
   "outputs": [],
   "source": [
    "# definition d'une distance entre plateau\n",
    "# on prend en entrée deux lignes 2 choix numpy\n",
    "\n",
    "# si on utilise ça, la distance des plateaux est favorisé par le fait de prendre beaucoup d'items\n",
    "def distance_plateau(p1,p2):\n",
    "    dist = np.sum(np.abs(p1 - p2))\n",
    "    return dist\n"
   ]
  },
  {
   "cell_type": "code",
   "execution_count": 6,
   "metadata": {},
   "outputs": [],
   "source": [
    "# alors que si on utilise ça, on rapporte au nombre d'items choisi donc c'est ok \n",
    "def distance_plateau(p1,p2):\n",
    "    nb_items1 = np.sum(p1)\n",
    "    nb_items2 = np.sum(p2)\n",
    "    nb_item_commun = np.sum(p1*p2)\n",
    "    similarity = 2*nb_item_commun/(nb_items1 + nb_items2)\n",
    "    return similarity*100"
   ]
  },
  {
   "attachments": {},
   "cell_type": "markdown",
   "metadata": {},
   "source": [
    "_____________________________________________________________________"
   ]
  },
  {
   "attachments": {},
   "cell_type": "markdown",
   "metadata": {},
   "source": [
    "#### calcul de la distance moyenne entre 2 plateaux "
   ]
  },
  {
   "cell_type": "code",
   "execution_count": 7,
   "metadata": {},
   "outputs": [],
   "source": [
    "somme = 0\n",
    "i = 0\n",
    "list_dist = []\n",
    "nYX = dfmerged.to_numpy()\n",
    "for plateau1 in nYX:\n",
    "    for plateau2 in nYX:\n",
    "        if plateau1[1] != plateau2[1]:\n",
    "            i += 1 \n",
    "            somme += distance_plateau(plateau1[41:118],plateau2[41:118])\n",
    "            list_dist.append(distance_plateau(plateau1[41:118],plateau2[41:118]))\n",
    "            #print(plateau1[41:118])\n",
    "moyenne = somme / i     \n",
    "ecartT = np.std(list_dist)      \n",
    "  \n",
    "    "
   ]
  },
  {
   "cell_type": "code",
   "execution_count": 8,
   "metadata": {},
   "outputs": [
    {
     "name": "stdout",
     "output_type": "stream",
     "text": [
      "12.97640832242121 105950 20.270176458463602\n",
      "10.772609634051374 15.180207010791047\n"
     ]
    }
   ],
   "source": [
    "print(moyenne, i, ecartT)\n",
    "#intervalle de confiance à 95%\n",
    "print(moyenne - 1.96*ecartT/np.sqrt(325), moyenne + 1.96*ecartT/np.sqrt(325))"
   ]
  },
  {
   "attachments": {},
   "cell_type": "markdown",
   "metadata": {},
   "source": [
    "#### calcul de la distance moyenne entre 2 plateaux à l'interieur des groupes "
   ]
  },
  {
   "cell_type": "code",
   "execution_count": 9,
   "metadata": {},
   "outputs": [],
   "source": [
    "nYXgroup = YX.to_numpy()\n"
   ]
  },
  {
   "cell_type": "code",
   "execution_count": 84,
   "metadata": {},
   "outputs": [],
   "source": [
    "i = 0\n",
    "somme = 0\n",
    "list_dist = []\n",
    "for num_groupe in range(1,327):\n",
    "    #nYXsubg = nYXgroup[nYXgroup[:,-1] == num_groupe]\n",
    "    nYXsubg = nYXgroup[nYXgroup[:,-1] == num_groupe]\n",
    "    #print(nYXsubg)\n",
    "    sommeGr = 0\n",
    "    iGr = 0\n",
    "    for plateau1 in nYXsubg:\n",
    "        for plateau2 in nYXsubg:\n",
    "            if plateau1[0] != plateau2[0]:\n",
    "                \n",
    "                iGr += 1 \n",
    "                sommeGr += distance_plateau(plateau1[40:118],plateau2[40:118])\n",
    "                #print(plateau1[40:118])\n",
    "    \n",
    "    if iGr != 0:\n",
    "        moyenneGr = sommeGr / iGr\n",
    "        i +=1\n",
    "        somme+= moyenneGr\n",
    "        list_dist.append(moyenneGr)\n",
    "\n",
    "\n",
    "moyennegroup = somme / i \n",
    "ecartT = np.std(list_dist) \n"
   ]
  },
  {
   "cell_type": "code",
   "execution_count": 85,
   "metadata": {},
   "outputs": [
    {
     "name": "stdout",
     "output_type": "stream",
     "text": [
      "50.43275012025013 160 19.713605936142123\n",
      "47.3780952332421 53.487405007258154\n"
     ]
    }
   ],
   "source": [
    "print(moyennegroup, i, np.std(list_dist))\n",
    "print(moyennegroup - 1.96*ecartT/np.sqrt(i), moyennegroup + 1.96*ecartT/np.sqrt(i))"
   ]
  },
  {
   "attachments": {},
   "cell_type": "markdown",
   "metadata": {},
   "source": [
    "_____________________________________________________________________"
   ]
  },
  {
   "attachments": {},
   "cell_type": "markdown",
   "metadata": {},
   "source": [
    "#### calcul de distance à l'interieur des groupes selon une modalité (faim, stress, genre...)"
   ]
  },
  {
   "attachments": {},
   "cell_type": "markdown",
   "metadata": {},
   "source": [
    "a/...selon le genre "
   ]
  },
  {
   "cell_type": "code",
   "execution_count": 89,
   "metadata": {},
   "outputs": [],
   "source": [
    "i = 0\n",
    "somme = 0\n",
    "list_dist = []\n",
    "for num_groupe in range(1,327):\n",
    "    #nYXsubg = nYXgroup[nYXgroup[:,-1] == num_groupe]\n",
    "    nYXsubg = nYXgroup[nYXgroup[:,-1] == num_groupe]\n",
    "    #print(nYXsubg)\n",
    "    sommeGr = 0\n",
    "    iGr = 0\n",
    "    for plateau1 in nYXsubg:\n",
    "        if plateau1[1] == 0: #seulement si le genre est homme ou si le genre est femme \n",
    "            for plateau2 in nYXsubg:\n",
    "                if plateau1[0] != plateau2[0]:\n",
    "                    \n",
    "                    iGr += 1 \n",
    "                    sommeGr += distance_plateau(plateau1[40:118],plateau2[40:118])\n",
    "                    #print(plateau1[40:118])\n",
    "        \n",
    "    if iGr != 0:\n",
    "        moyenneGr = sommeGr / iGr\n",
    "        i +=1\n",
    "        somme+= moyenneGr\n",
    "        list_dist.append(moyenneGr)\n",
    "\n",
    "moyenneGenre = somme / i \n",
    "ecartT = np.std(list_dist)   \n"
   ]
  },
  {
   "cell_type": "code",
   "execution_count": 90,
   "metadata": {},
   "outputs": [
    {
     "name": "stdout",
     "output_type": "stream",
     "text": [
      "42.20864024363658 76 20.367051966758247\n"
     ]
    }
   ],
   "source": [
    "print(moyenneGenre, i, np.std(list_dist))\n",
    "#print(moyenneGenre - 1.96*ecartT/np.sqrt(i), moyenneGenre + 1.96*ecartT/np.sqrt(i))"
   ]
  },
  {
   "attachments": {},
   "cell_type": "markdown",
   "metadata": {},
   "source": [
    "...on observe que les femmes ont des plateaux qui ont une distance plus petite avec les plateaux de leur groupe que les hommes (plus d'influence sociale chez la femme ?)"
   ]
  },
  {
   "attachments": {},
   "cell_type": "markdown",
   "metadata": {},
   "source": [
    "b/ Maintenant pour les IMC"
   ]
  },
  {
   "cell_type": "code",
   "execution_count": 93,
   "metadata": {},
   "outputs": [],
   "source": [
    "i = 0\n",
    "somme = 0\n",
    "list_dist = []\n",
    "for num_groupe in range(1,327):\n",
    "    #nYXsubg = nYXgroup[nYXgroup[:,-1] == num_groupe]\n",
    "    nYXsubg = nYXgroup[nYXgroup[:,-1] == num_groupe]\n",
    "    #print(nYXsubg)\n",
    "    sommeGr = 0\n",
    "    iGr = 0\n",
    "    for plateau1 in nYXsubg:\n",
    "        if plateau1[5] > 25: #seulement si le genre est homme\n",
    "            for plateau2 in nYXsubg:\n",
    "                if plateau1[0] != plateau2[0]:\n",
    "                    \n",
    "                    iGr += 1 \n",
    "                    sommeGr += distance_plateau(plateau1[40:118],plateau2[40:118])\n",
    "                    #print(plateau1[40:118])\n",
    "        \n",
    "    if iGr != 0:\n",
    "        moyenneGr = sommeGr / iGr\n",
    "        i +=1\n",
    "        somme+= moyenneGr\n",
    "        list_dist.append(moyenneGr)\n",
    "\n",
    "moyenneIMC = somme / i \n",
    "ecartT = np.std(list_dist)   \n"
   ]
  },
  {
   "cell_type": "code",
   "execution_count": 94,
   "metadata": {},
   "outputs": [
    {
     "name": "stdout",
     "output_type": "stream",
     "text": [
      "53.466619659801474 44 22.092775440356153\n"
     ]
    }
   ],
   "source": [
    "print(moyenneIMC, i, np.std(list_dist))\n",
    "#print(moyenneIMC - 1.96*ecartT/np.sqrt(i), moyenneIMC + 1.96*ecartT/np.sqrt(i))"
   ]
  },
  {
   "attachments": {},
   "cell_type": "markdown",
   "metadata": {},
   "source": [
    "...IMC élevé favorise des distances petites entre plateaux \n",
    "(plus de similarité)"
   ]
  },
  {
   "attachments": {},
   "cell_type": "markdown",
   "metadata": {},
   "source": [
    "c/ Maintenant pour l'activité physique "
   ]
  },
  {
   "cell_type": "code",
   "execution_count": 97,
   "metadata": {},
   "outputs": [],
   "source": [
    "i = 0\n",
    "somme = 0\n",
    "list_dist = []\n",
    "for num_groupe in range(1,327):\n",
    "    #nYXsubg = nYXgroup[nYXgroup[:,-1] == num_groupe]\n",
    "    nYXsubg = nYXgroup[nYXgroup[:,-1] == num_groupe]\n",
    "    #print(nYXsubg)\n",
    "    sommeGr = 0\n",
    "    iGr = 0\n",
    "    for plateau1 in nYXsubg:\n",
    "        if plateau1[6] <= 1.5: \n",
    "            for plateau2 in nYXsubg:\n",
    "                if plateau1[0] != plateau2[0]:\n",
    "                    \n",
    "                    iGr += 1 \n",
    "                    sommeGr += distance_plateau(plateau1[40:118],plateau2[40:118])\n",
    "                    #print(plateau1[40:118])\n",
    "        \n",
    "    if iGr != 0:\n",
    "        moyenneGr = sommeGr / iGr\n",
    "        i +=1\n",
    "        somme+= moyenneGr\n",
    "        list_dist.append(moyenneGr)\n",
    "\n",
    "moyenneaactiphys = somme / i  \n",
    "ecartT = np.std(list_dist)  \n"
   ]
  },
  {
   "cell_type": "code",
   "execution_count": 98,
   "metadata": {},
   "outputs": [
    {
     "name": "stdout",
     "output_type": "stream",
     "text": [
      "50.45336238770584 132 19.748562736808005\n"
     ]
    }
   ],
   "source": [
    "print(moyenneaactiphys, i, np.std(list_dist))\n",
    "#print(moyenneaactiphys - 1.96*ecartT/np.sqrt(i), moyenneaactiphys + 1.96*ecartT/np.sqrt(i))"
   ]
  },
  {
   "attachments": {},
   "cell_type": "markdown",
   "metadata": {},
   "source": [
    "pas de difference..."
   ]
  },
  {
   "attachments": {},
   "cell_type": "markdown",
   "metadata": {},
   "source": [
    "d/ maintenant pour la faim"
   ]
  },
  {
   "cell_type": "code",
   "execution_count": 106,
   "metadata": {},
   "outputs": [],
   "source": [
    "i = 0\n",
    "somme = 0\n",
    "list_dist = []\n",
    "for num_groupe in range(1,327):\n",
    "    #nYXsubg = nYXgroup[nYXgroup[:,-1] == num_groupe]\n",
    "    nYXsubg = nYXgroup[nYXgroup[:,-1] == num_groupe]\n",
    "    #print(nYXsubg)\n",
    "    sommeGr = 0\n",
    "    iGr = 0\n",
    "    for plateau1 in nYXsubg:\n",
    "        if plateau1[19] < 2.5: \n",
    "            for plateau2 in nYXsubg:\n",
    "                if plateau1[0] != plateau2[0]:\n",
    "                    \n",
    "                    iGr += 1 \n",
    "                    sommeGr += distance_plateau(plateau1[40:118],plateau2[40:118])\n",
    "                    #print(plateau1[40:118])\n",
    "        \n",
    "    if iGr != 0:\n",
    "        moyenneGr = sommeGr / iGr\n",
    "        i +=1\n",
    "        somme+= moyenneGr\n",
    "        list_dist.append(moyenneGr)\n",
    "\n",
    "moyennefaim = somme / i   \n",
    "ecartT = np.std(list_dist) \n"
   ]
  },
  {
   "cell_type": "code",
   "execution_count": 107,
   "metadata": {},
   "outputs": [
    {
     "name": "stdout",
     "output_type": "stream",
     "text": [
      "51.183882339211124 147 19.407157439933545\n"
     ]
    }
   ],
   "source": [
    "print(moyennefaim, i, np.std(list_dist))\n",
    "#print(moyennefaim - 1.96*ecartT/np.sqrt(i), moyennefaim + 1.96*ecartT/np.sqrt(i))"
   ]
  },
  {
   "attachments": {},
   "cell_type": "markdown",
   "metadata": {},
   "source": [
    "Les gens qui ont faim sont legerement moins influençable"
   ]
  },
  {
   "attachments": {},
   "cell_type": "markdown",
   "metadata": {},
   "source": [
    "e/ gens stressés"
   ]
  },
  {
   "cell_type": "code",
   "execution_count": 110,
   "metadata": {},
   "outputs": [],
   "source": [
    "i = 0\n",
    "somme = 0\n",
    "list_dist = []\n",
    "for num_groupe in range(1,327):\n",
    "    #nYXsubg = nYXgroup[nYXgroup[:,-1] == num_groupe]\n",
    "    nYXsubg = nYXgroup[nYXgroup[:,-1] == num_groupe]\n",
    "    #print(nYXsubg)\n",
    "    sommeGr = 0\n",
    "    iGr = 0\n",
    "    for plateau1 in nYXsubg:\n",
    "        if plateau1[20] < 2.5: \n",
    "            for plateau2 in nYXsubg:\n",
    "                if plateau1[0] != plateau2[0]:\n",
    "                    \n",
    "                    iGr += 1 \n",
    "                    sommeGr += distance_plateau(plateau1[40:118],plateau2[40:118])\n",
    "                    #print(plateau1[40:118])\n",
    "        \n",
    "    if iGr != 0:\n",
    "        moyenneGr = sommeGr / iGr\n",
    "        i +=1\n",
    "        somme+= moyenneGr\n",
    "        list_dist.append(moyenneGr)\n",
    "\n",
    "moyennestress = somme / i   \n",
    "ecartT = np.std(list_dist) \n"
   ]
  },
  {
   "cell_type": "code",
   "execution_count": 111,
   "metadata": {},
   "outputs": [
    {
     "name": "stdout",
     "output_type": "stream",
     "text": [
      "50.65940478253593 160 19.64581406193699\n"
     ]
    }
   ],
   "source": [
    "print(moyennestress, i, np.std(list_dist))\n",
    "#print(moyennestress - 1.96*ecartT/np.sqrt(i), moyennestress + 1.96*ecartT/np.sqrt(i))"
   ]
  },
  {
   "attachments": {},
   "cell_type": "markdown",
   "metadata": {},
   "source": [
    "Les gens stressés ont des plateaux vraiment différents des autres !!?? "
   ]
  },
  {
   "attachments": {},
   "cell_type": "markdown",
   "metadata": {},
   "source": [
    "6/ Enfin pour l'influence sociale"
   ]
  },
  {
   "cell_type": "code",
   "execution_count": 124,
   "metadata": {},
   "outputs": [],
   "source": [
    "i = 0\n",
    "somme = 0\n",
    "list_dist = []\n",
    "for num_groupe in range(1,327):\n",
    "    #nYXsubg = nYXgroup[nYXgroup[:,-1] == num_groupe]\n",
    "    nYXsubg = nYXgroup[nYXgroup[:,-1] == num_groupe]\n",
    "    #print(nYXsubg)\n",
    "    sommeGr = 0\n",
    "    iGr = 0\n",
    "    for plateau1 in nYXsubg:\n",
    "        if plateau1[16] > 2.5: \n",
    "            for plateau2 in nYXsubg:\n",
    "                if plateau1[0] != plateau2[0]:\n",
    "                    \n",
    "                    iGr += 1 \n",
    "                    sommeGr += distance_plateau(plateau1[40:118],plateau2[40:118])\n",
    "                    #print(plateau1[40:118])\n",
    "        \n",
    "    if iGr != 0:\n",
    "        moyenneGr = sommeGr / iGr\n",
    "        i +=1\n",
    "        somme+= moyenneGr\n",
    "        list_dist.append(moyenneGr)\n",
    "\n",
    "moyenneinflusociale = somme / i   \n",
    "ecartT = np.std(list_dist) \n"
   ]
  },
  {
   "cell_type": "code",
   "execution_count": 125,
   "metadata": {},
   "outputs": [
    {
     "name": "stdout",
     "output_type": "stream",
     "text": [
      "39.22902494331066 14 16.155965302447672\n"
     ]
    }
   ],
   "source": [
    "print(moyenneinflusociale, i, np.std(list_dist))\n",
    "#print(moyenneinflusociale - 1.96*ecartT/np.sqrt(i), moyenneinflusociale + 1.96*ecartT/np.sqrt(i))"
   ]
  },
  {
   "attachments": {},
   "cell_type": "markdown",
   "metadata": {},
   "source": [
    "______________________________________"
   ]
  },
  {
   "attachments": {},
   "cell_type": "markdown",
   "metadata": {},
   "source": [
    "creation de graphes \n"
   ]
  },
  {
   "cell_type": "code",
   "execution_count": 137,
   "metadata": {},
   "outputs": [
    {
     "data": {
      "text/plain": [
       "[<matplotlib.axis.XTick at 0x7f508105a670>,\n",
       " <matplotlib.axis.XTick at 0x7f508105aa60>]"
      ]
     },
     "execution_count": 137,
     "metadata": {},
     "output_type": "execute_result"
    },
    {
     "data": {
      "image/png": "[encoded data removed]",
      "text/plain": [
       "<Figure size 720x720 with 6 Axes>"
      ]
     },
     "metadata": {
      "needs_background": "light"
     },
     "output_type": "display_data"
    }
   ],
   "source": [
    "moyenneH = 42\n",
    "moyenneF = 49\n",
    "ecartH = 20\n",
    "ecartF = 21\n",
    "NH = 76\n",
    "NF = 157\n",
    "\n",
    "moyenneIMCh = 53.5\n",
    "moyenneIMCl = 50\n",
    "ecartIMCh = 22\n",
    "ecartIMCl= 20\n",
    "NIMCh = 44\n",
    "NIMCl = 159\n",
    "\n",
    "moyennephysh = 51\n",
    "moyennephysl = 50\n",
    "ecartphysh = 20\n",
    "ecartphysl = 20\n",
    "Nphysh = 143\n",
    "Nphysl = 132\n",
    "\n",
    "moyennefaimh = 50\n",
    "moyennefaiml = 51\n",
    "ecartfaimh = 20\n",
    "ecartfaiml= 19\n",
    "Nfaimh = 119\n",
    "Nfaiml = 147\n",
    "\n",
    "moyennestressh = 41\n",
    "moyennestressl = 51\n",
    "ecartstressh = 20\n",
    "ecartstressl = 20\n",
    "Nstressh = 30\n",
    "Nstressl = 160\n",
    "\n",
    "moyenneinfluSh = 39\n",
    "moyenneinfluSl = 50\n",
    "ecartinfluSh = 15\n",
    "ecartinfluSl= 20\n",
    "NinfluSh = 14\n",
    "NinfluSl = 157\n",
    "\n",
    "#création d'un graphique avec plusieurs sous-graphiques\n",
    "fig, axs = plt.subplots(2, 3, figsize=(10,10), sharey=True)\n",
    "\n",
    "axs[0,0].bar(range(2), [moyenneF, moyenneH], width = 0.6, color = ['brown', 'darkred'],\n",
    "  edgecolor = 'blue', linewidth = 2, yerr = [ecartH/np.sqrt(NH), ecartH/np.sqrt(NF)],\n",
    "  ecolor = 'magenta', capsize = 5)\n",
    "axs[0,0].set_title(\"Influence sociale = f(genre)\")\n",
    "axs[0,0].set_ylabel(\"mesure de similarité des plateaux\")\n",
    "axs[0,0].set_xticks(range(2), ['Femme', 'Homme'],rotation = 20)\n",
    "\n",
    "axs[0,1].bar(range(2), [moyenneIMCh, moyenneIMCl], width = 0.6, color = ['brown', 'darkred'],\n",
    "  edgecolor = 'blue', linewidth = 2, yerr = [ecartIMCh/np.sqrt(NIMCh), ecartIMCl/np.sqrt(NIMCl)],\n",
    "  ecolor = 'magenta', capsize = 5)\n",
    "axs[0,1].set_title(\"Influence sociale = f(IMC)\")\n",
    "axs[0,1].set_xticks(range(2), ['IMC > 25', 'IMC < 25'],rotation = 20)\n",
    "\n",
    "axs[0,2].bar(range(2), [moyennephysh, moyennephysl], width = 0.6, color = ['brown', 'darkred'],\n",
    "  edgecolor = 'blue', linewidth = 2, yerr = [ecartphysh/np.sqrt(Nphysh), ecartphysl/np.sqrt(Nphysl)],\n",
    "  ecolor = 'magenta', capsize = 5)\n",
    "axs[0,2].set_title(\"Influence sociale = f(acti physique)\")\n",
    "axs[0,2].set_xticks(range(2), ['forte', 'faible'],rotation = 20)\n",
    "\n",
    "\n",
    "\n",
    "\n",
    "#fig, axs = plt.subplots(1, 3, figsize=(10,5), sharey=True)\n",
    "\n",
    "axs[1,0].bar(range(2), [moyennefaimh, moyennefaiml], width = 0.6, color = ['brown', 'darkred'],\n",
    "  edgecolor = 'blue', linewidth = 2, yerr = [ecartfaimh/np.sqrt(Nfaimh), ecartfaiml/np.sqrt(Nfaiml)],\n",
    "  ecolor = 'magenta', capsize = 5)\n",
    "axs[1,0].set_title(\"Influence sociale = f(faim)\")\n",
    "axs[1,0].set_ylabel(\"mesure de similarité des plateaux\")\n",
    "axs[1,0].set_xticks(range(2), ['forte', 'faible'],rotation = 20)\n",
    "\n",
    "axs[1,1].bar(range(2), [moyennestressh, moyennestressl], width = 0.6, color = ['brown', 'darkred'],\n",
    "  edgecolor = 'blue', linewidth = 2, yerr = [ecartstressh/np.sqrt(Nstressh), ecartstressl/np.sqrt(Nstressl)],\n",
    "  ecolor = 'magenta', capsize = 5)\n",
    "axs[1,1].set_title(\"Influence sociale = f(stress)\")\n",
    "axs[1,1].set_xticks(range(2), ['fort', 'faible'],rotation = 20)\n",
    "\n",
    "axs[1,2].bar(range(2), [moyenneinfluSh, moyenneinfluSl], width = 0.6, color = ['brown', 'darkred'],\n",
    "  edgecolor = 'blue', linewidth = 2, yerr = [ecartinfluSh/np.sqrt(NinfluSh), ecartinfluSl/np.sqrt(NinfluSl)],\n",
    "  ecolor = 'magenta', capsize = 5)\n",
    "axs[1,2].set_title(\"Influence sociale = f(influ Sociale)\")\n",
    "axs[1,2].set_xticks(range(2), ['forte', 'faible'],rotation = 20)\n"
   ]
  },
  {
   "attachments": {},
   "cell_type": "markdown",
   "metadata": {},
   "source": [
    "Les petits groupes sont-ils plus ou moins influencés que les gros groupes ? "
   ]
  }
 ],
 "metadata": {
  "kernelspec": {
   "display_name": "base",
   "language": "python",
   "name": "python3"
  },
  "language_info": {
   "codemirror_mode": {
    "name": "ipython",
    "version": 3
   },
   "file_extension": ".py",
   "mimetype": "text/x-python",
   "name": "python",
   "nbconvert_exporter": "python",
   "pygments_lexer": "ipython3",
   "version": "3.9.12"
  },
  "orig_nbformat": 4,
  "vscode": {
   "interpreter": {
    "hash": "baacd7ded0742aa8408bda3ed6ced71320ba4869ece4e05e453d0cf31ed1376f"
   }
  }
 },
 "nbformat": 4,
 "nbformat_minor": 2
}
