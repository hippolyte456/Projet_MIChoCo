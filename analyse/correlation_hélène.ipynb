{
 "cells": [
  {
   "cell_type": "code",
   "execution_count": 1,
   "metadata": {},
   "outputs": [],
   "source": [
    "import pandas as pd \n",
    "import numpy as np \n",
    "import seaborn as sns\n",
    "\n",
    "import warnings\n",
    "warnings.filterwarnings(action='once')"
   ]
  },
  {
   "attachments": {},
   "cell_type": "markdown",
   "metadata": {},
   "source": [
    "### I - Tentative pour trouver d'où viennent les pertes de lignes .... Infructueux .... "
   ]
  },
  {
   "cell_type": "code",
   "execution_count": 2,
   "metadata": {},
   "outputs": [
    {
     "name": "stdout",
     "output_type": "stream",
     "text": [
      "(326, 107)\n",
      "(437, 80)\n",
      "(458, 27)\n",
      "len n form\n",
      "458\n",
      "diff1\n",
      "['7Y5A', '5E1R', '7G6O', '1V3V', '3B0P', '0F1W', '1B5H', '9I3E', '9D5O', '2F8S', '6Y2Q', '0Y2Q', '9K2R', '4W2W', '6O7D', '6W7R', '8S3I', '3X3L', '8I1P', '1K9O', '8D7G', '9Y7K', '3Y2X', '2K0V', '6S8Q', '8W4J', '2G9N', '9Z3Q', '2U5M', '4S3S', '0B8S', '0F1Q', '9A9I', '5S8N', '5I5P', '1O7J', '2A7F', '0G2I', '2F2B', '7A3V', '0R6G', '6C0S', '9I5V', '1D1I', '2C5C', '8K6W', '0A5K', '1O2T', '0D4Y', '4C3L', '4D2Z', '6X8Q', '4E4W', '6E9U', '3Y9M', '4G9N', '9A0P', '5C0L', '5R0T', '7R7Y', '1M2F', '3B3T', '0R1F', '2A4L', '1N8M', '2R4B', '7K8M ', '5Y3F', '3P0Q', '7F5T', '4I6K', '1N9J', '3J7B', '8X7O', '1D4B', '3C2F', '4R8R', '5Y3W', '6J0A', '6R1H', '9W3O', '7L7R', '0F7G', '5W0Z', '6F8P', '2W0S', '8O0N', '3S6B', '2F1L', '3W3R', '9Z6L', '8C3Z', '4Z9V', '4K9H', '1T2X', '8E1F', '2W1G', '3D2G', '4Q1C', '0O9T', '2M6T', '3D2B', '1B3G', '5L0V', '3P8D', '2Y7T', '6T9D', '1S8D', '9F9T', '2E4O', '0I6B', '0T8Q', '2H4R', '4G8T', '0V2T', '7Y2Y', '4H1B', '2P1V', '8O4J', '5A0R', '0I5C', '2S4Q', '4D9G', '8V5M', '0O3R', '1P9Z', '0W3D', '9K7A', '8K6E', '0Q5P', '6E9O', '2I7P']\n",
      "132\n",
      "diff2\n",
      "[nan, '9W1X', '9A09', '2O6T', '2T3H', '5P2D', '6G5H', '7P1T', '4T9L', '5T1N', '3Q4U', '8K6E ', '3I9X', '8K8L', '102T', '6T3K', 'OL7Y', '3V9C', '2L4N', '8T1Q', '1Q7I', '5U6D', '800N', '5G2Q', '5V7A', '1G7J', 'OR1F', '7W5Y', '8M4T', '9Y6D', '1N8N', '5C2M', '8N6P', '0X6C', '3W6I', '5W4J', '4J8L', '9J7R', '0B60', '1W5H', '2E5O', '3N5Y', '6C05', 'OW3D', '2H8Z', '8D5S', '0Y1G', '1I3P', '4DD9G', '6P4Y', '0F9P', '8D9G', '8O3V', '7Y2K', '7S9S', '7E5H', '5B4T', '8P9D', '4M6N', '0P2F', '2C0W', '9I3J', '4E9P', '658Q', '2W9Z', '6V9Q', '3S8I', '4Z3U', '9W30', '1V8P', '9YFK', '7L8N', '7S0F', '607K', '6R0N', '4T8H', '7M4D', '7X7O', '2D7O', '7P4Y', '2B3R', '4L5H', '0U9Y', '3W9E', '1T8V', '5Q0Y', '6I6Y', '5LOV', '8U4S', '8N9Q', '0I8Y', '9V6K', '2O7S', '3B1N', 'OI6B', 'OI5C', '9V3F', '9D50', '254Q', '5R7Y']\n",
      "100\n",
      "diff3\n",
      "132\n",
      "diff4\n",
      "100\n",
      "(326, 107)\n"
     ]
    }
   ],
   "source": [
    "merged = pd.read_csv('../data_CROUS/data_processed/merged_one_hot/merged_Forms_Choix.csv' , sep=\",\", encoding='latin-1')\n",
    "print(merged.shape)\n",
    "\n",
    "choix_merged = pd.read_csv('../data_CROUS/data_processed/merged_one_hot/merged_Choix.csv' , sep=\",\", encoding='latin-1')\n",
    "print(choix_merged.shape)\n",
    "\n",
    "form_merged = pd.read_csv('../data_CROUS/data_processed/merged_one_hot/merged_Formulaires.csv' , sep=\",\", encoding='latin-1')\n",
    "print(form_merged.shape)\n",
    "print('len n form')\n",
    "print(len(form_merged['N° Formulaire'].unique()))\n",
    "\n",
    "print('diff1')\n",
    "diff1 = list(set(form_merged['N° Formulaire']) - set(choix_merged['Numéro de formulaire ']))\n",
    "diff2 = list(set(choix_merged['Numéro de formulaire ']) - set(form_merged['N° Formulaire']))\n",
    "print(diff1)\n",
    "print(len(diff1))\n",
    "\n",
    "print('diff2')\n",
    "print(diff2)\n",
    "print(len(diff2))\n",
    "\n",
    "print('diff3')\n",
    "diff3 = list(set(diff1)-set(diff2))\n",
    "print(len(diff3))\n",
    "\n",
    "print('diff4')\n",
    "diff4 = list(set(diff2)-set(diff1))\n",
    "print(len(diff4))\n",
    "\n",
    "#print(merged.index)\n",
    "print(merged.shape)"
   ]
  },
  {
   "cell_type": "code",
   "execution_count": 3,
   "metadata": {},
   "outputs": [
    {
     "data": {
      "text/plain": [
       "232"
      ]
     },
     "execution_count": 3,
     "metadata": {},
     "output_type": "execute_result"
    }
   ],
   "source": [
    "len(set(choix_merged['Numéro de formulaire ']) ^ set(form_merged['N° Formulaire']))"
   ]
  },
  {
   "cell_type": "code",
   "execution_count": 4,
   "metadata": {},
   "outputs": [
    {
     "name": "stdout",
     "output_type": "stream",
     "text": [
      "0\n"
     ]
    }
   ],
   "source": [
    "common = []\n",
    "for item in choix_merged['Numéro de formulaire ']:\n",
    "    #print(item)\n",
    "    if item in form_merged['N° Formulaire']:\n",
    "        print('cc')\n",
    "        common.append(item)\n",
    "print(len(common))\n",
    "\n",
    "for item in choix_merged['Numéro de formulaire ']:\n",
    "    if item in form_merged['N° Formulaire']:\n",
    "        if item not in common:\n",
    "            print('en vla un ')\n",
    "        #common.append(item)"
   ]
  },
  {
   "attachments": {},
   "cell_type": "markdown",
   "metadata": {},
   "source": [
    "### B - Correlations "
   ]
  },
  {
   "cell_type": "code",
   "execution_count": 5,
   "metadata": {},
   "outputs": [
    {
     "name": "stdout",
     "output_type": "stream",
     "text": [
      "0A2A\n",
      "0A4U\n",
      "0A8B\n",
      "0B2M\n",
      "0C8K\n",
      "0E2X\n",
      "0G1P\n",
      "0G5M\n",
      "0H2B\n",
      "0H5L\n",
      "0H8R\n",
      "0I7G\n",
      "0J8O\n",
      "0M0L\n",
      "0N3Z\n",
      "0N9G\n",
      "0N9P\n",
      "0O5Q\n",
      "0P1I\n",
      "0P1K\n",
      "0P5K\n",
      "0R4C\n",
      "0R4J\n",
      "0R4X\n",
      "0R7V\n",
      "0S0Q\n",
      "0S4Y\n",
      "0S7C\n",
      "0T3B\n",
      "0U8E\n",
      "0X7C\n",
      "0Y1T\n",
      "0Y5X\n",
      "1A9V\n",
      "1B0U\n",
      "1B2S\n",
      "1C3K\n",
      "1C5X\n",
      "1C8S\n",
      "1F7A\n",
      "1F9Y\n",
      "1G3P\n",
      "1G6O\n",
      "1G7G\n",
      "1I1F\n",
      "1J4B\n",
      "1J5T\n",
      "1J6P\n",
      "1J8K\n",
      "1L0F\n",
      "1L4G\n",
      "1M2Q\n",
      "1M4Q\n",
      "1M5C\n",
      "1N9S\n",
      "1O0R\n",
      "1O2H\n",
      "1P5N\n",
      "1Q9K\n",
      "1R9D\n",
      "1T2N\n",
      "1T9W\n",
      "1U6R\n",
      "1U7O\n",
      "1V0X\n",
      "1W3S\n",
      "1W6X\n",
      "1W7I\n",
      "1W8I\n",
      "1Y1C\n",
      "1Y7U\n",
      "1Y9T\n",
      "1Y9W\n",
      "2A1P\n",
      "2A2L\n",
      "2B6T\n",
      "2E1F\n",
      "2E8L\n",
      "2E8R\n",
      "2G0T\n",
      "2G2S\n",
      "2G3P\n",
      "2H3W\n",
      "2H8Q\n",
      "2I9R\n",
      "2J2X\n",
      "2J2Y\n",
      "2K9I\n",
      "2L2Z\n",
      "2M7S\n",
      "2N5P\n",
      "2Q6Z\n",
      "2Q8X\n",
      "2R7A\n",
      "2R9X\n",
      "2U2X\n",
      "2U4F\n",
      "2U8V\n",
      "2U9G\n",
      "2W1Q\n",
      "2W6P\n",
      "2W9X\n",
      "2Y1K\n",
      "2Y1M\n",
      "2Y1W\n",
      "2Y2Q\n",
      "2Y5X\n",
      "2Z9A\n",
      "2Z9H\n",
      "3C4H\n",
      "3E1Q\n",
      "3E3Y\n",
      "3F4Z\n",
      "3G0E\n",
      "3H8D\n",
      "3K7S\n",
      "3K9G\n",
      "3L2B\n",
      "3L6Q\n",
      "3M5G\n",
      "3M6S\n",
      "3O2U\n",
      "3O6S\n",
      "3O6U\n",
      "3Q2Q\n",
      "3Q5T\n",
      "3Q7Q\n",
      "3R3M\n",
      "3R5P\n",
      "3R8M\n",
      "3S3F\n",
      "3S5G\n",
      "3T0E\n",
      "3T0P\n",
      "3U7V\n",
      "3U8T\n",
      "3U9V\n",
      "3V0A\n",
      "3V4C\n",
      "3V6V\n",
      "3W5V\n",
      "3W7U\n",
      "3Y2G\n",
      "3Y3E\n",
      "4A1V\n",
      "4A4Z\n",
      "4A7O\n",
      "4B5E\n",
      "4C0V\n",
      "4D0S\n",
      "4D2Y\n",
      "4D4V\n",
      "4D8M\n",
      "4F9D\n",
      "4H1P\n",
      "4H1X\n",
      "4K3B\n",
      "4L1N\n",
      "4M4I\n",
      "4O4Z\n",
      "4O8C\n",
      "4P8C\n",
      "4S9Z\n",
      "4T1L\n",
      "4U3U\n",
      "4U8Q\n",
      "4U9D\n",
      "4W5E\n",
      "4Z5F\n",
      "5A5R\n",
      "5B2Z\n",
      "5B3U\n",
      "5C7B\n",
      "5C9D\n",
      "5D1Z\n",
      "5D2H\n",
      "5F9Z\n",
      "5G0U\n",
      "5G9R\n",
      "5H2S\n",
      "5I1U\n",
      "5I3E\n",
      "5I5D\n",
      "5J1R\n",
      "5J3M\n",
      "5L2C\n",
      "5L7H\n",
      "5M0T\n",
      "5M6R\n",
      "5M7S\n",
      "5O0Y\n",
      "5P2B\n",
      "5Q1R\n",
      "5Q8O\n",
      "5Q8S\n",
      "5R8S\n",
      "5S4C\n",
      "5S7A\n",
      "5U3X\n",
      "5W3U\n",
      "5W6M\n",
      "5X3K\n",
      "5Y5L\n",
      "5Y6U\n",
      "5Z4K\n",
      "6A3C\n",
      "6A4U\n",
      "6C3U\n",
      "6C6J\n",
      "6C9H\n",
      "6C9V\n",
      "6E4S\n",
      "6F0E\n",
      "6G4G\n",
      "6H0H\n",
      "6H4A\n",
      "6K3Y\n",
      "6L3J\n",
      "6M1O\n",
      "6O4Y\n",
      "6O7K\n",
      "6T0P\n",
      "6T3Q\n",
      "6T3S\n",
      "6U1H\n",
      "6U3B\n",
      "6V3U\n",
      "6W4Y\n",
      "6W8Z\n",
      "6X9F\n",
      "6Z9V\n",
      "7A0X\n",
      "7A7P\n",
      "7B2H\n",
      "7B7K\n",
      "7B9M\n",
      "7D4K\n",
      "7E3P\n",
      "7E4C\n",
      "7E6C\n",
      "7F0W\n",
      "7F1D\n",
      "7F5N\n",
      "7F8H\n",
      "7H7Y\n",
      "7H9N\n",
      "7I1E\n",
      "7I5L\n",
      "7J6U\n",
      "7J8M\n",
      "7J8O\n",
      "7J8Y\n",
      "7K6G\n",
      "7K6K\n",
      "7M6P\n",
      "7N0N\n",
      "7N3X\n",
      "7N7F\n",
      "7P8D\n",
      "7R3E\n",
      "7T4X\n",
      "7U3T\n",
      "7U7X\n",
      "7V3K\n",
      "7V9Y\n",
      "7Z3H\n",
      "8A1R\n",
      "8A4O\n",
      "8B5X\n",
      "8B8H\n",
      "8D7X\n",
      "8E0Y\n",
      "8G5E\n",
      "8G6G\n",
      "8G7E\n",
      "8G8P\n",
      "8H6H\n",
      "8J2L\n",
      "8K4B\n",
      "8M0U\n",
      "8M9W\n",
      "8N1H\n",
      "8N4I\n",
      "8N8Q\n",
      "8Q9F\n",
      "8S5L\n",
      "8S7L\n",
      "8S7P\n",
      "8S8P\n",
      "8U4I\n",
      "8W0W\n",
      "8W1B\n",
      "8W1L\n",
      "8W4Q\n",
      "8W7P\n",
      "8X0N\n",
      "8X6E\n",
      "8X9Z\n",
      "8Z9E\n",
      "9A6W\n",
      "9B3F\n",
      "9B5K\n",
      "9B8H\n",
      "9C8Y\n",
      "9D6N\n",
      "9E7A\n",
      "9G6O\n",
      "9I1E\n",
      "9I2L\n",
      "9I9S\n",
      "9J2Z\n",
      "9J6M\n",
      "9M5B\n",
      "9O9K\n",
      "9P2T\n",
      "9P8X\n",
      "9Q5A\n",
      "9R1R\n",
      "9R3J\n",
      "9R6Y\n",
      "9S9J\n",
      "9V8W\n",
      "9W3C\n",
      "9W3F\n",
      "9X1Z\n",
      "9Z3C\n"
     ]
    }
   ],
   "source": [
    "# pour chaque personne on r\n",
    "correlations = pd.DataFrame(columns = ['individu', 'corr_tot', 'corr_convives'])\n",
    "\n",
    "for i, n_form in enumerate(merged['index']):\n",
    "    print(n_form)\n",
    "    friends = []\n",
    "    for colonne in ['Ami 1','Ami 2','Ami 3','Ami 4','Ami 5']:\n",
    "        num_friend = merged[colonne][i]\n",
    "        if type(num_friend) == str:\n",
    "            friends.append(num_friend)\n",
    "\n",
    "    # ----------- On calcule le produit scalaire entre les plateaux des amis  ------------\n",
    "    ps_convives = 0 # on initialise la somme du produit scalaire à 0 \n",
    "    plateau_1 = np.array(merged.loc[merged['index'] == n_form]).flatten() # le plateau de l'individu que l'on étudie \n",
    "    plateau_1 = plateau_1[28:-1]\n",
    "\n",
    "    for ami in friends:\n",
    "        if (merged['index'] == ami).sum(): # si l'ami existe\n",
    "\n",
    "            #print('cc')\n",
    "            plateau_2 = np.array(merged.loc[merged['index'] == ami]).flatten()\n",
    "            #print('plateau_2')\n",
    "            #print(plateau_2)\n",
    "            plateau_2 = plateau_2[28:-1]\n",
    "\n",
    "            #print(len(plateau_1), len(plateau_2))\n",
    "            try:\n",
    "                ps_convives += np.dot(plateau_1, plateau_2.T)\n",
    "            except:\n",
    "                print()\n",
    "        else : \n",
    "            friends.remove(ami)\n",
    "    try:\n",
    "        ps_convi_norm = ps_convives/len(friends)\n",
    "    except:\n",
    "        ps_convi_norm = 0 # si l'individu  mangé seul, alors corrélation avec le plateau de ses amis = 0 \n",
    "\n",
    "    # ----------- On calcule le produit scalaire entre tous les plateaux et celui de l'indiv étudié   ------------\n",
    "    ps_tot = 0\n",
    "    for indiv in merged['index'][0:10]:\n",
    "        if indiv != n_form:\n",
    "            plateau_2 = np.array(merged.loc[merged['index'] == indiv]).flatten()\n",
    "            plateau_2 = plateau_2[28:-1]\n",
    "            ps_tot += np.dot(plateau_1, plateau_2.T)\n",
    "\n",
    "\n",
    "    # On rajoute la ligne \n",
    "\n",
    "    #df = pd.concat([df, pd.DataFrame.from_records([{ 'a': 1, 'b': 2 }])])\n",
    "    correlations = pd.concat([correlations,pd.DataFrame.from_records([{'individu' : n_form,'corr_tot' : ps_tot/len(merged), 'corr_convives': ps_convi_norm}])]) # on ajoute la ligne \n",
    "\n"
   ]
  },
  {
   "cell_type": "code",
   "execution_count": 6,
   "metadata": {},
   "outputs": [
    {
     "name": "stdout",
     "output_type": "stream",
     "text": [
      "    corr_tot  corr_convives\n",
      "0   0.027607       3.000000\n",
      "0   0.033742       3.750000\n",
      "0   0.006135       0.333333\n",
      "0   0.033742       0.000000\n",
      "0   0.033742       0.000000\n",
      "..       ...            ...\n",
      "0   0.003067       0.000000\n",
      "0   0.003067       0.000000\n",
      "0   0.009202       0.000000\n",
      "0   0.021472       2.000000\n",
      "0   0.012270       0.000000\n",
      "\n",
      "[326 rows x 2 columns]\n"
     ]
    },
    {
     "name": "stderr",
     "output_type": "stream",
     "text": [
      "/var/folders/s4/jtrzm_q55_z39rcm6p6xtgp40000gn/T/ipykernel_3972/2485370843.py:7: FutureWarning: The behavior of `series[i:j]` with an integer-dtype index is deprecated. In a future version, this will be treated as *label-based* indexing, consistent with e.g. `series[i]` lookups. To retain the old behavior, use `series.iloc[i:j]`. To get the future behavior, use `series.loc[i:j]`.\n",
      "  sns.heatmap(im_correlations, cmap = 'Oranges', square=True, yticklabels=correlations['individu'][0:25], xticklabels=['total', 'convives'])\n"
     ]
    },
    {
     "data": {
      "text/plain": [
       "<AxesSubplot: >"
      ]
     },
     "execution_count": 6,
     "metadata": {},
     "output_type": "execute_result"
    },
    {
     "data": {
      "image/png": "[encoded data removed]",
      "text/plain": [
       "<Figure size 640x480 with 2 Axes>"
      ]
     },
     "metadata": {},
     "output_type": "display_data"
    }
   ],
   "source": [
    "import matplotlib.pyplot as plt \n",
    "#print(correlations)\n",
    "im_correlations = correlations[['corr_tot', 'corr_convives']]\n",
    "print(im_correlations)\n",
    "im_correlations = im_correlations[0:25].to_numpy()\n",
    "\n",
    "sns.heatmap(im_correlations, cmap = 'Oranges', square=True, yticklabels=correlations['individu'][0:25], xticklabels=['total', 'convives'])"
   ]
  },
  {
   "cell_type": "code",
   "execution_count": 7,
   "metadata": {},
   "outputs": [
    {
     "name": "stdout",
     "output_type": "stream",
     "text": [
      "0.021905227897173397 1.3973926380368098\n"
     ]
    }
   ],
   "source": [
    "# calculons maintenant la moyenne des moyennes \n",
    "\n",
    "mean_tot = correlations['corr_tot'].mean()\n",
    "mean_convives = correlations['corr_convives'].mean()\n",
    "\n",
    "print(mean_tot, mean_convives)"
   ]
  },
  {
   "attachments": {},
   "cell_type": "markdown",
   "metadata": {},
   "source": [
    "Le produit scalaire entre le plateau d'un individu et celui de ses convives est beaucoup plus important que celui avec le reste des personnes. \n",
    "!!! Ce qu'on fait n'a pas de sens : evidemment que des gens qui n'ont pas mangé le meme jour vont avoir des plats différents, et donc des valeurs de produit scalaire nulles !! \n",
    "--> il faut calculer uniquement avec ceux ayant mangé le meme jour !! "
   ]
  },
  {
   "cell_type": "code",
   "execution_count": 8,
   "metadata": {},
   "outputs": [
    {
     "name": "stdout",
     "output_type": "stream",
     "text": [
      "Index(['Unnamed: 0', 'Numéro de formulaire ', 'chouxblancàlajaponaise',\n",
      "       'saladelentilles', 'champignons', 'carottesrâpées', 'oeufmimosa',\n",
      "       'saladepates', 'artichauts', 'salami', 'coeursdepalmiers', 'tomates',\n",
      "       'torsades', 'feuilletésaumonoseille', 'boeufbourguignon', 'kebab',\n",
      "       'risottocourgettes', 'pizzaraclette', 'faux-filet',\n",
      "       'pizzamerguezpoivrons', 'hamburger', 'escalopeviennoise',\n",
      "       'poeléebrocolis', 'frites', 'ratatouille', 'yaourtauxfruits',\n",
      "       'ufàlaneige', 'faissellenature', 'yaourtnaturesucré',\n",
      "       'fromageblancfruitsrouges', 'banane', 'mimolette', 'flancchocolat',\n",
      "       'orange', 'pommegolden', 'kiwi'],\n",
      "      dtype='object')\n"
     ]
    }
   ],
   "source": [
    "# On crée la liste des gens qui ont mangé le même jour : \n",
    "\n",
    "oct_21 = pd.read_csv('../data_CROUS/data_processed/one_hot/Resultats_choix_21_octobre_onehot.csv' , sep=\";\")\n",
    "oct_22 = pd.read_csv('../data_CROUS/data_processed/one_hot/Resultats_choix_22_octobre_onehot.csv' , sep=\";\")\n",
    "oct_28 = pd.read_csv('../data_CROUS/data_processed/one_hot/Resultats_choix_28_octobre_onehot.csv' , sep=\";\")\n",
    "oct_29 = pd.read_csv('../data_CROUS/data_processed/one_hot/Resultats_choix_29_octobre_onehot.csv' , sep=\";\")\n",
    "\n",
    "print(oct_21.columns)\n",
    "\n",
    "nf_oct_21 = list(oct_21['Numéro de formulaire '])\n",
    "nf_oct_22 = list(oct_22['Numéro de formulaire '])\n",
    "nf_oct_28 = list(oct_28['Numéro de formulaire '])\n",
    "nf_oct_29 = list(oct_29['Numéro de formulaire '])"
   ]
  },
  {
   "cell_type": "code",
   "execution_count": 9,
   "metadata": {},
   "outputs": [],
   "source": [
    "distances = pd.DataFrame(columns = ['individu', 'corr_tot', 'corr_convives'])\n",
    "moy_nf_oct_21 = []\n",
    "moy_nf_oct_22 = []\n",
    "moy_nf_oct_28 = []\n",
    "moy_nf_oct_29 = []\n",
    "\n",
    "for i, n_form in enumerate(merged['index']):\n",
    "    #print(n_form)\n",
    "    friends = []\n",
    "    for colonne in ['Ami 1','Ami 2','Ami 3','Ami 4','Ami 5']:\n",
    "        num_friend = merged[colonne][i]\n",
    "        if type(num_friend) == str:\n",
    "            friends.append(num_friend)\n",
    "\n",
    "    # ----------- On calcule le produit scalaire entre les plateaux des amis  ------------\n",
    "    ps_convives = 0 # on initialise la somme du produit scalaire à 0 \n",
    "    plateau_1 = np.array(merged.loc[merged['index'] == n_form]).flatten() # le plateau de l'individu que l'on étudie \n",
    "    plateau_1 = plateau_1[28:-1]\n",
    "\n",
    "    for ami in friends:\n",
    "        if (merged['index'] == ami).sum(): # si l'ami existe\n",
    "\n",
    "            #print('cc')\n",
    "            plateau_2 = np.array(merged.loc[merged['index'] == ami]).flatten()\n",
    "            #print('plateau_2')\n",
    "            #print(plateau_2)\n",
    "            plateau_2 = plateau_2[28:-1]\n",
    "\n",
    "            #print(len(plateau_1), len(plateau_2))\n",
    "            try:\n",
    "                ps_convives += np.dot(plateau_1, plateau_2.T)\n",
    "            except:\n",
    "                pass\n",
    "        else : \n",
    "            friends.remove(ami)\n",
    "    try:\n",
    "        ps_convi_norm = ps_convives/len(friends)\n",
    "    except:\n",
    "        ps_convi_norm = 0 # si l'individu  mangé seul, alors corrélation avec le plateau de ses amis = 0 \n",
    "\n",
    "    # ----------- On calcule le produit scalaire entre tous les plateau DU MEME JOUR et celui de l'indiv étudié   ------------\n",
    "    ps_tot = 0\n",
    "    \n",
    "    if n_form in nf_oct_21:\n",
    "        jour = nf_oct_21\n",
    "    if n_form in nf_oct_22:\n",
    "        jour = nf_oct_22\n",
    "    if n_form in nf_oct_28:\n",
    "        jour = nf_oct_28\n",
    "    if n_form in nf_oct_29:\n",
    "        jour = nf_oct_29\n",
    "        \n",
    "    #print(jour)\n",
    "    for indiv in jour:\n",
    "        if indiv != n_form:\n",
    "            try:\n",
    "                plateau_2 = np.array(merged.loc[merged['index'] == indiv]).flatten()\n",
    "                plateau_2 = plateau_2[28:-1]\n",
    "                ps_tot += np.dot(plateau_1, plateau_2.T)\n",
    "            except:\n",
    "                pass # cas où le numero de formuaire de la personne n'est plus dans le df processed \n",
    "            # alors il n'y arien à calculer \n",
    "        if jour == nf_oct_29:\n",
    "            moy_nf_oct_29.append(ps_tot/len(merged))\n",
    "        if jour == nf_oct_28:\n",
    "            moy_nf_oct_28.append(ps_tot/len(merged))\n",
    "        if jour == nf_oct_22:\n",
    "            moy_nf_oct_22.append(ps_tot/len(merged))\n",
    "        if jour == nf_oct_21:\n",
    "            moy_nf_oct_21.append(ps_tot/len(merged))\n",
    "    # On rajoute la ligne \n",
    "    distances = pd.concat([distances,pd.DataFrame.from_records([{'individu' : n_form,'corr_tot' : ps_tot/len(merged), 'corr_convives': ps_convi_norm}])]) # on ajoute la ligne \n"
   ]
  },
  {
   "cell_type": "code",
   "execution_count": 15,
   "metadata": {},
   "outputs": [
    {
     "name": "stdout",
     "output_type": "stream",
     "text": [
      "coucou\n",
      "131 69 170 67\n",
      "0.21513335007925932 0.14355018481118773 0.3386170288290314 0.12355618925530107\n"
     ]
    }
   ],
   "source": [
    "#print(distances)\n",
    "print('coucou')\n",
    "print(len(nf_oct_21), len(nf_oct_22), len(nf_oct_28), len(nf_oct_29))\n",
    "print(np.array(moy_nf_oct_21).mean(), np.array(moy_nf_oct_22).mean(), np.array(moy_nf_oct_28).mean(), np.array(moy_nf_oct_29).mean())"
   ]
  },
  {
   "cell_type": "code",
   "execution_count": 191,
   "metadata": {},
   "outputs": [
    {
     "name": "stdout",
     "output_type": "stream",
     "text": [
      "    corr_tot  corr_convives\n",
      "0   0.481595       3.000000\n",
      "0   0.582822       3.750000\n",
      "0   0.285276       0.333333\n",
      "0   0.576687       0.000000\n",
      "0   0.668712       0.000000\n",
      "..       ...            ...\n",
      "0   0.150307       0.000000\n",
      "0   0.174847       0.000000\n",
      "0   0.088957       0.000000\n",
      "0   0.754601       2.000000\n",
      "0   0.463190       0.000000\n",
      "\n",
      "[326 rows x 2 columns]\n"
     ]
    },
    {
     "name": "stderr",
     "output_type": "stream",
     "text": [
      "/var/folders/s4/jtrzm_q55_z39rcm6p6xtgp40000gn/T/ipykernel_1574/1278726846.py:4: FutureWarning: The behavior of `series[i:j]` with an integer-dtype index is deprecated. In a future version, this will be treated as *label-based* indexing, consistent with e.g. `series[i]` lookups. To retain the old behavior, use `series.iloc[i:j]`. To get the future behavior, use `series.loc[i:j]`.\n",
      "  sns.heatmap(im_distances, cmap = 'Oranges', square=True, yticklabels=distances['individu'][0:25], xticklabels=['total', 'convives'])\n"
     ]
    },
    {
     "data": {
      "text/plain": [
       "<AxesSubplot: >"
      ]
     },
     "execution_count": 191,
     "metadata": {},
     "output_type": "execute_result"
    },
    {
     "data": {
      "image/png": "[encoded data removed]",
      "text/plain": [
       "<Figure size 640x480 with 2 Axes>"
      ]
     },
     "metadata": {},
     "output_type": "display_data"
    }
   ],
   "source": [
    "im_distances = distances[['corr_tot', 'corr_convives']]\n",
    "print(im_distances)\n",
    "im_distances = im_distances[0:25].to_numpy()\n",
    "sns.heatmap(im_distances, cmap = 'Oranges', square=True, yticklabels=distances['individu'][0:25], xticklabels=['total', 'convives'])"
   ]
  },
  {
   "cell_type": "code",
   "execution_count": 16,
   "metadata": {},
   "outputs": [
    {
     "name": "stdout",
     "output_type": "stream",
     "text": [
      "0.4851048214084083 1.3973926380368098\n"
     ]
    }
   ],
   "source": [
    "mean_tot = distances['corr_tot'].mean()\n",
    "mean_convives = distances['corr_convives'].mean()\n",
    "\n",
    "print(mean_tot, mean_convives)"
   ]
  },
  {
   "attachments": {},
   "cell_type": "markdown",
   "metadata": {},
   "source": [
    "C'est mieux : on observe que la distance entre ton plat et celui d'une personne lambda n'est plus de 0, comme c'était le cas avant. \n",
    "En revanche, je me demande si la manière que 'on a de calculer la distance n'est pas telle que la distance sera plus faible plus on considère de personnes. Il y a une histoire de normalisation à faire ... On va faire jour par jour et non pas tous les jurs mélangés ."
   ]
  },
  {
   "cell_type": "code",
   "execution_count": 25,
   "metadata": {},
   "outputs": [
    {
     "name": "stdout",
     "output_type": "stream",
     "text": [
      "99\n",
      "99\n",
      "56\n",
      "56\n",
      "170\n",
      "122\n",
      "67\n",
      "49\n"
     ]
    }
   ],
   "source": [
    "# tous les numeros de la liste n_forms ne sont pas forcément dans nf_oct_jj\n",
    "# --> on va nettoyer nf_oct_jj pour que ce soit en adéquation \n",
    "# les elements qui sont dans nf_oct_jj mais pas dans merged : \n",
    "\n",
    "print(len(nf_oct_21))\n",
    "nf_oct_21 = set(nf_oct_21)\n",
    "nf_merged_21 = set(list(merged['index']))\n",
    "nf_oct_21 = list(nf_oct_21.intersection(nf_merged_21))\n",
    "print(len(nf_oct_21))\n",
    "\n",
    "print(len(nf_oct_22))\n",
    "nf_oct_22 = set(nf_oct_22)\n",
    "nf_merged_22 = set(list(merged['index']))\n",
    "nf_oct_22 = list(nf_oct_22.intersection(nf_merged_22))\n",
    "print(len(nf_oct_22))\n",
    "\n",
    "print(len(nf_oct_28))\n",
    "nf_oct_28 = set(nf_oct_28)\n",
    "nf_merged_28 = set(list(merged['index']))\n",
    "nf_oct_28 = list(nf_oct_28.intersection(nf_merged_28))\n",
    "print(len(nf_oct_28))\n",
    "\n",
    "print(len(nf_oct_29))\n",
    "nf_oct_29 = set(nf_oct_29)\n",
    "nf_merged_29 = set(list(merged['index']))\n",
    "nf_oct_29 = list(nf_oct_29.intersection(nf_merged_29))\n",
    "print(len(nf_oct_29))\n"
   ]
  },
  {
   "cell_type": "code",
   "execution_count": 26,
   "metadata": {},
   "outputs": [],
   "source": [
    "proximites = pd.DataFrame(columns = ['individu', 'corr_tot', 'corr_convives'])\n",
    "\n",
    "\n",
    "for i, n_form in enumerate(nf_oct_21):\n",
    "    #print(n_form)\n",
    "    \n",
    "    friends = []\n",
    "    for colonne in ['Ami 1','Ami 2','Ami 3','Ami 4','Ami 5']:\n",
    "        num_friend = merged[colonne][i]\n",
    "        if type(num_friend) == str:\n",
    "            friends.append(num_friend)\n",
    "\n",
    "    # ----------- On calcule le produit scalaire entre les plateaux des amis  ------------\n",
    "    ps_convives = 0 # on initialise la somme du produit scalaire à 0 \n",
    "    plateau_1 = np.array(merged.loc[merged['index'] == n_form]).flatten() # le plateau de l'individu que l'on étudie \n",
    "    plateau_1 = plateau_1[28:-1]\n",
    "\n",
    "    for ami in friends:\n",
    "        if (merged['index'] == ami).sum(): # si l'ami existe\n",
    "\n",
    "            #print('cc')\n",
    "            plateau_2 = np.array(merged.loc[merged['index'] == ami]).flatten()\n",
    "            #print('plateau_2')\n",
    "            #print(plateau_2)\n",
    "            plateau_2 = plateau_2[28:-1]\n",
    "\n",
    "            #print(len(plateau_1), len(plateau_2))\n",
    "            try:\n",
    "                ps_convives += np.dot(plateau_1, plateau_2.T)\n",
    "            except:\n",
    "                pass\n",
    "        else : \n",
    "            friends.remove(ami)\n",
    "    try:\n",
    "        ps_convi_norm = ps_convives/len(friends)\n",
    "    except:\n",
    "        ps_convi_norm = 0 # si l'individu  mangé seul, alors corrélation avec le plateau de ses amis = 0 \n",
    "\n",
    "    # ----------- On calcule le produit scalaire entre tous les plateau DU MEME JOUR et celui de l'indiv étudié   ------------\n",
    "    ps_tot = 0\n",
    "    \n",
    "    if n_form in nf_oct_21:\n",
    "        jour = nf_oct_21\n",
    "    if n_form in nf_oct_22:\n",
    "        jour = nf_oct_22\n",
    "    if n_form in nf_oct_28:\n",
    "        jour = nf_oct_28\n",
    "    if n_form in nf_oct_29:\n",
    "        jour = nf_oct_29\n",
    "        \n",
    "    #print(jour)\n",
    "    for indiv in jour:\n",
    "        if indiv != n_form:\n",
    "            try:\n",
    "                plateau_2 = np.array(merged.loc[merged['index'] == indiv]).flatten()\n",
    "                plateau_2 = plateau_2[28:-1]\n",
    "                ps_tot += np.dot(plateau_1, plateau_2.T)\n",
    "            except:\n",
    "                pass # cas où le numero de formuaire de la personne n'est plus dans le df processed \n",
    "            # alors il n'y arien à calculer \n",
    "\n",
    "    # On rajoute la ligne \n",
    "    proximites = pd.concat([proximites,pd.DataFrame.from_records([{'individu' : n_form,'corr_tot' : ps_tot/len(merged), 'corr_convives': ps_convi_norm}])]) # on ajoute la ligne "
   ]
  },
  {
   "cell_type": "code",
   "execution_count": 27,
   "metadata": {},
   "outputs": [
    {
     "name": "stdout",
     "output_type": "stream",
     "text": [
      "   individu  corr_tot  corr_convives\n",
      "0      7P8D  0.585890           2.00\n",
      "0      7K6G  0.481595           1.75\n",
      "0      4T1L  0.705521           0.00\n",
      "0      0B2M  0.576687           0.00\n",
      "0      2W9X  0.668712           0.00\n",
      "..      ...       ...            ...\n",
      "0      0R7V  0.628834           0.00\n",
      "0      1B2S  0.696319           0.00\n",
      "0      0S0Q  0.754601           4.25\n",
      "0      1T2N  0.542945           0.00\n",
      "0      3U8T  0.690184           0.00\n",
      "\n",
      "[99 rows x 3 columns]\n"
     ]
    }
   ],
   "source": [
    "print(proximites)"
   ]
  },
  {
   "cell_type": "code",
   "execution_count": 29,
   "metadata": {},
   "outputs": [
    {
     "name": "stdout",
     "output_type": "stream",
     "text": [
      "    corr_tot  corr_convives\n",
      "0   0.585890           2.00\n",
      "0   0.481595           1.75\n",
      "0   0.705521           0.00\n",
      "0   0.576687           0.00\n",
      "0   0.668712           0.00\n",
      "..       ...            ...\n",
      "0   0.628834           0.00\n",
      "0   0.696319           0.00\n",
      "0   0.754601           4.25\n",
      "0   0.542945           0.00\n",
      "0   0.690184           0.00\n",
      "\n",
      "[99 rows x 2 columns]\n"
     ]
    },
    {
     "name": "stderr",
     "output_type": "stream",
     "text": [
      "/var/folders/s4/jtrzm_q55_z39rcm6p6xtgp40000gn/T/ipykernel_3972/1999832129.py:4: FutureWarning: The behavior of `series[i:j]` with an integer-dtype index is deprecated. In a future version, this will be treated as *label-based* indexing, consistent with e.g. `series[i]` lookups. To retain the old behavior, use `series.iloc[i:j]`. To get the future behavior, use `series.loc[i:j]`.\n",
      "  sns.heatmap(im_proximites, cmap = 'Oranges', square=True, yticklabels=proximites['individu'][0:25], xticklabels=['total', 'convives'])\n"
     ]
    },
    {
     "data": {
      "text/plain": [
       "<AxesSubplot: >"
      ]
     },
     "execution_count": 29,
     "metadata": {},
     "output_type": "execute_result"
    },
    {
     "data": {
      "image/png": "[encoded data removed]",
      "text/plain": [
       "<Figure size 640x480 with 2 Axes>"
      ]
     },
     "metadata": {},
     "output_type": "display_data"
    }
   ],
   "source": [
    "im_proximites = proximites[['corr_tot', 'corr_convives']]\n",
    "print(im_proximites)\n",
    "im_proximites = im_proximites[0:25].to_numpy()\n",
    "sns.heatmap(im_proximites, cmap = 'Oranges', square=True, yticklabels=proximites['individu'][0:25], xticklabels=['total', 'convives'])"
   ]
  },
  {
   "cell_type": "code",
   "execution_count": 30,
   "metadata": {},
   "outputs": [
    {
     "name": "stdout",
     "output_type": "stream",
     "text": [
      "0.4929664745615665 0.5045454545454545\n"
     ]
    }
   ],
   "source": [
    "mean_tot = proximites['corr_tot'].mean()\n",
    "mean_convives = proximites['corr_convives'].mean()\n",
    "\n",
    "print(mean_tot, mean_convives)"
   ]
  },
  {
   "attachments": {},
   "cell_type": "markdown",
   "metadata": {},
   "source": [
    "Les 2 moyennes sont beaucoup plus proches ... On peut faire le calcul, mais cette fois ci en enlevant du calcul toutes les peronnes qui mangent seules pour la coonne \"convives\" (ie, les correlations pour 'total' sont calculées avec tout le monde, y compris es personnes qui mangent seules) mais pour la colonne convive, on ne calculera que pour les personnes avec des convives.  \n",
    "NB : du coup on aura pas le mem nombre de lignes pour faire une matrice (?)"
   ]
  }
 ],
 "metadata": {
  "kernelspec": {
   "display_name": "base",
   "language": "python",
   "name": "python3"
  },
  "language_info": {
   "codemirror_mode": {
    "name": "ipython",
    "version": 3
   },
   "file_extension": ".py",
   "mimetype": "text/x-python",
   "name": "python",
   "nbconvert_exporter": "python",
   "pygments_lexer": "ipython3",
   "version": "3.9.13"
  },
  "orig_nbformat": 4,
  "vscode": {
   "interpreter": {
    "hash": "5fc140dc3efbcdd724716f65d474894e1947e1edd4b80a080fedd84e10bf2ba4"
   }
  }
 },
 "nbformat": 4,
 "nbformat_minor": 2
}
