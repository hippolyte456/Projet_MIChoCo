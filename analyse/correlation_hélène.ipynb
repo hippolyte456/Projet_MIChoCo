{
 "cells": [
  {
   "cell_type": "code",
   "execution_count": 58,
   "metadata": {},
   "outputs": [],
   "source": [
    "import pandas as pd \n",
    "import numpy as np \n",
    "import seaborn as sns\n",
    "\n",
    "import warnings\n",
    "warnings.filterwarnings(action='once')"
   ]
  },
  {
   "attachments": {},
   "cell_type": "markdown",
   "metadata": {},
   "source": [
    "### Chargement des données "
   ]
  },
  {
   "cell_type": "code",
   "execution_count": 59,
   "metadata": {},
   "outputs": [],
   "source": [
    "merged = pd.read_csv('../data_CROUS/data_processed/merged_one_hot/merged_Forms_Choix.csv' , sep=\",\", encoding='latin-1')"
   ]
  },
  {
   "attachments": {},
   "cell_type": "markdown",
   "metadata": {},
   "source": [
    "### Calcul des similarités entre les plateaux"
   ]
  },
  {
   "attachments": {},
   "cell_type": "markdown",
   "metadata": {},
   "source": [
    "Le produit scalaire entre le plateau d'un individu et celui de ses convives est beaucoup plus important que celui avec le reste des personnes. Evidemment que des gens qui n'ont pas mangé le meme jour vont avoir des plats différents, et donc des valeurs de produit scalaire nulles.\n",
    "--> il faut calculer uniquement avec ceux ayant mangé le meme jour / ou alors utiliser une représentation des données qui permet de mettre tout le monde sur le meme plan (ex : au lieu d'avoir boeufbourguinon / escalpe viennoise en 2 colonnes différentes, faire une colonne unique \"viande\")"
   ]
  },
  {
   "attachments": {},
   "cell_type": "markdown",
   "metadata": {},
   "source": [
    "#### A - Calcul des similarités de plateaux pour les personnes ayant mangé le meme jour "
   ]
  },
  {
   "cell_type": "code",
   "execution_count": 60,
   "metadata": {},
   "outputs": [
    {
     "name": "stdout",
     "output_type": "stream",
     "text": [
      "Index(['Unnamed: 0', 'Numéro de formulaire ', 'chouxblancàlajaponaise',\n",
      "       'saladelentilles', 'champignons', 'carottesrâpées', 'oeufmimosa',\n",
      "       'saladepates', 'artichauts', 'salami', 'coeursdepalmiers', 'tomates',\n",
      "       'torsades', 'feuilletésaumonoseille', 'boeufbourguignon', 'kebab',\n",
      "       'risottocourgettes', 'pizzaraclette', 'faux-filet',\n",
      "       'pizzamerguezpoivrons', 'hamburger', 'escalopeviennoise',\n",
      "       'poeléebrocolis', 'frites', 'ratatouille', 'yaourtauxfruits',\n",
      "       'ufàlaneige', 'faissellenature', 'yaourtnaturesucré',\n",
      "       'fromageblancfruitsrouges', 'banane', 'mimolette', 'flancchocolat',\n",
      "       'orange', 'pommegolden', 'kiwi'],\n",
      "      dtype='object')\n"
     ]
    }
   ],
   "source": [
    "# On charge les données pour acceder à qui a mangé quel jour\n",
    "oct_21 = pd.read_csv('../data_CROUS/data_processed/one_hot/Resultats_choix_21_octobre_onehot.csv' , sep=\";\")\n",
    "oct_22 = pd.read_csv('../data_CROUS/data_processed/one_hot/Resultats_choix_22_octobre_onehot.csv' , sep=\";\")\n",
    "oct_28 = pd.read_csv('../data_CROUS/data_processed/one_hot/Resultats_choix_28_octobre_onehot.csv' , sep=\";\")\n",
    "oct_29 = pd.read_csv('../data_CROUS/data_processed/one_hot/Resultats_choix_29_octobre_onehot.csv' , sep=\";\")\n",
    "\n",
    "print(oct_21.columns)\n",
    "\n",
    "# On crée la liste des num form des gens qui ont mangé le même jour \n",
    "nf_oct_21 = list(oct_21['Numéro de formulaire '])\n",
    "nf_oct_22 = list(oct_22['Numéro de formulaire '])\n",
    "nf_oct_28 = list(oct_28['Numéro de formulaire '])\n",
    "nf_oct_29 = list(oct_29['Numéro de formulaire '])"
   ]
  },
  {
   "cell_type": "code",
   "execution_count": 72,
   "metadata": {},
   "outputs": [],
   "source": [
    "distances = pd.DataFrame(columns = ['individu', 'corr_tot', 'corr_convives'])\n",
    "moy_nf_oct_21 = []\n",
    "moy_nf_oct_22 = []\n",
    "moy_nf_oct_28 = []\n",
    "moy_nf_oct_29 = []\n",
    "\n",
    "for i, n_form in enumerate(merged['index']):\n",
    "    #print(n_form)\n",
    "\n",
    "    # ------- On crée la liste de tous les amis de l'individu que l'on étudie ------------\n",
    "    friends = []\n",
    "    for colonne in ['Ami 1','Ami 2','Ami 3','Ami 4','Ami 5', 'Ami 6', 'Ami 7', 'Ami 8', 'Ami 9', 'Ami 10','Ami 11', 'Ami 12', 'Ami 13', 'Ami 14' ]:\n",
    "        num_friend = merged[colonne][i]\n",
    "        if type(num_friend) == str:\n",
    "            friends.append(num_friend)\n",
    "\n",
    "    # ---- On calcule le produit scalaire entre le plateau de l'individu et celui de chacun de ses amis  ------------\n",
    "    ps_convives = 0 # on initialise la somme du produit scalaire à 0 \n",
    "\n",
    "    # plateau 1 est le plateau de l'individu étudié \n",
    "    plateau_1 = np.array(merged.loc[merged['index'] == n_form]).flatten()\n",
    "    plateau_1 = plateau_1[40:-1] # on ne s'interesse qu'aux colonnes qui renseignent les plats \n",
    "\n",
    "    for ami in friends:\n",
    "        if (merged['index'] == ami).sum(): # si l'ami existe (= a bien rendu son formulaire )\n",
    "            plateau_2 = np.array(merged.loc[merged['index'] == ami]).flatten() # le plateau de l'ami \n",
    "            plateau_2 = plateau_2[40:-1]\n",
    "            \n",
    "            #print(len(plateau_1), len(plateau_2))\n",
    "            #try:\n",
    "            ps_convives += np.dot(plateau_1, plateau_2.T)\n",
    "            #print(ps_convives, \"ps_convives\")\n",
    "            #except:\n",
    "            #    pass\n",
    "        else : \n",
    "            friends.remove(ami)\n",
    "    \n",
    "    # -------- On normalise le cumul des produits scalaire par le nombre d'amis -------\n",
    "    try:\n",
    "        ps_convi_norm = ps_convives/len(friends)\n",
    "    except:\n",
    "        ps_convi_norm = np.nan # si l'individu  mangé seul (== len(friends) = 0), alors corrélation avec le plateau de ses amis = 0 \n",
    "    #print(ps_convi_norm, 'ps_coniv_norm')\n",
    "\n",
    "    # ----------- On calcule le produit scalaire entre tous les plateau DU MEME JOUR et celui de l'indiv étudié   ------------\n",
    "    ps_tot = 0\n",
    "\n",
    "    if n_form in nf_oct_21:\n",
    "        jour = nf_oct_21\n",
    "    if n_form in nf_oct_22:\n",
    "        jour = nf_oct_22\n",
    "    if n_form in nf_oct_28:\n",
    "        jour = nf_oct_28\n",
    "    if n_form in nf_oct_29:\n",
    "        jour = nf_oct_29\n",
    "\n",
    "    #print(jour)\n",
    "    for indiv in jour:\n",
    "        if indiv != n_form:\n",
    "            try:\n",
    "                plateau_2 = np.array(merged.loc[merged['index'] == indiv]).flatten()\n",
    "                plateau_2 = plateau_2[40:-1]\n",
    "                ps_tot += np.dot(plateau_1, plateau_2.T)\n",
    "\n",
    "            except:\n",
    "                pass # cas où le numero de formulaire de la personne n'est plus dans le df processed \n",
    "                    # --> il n'y a rien à calculer \n",
    "\n",
    "    if jour == nf_oct_21:\n",
    "        moy_nf_oct_21.append(ps_tot/(len(jour)-1))\n",
    "    if jour == nf_oct_22:\n",
    "        moy_nf_oct_22.append(ps_tot/(len(jour)-1))\n",
    "    if jour == nf_oct_28:\n",
    "        moy_nf_oct_28.append(ps_tot/(len(jour)-1))\n",
    "    if jour == nf_oct_29:\n",
    "        moy_nf_oct_29.append(ps_tot/(len(jour)-1))\n",
    "\n",
    "    # On rajoute la ligne \n",
    "    #print(n_form, ps_tot/len(merged), ps_convi_norm)\n",
    "    distances = pd.concat([distances,pd.DataFrame.from_records([{'individu' : n_form,'corr_tot' : ps_tot/len(jour), 'corr_convives': ps_convi_norm}])]) # on ajoute la ligne \n"
   ]
  },
  {
   "cell_type": "code",
   "execution_count": 68,
   "metadata": {},
   "outputs": [
    {
     "name": "stdout",
     "output_type": "stream",
     "text": [
      "131 69 170 67\n",
      "1.2362082362082363 1.3188025210084031 1.31278494519352 1.0995670995670996\n"
     ]
    }
   ],
   "source": [
    "print(len(nf_oct_21), len(nf_oct_22), len(nf_oct_28), len(nf_oct_29))\n",
    "print(np.array(moy_nf_oct_21).mean(), np.array(moy_nf_oct_22).mean(), np.array(moy_nf_oct_28).mean(), np.array(moy_nf_oct_29).mean())"
   ]
  },
  {
   "cell_type": "code",
   "execution_count": 69,
   "metadata": {},
   "outputs": [
    {
     "name": "stderr",
     "output_type": "stream",
     "text": [
      "/var/folders/s4/jtrzm_q55_z39rcm6p6xtgp40000gn/T/ipykernel_1592/2320678156.py:1: FutureWarning: The behavior of `series[i:j]` with an integer-dtype index is deprecated. In a future version, this will be treated as *label-based* indexing, consistent with e.g. `series[i]` lookups. To retain the old behavior, use `series.iloc[i:j]`. To get the future behavior, use `series.loc[i:j]`.\n",
      "  sns.heatmap(distances[['corr_tot', 'corr_convives']][0:25], cmap = 'Oranges', square=True, yticklabels=distances['individu'][0:25], xticklabels=['total', 'convives'])\n"
     ]
    },
    {
     "data": {
      "text/plain": [
       "<AxesSubplot: >"
      ]
     },
     "execution_count": 69,
     "metadata": {},
     "output_type": "execute_result"
    },
    {
     "data": {
      "image/png": "[encoded data removed]",
      "text/plain": [
       "<Figure size 640x480 with 2 Axes>"
      ]
     },
     "metadata": {},
     "output_type": "display_data"
    }
   ],
   "source": [
    "sns.heatmap(distances[['corr_tot', 'corr_convives']][0:25], cmap = 'Oranges', square=True, yticklabels=distances['individu'][0:25], xticklabels=['total', 'convives'])"
   ]
  },
  {
   "cell_type": "code",
   "execution_count": 70,
   "metadata": {},
   "outputs": [
    {
     "name": "stdout",
     "output_type": "stream",
     "text": [
      "1.2470100131887627 1.773242304467601\n"
     ]
    }
   ],
   "source": [
    "# On va calculer la moyenne des corremations entre les plateaux des amis et les plateaux des individus totaux. \n",
    "# Pour mieux faire apparaitre notre signal, il faut enlever les 'NaN' --> ceux qui ont magé tous euls et à qui on a attribué \n",
    "# la valeur 0 \n",
    "\n",
    "mean_tot = distances['corr_tot'].mean()\n",
    "mean_convives = distances['corr_convives'].mean(skipna = True)\n",
    "\n",
    "print(mean_tot, mean_convives)"
   ]
  },
  {
   "attachments": {},
   "cell_type": "markdown",
   "metadata": {},
   "source": [
    "On observe qu'il y a effectiveent une corrélation entre le plateau de l'indiv et de ses amis plus forte que le plateau d'une personne et des autres individus lambda du meme jour. "
   ]
  }
 ],
 "metadata": {
  "kernelspec": {
   "display_name": "base",
   "language": "python",
   "name": "python3"
  },
  "language_info": {
   "codemirror_mode": {
    "name": "ipython",
    "version": 3
   },
   "file_extension": ".py",
   "mimetype": "text/x-python",
   "name": "python",
   "nbconvert_exporter": "python",
   "pygments_lexer": "ipython3",
   "version": "3.9.13"
  },
  "orig_nbformat": 4,
  "vscode": {
   "interpreter": {
    "hash": "5fc140dc3efbcdd724716f65d474894e1947e1edd4b80a080fedd84e10bf2ba4"
   }
  }
 },
 "nbformat": 4,
 "nbformat_minor": 2
}
