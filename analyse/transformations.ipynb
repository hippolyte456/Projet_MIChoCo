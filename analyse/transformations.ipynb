{
 "cells": [
  {
   "cell_type": "code",
   "execution_count": 22,
   "metadata": {},
   "outputs": [
    {
     "name": "stdout",
     "output_type": "stream",
     "text": [
      "/home/hippo/Documents/Projet_MIChoCo/analyse\n"
     ]
    }
   ],
   "source": [
    "import numpy as np\n",
    "import pandas as pd\n",
    "import matplotlib.pyplot as plt\n",
    "import os\n",
    "import math\n",
    "import re \n",
    "print(os.getcwd())\n",
    "\n",
    "\n",
    "file_in = '../trash/choix_21_octobre_clean.csv'\n",
    "#on recueillera tous les resultats d'analyses dans un fichier texte de sortie\n",
    "#folder_out = 'data_to_use/choice_representation/'"
   ]
  },
  {
   "cell_type": "code",
   "execution_count": 27,
   "metadata": {},
   "outputs": [],
   "source": [
    "choix = pd.read_csv(file_in, sep=\",\", encoding='latin-1')"
   ]
  },
  {
   "cell_type": "code",
   "execution_count": 28,
   "metadata": {},
   "outputs": [],
   "source": [
    "# on retire les colonnes ne correspondant pas à des choix\n",
    "choix = choix.drop(\"num_form\", axis=1)\n",
    "choix = choix.drop(\"Unnamed: 0\", axis=1)"
   ]
  },
  {
   "cell_type": "code",
   "execution_count": 38,
   "metadata": {},
   "outputs": [],
   "source": [
    "choix = choix.to_numpy()\n"
   ]
  },
  {
   "attachments": {},
   "cell_type": "markdown",
   "metadata": {},
   "source": [
    "## I. Transformations de la matrice de choix "
   ]
  },
  {
   "cell_type": "code",
   "execution_count": 40,
   "metadata": {},
   "outputs": [],
   "source": [
    "# definition des matrices des vecteurs de transformations de la matrice choix \n",
    "''' \n",
    "TO DO : aller chercher des valeurs credibles dans la litterature pour remplir les array\n",
    "'''\n",
    "\n",
    "spatial_vector = np.array([]) # un vecteur de la longueur du nombre d'items, qui associe à chacun son lieu sur lesquels on pouvait le trouver\n",
    "healthiness_vector = np.array([]) # un vecteur de la longueur du nombre d'items, qui associe à chacun son niveau de santé\n",
    "tastiness__vector = np.array([]) # un vecteur de la longueur du nombre d'items, qui associe à chacun son attrait gustatif moyen\n",
    "\n",
    "#construction d'un vecteur aleatoire de 37 valeurs entre 0 et 1\n",
    "healthiness_vector = np.random.rand(37)"
   ]
  },
  {
   "attachments": {},
   "cell_type": "markdown",
   "metadata": {},
   "source": [
    "#### a. Representation des aliments par leur spatialité"
   ]
  },
  {
   "cell_type": "code",
   "execution_count": null,
   "metadata": {},
   "outputs": [],
   "source": [
    "# on passe de la representation item par item à une representation qui aggrège le nombre d'item choisis par lieux\n",
    "# s'il y a 5 tables différentes où sont  disposer les items, on aura 5 colonnes dans le tableau\n",
    "\n",
    "\n",
    "def make_spatial_matrix(matrix, array):\n",
    "    return matrix\n",
    "\n",
    "X = make_spatial_matrix(choix, spatial_vector)"
   ]
  },
  {
   "cell_type": "code",
   "execution_count": null,
   "metadata": {},
   "outputs": [],
   "source": [
    "# on save la matrice de choix pour pouvoir la réutiliser\n",
    "X.to_csv('choix_representation/spaceX.csv', sep=';', encoding='latin-1')"
   ]
  },
  {
   "attachments": {},
   "cell_type": "markdown",
   "metadata": {},
   "source": [
    "#### b. Representation des aliments par leur catégorie alimentaire "
   ]
  },
  {
   "cell_type": "code",
   "execution_count": 47,
   "metadata": {},
   "outputs": [
    {
     "data": {
      "text/plain": [
       "array([[1.64259819, 1.64259819, 1.64259819, ..., 1.64259819, 1.64259819,\n",
       "        1.64259819],\n",
       "       [1.65343447, 1.65343447, 1.65343447, ..., 1.65343447, 1.65343447,\n",
       "        1.65343447],\n",
       "       [1.38652305, 1.38652305, 1.38652305, ..., 1.38652305, 1.38652305,\n",
       "        1.38652305],\n",
       "       ...,\n",
       "       [1.68600704, 1.68600704, 1.68600704, ..., 1.68600704, 1.68600704,\n",
       "        1.68600704],\n",
       "       [1.56529163, 1.56529163, 1.56529163, ..., 1.56529163, 1.56529163,\n",
       "        1.56529163],\n",
       "       [1.32034938, 1.32034938, 1.32034938, ..., 1.32034938, 1.32034938,\n",
       "        1.32034938]])"
      ]
     },
     "execution_count": 47,
     "metadata": {},
     "output_type": "execute_result"
    }
   ],
   "source": [
    "def make_healthiness_matrix(matrix, array):\n",
    "    # on regarde chaque lingne de la matrice et on multiplie chaque colonne par la valeur du vecteur de transformation\n",
    "    for i in range(matrix.shape[0]):\n",
    "        matrix[i] = matrix[i]*array\n",
    "        #on somme chaque ligne de la matrice\n",
    "        #...\n",
    "    return matrix\n",
    "\n",
    "make_healthiness_matrix(choix, healthiness_vector)"
   ]
  },
  {
   "cell_type": "code",
   "execution_count": null,
   "metadata": {},
   "outputs": [],
   "source": [
    "# on save la matrice de choix pour pouvoir la réutiliser\n",
    "X.to_csv('choix_representation/catX.csv', sep=';', encoding='latin-1')"
   ]
  },
  {
   "attachments": {},
   "cell_type": "markdown",
   "metadata": {},
   "source": [
    "#### c. Representation des aliments par leur healthiness"
   ]
  },
  {
   "cell_type": "code",
   "execution_count": null,
   "metadata": {},
   "outputs": [],
   "source": []
  },
  {
   "cell_type": "code",
   "execution_count": null,
   "metadata": {},
   "outputs": [],
   "source": [
    "# on save la matrice de choix pour pouvoir la réutiliser\n",
    "X.to_csv('choix_representation/healthX.csv', sep=';', encoding='latin-1')"
   ]
  },
  {
   "attachments": {},
   "cell_type": "markdown",
   "metadata": {},
   "source": [
    "## II. Transformations de la matrice de formulaire "
   ]
  }
 ],
 "metadata": {
  "kernelspec": {
   "display_name": "base",
   "language": "python",
   "name": "python3"
  },
  "language_info": {
   "codemirror_mode": {
    "name": "ipython",
    "version": 3
   },
   "file_extension": ".py",
   "mimetype": "text/x-python",
   "name": "python",
   "nbconvert_exporter": "python",
   "pygments_lexer": "ipython3",
   "version": "3.9.12"
  },
  "orig_nbformat": 4,
  "vscode": {
   "interpreter": {
    "hash": "baacd7ded0742aa8408bda3ed6ced71320ba4869ece4e05e453d0cf31ed1376f"
   }
  }
 },
 "nbformat": 4,
 "nbformat_minor": 2
}
