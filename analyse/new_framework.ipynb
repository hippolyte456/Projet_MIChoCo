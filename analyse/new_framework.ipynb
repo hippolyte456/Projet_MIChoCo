{
 "cells": [
  {
   "attachments": {},
   "cell_type": "markdown",
   "metadata": {},
   "source": [
    "## Proposition de framework ; améliorer le modèle de choix alimentaire \n",
    "\n",
    "* augmenter le nombre de données générées \n",
    "* pouvoir augmenter la complexité du modèle de choix alimentaire en accord avec la quantité de données recueillies \n",
    "\n",
    "<br/>\n",
    "<br/>\n",
    "  "
   ]
  },
  {
   "attachments": {},
   "cell_type": "markdown",
   "metadata": {},
   "source": [
    "### I. Variables d'intérêts pour améliorer le modèle\n",
    "\n",
    "* paramètres physiologiques \n",
    "* préférences alimentaires individuelles / healthiness (= connaître les menus à l'avance pour faire les formulaires en conséquence) \n",
    "* description sociale de la situation (minitest de personnalité)\n",
    "* explication des arguments de choix au micro\n",
    "* spatialité des plats "
   ]
  },
  {
   "attachments": {},
   "cell_type": "markdown",
   "metadata": {},
   "source": [
    "### II. Recueil des données \n",
    "\n",
    "* faire attention au remplissage des données pour ne pas avoir à cleaner pendant des heures\n",
    "* privilégier les indicateurs numériques (de 1 à 10 par exemple) \n",
    "* comment faire pour ne pas perdre de ligne lors du merge formulaire + choix"
   ]
  },
  {
   "attachments": {},
   "cell_type": "markdown",
   "metadata": {},
   "source": [
    "### III. Automatisation du traitement des données (augmentation de la base de données)\n",
    "\n",
    "* traitement automatique de l'argumentation par un modèle de langage\n",
    "* traitement automatique par CNN des choix \n",
    "* traitement automatique du trajet des individus\n"
   ]
  },
  {
   "attachments": {},
   "cell_type": "markdown",
   "metadata": {},
   "source": [
    "### IV. Le modèle de choix, modélisation multiagent\n",
    "\n",
    "a.\n",
    "* paramètres individuels \n",
    "* règles d'interactions\n",
    "<br/>\n",
    "<br/>\n",
    "\n",
    "b.\n",
    "* traiter le processus comme une série temporelle avec un modèle ARIMA ça donne quoi ? "
   ]
  },
  {
   "cell_type": "code",
   "execution_count": null,
   "metadata": {},
   "outputs": [],
   "source": []
  },
  {
   "cell_type": "code",
   "execution_count": null,
   "metadata": {},
   "outputs": [],
   "source": []
  }
 ],
 "metadata": {
  "kernelspec": {
   "display_name": "base",
   "language": "python",
   "name": "python3"
  },
  "language_info": {
   "name": "python",
   "version": "3.9.12 (main, Apr  5 2022, 06:56:58) \n[GCC 7.5.0]"
  },
  "orig_nbformat": 4,
  "vscode": {
   "interpreter": {
    "hash": "baacd7ded0742aa8408bda3ed6ced71320ba4869ece4e05e453d0cf31ed1376f"
   }
  }
 },
 "nbformat": 4,
 "nbformat_minor": 2
}
