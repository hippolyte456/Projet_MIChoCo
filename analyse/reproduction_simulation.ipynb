{
 "cells": [
  {
   "cell_type": "code",
   "execution_count": 1,
   "metadata": {},
   "outputs": [],
   "source": [
    "import pandas as pd \n",
    "import numpy as np \n",
    "import seaborn as sns\n",
    "import matplotlib.pyplot as plt\n",
    "\n",
    "import warnings\n",
    "warnings.filterwarnings(action='once')\n",
    "\n",
    "def warn(*args, **kwargs):\n",
    "    pass\n",
    "import warnings\n",
    "warnings.warn = warn\n",
    "import datetime as dt \n",
    "from datetime import datetime, timedelta"
   ]
  },
  {
   "attachments": {},
   "cell_type": "markdown",
   "metadata": {},
   "source": [
    "### Chargement des données "
   ]
  },
  {
   "cell_type": "code",
   "execution_count": 2,
   "metadata": {},
   "outputs": [],
   "source": [
    "merged = pd.read_csv('../data_CROUS/data_processed/merged_one_hot/merged_Forms_Choix.csv' , sep=\",\", encoding='latin-1')\n",
    "\n",
    "# On charge les données pour acceder à qui a mangé quel jour (Données journélières non catégorisées)\n",
    "oct_21 = pd.read_csv('../data_CROUS/data_processed/one_hot/Resultats_choix_21_octobre_onehot.csv' , sep=\";\")\n",
    "oct_22 = pd.read_csv('../data_CROUS/data_processed/one_hot/Resultats_choix_22_octobre_onehot.csv' , sep=\";\")\n",
    "oct_28 = pd.read_csv('../data_CROUS/data_processed/one_hot/Resultats_choix_28_octobre_onehot.csv' , sep=\";\")\n",
    "oct_29 = pd.read_csv('../data_CROUS/data_processed/one_hot/Resultats_choix_29_octobre_onehot.csv' , sep=\";\")\n",
    "\n",
    "oct_21['Horodateur'] = oct_21['Horodateur'].replace(' ', '', regex = True)\n",
    "oct_22['Horodateur'] = oct_22['Horodateur'].replace(' ', '', regex = True)\n",
    "oct_28['Horodateur'] = oct_28['Horodateur'].replace(' ', '', regex = True)\n",
    "oct_29['Horodateur'] = oct_29['Horodateur'].replace(' ', '', regex = True)\n",
    "\n",
    "# il y a des coquilles \n",
    "for i, item in enumerate(oct_21['Horodateur']):\n",
    "    if len(item) == 9:\n",
    "        #print(item) # on observe qu'un 3 s'est introduit dans les minutes \n",
    "        item = item[:5] + item[6:]\n",
    "        oct_21.at[i, 'Horodateur'] = item\n",
    "for i, item in enumerate(oct_22['Horodateur']):\n",
    "    if len(item) == 9:\n",
    "        #print(item) # on observe qu'un 3 s'est introduit dans les minutes \n",
    "        item = item[:5] + item[6:]\n",
    "        oct_22.at[i, 'Horodateur'] = item\n",
    "\n",
    "for i, item in enumerate(oct_28['Horodateur']):\n",
    "    if len(item) == 9:\n",
    "        #print(item) # on observe qu'un 3 s'est introduit dans les minutes \n",
    "        item = item[:5] + item[6:]\n",
    "        oct_28.at[i, 'Horodateur'] = item\n",
    "\n",
    "for i, item in enumerate(oct_29['Horodateur']):\n",
    "    if len(item) == 9:\n",
    "        #print(item) # on observe qu'un 3 s'est introduit dans les minutes \n",
    "        item = item[:5] + item[6:]\n",
    "        oct_29.at[i, 'Horodateur'] = item\n"
   ]
  },
  {
   "cell_type": "code",
   "execution_count": 6,
   "metadata": {},
   "outputs": [
    {
     "name": "stdout",
     "output_type": "stream",
     "text": [
      "Index(['Unnamed: 0', 'Horodateur', 'Numéro de formulaire ',\n",
      "       'chouxblancàlajaponaise', 'saladelentilles', 'champignons',\n",
      "       'carottesrâpées', 'oeufmimosa', 'saladepates', 'artichauts', 'salami',\n",
      "       'coeursdepalmiers', 'tomates', 'torsades', 'feuilletésaumonoseille',\n",
      "       'boeufbourguignon', 'kebab', 'risottocourgettes', 'pizzaraclette',\n",
      "       'faux-filet', 'pizzamerguezpoivrons', 'hamburger', 'escalopeviennoise',\n",
      "       'poeléebrocolis', 'frites', 'ratatouille', 'yaourtauxfruits',\n",
      "       'ufàlaneige', 'faissellenature', 'yaourtnaturesucré',\n",
      "       'fromageblancfruitsrouges', 'banane', 'mimolette', 'flancchocolat',\n",
      "       'orange', 'pommegolden', 'kiwi'],\n",
      "      dtype='object')\n",
      "Index(['feuilletésaumonoseille', 'boeufbourguignon', 'kebab',\n",
      "       'risottocourgettes', 'pizzaraclette', 'faux-filet',\n",
      "       'pizzamerguezpoivrons', 'hamburger'],\n",
      "      dtype='object')\n"
     ]
    }
   ],
   "source": [
    "print(oct_21.columns)\n",
    "print(oct_21.columns[14:22])"
   ]
  },
  {
   "cell_type": "code",
   "execution_count": 35,
   "metadata": {},
   "outputs": [
    {
     "name": "stdout",
     "output_type": "stream",
     "text": [
      "[19, 34, 60, 2, 2, 2, 10, 1, 1]\n",
      "[1, 2, 3, 4, 5, 6, 7, 8, 9]\n"
     ]
    },
    {
     "data": {
      "image/png": "[encoded data removed]",
      "text/plain": [
       "<Figure size 640x480 with 1 Axes>"
      ]
     },
     "metadata": {},
     "output_type": "display_data"
    }
   ],
   "source": [
    "''' \n",
    "Tentons dans un premier temps de reproduire le graphe output de GAMA.\n",
    "Trois bar plots : Pour les entrées, les plats ou les desserts \n",
    "''' \n",
    "\n",
    "# I - Les plats  - L'axe des x continent : \n",
    "plats = ['risottocourgettes', 'feuilletésaumonoseille','boeufbourguignon', 'escalopeviennoise', 'pizzamerguezpoivrons','pizzaraclette', 'kebab','hamburger', 'faux-filet']\n",
    "label_plats = ['risotto', 'saumon','bourguignon', 'escalope', 'pizzamerguez','pizzaraclette', 'kebab','hamburger', 'faux-filet']\n",
    "\n",
    "choix = [oct_21[col].sum() for col in plats]\n",
    "print(choix)\n",
    "\n",
    "plt.figure()\n",
    "plt.bar(plats, choix)\n",
    "#print(len((plats)), len(choix), len([i+1 for i in range(1, len(plats)+1)]))\n",
    "plt.xticks(ticks = [i for i in range(0, len(plats))], labels =label_plats,  rotation= -45)\n",
    "print([i for i in range(1, len(plats)+1)])\n",
    "#labels = plats,\n",
    "plt.show()"
   ]
  },
  {
   "cell_type": "code",
   "execution_count": null,
   "metadata": {},
   "outputs": [],
   "source": [
    "# Données journalières ET catégorisées ET horodatées \n",
    "\n",
    "# Dans un premier temps, nous devons recréer les données catégorielles pour chacun des jours \n",
    "merged_cat = pd.read_csv('../data_CROUS/data_processed/merged_one_hot/merged_Forms_Choix_regrmt_Hélène.csv' , sep=\";\", encoding='latin-1')\n",
    "# On crée la liste des num form des gens qui ont mangé le même jour \n",
    "nf_oct_21 = list(oct_21['Numéro de formulaire '])\n",
    "nf_oct_22 = list(oct_22['Numéro de formulaire '])\n",
    "nf_oct_28 = list(oct_28['Numéro de formulaire '])\n",
    "nf_oct_29 = list(oct_29['Numéro de formulaire '])\n",
    "\n",
    "oct_21_cat = merged_cat[merged_cat['index'].isin(nf_oct_21)]\n",
    "oct_22_cat = merged_cat[merged_cat['index'].isin(nf_oct_22)]\n",
    "oct_28_cat = merged_cat[merged_cat['index'].isin(nf_oct_28)]\n",
    "oct_29_cat = merged_cat[merged_cat['index'].isin(nf_oct_29)]\n",
    "\n",
    "\n",
    "print(oct_21_cat.shape)\n",
    "print(oct_22_cat.shape)\n",
    "print(oct_28_cat.shape)\n",
    "print(oct_29_cat.shape)\n",
    "\n",
    "# Il faut maintenant ajouter la colonne horodateur \n",
    "oct_21_cat = pd.merge(oct_21_cat, merged[['index', 'Horodateur']], on =  'index', how = 'left')\n",
    "oct_22_cat = pd.merge(oct_22_cat, merged[['index', 'Horodateur']], on =  'index', how = 'left')\n",
    "oct_28_cat = pd.merge(oct_28_cat, merged[['index', 'Horodateur']], on =  'index', how = 'left')\n",
    "oct_29_cat = pd.merge(oct_29_cat, merged[['index', 'Horodateur']], on =  'index', how = 'left')\n",
    "\n",
    "print(oct_21_cat.shape)\n",
    "print(oct_22_cat.shape)\n",
    "print(oct_28_cat.shape)\n",
    "print(oct_29_cat.shape)\n",
    "\n",
    "print(oct_21_cat.columns)"
   ]
  }
 ],
 "metadata": {
  "kernelspec": {
   "display_name": "base",
   "language": "python",
   "name": "python3"
  },
  "language_info": {
   "codemirror_mode": {
    "name": "ipython",
    "version": 3
   },
   "file_extension": ".py",
   "mimetype": "text/x-python",
   "name": "python",
   "nbconvert_exporter": "python",
   "pygments_lexer": "ipython3",
   "version": "3.9.13"
  },
  "orig_nbformat": 4,
  "vscode": {
   "interpreter": {
    "hash": "5fc140dc3efbcdd724716f65d474894e1947e1edd4b80a080fedd84e10bf2ba4"
   }
  }
 },
 "nbformat": 4,
 "nbformat_minor": 2
}
